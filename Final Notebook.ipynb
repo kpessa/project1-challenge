{
 "cells": [
  {
   "cell_type": "markdown",
   "metadata": {},
   "source": [
    "# Project 1\n",
    "- **Team Members**: Chika Ozodiegwu, Kelsey Wyatt, Libardo Lambrano, Kurt Pessa\n",
    "\n",
    "![](Images/florida_covid19_data.jpg)\n",
    "\n",
    "### Data set used:\n",
    "* https://open-fdoh.hub.arcgis.com/datasets/florida-covid19-case-line-data\n"
   ]
  },
  {
   "cell_type": "markdown",
   "metadata": {},
   "source": [
    "##### Dependencies"
   ]
  },
  {
   "cell_type": "code",
   "execution_count": 40,
   "metadata": {},
   "outputs": [],
   "source": [
    "import step1_raw_data_collection as step1\n",
    "import step2_data_processing_and_cleaning as step2\n",
    "\n",
    "import requests\n",
    "import pandas as pd\n",
    "import io\n",
    "from datetime import date\n",
    "import numpy as np\n",
    "import matplotlib.pyplot as plt\n",
    "from IPython.display import JSON\n",
    "from matplotlib.colors import ListedColormap"
   ]
  },
  {
   "cell_type": "markdown",
   "metadata": {},
   "source": [
    "# Process of Data Analysis\n",
    "![](Images/data_process.png)\n",
    "## Raw Data Collection\n",
    "-----"
   ]
  },
  {
   "cell_type": "code",
   "execution_count": 2,
   "metadata": {},
   "outputs": [
    {
     "data": {
      "text/html": [
       "<div>\n",
       "<style scoped>\n",
       "    .dataframe tbody tr th:only-of-type {\n",
       "        vertical-align: middle;\n",
       "    }\n",
       "\n",
       "    .dataframe tbody tr th {\n",
       "        vertical-align: top;\n",
       "    }\n",
       "\n",
       "    .dataframe thead th {\n",
       "        text-align: right;\n",
       "    }\n",
       "</style>\n",
       "<table border=\"1\" class=\"dataframe\">\n",
       "  <thead>\n",
       "    <tr style=\"text-align: right;\">\n",
       "      <th></th>\n",
       "      <th>County</th>\n",
       "      <th>Age</th>\n",
       "      <th>Age_group</th>\n",
       "      <th>Gender</th>\n",
       "      <th>Jurisdiction</th>\n",
       "      <th>Travel_related</th>\n",
       "      <th>Origin</th>\n",
       "      <th>EDvisit</th>\n",
       "      <th>Hospitalized</th>\n",
       "      <th>Died</th>\n",
       "      <th>Case_</th>\n",
       "      <th>Contact</th>\n",
       "      <th>Case1</th>\n",
       "      <th>EventDate</th>\n",
       "      <th>ChartDate</th>\n",
       "      <th>ObjectId</th>\n",
       "    </tr>\n",
       "  </thead>\n",
       "  <tbody>\n",
       "    <tr>\n",
       "      <th>0</th>\n",
       "      <td>Hillsborough</td>\n",
       "      <td>21.0</td>\n",
       "      <td>15-24 years</td>\n",
       "      <td>Male</td>\n",
       "      <td>FL resident</td>\n",
       "      <td>Unknown</td>\n",
       "      <td>NaN</td>\n",
       "      <td>NaN</td>\n",
       "      <td>NaN</td>\n",
       "      <td>NaN</td>\n",
       "      <td>Yes</td>\n",
       "      <td>Yes</td>\n",
       "      <td>2020/07/15 05:00:00+00</td>\n",
       "      <td>2020/07/15 01:04:23+00</td>\n",
       "      <td>2020/07/15 05:00:00+00</td>\n",
       "      <td>90</td>\n",
       "    </tr>\n",
       "    <tr>\n",
       "      <th>1</th>\n",
       "      <td>Palm Beach</td>\n",
       "      <td>65.0</td>\n",
       "      <td>65-74 years</td>\n",
       "      <td>Male</td>\n",
       "      <td>FL resident</td>\n",
       "      <td>Unknown</td>\n",
       "      <td>NaN</td>\n",
       "      <td>NaN</td>\n",
       "      <td>NaN</td>\n",
       "      <td>NaN</td>\n",
       "      <td>Yes</td>\n",
       "      <td>Yes</td>\n",
       "      <td>2020/07/15 05:00:00+00</td>\n",
       "      <td>2020/07/15 19:56:31+00</td>\n",
       "      <td>2020/07/15 05:00:00+00</td>\n",
       "      <td>279</td>\n",
       "    </tr>\n",
       "    <tr>\n",
       "      <th>2</th>\n",
       "      <td>Hendry</td>\n",
       "      <td>23.0</td>\n",
       "      <td>15-24 years</td>\n",
       "      <td>Female</td>\n",
       "      <td>FL resident</td>\n",
       "      <td>Unknown</td>\n",
       "      <td>NaN</td>\n",
       "      <td>NaN</td>\n",
       "      <td>NaN</td>\n",
       "      <td>NaN</td>\n",
       "      <td>Yes</td>\n",
       "      <td>Yes</td>\n",
       "      <td>2020/07/15 05:00:00+00</td>\n",
       "      <td>2020/07/15 15:03:33+00</td>\n",
       "      <td>2020/07/15 05:00:00+00</td>\n",
       "      <td>339</td>\n",
       "    </tr>\n",
       "  </tbody>\n",
       "</table>\n",
       "</div>"
      ],
      "text/plain": [
       "         County   Age    Age_group  Gender Jurisdiction Travel_related Origin  \\\n",
       "0  Hillsborough  21.0  15-24 years    Male  FL resident        Unknown    NaN   \n",
       "1    Palm Beach  65.0  65-74 years    Male  FL resident        Unknown    NaN   \n",
       "2        Hendry  23.0  15-24 years  Female  FL resident        Unknown    NaN   \n",
       "\n",
       "  EDvisit Hospitalized Died Case_ Contact                   Case1  \\\n",
       "0     NaN          NaN  NaN   Yes     Yes  2020/07/15 05:00:00+00   \n",
       "1     NaN          NaN  NaN   Yes     Yes  2020/07/15 05:00:00+00   \n",
       "2     NaN          NaN  NaN   Yes     Yes  2020/07/15 05:00:00+00   \n",
       "\n",
       "                EventDate               ChartDate  ObjectId  \n",
       "0  2020/07/15 01:04:23+00  2020/07/15 05:00:00+00        90  \n",
       "1  2020/07/15 19:56:31+00  2020/07/15 05:00:00+00       279  \n",
       "2  2020/07/15 15:03:33+00  2020/07/15 05:00:00+00       339  "
      ]
     },
     "execution_count": 2,
     "metadata": {},
     "output_type": "execute_result"
    }
   ],
   "source": [
    "df = pd.read_csv(\"Resources/Florida_COVID19_Case_Line_Data_new.csv\")\n",
    "df.head(3)"
   ]
  },
  {
   "cell_type": "markdown",
   "metadata": {},
   "source": [
    "## Data Processing & Data Cleaning\n",
    "-----"
   ]
  },
  {
   "cell_type": "markdown",
   "metadata": {},
   "source": [
    "##### Single Group"
   ]
  },
  {
   "cell_type": "code",
   "execution_count": 5,
   "metadata": {},
   "outputs": [
    {
     "data": {
      "text/html": [
       "<div>\n",
       "<style scoped>\n",
       "    .dataframe tbody tr th:only-of-type {\n",
       "        vertical-align: middle;\n",
       "    }\n",
       "\n",
       "    .dataframe tbody tr th {\n",
       "        vertical-align: top;\n",
       "    }\n",
       "\n",
       "    .dataframe thead th {\n",
       "        text-align: right;\n",
       "    }\n",
       "</style>\n",
       "<table border=\"1\" class=\"dataframe\">\n",
       "  <thead>\n",
       "    <tr style=\"text-align: right;\">\n",
       "      <th></th>\n",
       "      <th>Age_group</th>\n",
       "      <th>Hospitalized</th>\n",
       "    </tr>\n",
       "  </thead>\n",
       "  <tbody>\n",
       "    <tr>\n",
       "      <th>0</th>\n",
       "      <td>0-4 years</td>\n",
       "      <td>100</td>\n",
       "    </tr>\n",
       "    <tr>\n",
       "      <th>1</th>\n",
       "      <td>15-24 years</td>\n",
       "      <td>508</td>\n",
       "    </tr>\n",
       "    <tr>\n",
       "      <th>2</th>\n",
       "      <td>25-34 years</td>\n",
       "      <td>1313</td>\n",
       "    </tr>\n",
       "    <tr>\n",
       "      <th>3</th>\n",
       "      <td>35-44 years</td>\n",
       "      <td>1947</td>\n",
       "    </tr>\n",
       "    <tr>\n",
       "      <th>4</th>\n",
       "      <td>45-54 years</td>\n",
       "      <td>2788</td>\n",
       "    </tr>\n",
       "    <tr>\n",
       "      <th>5</th>\n",
       "      <td>5-14 years</td>\n",
       "      <td>76</td>\n",
       "    </tr>\n",
       "    <tr>\n",
       "      <th>6</th>\n",
       "      <td>55-64 years</td>\n",
       "      <td>3699</td>\n",
       "    </tr>\n",
       "    <tr>\n",
       "      <th>7</th>\n",
       "      <td>65-74 years</td>\n",
       "      <td>4037</td>\n",
       "    </tr>\n",
       "    <tr>\n",
       "      <th>8</th>\n",
       "      <td>75-84 years</td>\n",
       "      <td>3716</td>\n",
       "    </tr>\n",
       "    <tr>\n",
       "      <th>9</th>\n",
       "      <td>85+ years</td>\n",
       "      <td>2785</td>\n",
       "    </tr>\n",
       "  </tbody>\n",
       "</table>\n",
       "</div>"
      ],
      "text/plain": [
       "     Age_group  Hospitalized\n",
       "0    0-4 years           100\n",
       "1  15-24 years           508\n",
       "2  25-34 years          1313\n",
       "3  35-44 years          1947\n",
       "4  45-54 years          2788\n",
       "5   5-14 years            76\n",
       "6  55-64 years          3699\n",
       "7  65-74 years          4037\n",
       "8  75-84 years          3716\n",
       "9    85+ years          2785"
      ]
     },
     "execution_count": 5,
     "metadata": {},
     "output_type": "execute_result"
    }
   ],
   "source": [
    "#df = step2.get_hospitalized_data()\n",
    "#df = step2.get_df_with_datetime_and_formatted_column()\n",
    "#df = step2.get_hospitalizations_by_casedatetime()\n",
    "\n",
    "#group_name = \"Gender\"\n",
    "group_name = \"Age_group\"\n",
    "#group_name = \"Travel_related\"\n",
    "#group_name = \"Jurisdiction\"\n",
    "#group_name = \"County\"\n",
    "\n",
    "df = step2.get_group(group_name)\n",
    "\n",
    "df"
   ]
  },
  {
   "cell_type": "markdown",
   "metadata": {},
   "source": [
    "##### Two groups: Before and After Opening"
   ]
  },
  {
   "cell_type": "code",
   "execution_count": 15,
   "metadata": {},
   "outputs": [],
   "source": [
    "df1, df2 = step2.get_groups_before_and_after_opening_date(opening_date = dt.datetime(2020,5,4), day_delta = 30)\n",
    "#df1, df2 = step2.get_groups_by_casedatetime()\n",
    "\n",
    "group_name = \"Gender\"\n",
    "#group_name = \"Age_group\"\n",
    "#group_name = \"Travel_related\"\n",
    "#group_name = \"Jurisdiction\"\n",
    "#group_name = \"County\"\n",
    "\n",
    "df1,df2 = step2.get_groups(group_name)\n",
    "\n",
    "#df1"
   ]
  },
  {
   "cell_type": "markdown",
   "metadata": {},
   "source": [
    "### Before Opening"
   ]
  },
  {
   "cell_type": "code",
   "execution_count": 13,
   "metadata": {},
   "outputs": [
    {
     "data": {
      "text/html": [
       "<div>\n",
       "<style scoped>\n",
       "    .dataframe tbody tr th:only-of-type {\n",
       "        vertical-align: middle;\n",
       "    }\n",
       "\n",
       "    .dataframe tbody tr th {\n",
       "        vertical-align: top;\n",
       "    }\n",
       "\n",
       "    .dataframe thead th {\n",
       "        text-align: right;\n",
       "    }\n",
       "</style>\n",
       "<table border=\"1\" class=\"dataframe\">\n",
       "  <thead>\n",
       "    <tr style=\"text-align: right;\">\n",
       "      <th></th>\n",
       "      <th>Gender</th>\n",
       "      <th>Hospitalized</th>\n",
       "    </tr>\n",
       "  </thead>\n",
       "  <tbody>\n",
       "    <tr>\n",
       "      <th>0</th>\n",
       "      <td>Female</td>\n",
       "      <td>2513</td>\n",
       "    </tr>\n",
       "    <tr>\n",
       "      <th>1</th>\n",
       "      <td>Male</td>\n",
       "      <td>2745</td>\n",
       "    </tr>\n",
       "  </tbody>\n",
       "</table>\n",
       "</div>"
      ],
      "text/plain": [
       "   Gender  Hospitalized\n",
       "0  Female          2513\n",
       "1    Male          2745"
      ]
     },
     "execution_count": 13,
     "metadata": {},
     "output_type": "execute_result"
    }
   ],
   "source": [
    "df1"
   ]
  },
  {
   "cell_type": "markdown",
   "metadata": {},
   "source": [
    "### After Opening"
   ]
  },
  {
   "cell_type": "code",
   "execution_count": 14,
   "metadata": {},
   "outputs": [
    {
     "data": {
      "text/html": [
       "<div>\n",
       "<style scoped>\n",
       "    .dataframe tbody tr th:only-of-type {\n",
       "        vertical-align: middle;\n",
       "    }\n",
       "\n",
       "    .dataframe tbody tr th {\n",
       "        vertical-align: top;\n",
       "    }\n",
       "\n",
       "    .dataframe thead th {\n",
       "        text-align: right;\n",
       "    }\n",
       "</style>\n",
       "<table border=\"1\" class=\"dataframe\">\n",
       "  <thead>\n",
       "    <tr style=\"text-align: right;\">\n",
       "      <th></th>\n",
       "      <th>Gender</th>\n",
       "      <th>Hospitalized</th>\n",
       "    </tr>\n",
       "  </thead>\n",
       "  <tbody>\n",
       "    <tr>\n",
       "      <th>0</th>\n",
       "      <td>Female</td>\n",
       "      <td>1772</td>\n",
       "    </tr>\n",
       "    <tr>\n",
       "      <th>1</th>\n",
       "      <td>Male</td>\n",
       "      <td>1717</td>\n",
       "    </tr>\n",
       "  </tbody>\n",
       "</table>\n",
       "</div>"
      ],
      "text/plain": [
       "   Gender  Hospitalized\n",
       "0  Female          1772\n",
       "1    Male          1717"
      ]
     },
     "execution_count": 14,
     "metadata": {},
     "output_type": "execute_result"
    }
   ],
   "source": [
    "df2"
   ]
  },
  {
   "cell_type": "code",
   "execution_count": 3,
   "metadata": {},
   "outputs": [
    {
     "name": "stderr",
     "output_type": "stream",
     "text": [
      "/Users/kelseywyatt/opt/anaconda3/lib/python3.7/site-packages/ipykernel_launcher.py:7: SettingWithCopyWarning: \n",
      "A value is trying to be set on a copy of a slice from a DataFrame.\n",
      "Try using .loc[row_indexer,col_indexer] = value instead\n",
      "\n",
      "See the caveats in the documentation: https://pandas.pydata.org/pandas-docs/stable/user_guide/indexing.html#returning-a-view-versus-a-copy\n",
      "  import sys\n",
      "/Users/kelseywyatt/opt/anaconda3/lib/python3.7/site-packages/ipykernel_launcher.py:8: SettingWithCopyWarning: \n",
      "A value is trying to be set on a copy of a slice from a DataFrame.\n",
      "Try using .loc[row_indexer,col_indexer] = value instead\n",
      "\n",
      "See the caveats in the documentation: https://pandas.pydata.org/pandas-docs/stable/user_guide/indexing.html#returning-a-view-versus-a-copy\n",
      "  \n"
     ]
    },
    {
     "data": {
      "text/html": [
       "<div>\n",
       "<style scoped>\n",
       "    .dataframe tbody tr th:only-of-type {\n",
       "        vertical-align: middle;\n",
       "    }\n",
       "\n",
       "    .dataframe tbody tr th {\n",
       "        vertical-align: top;\n",
       "    }\n",
       "\n",
       "    .dataframe thead th {\n",
       "        text-align: right;\n",
       "    }\n",
       "</style>\n",
       "<table border=\"1\" class=\"dataframe\">\n",
       "  <thead>\n",
       "    <tr style=\"text-align: right;\">\n",
       "      <th></th>\n",
       "      <th>ObjectId</th>\n",
       "      <th>County</th>\n",
       "      <th>Age</th>\n",
       "      <th>Age_group</th>\n",
       "      <th>Gender</th>\n",
       "      <th>Jurisdiction</th>\n",
       "      <th>Travel_related</th>\n",
       "      <th>Hospitalized</th>\n",
       "      <th>Date</th>\n",
       "    </tr>\n",
       "  </thead>\n",
       "  <tbody>\n",
       "    <tr>\n",
       "      <th>0</th>\n",
       "      <td>90</td>\n",
       "      <td>Hillsborough</td>\n",
       "      <td>21.0</td>\n",
       "      <td>15-24 years</td>\n",
       "      <td>Male</td>\n",
       "      <td>FL resident</td>\n",
       "      <td>Unknown</td>\n",
       "      <td>NaN</td>\n",
       "      <td>2020-07-15</td>\n",
       "    </tr>\n",
       "    <tr>\n",
       "      <th>1</th>\n",
       "      <td>279</td>\n",
       "      <td>Palm Beach</td>\n",
       "      <td>65.0</td>\n",
       "      <td>65-74 years</td>\n",
       "      <td>Male</td>\n",
       "      <td>FL resident</td>\n",
       "      <td>Unknown</td>\n",
       "      <td>NaN</td>\n",
       "      <td>2020-07-15</td>\n",
       "    </tr>\n",
       "    <tr>\n",
       "      <th>2</th>\n",
       "      <td>339</td>\n",
       "      <td>Hendry</td>\n",
       "      <td>23.0</td>\n",
       "      <td>15-24 years</td>\n",
       "      <td>Female</td>\n",
       "      <td>FL resident</td>\n",
       "      <td>Unknown</td>\n",
       "      <td>NaN</td>\n",
       "      <td>2020-07-15</td>\n",
       "    </tr>\n",
       "    <tr>\n",
       "      <th>3</th>\n",
       "      <td>1606</td>\n",
       "      <td>Leon</td>\n",
       "      <td>19.0</td>\n",
       "      <td>15-24 years</td>\n",
       "      <td>Male</td>\n",
       "      <td>FL resident</td>\n",
       "      <td>Unknown</td>\n",
       "      <td>NaN</td>\n",
       "      <td>2020-07-15</td>\n",
       "    </tr>\n",
       "    <tr>\n",
       "      <th>4</th>\n",
       "      <td>1873</td>\n",
       "      <td>Santa Rosa</td>\n",
       "      <td>21.0</td>\n",
       "      <td>15-24 years</td>\n",
       "      <td>Female</td>\n",
       "      <td>FL resident</td>\n",
       "      <td>No</td>\n",
       "      <td>NO</td>\n",
       "      <td>2020-07-15</td>\n",
       "    </tr>\n",
       "  </tbody>\n",
       "</table>\n",
       "</div>"
      ],
      "text/plain": [
       "   ObjectId        County   Age    Age_group  Gender Jurisdiction  \\\n",
       "0        90  Hillsborough  21.0  15-24 years    Male  FL resident   \n",
       "1       279    Palm Beach  65.0  65-74 years    Male  FL resident   \n",
       "2       339        Hendry  23.0  15-24 years  Female  FL resident   \n",
       "3      1606          Leon  19.0  15-24 years    Male  FL resident   \n",
       "4      1873    Santa Rosa  21.0  15-24 years  Female  FL resident   \n",
       "\n",
       "  Travel_related Hospitalized        Date  \n",
       "0        Unknown          NaN  2020-07-15  \n",
       "1        Unknown          NaN  2020-07-15  \n",
       "2        Unknown          NaN  2020-07-15  \n",
       "3        Unknown          NaN  2020-07-15  \n",
       "4             No           NO  2020-07-15  "
      ]
     },
     "execution_count": 3,
     "metadata": {},
     "output_type": "execute_result"
    }
   ],
   "source": [
    "#Clean dataframe\n",
    "\n",
    "new_csv_data_df = df[['ObjectId', \"County\",'Age',\"Age_group\", \"Gender\", \"Jurisdiction\", \"Travel_related\", \"Hospitalized\",\"Case1\"]]\n",
    "\n",
    "#Split Date and time into separate columns\n",
    "\n",
    "new_csv_data_df['Date'] = pd.to_datetime(new_csv_data_df['Case1']).dt.date\n",
    "new_csv_data_df['Time'] = pd.to_datetime(new_csv_data_df['Case1']).dt.time\n",
    "\n",
    "\n",
    "#create new dataframe with new date date\n",
    "\n",
    "new_csv_data_df1 = new_csv_data_df[['ObjectId', \"County\",'Age',\"Age_group\", \"Gender\", \"Jurisdiction\", \"Travel_related\", \"Hospitalized\",\"Date\"]]\n",
    "new_csv_data_df1.head()"
   ]
  },
  {
   "cell_type": "code",
   "execution_count": 4,
   "metadata": {},
   "outputs": [],
   "source": [
    "#new_csv_data_df.to_csv(new_csv_data_df, 'new_cleaned_data.csv')\n",
    "\n",
    "new_csv_data_df.to_csv (\"new_covid_dataframe.csv\") # index = False, header=True)"
   ]
  },
  {
   "cell_type": "markdown",
   "metadata": {},
   "source": [
    "# Research Question to Answer:\n",
    "#### “Has hospitalizations (#) in Florida changed since reopening?\""
   ]
  },
  {
   "cell_type": "markdown",
   "metadata": {},
   "source": [
    "### Steps for Hypothesis Testing\n",
    "\n",
    "\n",
    "#### 1. Identify\n",
    "- **Populations** (divide Hospitalization data into two groups of data):\n",
    "    1. Prior to opening\n",
    "    2. After opening  \n",
    "* Decide on the **date**:\n",
    "    * May 4th - restaurants opening to 25% capacity\n",
    "\n",
    "#### 2. State the hypotheses\n",
    "- **H0**: There is no change in hospitalizations after Florida has reopened\n",
    "- **H1**: There is a change in hospitalizations after Florida has reopened\n",
    "\n",
    "#### 3. Interesting figures developed during exploration\n",
    "- Considered 14 day COVID-19 incubation period"
   ]
  },
  {
   "cell_type": "code",
   "execution_count": 5,
   "metadata": {},
   "outputs": [
    {
     "data": {
      "image/png": "[encoded data removed]",
      "text/plain": [
       "<Figure size 720x432 with 1 Axes>"
      ]
     },
     "metadata": {
      "needs_background": "light"
     },
     "output_type": "display_data"
    }
   ],
   "source": [
    "df = step2.get_hospitalizations_by_casedatetime()\n",
    "\n",
    "filt1 = (df['CaseDateTime'] >= (dt.datetime(2020,5,4)-dt.timedelta(days=30)))\n",
    "filt2 = (df['CaseDateTime'] <= (dt.datetime(2020,5,4)+dt.timedelta(days=30)))\n",
    "filt = (filt1 & filt2)\n",
    "df = df[filt]\n",
    "plt.figure(figsize=(10,6))\n",
    "plt.scatter(df['CaseDateTime'],df[\"Hospitalized\"])\n",
    "plt.xlim((dt.datetime(2020,5,4)-dt.timedelta(days=32)),(dt.datetime(2020,5,4)+dt.timedelta(days=32)))\n",
    "plt.vlines(dt.datetime(2020,5,4), 0, 270, linestyles =\"dotted\", colors =\"k\") \n",
    "plt.annotate(\"Florida reopens\", (dt.datetime(2020,5,5),250))\n",
    "plt.title(\"Hospitalizations in Florida before and after reopening\")\n",
    "plt.ylabel(\"New Hospitalizations\")\n",
    "plt.xlabel(\"Date\")\n",
    "plt.hlines(175.3,dt.datetime(2020,5,4)-dt.timedelta(days=32),dt.datetime(2020,5,4), linestyles=\"dotted\",colors='k',alpha=0.5)\n",
    "plt.annotate(\"mean = 175.3\", (dt.datetime(2020,4,6),130))\n",
    "plt.hlines(116.3,dt.datetime(2020,5,4)+dt.timedelta(days=32),dt.datetime(2020,5,4), linestyles=\"dotted\",colors='k',alpha=0.5)\n",
    "plt.annotate(\"mean = 116.3\", (dt.datetime(2020,5,15),50))\n",
    "plt.xticks(rotation=45)\n",
    "plt.savefig(\"Images/hospitalizations_before_and_after_reopening.png\")\n",
    "plt.show()"
   ]
  },
  {
   "cell_type": "markdown",
   "metadata": {},
   "source": [
    "- Population means, standard deviations"
   ]
  },
  {
   "cell_type": "code",
   "execution_count": 7,
   "metadata": {},
   "outputs": [],
   "source": [
    "df1, df2 = step2.get_groups(group_name = \"CaseDateTime\", opening_date = dt.datetime(2020,5,4), day_delta = 30, opening_day_shift = 0)"
   ]
  },
  {
   "cell_type": "code",
   "execution_count": 8,
   "metadata": {},
   "outputs": [
    {
     "data": {
      "text/html": [
       "<style  type=\"text/css\" >\n",
       "</style><table id=\"T_3b9ef180_cc82_11ea_a943_3af9d39e8674\" ><thead>    <tr>        <th class=\"blank level0\" ></th>        <th class=\"col_heading level0 col0\" >Before Opening:</th>        <th class=\"col_heading level0 col1\" >After Opening</th>    </tr></thead><tbody>\n",
       "                <tr>\n",
       "                        <th id=\"T_3b9ef180_cc82_11ea_a943_3af9d39e8674level0_row0\" class=\"row_heading level0 row0\" >count</th>\n",
       "                        <td id=\"T_3b9ef180_cc82_11ea_a943_3af9d39e8674row0_col0\" class=\"data row0 col0\" >30.0</td>\n",
       "                        <td id=\"T_3b9ef180_cc82_11ea_a943_3af9d39e8674row0_col1\" class=\"data row0 col1\" >30.0</td>\n",
       "            </tr>\n",
       "            <tr>\n",
       "                        <th id=\"T_3b9ef180_cc82_11ea_a943_3af9d39e8674level0_row1\" class=\"row_heading level0 row1\" >mean</th>\n",
       "                        <td id=\"T_3b9ef180_cc82_11ea_a943_3af9d39e8674row1_col0\" class=\"data row1 col0\" >175.3</td>\n",
       "                        <td id=\"T_3b9ef180_cc82_11ea_a943_3af9d39e8674row1_col1\" class=\"data row1 col1\" >116.3</td>\n",
       "            </tr>\n",
       "            <tr>\n",
       "                        <th id=\"T_3b9ef180_cc82_11ea_a943_3af9d39e8674level0_row2\" class=\"row_heading level0 row2\" >std</th>\n",
       "                        <td id=\"T_3b9ef180_cc82_11ea_a943_3af9d39e8674row2_col0\" class=\"data row2 col0\" >48.6</td>\n",
       "                        <td id=\"T_3b9ef180_cc82_11ea_a943_3af9d39e8674row2_col1\" class=\"data row2 col1\" >26.6</td>\n",
       "            </tr>\n",
       "            <tr>\n",
       "                        <th id=\"T_3b9ef180_cc82_11ea_a943_3af9d39e8674level0_row3\" class=\"row_heading level0 row3\" >min</th>\n",
       "                        <td id=\"T_3b9ef180_cc82_11ea_a943_3af9d39e8674row3_col0\" class=\"data row3 col0\" >100.0</td>\n",
       "                        <td id=\"T_3b9ef180_cc82_11ea_a943_3af9d39e8674row3_col1\" class=\"data row3 col1\" >63.0</td>\n",
       "            </tr>\n",
       "            <tr>\n",
       "                        <th id=\"T_3b9ef180_cc82_11ea_a943_3af9d39e8674level0_row4\" class=\"row_heading level0 row4\" >25%</th>\n",
       "                        <td id=\"T_3b9ef180_cc82_11ea_a943_3af9d39e8674row4_col0\" class=\"data row4 col0\" >135.5</td>\n",
       "                        <td id=\"T_3b9ef180_cc82_11ea_a943_3af9d39e8674row4_col1\" class=\"data row4 col1\" >98.2</td>\n",
       "            </tr>\n",
       "            <tr>\n",
       "                        <th id=\"T_3b9ef180_cc82_11ea_a943_3af9d39e8674level0_row5\" class=\"row_heading level0 row5\" >50%</th>\n",
       "                        <td id=\"T_3b9ef180_cc82_11ea_a943_3af9d39e8674row5_col0\" class=\"data row5 col0\" >171.0</td>\n",
       "                        <td id=\"T_3b9ef180_cc82_11ea_a943_3af9d39e8674row5_col1\" class=\"data row5 col1\" >114.5</td>\n",
       "            </tr>\n",
       "            <tr>\n",
       "                        <th id=\"T_3b9ef180_cc82_11ea_a943_3af9d39e8674level0_row6\" class=\"row_heading level0 row6\" >75%</th>\n",
       "                        <td id=\"T_3b9ef180_cc82_11ea_a943_3af9d39e8674row6_col0\" class=\"data row6 col0\" >214.0</td>\n",
       "                        <td id=\"T_3b9ef180_cc82_11ea_a943_3af9d39e8674row6_col1\" class=\"data row6 col1\" >131.5</td>\n",
       "            </tr>\n",
       "            <tr>\n",
       "                        <th id=\"T_3b9ef180_cc82_11ea_a943_3af9d39e8674level0_row7\" class=\"row_heading level0 row7\" >max</th>\n",
       "                        <td id=\"T_3b9ef180_cc82_11ea_a943_3af9d39e8674row7_col0\" class=\"data row7 col0\" >256.0</td>\n",
       "                        <td id=\"T_3b9ef180_cc82_11ea_a943_3af9d39e8674row7_col1\" class=\"data row7 col1\" >181.0</td>\n",
       "            </tr>\n",
       "    </tbody></table>"
      ],
      "text/plain": [
       "<pandas.io.formats.style.Styler at 0x7ffbe0cb2110>"
      ]
     },
     "execution_count": 8,
     "metadata": {},
     "output_type": "execute_result"
    }
   ],
   "source": [
    "sample1 = df1['Hospitalized']\n",
    "sample2 = df2['Hospitalized']\n",
    "pd.DataFrame({\n",
    "    \"Before Opening:\": sample1.describe(),\n",
    "    \"After Opening\": sample2.describe()\n",
    "}).style.format(\"{:.1f}\")"
   ]
  },
  {
   "cell_type": "markdown",
   "metadata": {},
   "source": [
    "#### 4. Critical values\n",
    "- Our hypothesis is nondirectional so our hypothesis test is **two-tailed**\n",
    "- **Test used**: T-Test\n",
    "- **p-value** = 0.00000026"
   ]
  },
  {
   "cell_type": "code",
   "execution_count": 11,
   "metadata": {},
   "outputs": [
    {
     "name": "stdout",
     "output_type": "stream",
     "text": [
      "p-value: 0.00000026\n"
     ]
    }
   ],
   "source": [
    "statistic, pvalue = stats.ttest_ind_from_stats(sample1.mean(),sample1.std(),sample1.size,sample2.mean(),sample2.std(),sample2.size)\n",
    "print(f\"p-value: {pvalue:.8f}\")"
   ]
  },
  {
   "cell_type": "markdown",
   "metadata": {},
   "source": [
    "#### 5. Distribution"
   ]
  },
  {
   "cell_type": "code",
   "execution_count": 12,
   "metadata": {},
   "outputs": [
    {
     "data": {
      "image/png": "[encoded data removed]",
      "text/plain": [
       "<Figure size 432x288 with 2 Axes>"
      ]
     },
     "metadata": {
      "needs_background": "light"
     },
     "output_type": "display_data"
    }
   ],
   "source": [
    "# Scatter Plot of Data\n",
    "plt.subplot(2, 1, 1)\n",
    "plt.scatter(range(len(sample1)), sample1, label=\"before\")\n",
    "plt.scatter(range(len(sample2)), sample2, label=\"after\")\n",
    "plt.legend()\n",
    "\n",
    "# Histogram Plot of Data\n",
    "plt.subplot(2, 1, 2)\n",
    "plt.hist(sample1, 20, density=True, alpha=0.7, label=\"before\")\n",
    "plt.hist(sample2, 20, density=True, alpha=0.7, label=\"after\")\n",
    "plt.axvline(sample1.mean(), color='k', linestyle='dashed', linewidth=1)\n",
    "plt.axvline(sample2.mean(), color='k', linestyle='dashed', linewidth=1)\n",
    "plt.legend()  \n",
    "plt.savefig(\"Images/before_and_after_histogram.png\")\n",
    "plt.show()"
   ]
  },
  {
   "cell_type": "markdown",
   "metadata": {},
   "source": [
    "#### 6. Decide"
   ]
  },
  {
   "cell_type": "markdown",
   "metadata": {},
   "source": [
    "- We are able to reject the null hypothesis that there was no change.  With the data set we analyzed, there was a significant change from before to after reopening in Florida."
   ]
  },
  {
   "cell_type": "markdown",
   "metadata": {},
   "source": [
    "## Data Analysis and Visualization"
   ]
  },
  {
   "cell_type": "code",
   "execution_count": 15,
   "metadata": {},
   "outputs": [
    {
     "data": {
      "text/html": [
       "<div>\n",
       "<style scoped>\n",
       "    .dataframe tbody tr th:only-of-type {\n",
       "        vertical-align: middle;\n",
       "    }\n",
       "\n",
       "    .dataframe tbody tr th {\n",
       "        vertical-align: top;\n",
       "    }\n",
       "\n",
       "    .dataframe thead th {\n",
       "        text-align: right;\n",
       "    }\n",
       "</style>\n",
       "<table border=\"1\" class=\"dataframe\">\n",
       "  <thead>\n",
       "    <tr style=\"text-align: right;\">\n",
       "      <th></th>\n",
       "      <th>Total Number of Cases</th>\n",
       "    </tr>\n",
       "  </thead>\n",
       "  <tbody>\n",
       "    <tr>\n",
       "      <th>0</th>\n",
       "      <td>315775</td>\n",
       "    </tr>\n",
       "  </tbody>\n",
       "</table>\n",
       "</div>"
      ],
      "text/plain": [
       "   Total Number of Cases\n",
       "0                 315775"
      ]
     },
     "execution_count": 15,
     "metadata": {},
     "output_type": "execute_result"
    }
   ],
   "source": [
    "#Calculate total number of cases \n",
    "Total_covid_cases = new_csv_data_df[\"ObjectId\"].nunique()\n",
    "Total_covid_cases = pd.DataFrame({\"Total Number of Cases\": [Total_covid_cases]})\n",
    "Total_covid_cases"
   ]
  },
  {
   "cell_type": "code",
   "execution_count": 16,
   "metadata": {},
   "outputs": [
    {
     "data": {
      "text/html": [
       "<div>\n",
       "<style scoped>\n",
       "    .dataframe tbody tr th:only-of-type {\n",
       "        vertical-align: middle;\n",
       "    }\n",
       "\n",
       "    .dataframe tbody tr th {\n",
       "        vertical-align: top;\n",
       "    }\n",
       "\n",
       "    .dataframe thead th {\n",
       "        text-align: right;\n",
       "    }\n",
       "</style>\n",
       "<table border=\"1\" class=\"dataframe\">\n",
       "  <thead>\n",
       "    <tr style=\"text-align: right;\">\n",
       "      <th></th>\n",
       "      <th>County</th>\n",
       "      <th>Total Cases</th>\n",
       "    </tr>\n",
       "  </thead>\n",
       "  <tbody>\n",
       "    <tr>\n",
       "      <th>0</th>\n",
       "      <td>Alachua</td>\n",
       "      <td>2397</td>\n",
       "    </tr>\n",
       "    <tr>\n",
       "      <th>1</th>\n",
       "      <td>Baker</td>\n",
       "      <td>202</td>\n",
       "    </tr>\n",
       "    <tr>\n",
       "      <th>2</th>\n",
       "      <td>Bay</td>\n",
       "      <td>1602</td>\n",
       "    </tr>\n",
       "    <tr>\n",
       "      <th>3</th>\n",
       "      <td>Bradford</td>\n",
       "      <td>173</td>\n",
       "    </tr>\n",
       "    <tr>\n",
       "      <th>4</th>\n",
       "      <td>Brevard</td>\n",
       "      <td>3804</td>\n",
       "    </tr>\n",
       "    <tr>\n",
       "      <th>...</th>\n",
       "      <td>...</td>\n",
       "      <td>...</td>\n",
       "    </tr>\n",
       "    <tr>\n",
       "      <th>63</th>\n",
       "      <td>Unknown</td>\n",
       "      <td>372</td>\n",
       "    </tr>\n",
       "    <tr>\n",
       "      <th>64</th>\n",
       "      <td>Volusia</td>\n",
       "      <td>4572</td>\n",
       "    </tr>\n",
       "    <tr>\n",
       "      <th>65</th>\n",
       "      <td>Wakulla</td>\n",
       "      <td>223</td>\n",
       "    </tr>\n",
       "    <tr>\n",
       "      <th>66</th>\n",
       "      <td>Walton</td>\n",
       "      <td>693</td>\n",
       "    </tr>\n",
       "    <tr>\n",
       "      <th>67</th>\n",
       "      <td>Washington</td>\n",
       "      <td>225</td>\n",
       "    </tr>\n",
       "  </tbody>\n",
       "</table>\n",
       "<p>68 rows × 2 columns</p>\n",
       "</div>"
      ],
      "text/plain": [
       "        County  Total Cases\n",
       "0      Alachua         2397\n",
       "1        Baker          202\n",
       "2          Bay         1602\n",
       "3     Bradford          173\n",
       "4      Brevard         3804\n",
       "..         ...          ...\n",
       "63     Unknown          372\n",
       "64     Volusia         4572\n",
       "65     Wakulla          223\n",
       "66      Walton          693\n",
       "67  Washington          225\n",
       "\n",
       "[68 rows x 2 columns]"
      ]
     },
     "execution_count": 16,
     "metadata": {},
     "output_type": "execute_result"
    }
   ],
   "source": [
    "#Total number of cases per county\n",
    "total_cases_county = new_csv_data_df.groupby(by=\"County\").count().reset_index().loc[:,[\"County\",\"Case1\"]]\n",
    "total_cases_county.rename(columns={\"County\": \"County\", \"Case1\": \"Total Cases\"})"
   ]
  },
  {
   "cell_type": "code",
   "execution_count": 18,
   "metadata": {},
   "outputs": [
    {
     "data": {
      "image/png": "[encoded data removed]",
      "text/plain": [
       "<Figure size 1080x720 with 1 Axes>"
      ]
     },
     "metadata": {
      "needs_background": "light"
     },
     "output_type": "display_data"
    }
   ],
   "source": [
    "#Create bar chart for total cases per county\n",
    "total_cases_county.plot(kind='bar',x='County',y='Case1', title =\"Total Cases per County\", figsize=(15, 10), color=\"blue\")\n",
    "\n",
    "plt.title(\"Total Cases per County\")\n",
    "plt.xlabel(\"County\")\n",
    "plt.ylabel(\"Number of Cases\")\n",
    "plt.legend([\"Number of Cases\"])\n",
    "plt.show()"
   ]
  },
  {
   "cell_type": "code",
   "execution_count": 21,
   "metadata": {},
   "outputs": [
    {
     "data": {
      "text/html": [
       "<style  type=\"text/css\" >\n",
       "</style><table id=\"T_3dc99f58_cc84_11ea_a943_3af9d39e8674\" ><thead>    <tr>        <th class=\"blank level0\" ></th>        <th class=\"col_heading level0 col0\" >County</th>        <th class=\"col_heading level0 col1\" >Case1</th>    </tr>    <tr>        <th class=\"index_name level0\" >Rank</th>        <th class=\"blank\" ></th>        <th class=\"blank\" ></th>    </tr></thead><tbody>\n",
       "                <tr>\n",
       "                        <th id=\"T_3dc99f58_cc84_11ea_a943_3af9d39e8674level0_row0\" class=\"row_heading level0 row0\" >1</th>\n",
       "                        <td id=\"T_3dc99f58_cc84_11ea_a943_3af9d39e8674row0_col0\" class=\"data row0 col0\" >Dade</td>\n",
       "                        <td id=\"T_3dc99f58_cc84_11ea_a943_3af9d39e8674row0_col1\" class=\"data row0 col1\" >75,425</td>\n",
       "            </tr>\n",
       "            <tr>\n",
       "                        <th id=\"T_3dc99f58_cc84_11ea_a943_3af9d39e8674level0_row1\" class=\"row_heading level0 row1\" >2</th>\n",
       "                        <td id=\"T_3dc99f58_cc84_11ea_a943_3af9d39e8674row1_col0\" class=\"data row1 col0\" >Broward</td>\n",
       "                        <td id=\"T_3dc99f58_cc84_11ea_a943_3af9d39e8674row1_col1\" class=\"data row1 col1\" >35,566</td>\n",
       "            </tr>\n",
       "            <tr>\n",
       "                        <th id=\"T_3dc99f58_cc84_11ea_a943_3af9d39e8674level0_row2\" class=\"row_heading level0 row2\" >3</th>\n",
       "                        <td id=\"T_3dc99f58_cc84_11ea_a943_3af9d39e8674row2_col0\" class=\"data row2 col0\" >Palm Beach</td>\n",
       "                        <td id=\"T_3dc99f58_cc84_11ea_a943_3af9d39e8674row2_col1\" class=\"data row2 col1\" >23,711</td>\n",
       "            </tr>\n",
       "            <tr>\n",
       "                        <th id=\"T_3dc99f58_cc84_11ea_a943_3af9d39e8674level0_row3\" class=\"row_heading level0 row3\" >4</th>\n",
       "                        <td id=\"T_3dc99f58_cc84_11ea_a943_3af9d39e8674row3_col0\" class=\"data row3 col0\" >Hillsborough</td>\n",
       "                        <td id=\"T_3dc99f58_cc84_11ea_a943_3af9d39e8674row3_col1\" class=\"data row3 col1\" >21,557</td>\n",
       "            </tr>\n",
       "            <tr>\n",
       "                        <th id=\"T_3dc99f58_cc84_11ea_a943_3af9d39e8674level0_row4\" class=\"row_heading level0 row4\" >5</th>\n",
       "                        <td id=\"T_3dc99f58_cc84_11ea_a943_3af9d39e8674row4_col0\" class=\"data row4 col0\" >Orange</td>\n",
       "                        <td id=\"T_3dc99f58_cc84_11ea_a943_3af9d39e8674row4_col1\" class=\"data row4 col1\" >21,299</td>\n",
       "            </tr>\n",
       "            <tr>\n",
       "                        <th id=\"T_3dc99f58_cc84_11ea_a943_3af9d39e8674level0_row5\" class=\"row_heading level0 row5\" >6</th>\n",
       "                        <td id=\"T_3dc99f58_cc84_11ea_a943_3af9d39e8674row5_col0\" class=\"data row5 col0\" >Duval</td>\n",
       "                        <td id=\"T_3dc99f58_cc84_11ea_a943_3af9d39e8674row5_col1\" class=\"data row5 col1\" >14,992</td>\n",
       "            </tr>\n",
       "            <tr>\n",
       "                        <th id=\"T_3dc99f58_cc84_11ea_a943_3af9d39e8674level0_row6\" class=\"row_heading level0 row6\" >7</th>\n",
       "                        <td id=\"T_3dc99f58_cc84_11ea_a943_3af9d39e8674row6_col0\" class=\"data row6 col0\" >Pinellas</td>\n",
       "                        <td id=\"T_3dc99f58_cc84_11ea_a943_3af9d39e8674row6_col1\" class=\"data row6 col1\" >12,368</td>\n",
       "            </tr>\n",
       "            <tr>\n",
       "                        <th id=\"T_3dc99f58_cc84_11ea_a943_3af9d39e8674level0_row7\" class=\"row_heading level0 row7\" >8</th>\n",
       "                        <td id=\"T_3dc99f58_cc84_11ea_a943_3af9d39e8674row7_col0\" class=\"data row7 col0\" >Lee</td>\n",
       "                        <td id=\"T_3dc99f58_cc84_11ea_a943_3af9d39e8674row7_col1\" class=\"data row7 col1\" >11,721</td>\n",
       "            </tr>\n",
       "            <tr>\n",
       "                        <th id=\"T_3dc99f58_cc84_11ea_a943_3af9d39e8674level0_row8\" class=\"row_heading level0 row8\" >9</th>\n",
       "                        <td id=\"T_3dc99f58_cc84_11ea_a943_3af9d39e8674row8_col0\" class=\"data row8 col0\" >Polk</td>\n",
       "                        <td id=\"T_3dc99f58_cc84_11ea_a943_3af9d39e8674row8_col1\" class=\"data row8 col1\" >8,498</td>\n",
       "            </tr>\n",
       "            <tr>\n",
       "                        <th id=\"T_3dc99f58_cc84_11ea_a943_3af9d39e8674level0_row9\" class=\"row_heading level0 row9\" >10</th>\n",
       "                        <td id=\"T_3dc99f58_cc84_11ea_a943_3af9d39e8674row9_col0\" class=\"data row9 col0\" >Collier</td>\n",
       "                        <td id=\"T_3dc99f58_cc84_11ea_a943_3af9d39e8674row9_col1\" class=\"data row9 col1\" >7,076</td>\n",
       "            </tr>\n",
       "    </tbody></table>"
      ],
      "text/plain": [
       "<pandas.io.formats.style.Styler at 0x7ffbc69576d0>"
      ]
     },
     "execution_count": 21,
     "metadata": {},
     "output_type": "execute_result"
    }
   ],
   "source": [
    "#Calculate top 10 counties with total cases\n",
    "top10_county_cases = total_cases_county.sort_values(by=\"Case1\",ascending=False).head(10)\n",
    "top10_county_cases[\"Rank\"] = np.arange(1,11)\n",
    "top10_county_cases.set_index(\"Rank\").style.format({\"Case1\":\"{:,}\"})"
   ]
  },
  {
   "cell_type": "code",
   "execution_count": 22,
   "metadata": {},
   "outputs": [
    {
     "data": {
      "image/png": "[encoded data removed]",
      "text/plain": [
       "<Figure size 1080x720 with 1 Axes>"
      ]
     },
     "metadata": {
      "needs_background": "light"
     },
     "output_type": "display_data"
    }
   ],
   "source": [
    "#Create bar chart for top 10 counties with total cases\n",
    "top10_county_cases.plot(kind='bar',x='County',y='Case1', title =\"Total Cases for Top 10 Counties\", figsize=(15, 10), color=\"blue\")\n",
    "\n",
    "plt.title(\"Total Hospitalizations for Top 10 Counties\")\n",
    "plt.xlabel(\"County\")\n",
    "plt.ylabel(\"Number of Cases\")\n",
    "plt.legend([\"Number of Cases\"])\n",
    "plt.show()"
   ]
  },
  {
   "cell_type": "code",
   "execution_count": 23,
   "metadata": {},
   "outputs": [],
   "source": [
    "#Top 10 counties with the most cases"
   ]
  },
  {
   "cell_type": "markdown",
   "metadata": {},
   "source": [
    "![](Images/top_counties.png)"
   ]
  },
  {
   "cell_type": "code",
   "execution_count": 24,
   "metadata": {},
   "outputs": [
    {
     "data": {
      "text/html": [
       "<div>\n",
       "<style scoped>\n",
       "    .dataframe tbody tr th:only-of-type {\n",
       "        vertical-align: middle;\n",
       "    }\n",
       "\n",
       "    .dataframe tbody tr th {\n",
       "        vertical-align: top;\n",
       "    }\n",
       "\n",
       "    .dataframe thead th {\n",
       "        text-align: right;\n",
       "    }\n",
       "</style>\n",
       "<table border=\"1\" class=\"dataframe\">\n",
       "  <thead>\n",
       "    <tr style=\"text-align: right;\">\n",
       "      <th></th>\n",
       "      <th>Gender</th>\n",
       "      <th>Total Cases</th>\n",
       "    </tr>\n",
       "  </thead>\n",
       "  <tbody>\n",
       "    <tr>\n",
       "      <th>0</th>\n",
       "      <td>Female</td>\n",
       "      <td>160368</td>\n",
       "    </tr>\n",
       "    <tr>\n",
       "      <th>1</th>\n",
       "      <td>Male</td>\n",
       "      <td>153317</td>\n",
       "    </tr>\n",
       "    <tr>\n",
       "      <th>2</th>\n",
       "      <td>Unknown</td>\n",
       "      <td>2090</td>\n",
       "    </tr>\n",
       "  </tbody>\n",
       "</table>\n",
       "</div>"
      ],
      "text/plain": [
       "    Gender  Total Cases\n",
       "0   Female       160368\n",
       "1     Male       153317\n",
       "2  Unknown         2090"
      ]
     },
     "execution_count": 24,
     "metadata": {},
     "output_type": "execute_result"
    }
   ],
   "source": [
    "#Total number of cases by gender\n",
    "total_cases_gender = new_csv_data_df.groupby(by=\"Gender\").count().reset_index().loc[:,[\"Gender\",\"Case1\"]]\n",
    "total_cases_gender.rename(columns={\"Gender\": \"Gender\", \"Case1\": \"Total Cases\"})"
   ]
  },
  {
   "cell_type": "code",
   "execution_count": 25,
   "metadata": {},
   "outputs": [
    {
     "data": {
      "text/plain": [
       "Text(0.5, 1.0, 'Total Number of Cases in Males vs. Females')"
      ]
     },
     "execution_count": 25,
     "metadata": {},
     "output_type": "execute_result"
    },
    {
     "data": {
      "image/png": "[encoded data removed]",
      "text/plain": [
       "<Figure size 432x288 with 1 Axes>"
      ]
     },
     "metadata": {},
     "output_type": "display_data"
    }
   ],
   "source": [
    "#Create pie chart for total number of cases by gender\n",
    "total_cases_gender = new_csv_data_df[\"Gender\"].value_counts()\n",
    "\n",
    "colors=[\"pink\", \"blue\", \"green\"]\n",
    "\n",
    "explode=[0.1,0.1,0.1]\n",
    "\n",
    "total_cases_gender.plot.pie(explode=explode,colors=colors, autopct=\"%1.1f%%\", shadow=True, subplots=True, startangle=120);\n",
    "\n",
    "plt.title(\"Total Number of Cases in Males vs. Females\")"
   ]
  },
  {
   "cell_type": "code",
   "execution_count": 27,
   "metadata": {},
   "outputs": [
    {
     "data": {
      "text/html": [
       "<div>\n",
       "<style scoped>\n",
       "    .dataframe tbody tr th:only-of-type {\n",
       "        vertical-align: middle;\n",
       "    }\n",
       "\n",
       "    .dataframe tbody tr th {\n",
       "        vertical-align: top;\n",
       "    }\n",
       "\n",
       "    .dataframe thead th {\n",
       "        text-align: right;\n",
       "    }\n",
       "</style>\n",
       "<table border=\"1\" class=\"dataframe\">\n",
       "  <thead>\n",
       "    <tr style=\"text-align: right;\">\n",
       "      <th></th>\n",
       "      <th>ObjectId</th>\n",
       "      <th>County</th>\n",
       "      <th>Age</th>\n",
       "      <th>Age_group</th>\n",
       "      <th>Gender</th>\n",
       "      <th>Jurisdiction</th>\n",
       "      <th>Travel_related</th>\n",
       "      <th>Hospitalized</th>\n",
       "      <th>Date</th>\n",
       "    </tr>\n",
       "  </thead>\n",
       "  <tbody>\n",
       "    <tr>\n",
       "      <th>11</th>\n",
       "      <td>12600</td>\n",
       "      <td>Broward</td>\n",
       "      <td>59.0</td>\n",
       "      <td>55-64 years</td>\n",
       "      <td>Female</td>\n",
       "      <td>FL resident</td>\n",
       "      <td>No</td>\n",
       "      <td>YES</td>\n",
       "      <td>2020-07-15</td>\n",
       "    </tr>\n",
       "    <tr>\n",
       "      <th>13</th>\n",
       "      <td>13705</td>\n",
       "      <td>Escambia</td>\n",
       "      <td>60.0</td>\n",
       "      <td>55-64 years</td>\n",
       "      <td>Male</td>\n",
       "      <td>FL resident</td>\n",
       "      <td>No</td>\n",
       "      <td>YES</td>\n",
       "      <td>2020-07-15</td>\n",
       "    </tr>\n",
       "    <tr>\n",
       "      <th>144</th>\n",
       "      <td>33647</td>\n",
       "      <td>Putnam</td>\n",
       "      <td>66.0</td>\n",
       "      <td>65-74 years</td>\n",
       "      <td>Male</td>\n",
       "      <td>FL resident</td>\n",
       "      <td>No</td>\n",
       "      <td>YES</td>\n",
       "      <td>2020-07-15</td>\n",
       "    </tr>\n",
       "    <tr>\n",
       "      <th>215</th>\n",
       "      <td>44046</td>\n",
       "      <td>Dade</td>\n",
       "      <td>43.0</td>\n",
       "      <td>35-44 years</td>\n",
       "      <td>Male</td>\n",
       "      <td>FL resident</td>\n",
       "      <td>No</td>\n",
       "      <td>YES</td>\n",
       "      <td>2020-07-15</td>\n",
       "    </tr>\n",
       "    <tr>\n",
       "      <th>354</th>\n",
       "      <td>56860</td>\n",
       "      <td>Volusia</td>\n",
       "      <td>66.0</td>\n",
       "      <td>65-74 years</td>\n",
       "      <td>Male</td>\n",
       "      <td>FL resident</td>\n",
       "      <td>No</td>\n",
       "      <td>YES</td>\n",
       "      <td>2020-07-15</td>\n",
       "    </tr>\n",
       "    <tr>\n",
       "      <th>...</th>\n",
       "      <td>...</td>\n",
       "      <td>...</td>\n",
       "      <td>...</td>\n",
       "      <td>...</td>\n",
       "      <td>...</td>\n",
       "      <td>...</td>\n",
       "      <td>...</td>\n",
       "      <td>...</td>\n",
       "      <td>...</td>\n",
       "    </tr>\n",
       "    <tr>\n",
       "      <th>315764</th>\n",
       "      <td>11932</td>\n",
       "      <td>Lee</td>\n",
       "      <td>77.0</td>\n",
       "      <td>75-84 years</td>\n",
       "      <td>Male</td>\n",
       "      <td>FL resident</td>\n",
       "      <td>Yes</td>\n",
       "      <td>YES</td>\n",
       "      <td>2020-03-07</td>\n",
       "    </tr>\n",
       "    <tr>\n",
       "      <th>315765</th>\n",
       "      <td>11933</td>\n",
       "      <td>Broward</td>\n",
       "      <td>65.0</td>\n",
       "      <td>65-74 years</td>\n",
       "      <td>Male</td>\n",
       "      <td>FL resident</td>\n",
       "      <td>Yes</td>\n",
       "      <td>YES</td>\n",
       "      <td>2020-03-07</td>\n",
       "    </tr>\n",
       "    <tr>\n",
       "      <th>315766</th>\n",
       "      <td>11936</td>\n",
       "      <td>Santa Rosa</td>\n",
       "      <td>71.0</td>\n",
       "      <td>65-74 years</td>\n",
       "      <td>Male</td>\n",
       "      <td>FL resident</td>\n",
       "      <td>Yes</td>\n",
       "      <td>YES</td>\n",
       "      <td>2020-03-05</td>\n",
       "    </tr>\n",
       "    <tr>\n",
       "      <th>315767</th>\n",
       "      <td>11601</td>\n",
       "      <td>Leon</td>\n",
       "      <td>59.0</td>\n",
       "      <td>55-64 years</td>\n",
       "      <td>Female</td>\n",
       "      <td>Not diagnosed/isolated in FL</td>\n",
       "      <td>Yes</td>\n",
       "      <td>YES</td>\n",
       "      <td>2020-03-04</td>\n",
       "    </tr>\n",
       "    <tr>\n",
       "      <th>315774</th>\n",
       "      <td>12137</td>\n",
       "      <td>Manatee</td>\n",
       "      <td>63.0</td>\n",
       "      <td>55-64 years</td>\n",
       "      <td>Male</td>\n",
       "      <td>FL resident</td>\n",
       "      <td>No</td>\n",
       "      <td>YES</td>\n",
       "      <td>2020-03-02</td>\n",
       "    </tr>\n",
       "  </tbody>\n",
       "</table>\n",
       "<p>20154 rows × 9 columns</p>\n",
       "</div>"
      ],
      "text/plain": [
       "        ObjectId      County   Age    Age_group  Gender  \\\n",
       "11         12600     Broward  59.0  55-64 years  Female   \n",
       "13         13705    Escambia  60.0  55-64 years    Male   \n",
       "144        33647      Putnam  66.0  65-74 years    Male   \n",
       "215        44046        Dade  43.0  35-44 years    Male   \n",
       "354        56860     Volusia  66.0  65-74 years    Male   \n",
       "...          ...         ...   ...          ...     ...   \n",
       "315764     11932         Lee  77.0  75-84 years    Male   \n",
       "315765     11933     Broward  65.0  65-74 years    Male   \n",
       "315766     11936  Santa Rosa  71.0  65-74 years    Male   \n",
       "315767     11601        Leon  59.0  55-64 years  Female   \n",
       "315774     12137     Manatee  63.0  55-64 years    Male   \n",
       "\n",
       "                        Jurisdiction Travel_related Hospitalized        Date  \n",
       "11                       FL resident             No          YES  2020-07-15  \n",
       "13                       FL resident             No          YES  2020-07-15  \n",
       "144                      FL resident             No          YES  2020-07-15  \n",
       "215                      FL resident             No          YES  2020-07-15  \n",
       "354                      FL resident             No          YES  2020-07-15  \n",
       "...                              ...            ...          ...         ...  \n",
       "315764                   FL resident            Yes          YES  2020-03-07  \n",
       "315765                   FL resident            Yes          YES  2020-03-07  \n",
       "315766                   FL resident            Yes          YES  2020-03-05  \n",
       "315767  Not diagnosed/isolated in FL            Yes          YES  2020-03-04  \n",
       "315774                   FL resident             No          YES  2020-03-02  \n",
       "\n",
       "[20154 rows x 9 columns]"
      ]
     },
     "execution_count": 27,
     "metadata": {},
     "output_type": "execute_result"
    }
   ],
   "source": [
    "#Create dataframe showing only cases with hospitalizations\n",
    "hosp_filter = new_csv_data_df1[\"Hospitalized\"] == \"YES\"\n",
    "hosp_filter_df = new_csv_data_df1[hosp_filter]\n",
    "hosp_filter_df"
   ]
  },
  {
   "cell_type": "code",
   "execution_count": 28,
   "metadata": {},
   "outputs": [
    {
     "data": {
      "text/html": [
       "<div>\n",
       "<style scoped>\n",
       "    .dataframe tbody tr th:only-of-type {\n",
       "        vertical-align: middle;\n",
       "    }\n",
       "\n",
       "    .dataframe tbody tr th {\n",
       "        vertical-align: top;\n",
       "    }\n",
       "\n",
       "    .dataframe thead th {\n",
       "        text-align: right;\n",
       "    }\n",
       "</style>\n",
       "<table border=\"1\" class=\"dataframe\">\n",
       "  <thead>\n",
       "    <tr style=\"text-align: right;\">\n",
       "      <th></th>\n",
       "      <th>Total Number Hospitalized</th>\n",
       "      <th>Average Age</th>\n",
       "      <th>Median Age</th>\n",
       "    </tr>\n",
       "  </thead>\n",
       "  <tbody>\n",
       "    <tr>\n",
       "      <th>YES</th>\n",
       "      <td>20154</td>\n",
       "      <td>62.6years</td>\n",
       "      <td>65.0years</td>\n",
       "    </tr>\n",
       "  </tbody>\n",
       "</table>\n",
       "</div>"
      ],
      "text/plain": [
       "     Total Number Hospitalized Average Age Median Age\n",
       "YES                      20154   62.6years  65.0years"
      ]
     },
     "execution_count": 28,
     "metadata": {},
     "output_type": "execute_result"
    }
   ],
   "source": [
    "#Total Hospitalized \n",
    "hosp_count = hosp_filter_df[\"Hospitalized\"].value_counts()\n",
    "\n",
    "#Average age of patients hospitalized \n",
    "Average_age_hospitalized = hosp_filter_df['Age'].mean()\n",
    "Median_age_hospitalized = hosp_filter_df['Age'].median()\n",
    "\n",
    "hosp_age_data_df = pd.DataFrame({\"Total Number Hospitalized\": hosp_count, \n",
    "                      \"Average Age\": [Average_age_hospitalized], \"Median Age\": [Median_age_hospitalized]})\n",
    "\n",
    "hosp_age_data_df[\"Average Age\"] = hosp_age_data_df[\"Average Age\"].map(\"{0:,.3}years\".format)\n",
    "hosp_age_data_df[\"Median Age\"] = hosp_age_data_df[\"Median Age\"].map(\"{0:,.3}years\".format)\n",
    "hosp_age_data_df"
   ]
  },
  {
   "cell_type": "code",
   "execution_count": 29,
   "metadata": {},
   "outputs": [],
   "source": [
    "#Percentage of hospitalization by gender # Create Visualization (Libardo)\n",
    "\n",
    "df = step2.get_df_with_datetime_and_formatted_column()\n",
    "filt = df['Gender']=='Male'\n",
    "df = df[filt]\n",
    "df = step2.get_hospitalizations_by_casedatetime(df)\n",
    "male_by_week = df.groupby(pd.Grouper(freq='W',key='CaseDateTime')).sum()\n",
    "\n",
    "df = step2.get_df_with_datetime_and_formatted_column()\n",
    "filt = df['Gender']=='Female'\n",
    "df = df[filt]\n",
    "df = step2.get_hospitalizations_by_casedatetime(df)\n",
    "female_by_week = df.groupby(pd.Grouper(freq='W',key='CaseDateTime')).sum()\n",
    "\n",
    "male_perc = male_by_week['Hospitalized']/(male_by_week['Hospitalized']+female_by_week['Hospitalized'])*100\n",
    "female_perc = female_by_week['Hospitalized']/(male_by_week['Hospitalized']+female_by_week['Hospitalized'])*100"
   ]
  },
  {
   "cell_type": "code",
   "execution_count": 30,
   "metadata": {},
   "outputs": [
    {
     "data": {
      "image/png": "[encoded data removed]",
      "text/plain": [
       "<Figure size 576x432 with 1 Axes>"
      ]
     },
     "metadata": {
      "needs_background": "light"
     },
     "output_type": "display_data"
    }
   ],
   "source": [
    "import matplotlib.pyplot as plt\n",
    "plt.figure(figsize=(8,6))\n",
    "p1 = plt.bar(male_perc.index,male_perc,width=5,label='male',alpha=0.5)\n",
    "p2 = plt.bar(female_perc.index,female_perc,bottom=male_perc,width=5,label='female',alpha=0.5)\n",
    "plt.hlines(y=50,xmin=male_perc.index[0],xmax=male_perc.index[-1],alpha=0.8)\n",
    "plt.ylabel('Scores')\n",
    "plt.legend(handles=[p1,p2])\n",
    "plt.show()"
   ]
  },
  {
   "cell_type": "code",
   "execution_count": 31,
   "metadata": {},
   "outputs": [
    {
     "data": {
      "text/html": [
       "<div>\n",
       "<style scoped>\n",
       "    .dataframe tbody tr th:only-of-type {\n",
       "        vertical-align: middle;\n",
       "    }\n",
       "\n",
       "    .dataframe tbody tr th {\n",
       "        vertical-align: top;\n",
       "    }\n",
       "\n",
       "    .dataframe thead th {\n",
       "        text-align: right;\n",
       "    }\n",
       "</style>\n",
       "<table border=\"1\" class=\"dataframe\">\n",
       "  <thead>\n",
       "    <tr style=\"text-align: right;\">\n",
       "      <th></th>\n",
       "      <th></th>\n",
       "      <th>Total Count</th>\n",
       "      <th>Percentage of hospitalized patients</th>\n",
       "    </tr>\n",
       "    <tr>\n",
       "      <th>Age_group</th>\n",
       "      <th>Hospitalized</th>\n",
       "      <th></th>\n",
       "      <th></th>\n",
       "    </tr>\n",
       "  </thead>\n",
       "  <tbody>\n",
       "    <tr>\n",
       "      <th>0-4 years</th>\n",
       "      <th>YES</th>\n",
       "      <td>98</td>\n",
       "      <td>0.486%</td>\n",
       "    </tr>\n",
       "    <tr>\n",
       "      <th>15-24 years</th>\n",
       "      <th>YES</th>\n",
       "      <td>497</td>\n",
       "      <td>2.47%</td>\n",
       "    </tr>\n",
       "    <tr>\n",
       "      <th>25-34 years</th>\n",
       "      <th>YES</th>\n",
       "      <td>1259</td>\n",
       "      <td>6.25%</td>\n",
       "    </tr>\n",
       "    <tr>\n",
       "      <th>35-44 years</th>\n",
       "      <th>YES</th>\n",
       "      <td>1876</td>\n",
       "      <td>9.31%</td>\n",
       "    </tr>\n",
       "    <tr>\n",
       "      <th>45-54 years</th>\n",
       "      <th>YES</th>\n",
       "      <td>2696</td>\n",
       "      <td>13.4%</td>\n",
       "    </tr>\n",
       "    <tr>\n",
       "      <th>5-14 years</th>\n",
       "      <th>YES</th>\n",
       "      <td>74</td>\n",
       "      <td>0.367%</td>\n",
       "    </tr>\n",
       "    <tr>\n",
       "      <th>55-64 years</th>\n",
       "      <th>YES</th>\n",
       "      <td>3544</td>\n",
       "      <td>17.6%</td>\n",
       "    </tr>\n",
       "    <tr>\n",
       "      <th>65-74 years</th>\n",
       "      <th>YES</th>\n",
       "      <td>3871</td>\n",
       "      <td>19.2%</td>\n",
       "    </tr>\n",
       "    <tr>\n",
       "      <th>75-84 years</th>\n",
       "      <th>YES</th>\n",
       "      <td>3558</td>\n",
       "      <td>17.7%</td>\n",
       "    </tr>\n",
       "    <tr>\n",
       "      <th>85+ years</th>\n",
       "      <th>YES</th>\n",
       "      <td>2681</td>\n",
       "      <td>13.3%</td>\n",
       "    </tr>\n",
       "  </tbody>\n",
       "</table>\n",
       "</div>"
      ],
      "text/plain": [
       "                          Total Count Percentage of hospitalized patients\n",
       "Age_group   Hospitalized                                                 \n",
       "0-4 years   YES                    98                              0.486%\n",
       "15-24 years YES                   497                               2.47%\n",
       "25-34 years YES                  1259                               6.25%\n",
       "35-44 years YES                  1876                               9.31%\n",
       "45-54 years YES                  2696                               13.4%\n",
       "5-14 years  YES                    74                              0.367%\n",
       "55-64 years YES                  3544                               17.6%\n",
       "65-74 years YES                  3871                               19.2%\n",
       "75-84 years YES                  3558                               17.7%\n",
       "85+ years   YES                  2681                               13.3%"
      ]
     },
     "execution_count": 31,
     "metadata": {},
     "output_type": "execute_result"
    }
   ],
   "source": [
    "#Calcalate percentage hospitalized by age group \n",
    "#Calculate total hospitalized \n",
    "Total_hospitalized = hosp_filter_df[\"Hospitalized\"].count()\n",
    "\n",
    "#Group by age group and count total hospitalized by age category\n",
    "demo_age_grouped = hosp_filter_df.groupby(\"Age_group\")\n",
    "total_hospitalize_count = demo_age_grouped[\"Hospitalized\"].value_counts()\n",
    "\n",
    "#Calculate percentage by age category\n",
    "age_percentage = (total_hospitalize_count/Total_hospitalized) * 100\n",
    "\n",
    "#Create a dataframe for values\n",
    "Age_demographic_summary = pd.DataFrame({\"Total Count\": total_hospitalize_count, \n",
    "                                          \"Percentage of hospitalized patients\": age_percentage})\n",
    "#Remove index name\n",
    "#Age_demographic_summary.index.name =None\n",
    "\n",
    "#Format percentage to two decimal places \n",
    "Age_demographic_summary[\"Percentage of hospitalized patients\"] = Age_demographic_summary[\"Percentage of hospitalized patients\"].map(\"{0:,.3}%\".format)\n",
    "Age_demographic_summary"
   ]
  },
  {
   "cell_type": "code",
   "execution_count": 32,
   "metadata": {},
   "outputs": [
    {
     "data": {
      "image/png": "[encoded data removed]",
      "text/plain": [
       "<Figure size 1440x720 with 1 Axes>"
      ]
     },
     "metadata": {
      "needs_background": "light"
     },
     "output_type": "display_data"
    }
   ],
   "source": [
    "#Hospitalization vs age plot\n",
    "\n",
    "Age_demographic_summary[\"Total Count\"].plot(kind= \"bar\", color = \"g\", figsize=(20, 10))\n",
    "\n",
    "plt.title(\"Hospitalized Patients by age\")\n",
    "plt.xlabel(\"Age Group, Hospitalized\")\n",
    "plt.ylabel(\"Number of Hospitalization\")\n",
    "\n",
    "plt.show()"
   ]
  },
  {
   "cell_type": "code",
   "execution_count": 34,
   "metadata": {},
   "outputs": [
    {
     "ename": "TypeError",
     "evalue": "float() argument must be a string or a number, not 'Timestamp'",
     "output_type": "error",
     "traceback": [
      "\u001b[0;31m---------------------------------------------------------------------------\u001b[0m",
      "\u001b[0;31mTypeError\u001b[0m                                 Traceback (most recent call last)",
      "\u001b[0;32m<ipython-input-34-25ce86663887>\u001b[0m in \u001b[0;36m<module>\u001b[0;34m\u001b[0m\n\u001b[1;32m      8\u001b[0m \u001b[0mcase_plot_df\u001b[0m\u001b[0;34m.\u001b[0m\u001b[0mreset_index\u001b[0m\u001b[0;34m(\u001b[0m\u001b[0minplace\u001b[0m\u001b[0;34m=\u001b[0m\u001b[0;32mTrue\u001b[0m\u001b[0;34m)\u001b[0m\u001b[0;34m\u001b[0m\u001b[0;34m\u001b[0m\u001b[0m\n\u001b[1;32m      9\u001b[0m \u001b[0mplt\u001b[0m\u001b[0;34m.\u001b[0m\u001b[0msubplots\u001b[0m\u001b[0;34m(\u001b[0m\u001b[0mfigsize\u001b[0m\u001b[0;34m=\u001b[0m\u001b[0;34m[\u001b[0m\u001b[0;36m15\u001b[0m\u001b[0;34m,\u001b[0m\u001b[0;36m7\u001b[0m\u001b[0;34m]\u001b[0m\u001b[0;34m)\u001b[0m\u001b[0;34m\u001b[0m\u001b[0;34m\u001b[0m\u001b[0m\n\u001b[0;32m---> 10\u001b[0;31m \u001b[0msns\u001b[0m\u001b[0;34m.\u001b[0m\u001b[0mlineplot\u001b[0m\u001b[0;34m(\u001b[0m\u001b[0mx\u001b[0m\u001b[0;34m=\u001b[0m\u001b[0;34m'Case1'\u001b[0m\u001b[0;34m,\u001b[0m \u001b[0my\u001b[0m\u001b[0;34m=\u001b[0m\u001b[0;34m'Count2'\u001b[0m\u001b[0;34m,\u001b[0m \u001b[0mdata\u001b[0m\u001b[0;34m=\u001b[0m\u001b[0mcase_plot_df\u001b[0m\u001b[0;34m,\u001b[0m \u001b[0mhue\u001b[0m\u001b[0;34m=\u001b[0m\u001b[0;34m'Hospitalized'\u001b[0m\u001b[0;34m)\u001b[0m\u001b[0;34m\u001b[0m\u001b[0;34m\u001b[0m\u001b[0m\n\u001b[0m\u001b[1;32m     11\u001b[0m \u001b[0mplt\u001b[0m\u001b[0;34m.\u001b[0m\u001b[0mxticks\u001b[0m\u001b[0;34m(\u001b[0m\u001b[0mrotation\u001b[0m\u001b[0;34m=\u001b[0m\u001b[0;36m45\u001b[0m\u001b[0;34m)\u001b[0m\u001b[0;34m\u001b[0m\u001b[0;34m\u001b[0m\u001b[0m\n",
      "\u001b[0;32m~/opt/anaconda3/lib/python3.7/site-packages/seaborn/relational.py\u001b[0m in \u001b[0;36mlineplot\u001b[0;34m(x, y, hue, size, style, data, palette, hue_order, hue_norm, sizes, size_order, size_norm, dashes, markers, style_order, units, estimator, ci, n_boot, seed, sort, err_style, err_kws, legend, ax, **kwargs)\u001b[0m\n\u001b[1;32m   1135\u001b[0m         \u001b[0max\u001b[0m \u001b[0;34m=\u001b[0m \u001b[0mplt\u001b[0m\u001b[0;34m.\u001b[0m\u001b[0mgca\u001b[0m\u001b[0;34m(\u001b[0m\u001b[0;34m)\u001b[0m\u001b[0;34m\u001b[0m\u001b[0;34m\u001b[0m\u001b[0m\n\u001b[1;32m   1136\u001b[0m \u001b[0;34m\u001b[0m\u001b[0m\n\u001b[0;32m-> 1137\u001b[0;31m     \u001b[0mp\u001b[0m\u001b[0;34m.\u001b[0m\u001b[0mplot\u001b[0m\u001b[0;34m(\u001b[0m\u001b[0max\u001b[0m\u001b[0;34m,\u001b[0m \u001b[0mkwargs\u001b[0m\u001b[0;34m)\u001b[0m\u001b[0;34m\u001b[0m\u001b[0;34m\u001b[0m\u001b[0m\n\u001b[0m\u001b[1;32m   1138\u001b[0m     \u001b[0;32mreturn\u001b[0m \u001b[0max\u001b[0m\u001b[0;34m\u001b[0m\u001b[0;34m\u001b[0m\u001b[0m\n\u001b[1;32m   1139\u001b[0m \u001b[0;34m\u001b[0m\u001b[0m\n",
      "\u001b[0;32m~/opt/anaconda3/lib/python3.7/site-packages/seaborn/relational.py\u001b[0m in \u001b[0;36mplot\u001b[0;34m(self, ax, kws)\u001b[0m\n\u001b[1;32m    832\u001b[0m \u001b[0;34m\u001b[0m\u001b[0m\n\u001b[1;32m    833\u001b[0m             \u001b[0;32mif\u001b[0m \u001b[0mself\u001b[0m\u001b[0;34m.\u001b[0m\u001b[0munits\u001b[0m \u001b[0;32mis\u001b[0m \u001b[0;32mNone\u001b[0m\u001b[0;34m:\u001b[0m\u001b[0;34m\u001b[0m\u001b[0;34m\u001b[0m\u001b[0m\n\u001b[0;32m--> 834\u001b[0;31m                 \u001b[0mline\u001b[0m\u001b[0;34m,\u001b[0m \u001b[0;34m=\u001b[0m \u001b[0max\u001b[0m\u001b[0;34m.\u001b[0m\u001b[0mplot\u001b[0m\u001b[0;34m(\u001b[0m\u001b[0mx\u001b[0m\u001b[0;34m,\u001b[0m \u001b[0my\u001b[0m\u001b[0;34m,\u001b[0m \u001b[0;34m**\u001b[0m\u001b[0mkws\u001b[0m\u001b[0;34m)\u001b[0m\u001b[0;34m\u001b[0m\u001b[0;34m\u001b[0m\u001b[0m\n\u001b[0m\u001b[1;32m    835\u001b[0m \u001b[0;34m\u001b[0m\u001b[0m\n\u001b[1;32m    836\u001b[0m             \u001b[0;32melse\u001b[0m\u001b[0;34m:\u001b[0m\u001b[0;34m\u001b[0m\u001b[0;34m\u001b[0m\u001b[0m\n",
      "\u001b[0;32m~/opt/anaconda3/lib/python3.7/site-packages/matplotlib/axes/_axes.py\u001b[0m in \u001b[0;36mplot\u001b[0;34m(self, scalex, scaley, data, *args, **kwargs)\u001b[0m\n\u001b[1;32m   1665\u001b[0m         \u001b[0mlines\u001b[0m \u001b[0;34m=\u001b[0m \u001b[0;34m[\u001b[0m\u001b[0;34m*\u001b[0m\u001b[0mself\u001b[0m\u001b[0;34m.\u001b[0m\u001b[0m_get_lines\u001b[0m\u001b[0;34m(\u001b[0m\u001b[0;34m*\u001b[0m\u001b[0margs\u001b[0m\u001b[0;34m,\u001b[0m \u001b[0mdata\u001b[0m\u001b[0;34m=\u001b[0m\u001b[0mdata\u001b[0m\u001b[0;34m,\u001b[0m \u001b[0;34m**\u001b[0m\u001b[0mkwargs\u001b[0m\u001b[0;34m)\u001b[0m\u001b[0;34m]\u001b[0m\u001b[0;34m\u001b[0m\u001b[0;34m\u001b[0m\u001b[0m\n\u001b[1;32m   1666\u001b[0m         \u001b[0;32mfor\u001b[0m \u001b[0mline\u001b[0m \u001b[0;32min\u001b[0m \u001b[0mlines\u001b[0m\u001b[0;34m:\u001b[0m\u001b[0;34m\u001b[0m\u001b[0;34m\u001b[0m\u001b[0m\n\u001b[0;32m-> 1667\u001b[0;31m             \u001b[0mself\u001b[0m\u001b[0;34m.\u001b[0m\u001b[0madd_line\u001b[0m\u001b[0;34m(\u001b[0m\u001b[0mline\u001b[0m\u001b[0;34m)\u001b[0m\u001b[0;34m\u001b[0m\u001b[0;34m\u001b[0m\u001b[0m\n\u001b[0m\u001b[1;32m   1668\u001b[0m         \u001b[0mself\u001b[0m\u001b[0;34m.\u001b[0m\u001b[0mautoscale_view\u001b[0m\u001b[0;34m(\u001b[0m\u001b[0mscalex\u001b[0m\u001b[0;34m=\u001b[0m\u001b[0mscalex\u001b[0m\u001b[0;34m,\u001b[0m \u001b[0mscaley\u001b[0m\u001b[0;34m=\u001b[0m\u001b[0mscaley\u001b[0m\u001b[0;34m)\u001b[0m\u001b[0;34m\u001b[0m\u001b[0;34m\u001b[0m\u001b[0m\n\u001b[1;32m   1669\u001b[0m         \u001b[0;32mreturn\u001b[0m \u001b[0mlines\u001b[0m\u001b[0;34m\u001b[0m\u001b[0;34m\u001b[0m\u001b[0m\n",
      "\u001b[0;32m~/opt/anaconda3/lib/python3.7/site-packages/matplotlib/axes/_base.py\u001b[0m in \u001b[0;36madd_line\u001b[0;34m(self, line)\u001b[0m\n\u001b[1;32m   1900\u001b[0m             \u001b[0mline\u001b[0m\u001b[0;34m.\u001b[0m\u001b[0mset_clip_path\u001b[0m\u001b[0;34m(\u001b[0m\u001b[0mself\u001b[0m\u001b[0;34m.\u001b[0m\u001b[0mpatch\u001b[0m\u001b[0;34m)\u001b[0m\u001b[0;34m\u001b[0m\u001b[0;34m\u001b[0m\u001b[0m\n\u001b[1;32m   1901\u001b[0m \u001b[0;34m\u001b[0m\u001b[0m\n\u001b[0;32m-> 1902\u001b[0;31m         \u001b[0mself\u001b[0m\u001b[0;34m.\u001b[0m\u001b[0m_update_line_limits\u001b[0m\u001b[0;34m(\u001b[0m\u001b[0mline\u001b[0m\u001b[0;34m)\u001b[0m\u001b[0;34m\u001b[0m\u001b[0;34m\u001b[0m\u001b[0m\n\u001b[0m\u001b[1;32m   1903\u001b[0m         \u001b[0;32mif\u001b[0m \u001b[0;32mnot\u001b[0m \u001b[0mline\u001b[0m\u001b[0;34m.\u001b[0m\u001b[0mget_label\u001b[0m\u001b[0;34m(\u001b[0m\u001b[0;34m)\u001b[0m\u001b[0;34m:\u001b[0m\u001b[0;34m\u001b[0m\u001b[0;34m\u001b[0m\u001b[0m\n\u001b[1;32m   1904\u001b[0m             \u001b[0mline\u001b[0m\u001b[0;34m.\u001b[0m\u001b[0mset_label\u001b[0m\u001b[0;34m(\u001b[0m\u001b[0;34m'_line%d'\u001b[0m \u001b[0;34m%\u001b[0m \u001b[0mlen\u001b[0m\u001b[0;34m(\u001b[0m\u001b[0mself\u001b[0m\u001b[0;34m.\u001b[0m\u001b[0mlines\u001b[0m\u001b[0;34m)\u001b[0m\u001b[0;34m)\u001b[0m\u001b[0;34m\u001b[0m\u001b[0;34m\u001b[0m\u001b[0m\n",
      "\u001b[0;32m~/opt/anaconda3/lib/python3.7/site-packages/matplotlib/axes/_base.py\u001b[0m in \u001b[0;36m_update_line_limits\u001b[0;34m(self, line)\u001b[0m\n\u001b[1;32m   1922\u001b[0m         \u001b[0mFigures\u001b[0m \u001b[0mout\u001b[0m \u001b[0mthe\u001b[0m \u001b[0mdata\u001b[0m \u001b[0mlimit\u001b[0m \u001b[0mof\u001b[0m \u001b[0mthe\u001b[0m \u001b[0mgiven\u001b[0m \u001b[0mline\u001b[0m\u001b[0;34m,\u001b[0m \u001b[0mupdating\u001b[0m \u001b[0mself\u001b[0m\u001b[0;34m.\u001b[0m\u001b[0mdataLim\u001b[0m\u001b[0;34m.\u001b[0m\u001b[0;34m\u001b[0m\u001b[0;34m\u001b[0m\u001b[0m\n\u001b[1;32m   1923\u001b[0m         \"\"\"\n\u001b[0;32m-> 1924\u001b[0;31m         \u001b[0mpath\u001b[0m \u001b[0;34m=\u001b[0m \u001b[0mline\u001b[0m\u001b[0;34m.\u001b[0m\u001b[0mget_path\u001b[0m\u001b[0;34m(\u001b[0m\u001b[0;34m)\u001b[0m\u001b[0;34m\u001b[0m\u001b[0;34m\u001b[0m\u001b[0m\n\u001b[0m\u001b[1;32m   1925\u001b[0m         \u001b[0;32mif\u001b[0m \u001b[0mpath\u001b[0m\u001b[0;34m.\u001b[0m\u001b[0mvertices\u001b[0m\u001b[0;34m.\u001b[0m\u001b[0msize\u001b[0m \u001b[0;34m==\u001b[0m \u001b[0;36m0\u001b[0m\u001b[0;34m:\u001b[0m\u001b[0;34m\u001b[0m\u001b[0;34m\u001b[0m\u001b[0m\n\u001b[1;32m   1926\u001b[0m             \u001b[0;32mreturn\u001b[0m\u001b[0;34m\u001b[0m\u001b[0;34m\u001b[0m\u001b[0m\n",
      "\u001b[0;32m~/opt/anaconda3/lib/python3.7/site-packages/matplotlib/lines.py\u001b[0m in \u001b[0;36mget_path\u001b[0;34m(self)\u001b[0m\n\u001b[1;32m   1025\u001b[0m         \"\"\"\n\u001b[1;32m   1026\u001b[0m         \u001b[0;32mif\u001b[0m \u001b[0mself\u001b[0m\u001b[0;34m.\u001b[0m\u001b[0m_invalidy\u001b[0m \u001b[0;32mor\u001b[0m \u001b[0mself\u001b[0m\u001b[0;34m.\u001b[0m\u001b[0m_invalidx\u001b[0m\u001b[0;34m:\u001b[0m\u001b[0;34m\u001b[0m\u001b[0;34m\u001b[0m\u001b[0m\n\u001b[0;32m-> 1027\u001b[0;31m             \u001b[0mself\u001b[0m\u001b[0;34m.\u001b[0m\u001b[0mrecache\u001b[0m\u001b[0;34m(\u001b[0m\u001b[0;34m)\u001b[0m\u001b[0;34m\u001b[0m\u001b[0;34m\u001b[0m\u001b[0m\n\u001b[0m\u001b[1;32m   1028\u001b[0m         \u001b[0;32mreturn\u001b[0m \u001b[0mself\u001b[0m\u001b[0;34m.\u001b[0m\u001b[0m_path\u001b[0m\u001b[0;34m\u001b[0m\u001b[0;34m\u001b[0m\u001b[0m\n\u001b[1;32m   1029\u001b[0m \u001b[0;34m\u001b[0m\u001b[0m\n",
      "\u001b[0;32m~/opt/anaconda3/lib/python3.7/site-packages/matplotlib/lines.py\u001b[0m in \u001b[0;36mrecache\u001b[0;34m(self, always)\u001b[0m\n\u001b[1;32m    668\u001b[0m         \u001b[0;32mif\u001b[0m \u001b[0malways\u001b[0m \u001b[0;32mor\u001b[0m \u001b[0mself\u001b[0m\u001b[0;34m.\u001b[0m\u001b[0m_invalidx\u001b[0m\u001b[0;34m:\u001b[0m\u001b[0;34m\u001b[0m\u001b[0;34m\u001b[0m\u001b[0m\n\u001b[1;32m    669\u001b[0m             \u001b[0mxconv\u001b[0m \u001b[0;34m=\u001b[0m \u001b[0mself\u001b[0m\u001b[0;34m.\u001b[0m\u001b[0mconvert_xunits\u001b[0m\u001b[0;34m(\u001b[0m\u001b[0mself\u001b[0m\u001b[0;34m.\u001b[0m\u001b[0m_xorig\u001b[0m\u001b[0;34m)\u001b[0m\u001b[0;34m\u001b[0m\u001b[0;34m\u001b[0m\u001b[0m\n\u001b[0;32m--> 670\u001b[0;31m             \u001b[0mx\u001b[0m \u001b[0;34m=\u001b[0m \u001b[0m_to_unmasked_float_array\u001b[0m\u001b[0;34m(\u001b[0m\u001b[0mxconv\u001b[0m\u001b[0;34m)\u001b[0m\u001b[0;34m.\u001b[0m\u001b[0mravel\u001b[0m\u001b[0;34m(\u001b[0m\u001b[0;34m)\u001b[0m\u001b[0;34m\u001b[0m\u001b[0;34m\u001b[0m\u001b[0m\n\u001b[0m\u001b[1;32m    671\u001b[0m         \u001b[0;32melse\u001b[0m\u001b[0;34m:\u001b[0m\u001b[0;34m\u001b[0m\u001b[0;34m\u001b[0m\u001b[0m\n\u001b[1;32m    672\u001b[0m             \u001b[0mx\u001b[0m \u001b[0;34m=\u001b[0m \u001b[0mself\u001b[0m\u001b[0;34m.\u001b[0m\u001b[0m_x\u001b[0m\u001b[0;34m\u001b[0m\u001b[0;34m\u001b[0m\u001b[0m\n",
      "\u001b[0;32m~/opt/anaconda3/lib/python3.7/site-packages/matplotlib/cbook/__init__.py\u001b[0m in \u001b[0;36m_to_unmasked_float_array\u001b[0;34m(x)\u001b[0m\n\u001b[1;32m   1388\u001b[0m         \u001b[0;32mreturn\u001b[0m \u001b[0mnp\u001b[0m\u001b[0;34m.\u001b[0m\u001b[0mma\u001b[0m\u001b[0;34m.\u001b[0m\u001b[0masarray\u001b[0m\u001b[0;34m(\u001b[0m\u001b[0mx\u001b[0m\u001b[0;34m,\u001b[0m \u001b[0mfloat\u001b[0m\u001b[0;34m)\u001b[0m\u001b[0;34m.\u001b[0m\u001b[0mfilled\u001b[0m\u001b[0;34m(\u001b[0m\u001b[0mnp\u001b[0m\u001b[0;34m.\u001b[0m\u001b[0mnan\u001b[0m\u001b[0;34m)\u001b[0m\u001b[0;34m\u001b[0m\u001b[0;34m\u001b[0m\u001b[0m\n\u001b[1;32m   1389\u001b[0m     \u001b[0;32melse\u001b[0m\u001b[0;34m:\u001b[0m\u001b[0;34m\u001b[0m\u001b[0;34m\u001b[0m\u001b[0m\n\u001b[0;32m-> 1390\u001b[0;31m         \u001b[0;32mreturn\u001b[0m \u001b[0mnp\u001b[0m\u001b[0;34m.\u001b[0m\u001b[0masarray\u001b[0m\u001b[0;34m(\u001b[0m\u001b[0mx\u001b[0m\u001b[0;34m,\u001b[0m \u001b[0mfloat\u001b[0m\u001b[0;34m)\u001b[0m\u001b[0;34m\u001b[0m\u001b[0;34m\u001b[0m\u001b[0m\n\u001b[0m\u001b[1;32m   1391\u001b[0m \u001b[0;34m\u001b[0m\u001b[0m\n\u001b[1;32m   1392\u001b[0m \u001b[0;34m\u001b[0m\u001b[0m\n",
      "\u001b[0;32m~/opt/anaconda3/lib/python3.7/site-packages/numpy/core/_asarray.py\u001b[0m in \u001b[0;36masarray\u001b[0;34m(a, dtype, order)\u001b[0m\n\u001b[1;32m     83\u001b[0m \u001b[0;34m\u001b[0m\u001b[0m\n\u001b[1;32m     84\u001b[0m     \"\"\"\n\u001b[0;32m---> 85\u001b[0;31m     \u001b[0;32mreturn\u001b[0m \u001b[0marray\u001b[0m\u001b[0;34m(\u001b[0m\u001b[0ma\u001b[0m\u001b[0;34m,\u001b[0m \u001b[0mdtype\u001b[0m\u001b[0;34m,\u001b[0m \u001b[0mcopy\u001b[0m\u001b[0;34m=\u001b[0m\u001b[0;32mFalse\u001b[0m\u001b[0;34m,\u001b[0m \u001b[0morder\u001b[0m\u001b[0;34m=\u001b[0m\u001b[0morder\u001b[0m\u001b[0;34m)\u001b[0m\u001b[0;34m\u001b[0m\u001b[0;34m\u001b[0m\u001b[0m\n\u001b[0m\u001b[1;32m     86\u001b[0m \u001b[0;34m\u001b[0m\u001b[0m\n\u001b[1;32m     87\u001b[0m \u001b[0;34m\u001b[0m\u001b[0m\n",
      "\u001b[0;31mTypeError\u001b[0m: float() argument must be a string or a number, not 'Timestamp'"
     ]
    },
    {
     "data": {
      "image/png": "[encoded data removed]",
      "text/plain": [
       "<Figure size 1080x504 with 1 Axes>"
      ]
     },
     "metadata": {
      "needs_background": "light"
     },
     "output_type": "display_data"
    }
   ],
   "source": [
    "#Create a visualization of hospitalizations by case\n",
    "import seaborn as sns\n",
    "new_csv_data_df['Count']=np.where(new_csv_data_df['Hospitalized']=='YES', 1,0)\n",
    "new_csv_data_df.head()\n",
    "new_csv_data_df['Count2']=1\n",
    "new_csv_data_df['Case1']=pd.to_datetime(new_csv_data_df['Case1'])\n",
    "case_plot_df=pd.DataFrame(new_csv_data_df.groupby(['Hospitalized', pd.Grouper(key='Case1', freq='W')])['Count2'].count())\n",
    "case_plot_df.reset_index(inplace=True)\n",
    "plt.subplots(figsize=[15,7])\n",
    "sns.lineplot(x='Case1', y='Count2', data=case_plot_df, hue='Hospitalized')\n",
    "plt.xticks(rotation=45)"
   ]
  },
  {
   "cell_type": "code",
   "execution_count": 35,
   "metadata": {},
   "outputs": [
    {
     "data": {
      "image/png": "[encoded data removed]",
      "text/plain": [
       "<Figure size 432x288 with 1 Axes>"
      ]
     },
     "metadata": {},
     "output_type": "display_data"
    }
   ],
   "source": [
    "#Compare travel-related cases to non-travel-related cases (Not done yet) (Chika)\n",
    "travel_vs_nontravel = new_csv_data_df1[\"Travel_related\"].value_counts()\n",
    "#travel_vs_nontravel\n",
    "\n",
    "colors = ['green', 'red', 'orange']\n",
    "explode = (0.1, 0, 0)\n",
    "travel_vs_nontravel.plot(kind=\"pie\", colors= colors, explode= explode, startangle=140, shadow = True, autopct='%1.1f%%')\n",
    "plt.title(\"Travel Related Cases\")\n",
    "plt.show()"
   ]
  },
  {
   "cell_type": "code",
   "execution_count": 36,
   "metadata": {},
   "outputs": [
    {
     "data": {
      "image/png": "[encoded data removed]",
      "text/plain": [
       "<Figure size 432x288 with 1 Axes>"
      ]
     },
     "metadata": {},
     "output_type": "display_data"
    }
   ],
   "source": [
    "#Compare travel-related hospitalization to non-travel-related hospitalization (Not done yet) (Chika)\n",
    "travel_vs_nontravel_hosp = hosp_filter_df[\"Travel_related\"].value_counts()\n",
    "\n",
    "#Plottravel_vs_nontravel\n",
    "\n",
    "colors = ['blue', 'red', 'green']\n",
    "explode = (0.1, 0, 0)\n",
    "travel_vs_nontravel_hosp.plot(kind=\"pie\", colors= colors, explode= explode, startangle=140, shadow = True, autopct='%1.1f%%')\n",
    "plt.title(\"Travel Related Hospitalization\")\n",
    "plt.show()"
   ]
  },
  {
   "cell_type": "code",
   "execution_count": 37,
   "metadata": {},
   "outputs": [
    {
     "data": {
      "text/html": [
       "<div>\n",
       "<style scoped>\n",
       "    .dataframe tbody tr th:only-of-type {\n",
       "        vertical-align: middle;\n",
       "    }\n",
       "\n",
       "    .dataframe tbody tr th {\n",
       "        vertical-align: top;\n",
       "    }\n",
       "\n",
       "    .dataframe thead th {\n",
       "        text-align: right;\n",
       "    }\n",
       "</style>\n",
       "<table border=\"1\" class=\"dataframe\">\n",
       "  <thead>\n",
       "    <tr style=\"text-align: right;\">\n",
       "      <th></th>\n",
       "      <th>County</th>\n",
       "      <th>Hospitalized</th>\n",
       "      <th>Age</th>\n",
       "      <th>Age_group</th>\n",
       "      <th>Gender</th>\n",
       "      <th>Date</th>\n",
       "    </tr>\n",
       "  </thead>\n",
       "  <tbody>\n",
       "    <tr>\n",
       "      <th>11</th>\n",
       "      <td>Broward</td>\n",
       "      <td>YES</td>\n",
       "      <td>59.0</td>\n",
       "      <td>55-64 years</td>\n",
       "      <td>Female</td>\n",
       "      <td>2020-07-15</td>\n",
       "    </tr>\n",
       "    <tr>\n",
       "      <th>13</th>\n",
       "      <td>Escambia</td>\n",
       "      <td>YES</td>\n",
       "      <td>60.0</td>\n",
       "      <td>55-64 years</td>\n",
       "      <td>Male</td>\n",
       "      <td>2020-07-15</td>\n",
       "    </tr>\n",
       "    <tr>\n",
       "      <th>144</th>\n",
       "      <td>Putnam</td>\n",
       "      <td>YES</td>\n",
       "      <td>66.0</td>\n",
       "      <td>65-74 years</td>\n",
       "      <td>Male</td>\n",
       "      <td>2020-07-15</td>\n",
       "    </tr>\n",
       "    <tr>\n",
       "      <th>215</th>\n",
       "      <td>Dade</td>\n",
       "      <td>YES</td>\n",
       "      <td>43.0</td>\n",
       "      <td>35-44 years</td>\n",
       "      <td>Male</td>\n",
       "      <td>2020-07-15</td>\n",
       "    </tr>\n",
       "    <tr>\n",
       "      <th>354</th>\n",
       "      <td>Volusia</td>\n",
       "      <td>YES</td>\n",
       "      <td>66.0</td>\n",
       "      <td>65-74 years</td>\n",
       "      <td>Male</td>\n",
       "      <td>2020-07-15</td>\n",
       "    </tr>\n",
       "    <tr>\n",
       "      <th>...</th>\n",
       "      <td>...</td>\n",
       "      <td>...</td>\n",
       "      <td>...</td>\n",
       "      <td>...</td>\n",
       "      <td>...</td>\n",
       "      <td>...</td>\n",
       "    </tr>\n",
       "    <tr>\n",
       "      <th>315764</th>\n",
       "      <td>Lee</td>\n",
       "      <td>YES</td>\n",
       "      <td>77.0</td>\n",
       "      <td>75-84 years</td>\n",
       "      <td>Male</td>\n",
       "      <td>2020-03-07</td>\n",
       "    </tr>\n",
       "    <tr>\n",
       "      <th>315765</th>\n",
       "      <td>Broward</td>\n",
       "      <td>YES</td>\n",
       "      <td>65.0</td>\n",
       "      <td>65-74 years</td>\n",
       "      <td>Male</td>\n",
       "      <td>2020-03-07</td>\n",
       "    </tr>\n",
       "    <tr>\n",
       "      <th>315766</th>\n",
       "      <td>Santa Rosa</td>\n",
       "      <td>YES</td>\n",
       "      <td>71.0</td>\n",
       "      <td>65-74 years</td>\n",
       "      <td>Male</td>\n",
       "      <td>2020-03-05</td>\n",
       "    </tr>\n",
       "    <tr>\n",
       "      <th>315767</th>\n",
       "      <td>Leon</td>\n",
       "      <td>YES</td>\n",
       "      <td>59.0</td>\n",
       "      <td>55-64 years</td>\n",
       "      <td>Female</td>\n",
       "      <td>2020-03-04</td>\n",
       "    </tr>\n",
       "    <tr>\n",
       "      <th>315774</th>\n",
       "      <td>Manatee</td>\n",
       "      <td>YES</td>\n",
       "      <td>63.0</td>\n",
       "      <td>55-64 years</td>\n",
       "      <td>Male</td>\n",
       "      <td>2020-03-02</td>\n",
       "    </tr>\n",
       "  </tbody>\n",
       "</table>\n",
       "<p>20154 rows × 6 columns</p>\n",
       "</div>"
      ],
      "text/plain": [
       "            County Hospitalized   Age    Age_group  Gender        Date\n",
       "11         Broward          YES  59.0  55-64 years  Female  2020-07-15\n",
       "13        Escambia          YES  60.0  55-64 years    Male  2020-07-15\n",
       "144         Putnam          YES  66.0  65-74 years    Male  2020-07-15\n",
       "215           Dade          YES  43.0  35-44 years    Male  2020-07-15\n",
       "354        Volusia          YES  66.0  65-74 years    Male  2020-07-15\n",
       "...            ...          ...   ...          ...     ...         ...\n",
       "315764         Lee          YES  77.0  75-84 years    Male  2020-03-07\n",
       "315765     Broward          YES  65.0  65-74 years    Male  2020-03-07\n",
       "315766  Santa Rosa          YES  71.0  65-74 years    Male  2020-03-05\n",
       "315767        Leon          YES  59.0  55-64 years  Female  2020-03-04\n",
       "315774     Manatee          YES  63.0  55-64 years    Male  2020-03-02\n",
       "\n",
       "[20154 rows x 6 columns]"
      ]
     },
     "execution_count": 37,
     "metadata": {},
     "output_type": "execute_result"
    }
   ],
   "source": [
    "#Create new dataframe for date and hospitalization\n",
    "sec_hosp_data_df = hosp_filter_df.filter([\"County\",'Hospitalized', \"Age\", \"Age_group\", \"Gender\", 'Date'], axis=1)\n",
    "sec_hosp_data_df"
   ]
  },
  {
   "cell_type": "code",
   "execution_count": 38,
   "metadata": {},
   "outputs": [
    {
     "data": {
      "text/html": [
       "<div>\n",
       "<style scoped>\n",
       "    .dataframe tbody tr th:only-of-type {\n",
       "        vertical-align: middle;\n",
       "    }\n",
       "\n",
       "    .dataframe tbody tr th {\n",
       "        vertical-align: top;\n",
       "    }\n",
       "\n",
       "    .dataframe thead th {\n",
       "        text-align: right;\n",
       "    }\n",
       "</style>\n",
       "<table border=\"1\" class=\"dataframe\">\n",
       "  <thead>\n",
       "    <tr style=\"text-align: right;\">\n",
       "      <th></th>\n",
       "      <th>County</th>\n",
       "      <th>Hospitalized</th>\n",
       "      <th>Age</th>\n",
       "      <th>Age_group</th>\n",
       "      <th>Gender</th>\n",
       "      <th>Date</th>\n",
       "    </tr>\n",
       "  </thead>\n",
       "  <tbody>\n",
       "    <tr>\n",
       "      <th>279167</th>\n",
       "      <td>Hillsborough</td>\n",
       "      <td>YES</td>\n",
       "      <td>75.0</td>\n",
       "      <td>75-84 years</td>\n",
       "      <td>Female</td>\n",
       "      <td>2020-05-03</td>\n",
       "    </tr>\n",
       "    <tr>\n",
       "      <th>279168</th>\n",
       "      <td>Polk</td>\n",
       "      <td>YES</td>\n",
       "      <td>74.0</td>\n",
       "      <td>65-74 years</td>\n",
       "      <td>Male</td>\n",
       "      <td>2020-05-03</td>\n",
       "    </tr>\n",
       "    <tr>\n",
       "      <th>279171</th>\n",
       "      <td>Hillsborough</td>\n",
       "      <td>YES</td>\n",
       "      <td>68.0</td>\n",
       "      <td>65-74 years</td>\n",
       "      <td>Female</td>\n",
       "      <td>2020-05-03</td>\n",
       "    </tr>\n",
       "    <tr>\n",
       "      <th>279172</th>\n",
       "      <td>Dade</td>\n",
       "      <td>YES</td>\n",
       "      <td>87.0</td>\n",
       "      <td>85+ years</td>\n",
       "      <td>Male</td>\n",
       "      <td>2020-05-03</td>\n",
       "    </tr>\n",
       "    <tr>\n",
       "      <th>279173</th>\n",
       "      <td>Broward</td>\n",
       "      <td>YES</td>\n",
       "      <td>69.0</td>\n",
       "      <td>65-74 years</td>\n",
       "      <td>Male</td>\n",
       "      <td>2020-05-03</td>\n",
       "    </tr>\n",
       "    <tr>\n",
       "      <th>279174</th>\n",
       "      <td>Hillsborough</td>\n",
       "      <td>YES</td>\n",
       "      <td>68.0</td>\n",
       "      <td>65-74 years</td>\n",
       "      <td>Female</td>\n",
       "      <td>2020-05-03</td>\n",
       "    </tr>\n",
       "    <tr>\n",
       "      <th>279176</th>\n",
       "      <td>Collier</td>\n",
       "      <td>YES</td>\n",
       "      <td>88.0</td>\n",
       "      <td>85+ years</td>\n",
       "      <td>Female</td>\n",
       "      <td>2020-05-03</td>\n",
       "    </tr>\n",
       "    <tr>\n",
       "      <th>279179</th>\n",
       "      <td>Alachua</td>\n",
       "      <td>YES</td>\n",
       "      <td>45.0</td>\n",
       "      <td>45-54 years</td>\n",
       "      <td>Female</td>\n",
       "      <td>2020-05-03</td>\n",
       "    </tr>\n",
       "    <tr>\n",
       "      <th>279185</th>\n",
       "      <td>Broward</td>\n",
       "      <td>YES</td>\n",
       "      <td>85.0</td>\n",
       "      <td>85+ years</td>\n",
       "      <td>Male</td>\n",
       "      <td>2020-05-03</td>\n",
       "    </tr>\n",
       "    <tr>\n",
       "      <th>279187</th>\n",
       "      <td>Dade</td>\n",
       "      <td>YES</td>\n",
       "      <td>72.0</td>\n",
       "      <td>65-74 years</td>\n",
       "      <td>Male</td>\n",
       "      <td>2020-05-03</td>\n",
       "    </tr>\n",
       "  </tbody>\n",
       "</table>\n",
       "</div>"
      ],
      "text/plain": [
       "              County Hospitalized   Age    Age_group  Gender       Date\n",
       "279167  Hillsborough          YES  75.0  75-84 years  Female 2020-05-03\n",
       "279168          Polk          YES  74.0  65-74 years    Male 2020-05-03\n",
       "279171  Hillsborough          YES  68.0  65-74 years  Female 2020-05-03\n",
       "279172          Dade          YES  87.0    85+ years    Male 2020-05-03\n",
       "279173       Broward          YES  69.0  65-74 years    Male 2020-05-03\n",
       "279174  Hillsborough          YES  68.0  65-74 years  Female 2020-05-03\n",
       "279176       Collier          YES  88.0    85+ years  Female 2020-05-03\n",
       "279179       Alachua          YES  45.0  45-54 years  Female 2020-05-03\n",
       "279185       Broward          YES  85.0    85+ years    Male 2020-05-03\n",
       "279187          Dade          YES  72.0  65-74 years    Male 2020-05-03"
      ]
     },
     "execution_count": 38,
     "metadata": {},
     "output_type": "execute_result"
    }
   ],
   "source": [
    "#Divide hospitalization case date data in two groups of data \n",
    "#prior to reopening and after reopening and create new dataframe (Kurt) consider total (Chika)\n",
    "\n",
    "#Convert Date to datetime \n",
    "\n",
    "sec_hosp_data_df['Date'] = pd.to_datetime(sec_hosp_data_df[\"Date\"], format =\"%Y-%m-%d\")\n",
    "\n",
    "Before_start_date = \"2020-01-01\"\n",
    "Before_end_date = '2020-05-03'\n",
    "\n",
    "mask = (sec_hosp_data_df['Date'] > Before_start_date) & (sec_hosp_data_df['Date'] <= Before_end_date)\n",
    "\n",
    "hosp_filter_df_new = sec_hosp_data_df.loc[mask]\n",
    "hosp_filter_df_new.head(10)"
   ]
  },
  {
   "cell_type": "code",
   "execution_count": 41,
   "metadata": {},
   "outputs": [
    {
     "data": {
      "image/png": "[encoded data removed]",
      "text/plain": [
       "<Figure size 1440x1080 with 1 Axes>"
      ]
     },
     "metadata": {
      "needs_background": "light"
     },
     "output_type": "display_data"
    }
   ],
   "source": [
    "#Calculate hospitalization per county for before reopening and plot chart\n",
    "\n",
    "my_colors = ['r', 'g', 'b', 'k', 'y', 'm', 'c']  # red, green, blue, black, etc.\n",
    "my_colormap = ListedColormap(my_colors)\n",
    "\n",
    "Before_hosp_county = hosp_filter_df_new[\"County\"].value_counts().plot(kind= \"barh\", color = 'orange', figsize=(20, 15))\n",
    "\n",
    "#chart title\n",
    "plt.title(\"Total Hospitalization for each county before reopening\")\n",
    "plt.xlabel(\"County\")\n",
    "plt.ylabel(\"Number of Hospitalization\")\n",
    "\n",
    "plt.show()"
   ]
  },
  {
   "cell_type": "code",
   "execution_count": null,
   "metadata": {},
   "outputs": [],
   "source": [
    "hosp_filter_df_new['Date'] = pd.to_datetime(hosp_filter_df_new['Date'], errors='coerce')\n",
    "hosp_filter_df_new['Case_Date'] = hosp_filter_df_new[\"Date\"].dt.strftime(\"%m\")\n",
    "hosp_filter_df_new"
   ]
  },
  {
   "cell_type": "code",
   "execution_count": 44,
   "metadata": {},
   "outputs": [
    {
     "data": {
      "text/html": [
       "<div>\n",
       "<style scoped>\n",
       "    .dataframe tbody tr th:only-of-type {\n",
       "        vertical-align: middle;\n",
       "    }\n",
       "\n",
       "    .dataframe tbody tr th {\n",
       "        vertical-align: top;\n",
       "    }\n",
       "\n",
       "    .dataframe thead th {\n",
       "        text-align: right;\n",
       "    }\n",
       "</style>\n",
       "<table border=\"1\" class=\"dataframe\">\n",
       "  <thead>\n",
       "    <tr style=\"text-align: right;\">\n",
       "      <th></th>\n",
       "      <th>County</th>\n",
       "      <th>Hospitalized</th>\n",
       "      <th>Age</th>\n",
       "      <th>Age_group</th>\n",
       "      <th>Gender</th>\n",
       "      <th>Date</th>\n",
       "    </tr>\n",
       "  </thead>\n",
       "  <tbody>\n",
       "    <tr>\n",
       "      <th>11</th>\n",
       "      <td>Broward</td>\n",
       "      <td>YES</td>\n",
       "      <td>59.0</td>\n",
       "      <td>55-64 years</td>\n",
       "      <td>Female</td>\n",
       "      <td>2020-07-15</td>\n",
       "    </tr>\n",
       "    <tr>\n",
       "      <th>13</th>\n",
       "      <td>Escambia</td>\n",
       "      <td>YES</td>\n",
       "      <td>60.0</td>\n",
       "      <td>55-64 years</td>\n",
       "      <td>Male</td>\n",
       "      <td>2020-07-15</td>\n",
       "    </tr>\n",
       "    <tr>\n",
       "      <th>144</th>\n",
       "      <td>Putnam</td>\n",
       "      <td>YES</td>\n",
       "      <td>66.0</td>\n",
       "      <td>65-74 years</td>\n",
       "      <td>Male</td>\n",
       "      <td>2020-07-15</td>\n",
       "    </tr>\n",
       "    <tr>\n",
       "      <th>215</th>\n",
       "      <td>Dade</td>\n",
       "      <td>YES</td>\n",
       "      <td>43.0</td>\n",
       "      <td>35-44 years</td>\n",
       "      <td>Male</td>\n",
       "      <td>2020-07-15</td>\n",
       "    </tr>\n",
       "    <tr>\n",
       "      <th>354</th>\n",
       "      <td>Volusia</td>\n",
       "      <td>YES</td>\n",
       "      <td>66.0</td>\n",
       "      <td>65-74 years</td>\n",
       "      <td>Male</td>\n",
       "      <td>2020-07-15</td>\n",
       "    </tr>\n",
       "    <tr>\n",
       "      <th>...</th>\n",
       "      <td>...</td>\n",
       "      <td>...</td>\n",
       "      <td>...</td>\n",
       "      <td>...</td>\n",
       "      <td>...</td>\n",
       "      <td>...</td>\n",
       "    </tr>\n",
       "    <tr>\n",
       "      <th>278541</th>\n",
       "      <td>Dade</td>\n",
       "      <td>YES</td>\n",
       "      <td>85.0</td>\n",
       "      <td>85+ years</td>\n",
       "      <td>Female</td>\n",
       "      <td>2020-05-05</td>\n",
       "    </tr>\n",
       "    <tr>\n",
       "      <th>278542</th>\n",
       "      <td>Dade</td>\n",
       "      <td>YES</td>\n",
       "      <td>92.0</td>\n",
       "      <td>85+ years</td>\n",
       "      <td>Male</td>\n",
       "      <td>2020-05-05</td>\n",
       "    </tr>\n",
       "    <tr>\n",
       "      <th>278545</th>\n",
       "      <td>Dade</td>\n",
       "      <td>YES</td>\n",
       "      <td>81.0</td>\n",
       "      <td>75-84 years</td>\n",
       "      <td>Male</td>\n",
       "      <td>2020-05-05</td>\n",
       "    </tr>\n",
       "    <tr>\n",
       "      <th>278573</th>\n",
       "      <td>Lee</td>\n",
       "      <td>YES</td>\n",
       "      <td>72.0</td>\n",
       "      <td>65-74 years</td>\n",
       "      <td>Male</td>\n",
       "      <td>2020-05-05</td>\n",
       "    </tr>\n",
       "    <tr>\n",
       "      <th>278577</th>\n",
       "      <td>Dade</td>\n",
       "      <td>YES</td>\n",
       "      <td>89.0</td>\n",
       "      <td>85+ years</td>\n",
       "      <td>Male</td>\n",
       "      <td>2020-05-05</td>\n",
       "    </tr>\n",
       "  </tbody>\n",
       "</table>\n",
       "<p>12158 rows × 6 columns</p>\n",
       "</div>"
      ],
      "text/plain": [
       "          County Hospitalized   Age    Age_group  Gender       Date\n",
       "11       Broward          YES  59.0  55-64 years  Female 2020-07-15\n",
       "13      Escambia          YES  60.0  55-64 years    Male 2020-07-15\n",
       "144       Putnam          YES  66.0  65-74 years    Male 2020-07-15\n",
       "215         Dade          YES  43.0  35-44 years    Male 2020-07-15\n",
       "354      Volusia          YES  66.0  65-74 years    Male 2020-07-15\n",
       "...          ...          ...   ...          ...     ...        ...\n",
       "278541      Dade          YES  85.0    85+ years  Female 2020-05-05\n",
       "278542      Dade          YES  92.0    85+ years    Male 2020-05-05\n",
       "278545      Dade          YES  81.0  75-84 years    Male 2020-05-05\n",
       "278573       Lee          YES  72.0  65-74 years    Male 2020-05-05\n",
       "278577      Dade          YES  89.0    85+ years    Male 2020-05-05\n",
       "\n",
       "[12158 rows x 6 columns]"
      ]
     },
     "execution_count": 44,
     "metadata": {},
     "output_type": "execute_result"
    }
   ],
   "source": [
    "#Divide hospitalization case date data in two groups of data prior to reopening and after reopening and create new dataframe\n",
    "\n",
    "#Convert Date to datetime \n",
    "\n",
    "sec_hosp_data_df['Date'] = pd.to_datetime(sec_hosp_data_df[\"Date\"], format =\"%Y-%m-%d\")\n",
    "\n",
    "After_start_date = \"2020-05-04\"\n",
    "After_end_date = '2020-07-15'\n",
    "\n",
    "mask = (sec_hosp_data_df['Date'] > After_start_date) & (sec_hosp_data_df['Date'] <= After_end_date)\n",
    "\n",
    "hosp_filter_df_new1 = sec_hosp_data_df.loc[mask]\n",
    "hosp_filter_df_new1"
   ]
  },
  {
   "cell_type": "code",
   "execution_count": 45,
   "metadata": {},
   "outputs": [
    {
     "data": {
      "image/png": "[encoded data removed]",
      "text/plain": [
       "<Figure size 1440x1080 with 1 Axes>"
      ]
     },
     "metadata": {
      "needs_background": "light"
     },
     "output_type": "display_data"
    }
   ],
   "source": [
    "#Calculate hospitalization per county for after reopening \n",
    "\n",
    "#my_colors = ['r', 'g', 'b', 'k', 'y', 'm', 'c']  # red, green, blue, black, etc.\n",
    "#my_colormap = ListedColormap(my_colors)\n",
    "\n",
    "After_hosp_county = hosp_filter_df_new1[\"County\"].value_counts().plot(kind= \"barh\", figsize=(20, 15))\n",
    "\n",
    "#chart title\n",
    "plt.title(\"Total Hospitalization for each county after reopening\")\n",
    "plt.xlabel(\"County\")\n",
    "plt.ylabel(\"Number of Hospitalization\")\n",
    "\n",
    "plt.show()"
   ]
  },
  {
   "cell_type": "code",
   "execution_count": 46,
   "metadata": {},
   "outputs": [
    {
     "data": {
      "text/html": [
       "<div>\n",
       "<style scoped>\n",
       "    .dataframe tbody tr th:only-of-type {\n",
       "        vertical-align: middle;\n",
       "    }\n",
       "\n",
       "    .dataframe tbody tr th {\n",
       "        vertical-align: top;\n",
       "    }\n",
       "\n",
       "    .dataframe thead th {\n",
       "        text-align: right;\n",
       "    }\n",
       "</style>\n",
       "<table border=\"1\" class=\"dataframe\">\n",
       "  <thead>\n",
       "    <tr style=\"text-align: right;\">\n",
       "      <th></th>\n",
       "      <th>Total Hospitalized Before Reopening</th>\n",
       "      <th>Average Age</th>\n",
       "      <th>Median Age</th>\n",
       "    </tr>\n",
       "  </thead>\n",
       "  <tbody>\n",
       "    <tr>\n",
       "      <th>YES</th>\n",
       "      <td>7865</td>\n",
       "      <td>64.7years</td>\n",
       "      <td>67.0years</td>\n",
       "    </tr>\n",
       "  </tbody>\n",
       "</table>\n",
       "</div>"
      ],
      "text/plain": [
       "     Total Hospitalized Before Reopening Average Age Median Age\n",
       "YES                                 7865   64.7years  67.0years"
      ]
     },
     "execution_count": 46,
     "metadata": {},
     "output_type": "execute_result"
    }
   ],
   "source": [
    "#Average age of patients hospitalized before shut down\n",
    "\n",
    "Avg_hosp_count = hosp_filter_df_new[\"Hospitalized\"].value_counts()\n",
    "\n",
    "#Average age of patients hospitalized \n",
    "Average_age_new_df = hosp_filter_df_new['Age'].mean()\n",
    "Median_age_new_df = hosp_filter_df_new['Age'].median()\n",
    "\n",
    "hosp_age_new_df = pd.DataFrame({\"Total Hospitalized Before Reopening\": Avg_hosp_count, \n",
    "                      \"Average Age\": [Average_age_new_df], \"Median Age\": [Median_age_new_df]})\n",
    "\n",
    "hosp_age_new_df[\"Average Age\"] = hosp_age_new_df[\"Average Age\"].map(\"{0:,.3}years\".format)\n",
    "hosp_age_new_df[\"Median Age\"] = hosp_age_new_df[\"Median Age\"].map(\"{0:,.3}years\".format)\n",
    "hosp_age_new_df"
   ]
  },
  {
   "cell_type": "code",
   "execution_count": 47,
   "metadata": {},
   "outputs": [
    {
     "data": {
      "text/html": [
       "<div>\n",
       "<style scoped>\n",
       "    .dataframe tbody tr th:only-of-type {\n",
       "        vertical-align: middle;\n",
       "    }\n",
       "\n",
       "    .dataframe tbody tr th {\n",
       "        vertical-align: top;\n",
       "    }\n",
       "\n",
       "    .dataframe thead th {\n",
       "        text-align: right;\n",
       "    }\n",
       "</style>\n",
       "<table border=\"1\" class=\"dataframe\">\n",
       "  <thead>\n",
       "    <tr style=\"text-align: right;\">\n",
       "      <th></th>\n",
       "      <th>Total Hospitalized After Reopening</th>\n",
       "      <th>Average Age</th>\n",
       "      <th>Median Age</th>\n",
       "    </tr>\n",
       "  </thead>\n",
       "  <tbody>\n",
       "    <tr>\n",
       "      <th>YES</th>\n",
       "      <td>12158</td>\n",
       "      <td>61.2years</td>\n",
       "      <td>63.0years</td>\n",
       "    </tr>\n",
       "  </tbody>\n",
       "</table>\n",
       "</div>"
      ],
      "text/plain": [
       "     Total Hospitalized After Reopening Average Age Median Age\n",
       "YES                               12158   61.2years  63.0years"
      ]
     },
     "execution_count": 47,
     "metadata": {},
     "output_type": "execute_result"
    }
   ],
   "source": [
    "#Average age of patients hospitalized after reopening\n",
    "\n",
    "Avg_hosp_count1 = hosp_filter_df_new1[\"Hospitalized\"].value_counts()\n",
    "\n",
    "#Average age of patients hospitalized \n",
    "Average_age_new_df1 = hosp_filter_df_new1['Age'].mean()\n",
    "Median_age_new_df1 = hosp_filter_df_new1['Age'].median()\n",
    "\n",
    "\n",
    "hosp_age_new_df1 = pd.DataFrame({\"Total Hospitalized After Reopening\": Avg_hosp_count1, \n",
    "                      \"Average Age\": [Average_age_new_df1], \"Median Age\": [Median_age_new_df1]})\n",
    "\n",
    "hosp_age_new_df1[\"Average Age\"] = hosp_age_new_df1[\"Average Age\"].map(\"{0:,.3}years\".format)\n",
    "hosp_age_new_df1[\"Median Age\"] = hosp_age_new_df1[\"Median Age\"].map(\"{0:,.3}years\".format)\n",
    "hosp_age_new_df1"
   ]
  },
  {
   "cell_type": "markdown",
   "metadata": {},
   "source": [
    "# Conclusions"
   ]
  }
 ],
 "metadata": {
  "kernelspec": {
   "display_name": "Python 3",
   "language": "python",
   "name": "python3"
  },
  "language_info": {
   "codemirror_mode": {
    "name": "ipython",
    "version": 3
   },
   "file_extension": ".py",
   "mimetype": "text/x-python",
   "name": "python",
   "nbconvert_exporter": "python",
   "pygments_lexer": "ipython3",
   "version": "3.7.6"
  }
 },
 "nbformat": 4,
 "nbformat_minor": 4
}
