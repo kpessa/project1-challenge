{
 "cells": [
  {
   "cell_type": "markdown",
   "metadata": {},
   "source": [
    "# Project 1\n",
    "- **Team Members**: Chika Ozodiegwu, Kelsey Wyatt, Libardo Lambrano, Kurt Pessa\n",
    "\n",
    "![](Images/florida_covid19_data.jpg)\n",
    "\n",
    "### Data set used:: \n",
    "* https://open-fdoh.hub.arcgis.com/datasets/florida-covid19-case-line-data\n"
   ]
  },
  {
   "cell_type": "markdown",
   "metadata": {},
   "source": [
    "##### Dependencies"
   ]
  },
  {
   "cell_type": "code",
   "execution_count": 34,
   "metadata": {},
   "outputs": [],
   "source": [
    "import step1_raw_data_collection as step1\n",
    "import step2_data_processing_and_cleaning as step2\n",
    "\n",
    "import pandas as pd\n",
    "import datetime as dt\n",
    "import matplotlib.pyplot as plt\n",
    "import matplotlib.dates as mdates\n",
    "import scipy.stats as stats"
   ]
  },
  {
   "cell_type": "markdown",
   "metadata": {},
   "source": [
    "# Process of Data Analysis\n",
    "![](Images/data_process.png)\n",
    "## Step 1: Raw Data Collection\n",
    "-----"
   ]
  },
  {
   "cell_type": "code",
   "execution_count": 2,
   "metadata": {},
   "outputs": [],
   "source": [
    "df = step1.get_data()\n",
    "#help(step1.get_data)"
   ]
  },
  {
   "cell_type": "markdown",
   "metadata": {},
   "source": [
    "## Step 2: Data Processing & Data Cleaning\n",
    "-----"
   ]
  },
  {
   "cell_type": "markdown",
   "metadata": {},
   "source": [
    "##### Single group"
   ]
  },
  {
   "cell_type": "code",
   "execution_count": 3,
   "metadata": {},
   "outputs": [
    {
     "data": {
      "text/html": [
       "<div>\n",
       "<style scoped>\n",
       "    .dataframe tbody tr th:only-of-type {\n",
       "        vertical-align: middle;\n",
       "    }\n",
       "\n",
       "    .dataframe tbody tr th {\n",
       "        vertical-align: top;\n",
       "    }\n",
       "\n",
       "    .dataframe thead th {\n",
       "        text-align: right;\n",
       "    }\n",
       "</style>\n",
       "<table border=\"1\" class=\"dataframe\">\n",
       "  <thead>\n",
       "    <tr style=\"text-align: right;\">\n",
       "      <th></th>\n",
       "      <th>Age_group</th>\n",
       "      <th>Hospitalized</th>\n",
       "    </tr>\n",
       "  </thead>\n",
       "  <tbody>\n",
       "    <tr>\n",
       "      <th>1</th>\n",
       "      <td>0-4 years</td>\n",
       "      <td>100</td>\n",
       "    </tr>\n",
       "    <tr>\n",
       "      <th>2</th>\n",
       "      <td>5-14 years</td>\n",
       "      <td>76</td>\n",
       "    </tr>\n",
       "    <tr>\n",
       "      <th>3</th>\n",
       "      <td>15-24 years</td>\n",
       "      <td>508</td>\n",
       "    </tr>\n",
       "    <tr>\n",
       "      <th>4</th>\n",
       "      <td>25-34 years</td>\n",
       "      <td>1313</td>\n",
       "    </tr>\n",
       "    <tr>\n",
       "      <th>5</th>\n",
       "      <td>35-44 years</td>\n",
       "      <td>1947</td>\n",
       "    </tr>\n",
       "    <tr>\n",
       "      <th>6</th>\n",
       "      <td>45-54 years</td>\n",
       "      <td>2788</td>\n",
       "    </tr>\n",
       "    <tr>\n",
       "      <th>7</th>\n",
       "      <td>55-64 years</td>\n",
       "      <td>3699</td>\n",
       "    </tr>\n",
       "    <tr>\n",
       "      <th>8</th>\n",
       "      <td>65-74 years</td>\n",
       "      <td>4037</td>\n",
       "    </tr>\n",
       "    <tr>\n",
       "      <th>9</th>\n",
       "      <td>75-84 years</td>\n",
       "      <td>3716</td>\n",
       "    </tr>\n",
       "    <tr>\n",
       "      <th>10</th>\n",
       "      <td>85+ years</td>\n",
       "      <td>2785</td>\n",
       "    </tr>\n",
       "  </tbody>\n",
       "</table>\n",
       "</div>"
      ],
      "text/plain": [
       "      Age_group  Hospitalized\n",
       "1     0-4 years           100\n",
       "2    5-14 years            76\n",
       "3   15-24 years           508\n",
       "4   25-34 years          1313\n",
       "5   35-44 years          1947\n",
       "6   45-54 years          2788\n",
       "7   55-64 years          3699\n",
       "8   65-74 years          4037\n",
       "9   75-84 years          3716\n",
       "10    85+ years          2785"
      ]
     },
     "execution_count": 3,
     "metadata": {},
     "output_type": "execute_result"
    }
   ],
   "source": [
    "#df = step2.get_hospitalized_data()\n",
    "#df = step2.get_df_with_datetime_and_formatted_column()\n",
    "#df = step2.get_hospitalizations_by_casedatetime()\n",
    "\n",
    "#group_name = \"Gender\"\n",
    "group_name = \"Age_group\"\n",
    "#group_name = \"Travel_related\"\n",
    "#group_name = \"Jurisdiction\"\n",
    "#group_name = \"County\"\n",
    "\n",
    "df = step2.get_group(group_name)\n",
    "df\n"
   ]
  },
  {
   "cell_type": "markdown",
   "metadata": {},
   "source": [
    "##### Two groups: before and after opening"
   ]
  },
  {
   "cell_type": "code",
   "execution_count": 4,
   "metadata": {},
   "outputs": [],
   "source": [
    "df1, df2 = step2.get_groups_before_and_after_opening_date(opening_date = dt.datetime(2020,5,4), day_delta = 30)\n",
    "#df1, df2 = step2.get_groups_by_casedatetime()\n",
    "\n",
    "group_name = \"Gender\"\n",
    "#group_name = \"Age_group\"\n",
    "#group_name = \"Travel_related\"\n",
    "#group_name = \"Jurisdiction\"\n",
    "#group_name = \"County\"\n",
    "\n",
    "df1,df2 = step2.get_groups(group_name)\n",
    "\n",
    "#df1"
   ]
  },
  {
   "cell_type": "markdown",
   "metadata": {},
   "source": [
    "### Before Opening"
   ]
  },
  {
   "cell_type": "code",
   "execution_count": 5,
   "metadata": {},
   "outputs": [
    {
     "data": {
      "text/html": [
       "<div>\n",
       "<style scoped>\n",
       "    .dataframe tbody tr th:only-of-type {\n",
       "        vertical-align: middle;\n",
       "    }\n",
       "\n",
       "    .dataframe tbody tr th {\n",
       "        vertical-align: top;\n",
       "    }\n",
       "\n",
       "    .dataframe thead th {\n",
       "        text-align: right;\n",
       "    }\n",
       "</style>\n",
       "<table border=\"1\" class=\"dataframe\">\n",
       "  <thead>\n",
       "    <tr style=\"text-align: right;\">\n",
       "      <th></th>\n",
       "      <th>Gender</th>\n",
       "      <th>Hospitalized</th>\n",
       "    </tr>\n",
       "  </thead>\n",
       "  <tbody>\n",
       "    <tr>\n",
       "      <th>0</th>\n",
       "      <td>Female</td>\n",
       "      <td>2513</td>\n",
       "    </tr>\n",
       "    <tr>\n",
       "      <th>1</th>\n",
       "      <td>Male</td>\n",
       "      <td>2745</td>\n",
       "    </tr>\n",
       "  </tbody>\n",
       "</table>\n",
       "</div>"
      ],
      "text/plain": [
       "   Gender  Hospitalized\n",
       "0  Female          2513\n",
       "1    Male          2745"
      ]
     },
     "execution_count": 5,
     "metadata": {},
     "output_type": "execute_result"
    }
   ],
   "source": [
    "df1"
   ]
  },
  {
   "cell_type": "markdown",
   "metadata": {},
   "source": [
    "### After Opening"
   ]
  },
  {
   "cell_type": "code",
   "execution_count": 6,
   "metadata": {},
   "outputs": [
    {
     "data": {
      "text/html": [
       "<div>\n",
       "<style scoped>\n",
       "    .dataframe tbody tr th:only-of-type {\n",
       "        vertical-align: middle;\n",
       "    }\n",
       "\n",
       "    .dataframe tbody tr th {\n",
       "        vertical-align: top;\n",
       "    }\n",
       "\n",
       "    .dataframe thead th {\n",
       "        text-align: right;\n",
       "    }\n",
       "</style>\n",
       "<table border=\"1\" class=\"dataframe\">\n",
       "  <thead>\n",
       "    <tr style=\"text-align: right;\">\n",
       "      <th></th>\n",
       "      <th>Gender</th>\n",
       "      <th>Hospitalized</th>\n",
       "    </tr>\n",
       "  </thead>\n",
       "  <tbody>\n",
       "    <tr>\n",
       "      <th>0</th>\n",
       "      <td>Female</td>\n",
       "      <td>1772</td>\n",
       "    </tr>\n",
       "    <tr>\n",
       "      <th>1</th>\n",
       "      <td>Male</td>\n",
       "      <td>1717</td>\n",
       "    </tr>\n",
       "  </tbody>\n",
       "</table>\n",
       "</div>"
      ],
      "text/plain": [
       "   Gender  Hospitalized\n",
       "0  Female          1772\n",
       "1    Male          1717"
      ]
     },
     "execution_count": 6,
     "metadata": {},
     "output_type": "execute_result"
    }
   ],
   "source": [
    "df2"
   ]
  },
  {
   "cell_type": "code",
   "execution_count": 8,
   "metadata": {},
   "outputs": [
    {
     "data": {
      "text/html": [
       "<div>\n",
       "<style scoped>\n",
       "    .dataframe tbody tr th:only-of-type {\n",
       "        vertical-align: middle;\n",
       "    }\n",
       "\n",
       "    .dataframe tbody tr th {\n",
       "        vertical-align: top;\n",
       "    }\n",
       "\n",
       "    .dataframe thead th {\n",
       "        text-align: right;\n",
       "    }\n",
       "</style>\n",
       "<table border=\"1\" class=\"dataframe\">\n",
       "  <thead>\n",
       "    <tr style=\"text-align: right;\">\n",
       "      <th></th>\n",
       "      <th>ObjectId</th>\n",
       "      <th>County</th>\n",
       "      <th>Age</th>\n",
       "      <th>Age_group</th>\n",
       "      <th>Gender</th>\n",
       "      <th>Jurisdiction</th>\n",
       "      <th>Travel_related</th>\n",
       "      <th>Hospitalized</th>\n",
       "      <th>Case1</th>\n",
       "    </tr>\n",
       "  </thead>\n",
       "  <tbody>\n",
       "    <tr>\n",
       "      <th>0</th>\n",
       "      <td>1</td>\n",
       "      <td>Hillsborough</td>\n",
       "      <td>24.0</td>\n",
       "      <td>15-24 years</td>\n",
       "      <td>Female</td>\n",
       "      <td>FL resident</td>\n",
       "      <td>No</td>\n",
       "      <td>NO</td>\n",
       "      <td>2020/06/05 05:00:00+00</td>\n",
       "    </tr>\n",
       "    <tr>\n",
       "      <th>1</th>\n",
       "      <td>2</td>\n",
       "      <td>Palm Beach</td>\n",
       "      <td>78.0</td>\n",
       "      <td>75-84 years</td>\n",
       "      <td>Female</td>\n",
       "      <td>FL resident</td>\n",
       "      <td>No</td>\n",
       "      <td>NO</td>\n",
       "      <td>2020/06/12 05:00:00+00</td>\n",
       "    </tr>\n",
       "    <tr>\n",
       "      <th>2</th>\n",
       "      <td>3</td>\n",
       "      <td>Bay</td>\n",
       "      <td>56.0</td>\n",
       "      <td>55-64 years</td>\n",
       "      <td>Male</td>\n",
       "      <td>FL resident</td>\n",
       "      <td>Yes</td>\n",
       "      <td>UNKNOWN</td>\n",
       "      <td>2020/06/10 05:00:00+00</td>\n",
       "    </tr>\n",
       "    <tr>\n",
       "      <th>3</th>\n",
       "      <td>4</td>\n",
       "      <td>Osceola</td>\n",
       "      <td>24.0</td>\n",
       "      <td>15-24 years</td>\n",
       "      <td>Male</td>\n",
       "      <td>FL resident</td>\n",
       "      <td>No</td>\n",
       "      <td>NO</td>\n",
       "      <td>2020/06/10 05:00:00+00</td>\n",
       "    </tr>\n",
       "    <tr>\n",
       "      <th>4</th>\n",
       "      <td>5</td>\n",
       "      <td>Dade</td>\n",
       "      <td>30.0</td>\n",
       "      <td>25-34 years</td>\n",
       "      <td>Female</td>\n",
       "      <td>FL resident</td>\n",
       "      <td>No</td>\n",
       "      <td>NO</td>\n",
       "      <td>2020/06/10 05:00:00+00</td>\n",
       "    </tr>\n",
       "  </tbody>\n",
       "</table>\n",
       "</div>"
      ],
      "text/plain": [
       "   ObjectId        County   Age    Age_group  Gender Jurisdiction  \\\n",
       "0         1  Hillsborough  24.0  15-24 years  Female  FL resident   \n",
       "1         2    Palm Beach  78.0  75-84 years  Female  FL resident   \n",
       "2         3           Bay  56.0  55-64 years    Male  FL resident   \n",
       "3         4       Osceola  24.0  15-24 years    Male  FL resident   \n",
       "4         5          Dade  30.0  25-34 years  Female  FL resident   \n",
       "\n",
       "  Travel_related Hospitalized                   Case1  \n",
       "0             No           NO  2020/06/05 05:00:00+00  \n",
       "1             No           NO  2020/06/12 05:00:00+00  \n",
       "2            Yes      UNKNOWN  2020/06/10 05:00:00+00  \n",
       "3             No           NO  2020/06/10 05:00:00+00  \n",
       "4             No           NO  2020/06/10 05:00:00+00  "
      ]
     },
     "execution_count": 8,
     "metadata": {},
     "output_type": "execute_result"
    }
   ],
   "source": [
    "#clean csv\n",
    "df = step1.get_data()\n",
    "new_csv_data_df = df[['ObjectId', \"County\",'Age',\"Age_group\", \"Gender\", \"Jurisdiction\", \"Travel_related\", \"Hospitalized\",\"Case1\"]]\n",
    "new_csv_data_df.head()"
   ]
  },
  {
   "cell_type": "code",
   "execution_count": 9,
   "metadata": {},
   "outputs": [],
   "source": [
    "#new_csv_data_df.to_csv(new_csv_data_df, 'new_cleaned_data.csv')\n",
    "\n",
    "new_csv_data_df.to_csv (\"new_covid_dataframe.csv\") # index = False, header=True)"
   ]
  },
  {
   "cell_type": "markdown",
   "metadata": {},
   "source": [
    "# COVID-19\n",
    "---------\n",
    "<table align=\"left\">\n",
    "<tr align=\"left\">\n",
    "<th width=\"15%\">\n",
    "<img src=Images/magnifying_glass.png align=\"left\">\n",
    "\n",
    "<th align=\"left\"> \n",
    "<p align=\"left\" style=\"font-size:18px\"> Decided to look at hospitalizations!\n",
    "<ol align=\"left\" style=\"font-style:normal;font-family:arial;font-size:14px;\">\n",
    "<li align=\"left\" style=\"margin:15px 0\"> Testing agnostic\n",
    "<li align=\"left\" style=\"margin:15px 0\"> Can indicate:\n",
    "    <ol style=\"margin:10px 0\">\n",
    "        <li style=\"margin:10px 0\"> Case burden\n",
    "        <li style=\"margin:10px 0\"> Financial impact\n",
    "        <li style=\"margin:10px 0\"> Severity of cases\n"
   ]
  },
  {
   "cell_type": "code",
   "execution_count": 41,
   "metadata": {},
   "outputs": [
    {
     "data": {
      "text/plain": [
       "Text(0.5, 0, 'Date')"
      ]
     },
     "execution_count": 41,
     "metadata": {},
     "output_type": "execute_result"
    },
    {
     "data": {
      "image/png": "[encoded data removed]",
      "text/plain": [
       "<Figure size 720x288 with 1 Axes>"
      ]
     },
     "metadata": {
      "needs_background": "light"
     },
     "output_type": "display_data"
    }
   ],
   "source": [
    "df = step2.get_hospitalizations_by_casedatetime()\n",
    "#df2 = df.groupby(pd.Grouper(freq='W',key='CaseDateTime')).sum()\n",
    "plt.figure(figsize=(10,4))\n",
    "plt.scatter(df['CaseDateTime'],df['Hospitalized'])\n",
    "plt.title(\"Hospitalization in Florida\")\n",
    "plt.ylabel(\"Hospitalized\")\n",
    "plt.xlim((dt.date(2020,3,1),dt.date(2020,8,1)))\n",
    "\n",
    "locator = mdates.AutoDateLocator(minticks=3, maxticks=7)\n",
    "formatter = mdates.ConciseDateFormatter(locator)\n",
    "#formatter = mdates.DateFormatter(\"%m/%d\")\n",
    "ax = plt.gca()\n",
    "ax.xaxis.set_major_formatter(formatter)\n",
    "#plt.xticks(rotation=45)\n",
    "plt.xlabel(\"Date\")"
   ]
  },
  {
   "cell_type": "markdown",
   "metadata": {},
   "source": [
    "### Research Question to Answer:\n",
    "* “Has hospitalizations changed since reopening?” "
   ]
  },
  {
   "cell_type": "markdown",
   "metadata": {},
   "source": [
    "#### 1. Identify\n",
    "- **Populations** (divide Hospitalization data in two groups of data):\n",
    "    1. Prior to opening\n",
    "    2. After opening  \n",
    "* Decide on the **date**:\n",
    "    * May 4th - restaurants opening to 25% capacity\n",
    "* Pick sample size:\n",
    "    * Decided on **30 days** before and after"
   ]
  },
  {
   "cell_type": "code",
   "execution_count": 45,
   "metadata": {},
   "outputs": [
    {
     "data": {
      "image/png": "[encoded data removed]",
      "text/plain": [
       "<Figure size 720x432 with 1 Axes>"
      ]
     },
     "metadata": {
      "needs_background": "light"
     },
     "output_type": "display_data"
    }
   ],
   "source": [
    "df = step2.get_hospitalizations_by_casedatetime()\n",
    "\n",
    "filt1 = (df['CaseDateTime'] >= (dt.datetime(2020,5,4)-dt.timedelta(days=30)))\n",
    "filt2 = (df['CaseDateTime'] <= (dt.datetime(2020,5,4)+dt.timedelta(days=30)))\n",
    "filt = (filt1 & filt2)\n",
    "df = df[filt]\n",
    "plt.figure(figsize=(10,6))\n",
    "plt.scatter(df['CaseDateTime'],df[\"Hospitalized\"])\n",
    "plt.xlim((dt.datetime(2020,5,4)-dt.timedelta(days=32)),(dt.datetime(2020,5,4)+dt.timedelta(days=32)))\n",
    "plt.vlines(dt.datetime(2020,5,4), 0, 270, linestyles =\"dotted\", colors =\"k\") \n",
    "plt.annotate(\"Florida reopens\", (dt.datetime(2020,5,5),250))\n",
    "plt.title(\"Hospitalizations in Florida before and after reopening\")\n",
    "plt.ylabel(\"New Hospitalizations\")\n",
    "plt.xlabel(\"Date\")\n",
    "locator = mdates.AutoDateLocator(minticks=3, maxticks=7)\n",
    "formatter = mdates.ConciseDateFormatter(locator)\n",
    "ax = plt.gca()\n",
    "ax.xaxis.set_major_formatter(formatter)\n",
    "plt.savefig(\"Images/hospitalizations_before_and_after_reopening.png\")\n",
    "plt.show()"
   ]
  },
  {
   "cell_type": "markdown",
   "metadata": {},
   "source": [
    "#### 2. State the hypotheses\n",
    "- **H0**: There is no change in hospitalizations after Florida has reopened\n",
    "- **H1**: There is a change in hospitalizations after Florida has reopened"
   ]
  },
  {
   "cell_type": "markdown",
   "metadata": {},
   "source": [
    "#### 3. Characteristics of the comparison distribution\n",
    "- Population means, standard deviations"
   ]
  },
  {
   "cell_type": "code",
   "execution_count": 1,
   "metadata": {},
   "outputs": [
    {
     "ename": "NameError",
     "evalue": "name 'step2' is not defined",
     "output_type": "error",
     "traceback": [
      "\u001b[1;31m---------------------------------------------------------------------------\u001b[0m",
      "\u001b[1;31mNameError\u001b[0m                                 Traceback (most recent call last)",
      "\u001b[1;32m<ipython-input-1-f8316a4fa2c0>\u001b[0m in \u001b[0;36m<module>\u001b[1;34m\u001b[0m\n\u001b[1;32m----> 1\u001b[1;33m \u001b[0mdf1\u001b[0m\u001b[1;33m,\u001b[0m \u001b[0mdf2\u001b[0m \u001b[1;33m=\u001b[0m \u001b[0mstep2\u001b[0m\u001b[1;33m.\u001b[0m\u001b[0mget_groups\u001b[0m\u001b[1;33m(\u001b[0m\u001b[0mgroup_name\u001b[0m \u001b[1;33m=\u001b[0m \u001b[1;34m\"CaseDateTime\"\u001b[0m\u001b[1;33m,\u001b[0m \u001b[0mopening_date\u001b[0m \u001b[1;33m=\u001b[0m \u001b[0mdt\u001b[0m\u001b[1;33m.\u001b[0m\u001b[0mdatetime\u001b[0m\u001b[1;33m(\u001b[0m\u001b[1;36m2020\u001b[0m\u001b[1;33m,\u001b[0m\u001b[1;36m5\u001b[0m\u001b[1;33m,\u001b[0m\u001b[1;36m4\u001b[0m\u001b[1;33m)\u001b[0m\u001b[1;33m,\u001b[0m \u001b[0mday_delta\u001b[0m \u001b[1;33m=\u001b[0m \u001b[1;36m30\u001b[0m\u001b[1;33m,\u001b[0m \u001b[0mopening_day_shift\u001b[0m \u001b[1;33m=\u001b[0m \u001b[1;36m0\u001b[0m\u001b[1;33m)\u001b[0m\u001b[1;33m\u001b[0m\u001b[1;33m\u001b[0m\u001b[0m\n\u001b[0m\u001b[0;32m      2\u001b[0m \u001b[0msample1\u001b[0m \u001b[1;33m=\u001b[0m \u001b[0mdf1\u001b[0m\u001b[1;33m[\u001b[0m\u001b[1;34m'Hospitalized'\u001b[0m\u001b[1;33m]\u001b[0m\u001b[1;33m\u001b[0m\u001b[1;33m\u001b[0m\u001b[0m\n\u001b[0;32m      3\u001b[0m \u001b[0msample2\u001b[0m \u001b[1;33m=\u001b[0m \u001b[0mdf2\u001b[0m\u001b[1;33m[\u001b[0m\u001b[1;34m'Hospitalized'\u001b[0m\u001b[1;33m]\u001b[0m\u001b[1;33m\u001b[0m\u001b[1;33m\u001b[0m\u001b[0m\n\u001b[0;32m      4\u001b[0m pd.DataFrame({\n\u001b[0;32m      5\u001b[0m     \u001b[1;34m\"Before Opening:\"\u001b[0m\u001b[1;33m:\u001b[0m \u001b[0msample1\u001b[0m\u001b[1;33m.\u001b[0m\u001b[0mdescribe\u001b[0m\u001b[1;33m(\u001b[0m\u001b[1;33m)\u001b[0m\u001b[1;33m,\u001b[0m\u001b[1;33m\u001b[0m\u001b[1;33m\u001b[0m\u001b[0m\n",
      "\u001b[1;31mNameError\u001b[0m: name 'step2' is not defined"
     ]
    }
   ],
   "source": [
    "df1, df2 = step2.get_groups(group_name = \"CaseDateTime\", opening_date = dt.datetime(2020,5,4), day_delta = 30, opening_day_shift = 0)\n",
    "sample1 = df1['Hospitalized']\n",
    "sample2 = df2['Hospitalized']\n",
    "pd.DataFrame({\n",
    "    \"Before Opening:\": sample1.describe(),\n",
    "    \"After Opening\": sample2.describe()\n",
    "}).style.format(\"{:.1f}\")\n"
   ]
  },
  {
   "cell_type": "code",
   "execution_count": 56,
   "metadata": {},
   "outputs": [
    {
     "data": {
      "image/png": "[encoded data removed]",
      "text/plain": [
       "<Figure size 720x432 with 1 Axes>"
      ]
     },
     "metadata": {
      "needs_background": "light"
     },
     "output_type": "display_data"
    }
   ],
   "source": [
    "df = step2.get_hospitalizations_by_casedatetime()\n",
    "\n",
    "filt1 = (df['CaseDateTime'] >= (dt.datetime(2020,5,4)-dt.timedelta(days=30)))\n",
    "filt2 = (df['CaseDateTime'] <= (dt.datetime(2020,5,4)+dt.timedelta(days=30)))\n",
    "filt = (filt1 & filt2)\n",
    "df = df[filt]\n",
    "plt.figure(figsize=(10,6))\n",
    "plt.scatter(df['CaseDateTime'],df[\"Hospitalized\"])\n",
    "plt.xlim((dt.datetime(2020,5,4)-dt.timedelta(days=32)),(dt.datetime(2020,5,4)+dt.timedelta(days=32)))\n",
    "plt.vlines(dt.datetime(2020,5,4), 0, 270, linestyles =\"dotted\", colors =\"k\") \n",
    "plt.annotate(\"Florida reopens\", (dt.datetime(2020,5,5),250))\n",
    "plt.title(\"Hospitalizations in Florida before and after reopening\")\n",
    "plt.ylabel(\"New Hospitalizations\")\n",
    "plt.xlabel(\"Date\")\n",
    "plt.hlines(175.3,dt.datetime(2020,5,4)-dt.timedelta(days=32),dt.datetime(2020,5,4), linestyles=\"dotted\",colors='k',alpha=0.5)\n",
    "plt.annotate(\"mean = 175.3\", (dt.datetime(2020,4,6),130))\n",
    "plt.hlines(116.3,dt.datetime(2020,5,4)+dt.timedelta(days=32),dt.datetime(2020,5,4), linestyles=\"dotted\",colors='k',alpha=0.5)\n",
    "plt.annotate(\"mean = 116.3\", (dt.datetime(2020,5,15),50))\n",
    "plt.xticks(rotation=45)\n",
    "plt.savefig(\"Images/hospitalizations_before_and_after_reopening_with_means.png\")\n",
    "plt.show()"
   ]
  },
  {
   "cell_type": "code",
   "execution_count": 50,
   "metadata": {},
   "outputs": [
    {
     "data": {
      "image/png": "[encoded data removed]",
      "text/plain": [
       "<Figure size 720x432 with 2 Axes>"
      ]
     },
     "metadata": {
      "needs_background": "light"
     },
     "output_type": "display_data"
    }
   ],
   "source": [
    "# Scatter Plot of Data\n",
    "plt.figure(figsize=(10,6))\n",
    "plt.subplot(2, 1, 1)\n",
    "plt.scatter(range(len(sample1)), sample1, label=\"before\")\n",
    "plt.scatter(range(len(sample2)), sample2, label=\"after\")\n",
    "plt.legend()\n",
    "\n",
    "# Histogram Plot of Data\n",
    "plt.subplot(2, 1, 2)\n",
    "plt.hist(sample1, 20, density=True, alpha=0.7, label=\"before\")\n",
    "plt.hist(sample2, 20, density=True, alpha=0.7, label=\"after\")\n",
    "plt.axvline(sample1.mean(), color='k', linestyle='dashed', linewidth=1)\n",
    "plt.axvline(sample2.mean(), color='k', linestyle='dashed', linewidth=1)\n",
    "plt.legend()  \n",
    "plt.savefig(\"Images/before_and_after_histogram.png\")\n",
    "plt.show()"
   ]
  },
  {
   "cell_type": "markdown",
   "metadata": {},
   "source": [
    "#### 4. Critical values\n",
    "- p = 0.05\n",
    "- Our hypothesis is nondirectional so our hypothesis test is **two-tailed**"
   ]
  },
  {
   "cell_type": "markdown",
   "metadata": {},
   "source": [
    "#### 5. Calculate"
   ]
  },
  {
   "cell_type": "code",
   "execution_count": 27,
   "metadata": {},
   "outputs": [
    {
     "name": "stdout",
     "output_type": "stream",
     "text": [
      "p-value: 0.00000026\n"
     ]
    }
   ],
   "source": [
    "statistic, pvalue = stats.ttest_ind_from_stats(sample1.mean(),sample1.std(),sample1.size,sample2.mean(),sample2.std(),sample2.size)\n",
    "print(f\"p-value: {pvalue:.8f}\")"
   ]
  },
  {
   "cell_type": "markdown",
   "metadata": {},
   "source": [
    "#### 6. Decide\n",
    "- We are able to reject the null hypothesis that there was no change.  With the data set we analyzed, there was a significant change from before to after reopening in Florida."
   ]
  },
  {
   "cell_type": "markdown",
   "metadata": {},
   "source": [
    "## Part 2: Visualization\n",
    "-------------"
   ]
  },
  {
   "cell_type": "code",
   "execution_count": 55,
   "metadata": {},
   "outputs": [
    {
     "data": {
      "text/html": [
       "<style  type=\"text/css\" >\n",
       "</style><table id=\"T_a281826c_ccfc_11ea_9cad_4889e7427a24\" ><thead>    <tr>        <th class=\"blank level0\" ></th>        <th class=\"col_heading level0 col0\" >Total Number of Cases</th>    </tr></thead><tbody>\n",
       "                <tr>\n",
       "                        <th id=\"T_a281826c_ccfc_11ea_9cad_4889e7427a24level0_row0\" class=\"row_heading level0 row0\" >0</th>\n",
       "                        <td id=\"T_a281826c_ccfc_11ea_9cad_4889e7427a24row0_col0\" class=\"data row0 col0\" >337,569</td>\n",
       "            </tr>\n",
       "    </tbody></table>"
      ],
      "text/plain": [
       "<pandas.io.formats.style.Styler at 0x1eeb4e7e748>"
      ]
     },
     "execution_count": 55,
     "metadata": {},
     "output_type": "execute_result"
    }
   ],
   "source": [
    "#Calculate total number of cases \n",
    "Total_covid_cases = new_csv_data_df[\"ObjectId\"].nunique()\n",
    "Total_covid_cases = pd.DataFrame({\"Total Number of Cases\": [Total_covid_cases]}).style.format({\"Total Number of Cases\":\"{:,}\"})\n",
    "Total_covid_cases"
   ]
  },
  {
   "cell_type": "markdown",
   "metadata": {},
   "source": [
    "### Top 10 counties with the most cases \n",
    "![](Images/top_counties.png)"
   ]
  },
  {
   "cell_type": "code",
   "execution_count": null,
   "metadata": {},
   "outputs": [],
   "source": [
    "#Total number of hospitalization for all counties (Libardo)"
   ]
  },
  {
   "cell_type": "code",
   "execution_count": null,
   "metadata": {},
   "outputs": [],
   "source": [
    "#Total number of hospitalization for each county and put in DataFrame # Create a visualization (Kelsey)\n"
   ]
  },
  {
   "cell_type": "code",
   "execution_count": null,
   "metadata": {},
   "outputs": [],
   "source": [
    "#Percentage of hospitalization by gender # Create Visualization (Libardo)\n",
    "\n",
    "df = step2.get_df_with_datetime_and_formatted_column()\n",
    "filt = df['Gender']=='Male'\n",
    "df = df[filt]\n",
    "df = step2.get_hospitalizations_by_casedatetime(df)\n",
    "male_by_week = df.groupby(pd.Grouper(freq='W',key='CaseDateTime')).sum()\n",
    "\n",
    "df = step2.get_df_with_datetime_and_formatted_column()\n",
    "filt = df['Gender']=='Female'\n",
    "df = df[filt]\n",
    "df = step2.get_hospitalizations_by_casedatetime(df)\n",
    "female_by_week = df.groupby(pd.Grouper(freq='W',key='CaseDateTime')).sum()\n",
    "\n",
    "male_perc = male_by_week['Hospitalized']/(male_by_week['Hospitalized']+female_by_week['Hospitalized'])*100\n",
    "female_perc = female_by_week['Hospitalized']/(male_by_week['Hospitalized']+female_by_week['Hospitalized'])*100"
   ]
  },
  {
   "cell_type": "code",
   "execution_count": null,
   "metadata": {},
   "outputs": [],
   "source": [
    "import matplotlib.pyplot as plt\n",
    "plt.figure(figsize=(8,6))\n",
    "p1 = plt.bar(male_perc.index,male_perc,width=5,label='male',alpha=0.5)\n",
    "p2 = plt.bar(female_perc.index,female_perc,bottom=male_perc,width=5,label='female',alpha=0.5)\n",
    "plt.hlines(y=50,xmin=male_perc.index[0],xmax=male_perc.index[-1],alpha=0.8)\n",
    "plt.ylabel('Scores')\n",
    "plt.legend(handles=[p1,p2])\n",
    "plt.show()"
   ]
  },
  {
   "cell_type": "code",
   "execution_count": null,
   "metadata": {},
   "outputs": [],
   "source": [
    "#Percentage of hospitalization by age group (Chika) #Create visualization"
   ]
  },
  {
   "cell_type": "code",
   "execution_count": null,
   "metadata": {},
   "outputs": [],
   "source": [
    "#Percentage of hospitalization before shut down (Not done yet) (Rephrase) (Chika)"
   ]
  },
  {
   "cell_type": "code",
   "execution_count": null,
   "metadata": {},
   "outputs": [],
   "source": [
    "#Percentage of hospitalization during shut down (backburner)"
   ]
  },
  {
   "cell_type": "code",
   "execution_count": null,
   "metadata": {},
   "outputs": [],
   "source": [
    "#Percentage of hospitalization after reopening(Not done yet) (Rephrase) (Chika)"
   ]
  },
  {
   "cell_type": "code",
   "execution_count": null,
   "metadata": {},
   "outputs": [],
   "source": [
    "#Compare travel-related hospitalization to non-travelrelated cases (Not done yet) (Chika)"
   ]
  },
  {
   "cell_type": "code",
   "execution_count": null,
   "metadata": {},
   "outputs": [],
   "source": [
    "#Average number of hospitalization by county (Not done yet) (Kelsey) "
   ]
  },
  {
   "cell_type": "markdown",
   "metadata": {},
   "source": [
    "#Hospitalization by case date/month (needs more) (Libardo) \n",
    "![](Images/hosp_by_case.png)"
   ]
  },
  {
   "cell_type": "code",
   "execution_count": null,
   "metadata": {},
   "outputs": [],
   "source": []
  }
 ],
 "metadata": {
  "kernelspec": {
   "display_name": "Python 3.6.10 64-bit ('PythonData': conda)",
   "language": "python",
   "name": "python361064bitpythondataconda13c33e7d00474160b8916212f83fb86d"
  },
  "language_info": {
   "codemirror_mode": {
    "name": "ipython",
    "version": 3
   },
   "file_extension": ".py",
   "mimetype": "text/x-python",
   "name": "python",
   "nbconvert_exporter": "python",
   "pygments_lexer": "ipython3",
   "version": "3.6.10"
  }
 },
 "nbformat": 4,
 "nbformat_minor": 4
}
