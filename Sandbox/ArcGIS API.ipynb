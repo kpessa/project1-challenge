{
 "cells": [
  {
   "cell_type": "code",
   "execution_count": 1,
   "metadata": {},
   "outputs": [
    {
     "name": "stdout",
     "output_type": "stream",
     "text": [
      "b'{\"access_token\":\"taxCD5zWq0O1omTIYFW_2Y1qBWzfL6ulSLko8rno0ZRVpBAzUNGLZz7xBpj4LLZUqKIZSF6-JuQoZUGxQdFGbEnsc_ZIFVXiekKKS8cggxLB82zh5YISewXKjY3cMU-3NLZmpJpL7Q2V6Qb4KeHjSA..\",\"expires_in\":7200}'\n"
     ]
    }
   ],
   "source": [
    "import requests\n",
    "\n",
    "url = \"https://www.arcgis.com/sharing/rest/oauth2/token\"\n",
    "\n",
    "payload = {'client_id': 'YYdrkhr0wfgU5f2v',\n",
    "'client_secret': 'a3cb5f77deac40669466d12dda0c76df',\n",
    "'grant_type': 'client_credentials',\n",
    "'expiration ': '8740800'}\n",
    "files = [\n",
    "\n",
    "]\n",
    "headers= {}\n",
    "\n",
    "response = requests.request(\"POST\", url, headers=headers, data = payload, files = files)\n",
    "\n",
    "print(response.text.encode('utf8'))"
   ]
  },
  {
   "cell_type": "code",
   "execution_count": null,
   "metadata": {},
   "outputs": [],
   "source": []
  }
 ],
 "metadata": {
  "kernelspec": {
   "display_name": "Python 3.6.10 64-bit ('PythonData': conda)",
   "language": "python",
   "name": "python361064bitpythondataconda13c33e7d00474160b8916212f83fb86d"
  },
  "language_info": {
   "codemirror_mode": {
    "name": "ipython",
    "version": 3
   },
   "file_extension": ".py",
   "mimetype": "text/x-python",
   "name": "python",
   "nbconvert_exporter": "python",
   "pygments_lexer": "ipython3",
   "version": "3.6.10"
  }
 },
 "nbformat": 4,
 "nbformat_minor": 4
}
