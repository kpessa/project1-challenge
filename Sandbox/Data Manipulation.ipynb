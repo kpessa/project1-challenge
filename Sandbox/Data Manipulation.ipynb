{
 "cells": [
  {
   "cell_type": "markdown",
   "metadata": {},
   "source": [
    "## Setup\n",
    "------------\n",
    "* Dependencies:"
   ]
  },
  {
   "cell_type": "code",
   "execution_count": 2,
   "metadata": {},
   "outputs": [],
   "source": [
    "import requests\n",
    "import pandas as pd\n",
    "import io\n",
    "import datetime as dt\n",
    "import numpy as np\n",
    "import matplotlib.pyplot as plt\n",
    "from IPython.display import JSON"
   ]
  },
  {
   "cell_type": "markdown",
   "metadata": {},
   "source": [
    "- requesting dataset from Florida Department of Health"
   ]
  },
  {
   "cell_type": "code",
   "execution_count": 3,
   "metadata": {},
   "outputs": [],
   "source": [
    "csv = requests.get(\"https://opendata.arcgis.com/datasets/37abda537d17458bae6677b8ab75fcb9_0.csv\").content\n",
    "main_df = pd.read_csv(io.StringIO(csv.decode('utf-8')))\n"
   ]
  },
  {
   "cell_type": "code",
   "execution_count": 4,
   "metadata": {},
   "outputs": [
    {
     "name": "stdout",
     "output_type": "stream",
     "text": [
      "('County', dtype('O'))\n",
      "('Age', dtype('float64'))\n",
      "('Age_group', dtype('O'))\n",
      "('Gender', dtype('O'))\n",
      "('Jurisdiction', dtype('O'))\n",
      "('Travel_related', dtype('O'))\n",
      "('Origin', dtype('O'))\n",
      "('EDvisit', dtype('O'))\n",
      "('Hospitalized', dtype('O'))\n",
      "('Died', dtype('O'))\n",
      "('Case_', dtype('O'))\n",
      "('Contact', dtype('O'))\n",
      "('Case1', dtype('O'))\n",
      "('EventDate', dtype('O'))\n",
      "('ChartDate', dtype('O'))\n",
      "('ObjectId', dtype('int64'))\n"
     ]
    }
   ],
   "source": [
    "for dtype in main_df.dtypes.iteritems():\n",
    "    print(dtype)"
   ]
  },
  {
   "cell_type": "markdown",
   "metadata": {},
   "source": [
    "1. Filtering out \"Hospitalizations\""
   ]
  },
  {
   "cell_type": "code",
   "execution_count": 9,
   "metadata": {},
   "outputs": [],
   "source": [
    "filt = main_df[\"Hospitalized\"] == \"YES\"\n",
    "df = main_df[filt]"
   ]
  },
  {
   "cell_type": "markdown",
   "metadata": {},
   "source": [
    "2. `EventDate` formatting / manipulation \n",
    "    - Typecasting 'EventDate' to datetime\n",
    "    - Creating a formatted 'EventDate' column that's easier to read\n",
    "    - Truncating hours, minutes and seconds"
   ]
  },
  {
   "cell_type": "code",
   "execution_count": 10,
   "metadata": {},
   "outputs": [
    {
     "name": "stderr",
     "output_type": "stream",
     "text": [
      "C:\\Users\\kpess\\anaconda3\\envs\\PythonData\\lib\\site-packages\\pandas\\core\\indexing.py:966: SettingWithCopyWarning: \n",
      "A value is trying to be set on a copy of a slice from a DataFrame.\n",
      "Try using .loc[row_indexer,col_indexer] = value instead\n",
      "\n",
      "See the caveats in the documentation: https://pandas.pydata.org/pandas-docs/stable/user_guide/indexing.html#returning-a-view-versus-a-copy\n",
      "  self.obj[item] = s\n",
      "C:\\Users\\kpess\\anaconda3\\envs\\PythonData\\lib\\site-packages\\pandas\\core\\indexing.py:845: SettingWithCopyWarning: \n",
      "A value is trying to be set on a copy of a slice from a DataFrame.\n",
      "Try using .loc[row_indexer,col_indexer] = value instead\n",
      "\n",
      "See the caveats in the documentation: https://pandas.pydata.org/pandas-docs/stable/user_guide/indexing.html#returning-a-view-versus-a-copy\n",
      "  self.obj[key] = _infer_fill_value(value)\n"
     ]
    }
   ],
   "source": [
    "df.loc[:,'EventDate'] = pd.to_datetime(df.loc[:,'EventDate'],format='%Y/%m/%d %H:%M:%S')\n",
    "df.loc[:,\"FormattedEventDate\"] = df.loc[:,\"EventDate\"].dt.strftime(\"%m/%d/%Y\")\n",
    "df.loc[:,\"EventDate\"] = pd.to_datetime(df.loc[:,\"FormattedEventDate\"],format='%m/%d/%Y')"
   ]
  },
  {
   "cell_type": "markdown",
   "metadata": {},
   "source": [
    "3. Grabbing the columns that are needed for analysis"
   ]
  },
  {
   "cell_type": "code",
   "execution_count": 11,
   "metadata": {},
   "outputs": [],
   "source": [
    "df = df.iloc[:,[0,1,2,3,7,8,9,13,16]]"
   ]
  },
  {
   "cell_type": "code",
   "execution_count": 12,
   "metadata": {},
   "outputs": [
    {
     "data": {
      "text/html": [
       "<div>\n",
       "<style scoped>\n",
       "    .dataframe tbody tr th:only-of-type {\n",
       "        vertical-align: middle;\n",
       "    }\n",
       "\n",
       "    .dataframe tbody tr th {\n",
       "        vertical-align: top;\n",
       "    }\n",
       "\n",
       "    .dataframe thead th {\n",
       "        text-align: right;\n",
       "    }\n",
       "</style>\n",
       "<table border=\"1\" class=\"dataframe\">\n",
       "  <thead>\n",
       "    <tr style=\"text-align: right;\">\n",
       "      <th></th>\n",
       "      <th>County</th>\n",
       "      <th>Age</th>\n",
       "      <th>Age_group</th>\n",
       "      <th>Gender</th>\n",
       "      <th>EDvisit</th>\n",
       "      <th>Hospitalized</th>\n",
       "      <th>Died</th>\n",
       "      <th>EventDate</th>\n",
       "      <th>FormattedEventDate</th>\n",
       "    </tr>\n",
       "  </thead>\n",
       "  <tbody>\n",
       "    <tr>\n",
       "      <th>40</th>\n",
       "      <td>Palm Beach</td>\n",
       "      <td>45.0</td>\n",
       "      <td>45-54 years</td>\n",
       "      <td>Male</td>\n",
       "      <td>YES</td>\n",
       "      <td>YES</td>\n",
       "      <td>NaN</td>\n",
       "      <td>2020-06-26</td>\n",
       "      <td>06/26/2020</td>\n",
       "    </tr>\n",
       "    <tr>\n",
       "      <th>50</th>\n",
       "      <td>Dade</td>\n",
       "      <td>67.0</td>\n",
       "      <td>65-74 years</td>\n",
       "      <td>Female</td>\n",
       "      <td>YES</td>\n",
       "      <td>YES</td>\n",
       "      <td>NaN</td>\n",
       "      <td>2020-06-29</td>\n",
       "      <td>06/29/2020</td>\n",
       "    </tr>\n",
       "    <tr>\n",
       "      <th>57</th>\n",
       "      <td>Volusia</td>\n",
       "      <td>95.0</td>\n",
       "      <td>85+ years</td>\n",
       "      <td>Female</td>\n",
       "      <td>YES</td>\n",
       "      <td>YES</td>\n",
       "      <td>NaN</td>\n",
       "      <td>2020-06-28</td>\n",
       "      <td>06/28/2020</td>\n",
       "    </tr>\n",
       "  </tbody>\n",
       "</table>\n",
       "</div>"
      ],
      "text/plain": [
       "        County   Age    Age_group  Gender EDvisit Hospitalized Died  \\\n",
       "40  Palm Beach  45.0  45-54 years    Male     YES          YES  NaN   \n",
       "50        Dade  67.0  65-74 years  Female     YES          YES  NaN   \n",
       "57     Volusia  95.0    85+ years  Female     YES          YES  NaN   \n",
       "\n",
       "    EventDate FormattedEventDate  \n",
       "40 2020-06-26         06/26/2020  \n",
       "50 2020-06-29         06/29/2020  \n",
       "57 2020-06-28         06/28/2020  "
      ]
     },
     "execution_count": 12,
     "metadata": {},
     "output_type": "execute_result"
    }
   ],
   "source": [
    "df.head(3)"
   ]
  },
  {
   "cell_type": "markdown",
   "metadata": {},
   "source": [
    "## Part 1: Data Manipulation\n",
    "---------------\n",
    "* Total number of hospitalizations"
   ]
  },
  {
   "cell_type": "code",
   "execution_count": 103,
   "metadata": {},
   "outputs": [
    {
     "data": {
      "text/html": [
       "<style  type=\"text/css\" >\n",
       "</style><table id=\"T_37c9b1da_c7ad_11ea_97db_4889e7427a24\" ><thead>    <tr>        <th class=\"blank level0\" ></th>        <th class=\"col_heading level0 col0\" >Total Hospitalizations (Florida)</th>    </tr></thead><tbody>\n",
       "                <tr>\n",
       "                        <th id=\"T_37c9b1da_c7ad_11ea_97db_4889e7427a24level0_row0\" class=\"row_heading level0 row0\" >0</th>\n",
       "                        <td id=\"T_37c9b1da_c7ad_11ea_97db_4889e7427a24row0_col0\" class=\"data row0 col0\" >20,154</td>\n",
       "            </tr>\n",
       "    </tbody></table>"
      ],
      "text/plain": [
       "<pandas.io.formats.style.Styler at 0x26d60022080>"
      ]
     },
     "execution_count": 103,
     "metadata": {},
     "output_type": "execute_result"
    }
   ],
   "source": [
    "pd.DataFrame({\n",
    "    \"Total Hospitalizations (Florida)\" : [df.shape[0]]\n",
    "}).style.format(\"{:,}\")"
   ]
  },
  {
   "cell_type": "markdown",
   "metadata": {},
   "source": [
    "* All Counties"
   ]
  },
  {
   "cell_type": "code",
   "execution_count": 97,
   "metadata": {},
   "outputs": [
    {
     "data": {
      "text/html": [
       "<div>\n",
       "<style scoped>\n",
       "    .dataframe tbody tr th:only-of-type {\n",
       "        vertical-align: middle;\n",
       "    }\n",
       "\n",
       "    .dataframe tbody tr th {\n",
       "        vertical-align: top;\n",
       "    }\n",
       "\n",
       "    .dataframe thead th {\n",
       "        text-align: right;\n",
       "    }\n",
       "</style>\n",
       "<table border=\"1\" class=\"dataframe\">\n",
       "  <thead>\n",
       "    <tr style=\"text-align: right;\">\n",
       "      <th></th>\n",
       "      <th>County</th>\n",
       "      <th>Hospitalized</th>\n",
       "    </tr>\n",
       "  </thead>\n",
       "  <tbody>\n",
       "    <tr>\n",
       "      <th>0</th>\n",
       "      <td>Alachua</td>\n",
       "      <td>115</td>\n",
       "    </tr>\n",
       "    <tr>\n",
       "      <th>1</th>\n",
       "      <td>Baker</td>\n",
       "      <td>22</td>\n",
       "    </tr>\n",
       "    <tr>\n",
       "      <th>2</th>\n",
       "      <td>Bay</td>\n",
       "      <td>59</td>\n",
       "    </tr>\n",
       "    <tr>\n",
       "      <th>3</th>\n",
       "      <td>Bradford</td>\n",
       "      <td>19</td>\n",
       "    </tr>\n",
       "    <tr>\n",
       "      <th>4</th>\n",
       "      <td>Brevard</td>\n",
       "      <td>250</td>\n",
       "    </tr>\n",
       "    <tr>\n",
       "      <th>...</th>\n",
       "      <td>...</td>\n",
       "      <td>...</td>\n",
       "    </tr>\n",
       "    <tr>\n",
       "      <th>63</th>\n",
       "      <td>Unknown</td>\n",
       "      <td>2</td>\n",
       "    </tr>\n",
       "    <tr>\n",
       "      <th>64</th>\n",
       "      <td>Volusia</td>\n",
       "      <td>353</td>\n",
       "    </tr>\n",
       "    <tr>\n",
       "      <th>65</th>\n",
       "      <td>Wakulla</td>\n",
       "      <td>12</td>\n",
       "    </tr>\n",
       "    <tr>\n",
       "      <th>66</th>\n",
       "      <td>Walton</td>\n",
       "      <td>42</td>\n",
       "    </tr>\n",
       "    <tr>\n",
       "      <th>67</th>\n",
       "      <td>Washington</td>\n",
       "      <td>26</td>\n",
       "    </tr>\n",
       "  </tbody>\n",
       "</table>\n",
       "<p>68 rows × 2 columns</p>\n",
       "</div>"
      ],
      "text/plain": [
       "        County  Hospitalized\n",
       "0      Alachua           115\n",
       "1        Baker            22\n",
       "2          Bay            59\n",
       "3     Bradford            19\n",
       "4      Brevard           250\n",
       "..         ...           ...\n",
       "63     Unknown             2\n",
       "64     Volusia           353\n",
       "65     Wakulla            12\n",
       "66      Walton            42\n",
       "67  Washington            26\n",
       "\n",
       "[68 rows x 2 columns]"
      ]
     },
     "execution_count": 97,
     "metadata": {},
     "output_type": "execute_result"
    }
   ],
   "source": [
    "county_df = df.groupby(by=\"County\").count().reset_index().loc[:,[\"County\",\"Hospitalized\"]]\n",
    "county_df"
   ]
  },
  {
   "cell_type": "markdown",
   "metadata": {},
   "source": [
    "* Top 10 counties"
   ]
  },
  {
   "cell_type": "code",
   "execution_count": 48,
   "metadata": {},
   "outputs": [
    {
     "data": {
      "text/html": [
       "<style  type=\"text/css\" >\n",
       "</style><table id=\"T_ff1c5e88_c7a7_11ea_838a_4889e7427a24\" ><thead>    <tr>        <th class=\"blank level0\" ></th>        <th class=\"col_heading level0 col0\" >County</th>        <th class=\"col_heading level0 col1\" >Hospitalized</th>    </tr>    <tr>        <th class=\"index_name level0\" >Rank</th>        <th class=\"blank\" ></th>        <th class=\"blank\" ></th>    </tr></thead><tbody>\n",
       "                <tr>\n",
       "                        <th id=\"T_ff1c5e88_c7a7_11ea_838a_4889e7427a24level0_row0\" class=\"row_heading level0 row0\" >1</th>\n",
       "                        <td id=\"T_ff1c5e88_c7a7_11ea_838a_4889e7427a24row0_col0\" class=\"data row0 col0\" >Dade</td>\n",
       "                        <td id=\"T_ff1c5e88_c7a7_11ea_838a_4889e7427a24row0_col1\" class=\"data row0 col1\" >4,602</td>\n",
       "            </tr>\n",
       "            <tr>\n",
       "                        <th id=\"T_ff1c5e88_c7a7_11ea_838a_4889e7427a24level0_row1\" class=\"row_heading level0 row1\" >2</th>\n",
       "                        <td id=\"T_ff1c5e88_c7a7_11ea_838a_4889e7427a24row1_col0\" class=\"data row1 col0\" >Broward</td>\n",
       "                        <td id=\"T_ff1c5e88_c7a7_11ea_838a_4889e7427a24row1_col1\" class=\"data row1 col1\" >2,707</td>\n",
       "            </tr>\n",
       "            <tr>\n",
       "                        <th id=\"T_ff1c5e88_c7a7_11ea_838a_4889e7427a24level0_row2\" class=\"row_heading level0 row2\" >3</th>\n",
       "                        <td id=\"T_ff1c5e88_c7a7_11ea_838a_4889e7427a24row2_col0\" class=\"data row2 col0\" >Palm Beach</td>\n",
       "                        <td id=\"T_ff1c5e88_c7a7_11ea_838a_4889e7427a24row2_col1\" class=\"data row2 col1\" >2,191</td>\n",
       "            </tr>\n",
       "            <tr>\n",
       "                        <th id=\"T_ff1c5e88_c7a7_11ea_838a_4889e7427a24level0_row3\" class=\"row_heading level0 row3\" >4</th>\n",
       "                        <td id=\"T_ff1c5e88_c7a7_11ea_838a_4889e7427a24row3_col0\" class=\"data row3 col0\" >Pinellas</td>\n",
       "                        <td id=\"T_ff1c5e88_c7a7_11ea_838a_4889e7427a24row3_col1\" class=\"data row3 col1\" >1,059</td>\n",
       "            </tr>\n",
       "            <tr>\n",
       "                        <th id=\"T_ff1c5e88_c7a7_11ea_838a_4889e7427a24level0_row4\" class=\"row_heading level0 row4\" >5</th>\n",
       "                        <td id=\"T_ff1c5e88_c7a7_11ea_838a_4889e7427a24row4_col0\" class=\"data row4 col0\" >Hillsborough</td>\n",
       "                        <td id=\"T_ff1c5e88_c7a7_11ea_838a_4889e7427a24row4_col1\" class=\"data row4 col1\" >901</td>\n",
       "            </tr>\n",
       "            <tr>\n",
       "                        <th id=\"T_ff1c5e88_c7a7_11ea_838a_4889e7427a24level0_row5\" class=\"row_heading level0 row5\" >6</th>\n",
       "                        <td id=\"T_ff1c5e88_c7a7_11ea_838a_4889e7427a24row5_col0\" class=\"data row5 col0\" >Lee</td>\n",
       "                        <td id=\"T_ff1c5e88_c7a7_11ea_838a_4889e7427a24row5_col1\" class=\"data row5 col1\" >780</td>\n",
       "            </tr>\n",
       "            <tr>\n",
       "                        <th id=\"T_ff1c5e88_c7a7_11ea_838a_4889e7427a24level0_row6\" class=\"row_heading level0 row6\" >7</th>\n",
       "                        <td id=\"T_ff1c5e88_c7a7_11ea_838a_4889e7427a24row6_col0\" class=\"data row6 col0\" >Orange</td>\n",
       "                        <td id=\"T_ff1c5e88_c7a7_11ea_838a_4889e7427a24row6_col1\" class=\"data row6 col1\" >644</td>\n",
       "            </tr>\n",
       "            <tr>\n",
       "                        <th id=\"T_ff1c5e88_c7a7_11ea_838a_4889e7427a24level0_row7\" class=\"row_heading level0 row7\" >8</th>\n",
       "                        <td id=\"T_ff1c5e88_c7a7_11ea_838a_4889e7427a24row7_col0\" class=\"data row7 col0\" >Polk</td>\n",
       "                        <td id=\"T_ff1c5e88_c7a7_11ea_838a_4889e7427a24row7_col1\" class=\"data row7 col1\" >624</td>\n",
       "            </tr>\n",
       "            <tr>\n",
       "                        <th id=\"T_ff1c5e88_c7a7_11ea_838a_4889e7427a24level0_row8\" class=\"row_heading level0 row8\" >9</th>\n",
       "                        <td id=\"T_ff1c5e88_c7a7_11ea_838a_4889e7427a24row8_col0\" class=\"data row8 col0\" >Collier</td>\n",
       "                        <td id=\"T_ff1c5e88_c7a7_11ea_838a_4889e7427a24row8_col1\" class=\"data row8 col1\" >509</td>\n",
       "            </tr>\n",
       "            <tr>\n",
       "                        <th id=\"T_ff1c5e88_c7a7_11ea_838a_4889e7427a24level0_row9\" class=\"row_heading level0 row9\" >10</th>\n",
       "                        <td id=\"T_ff1c5e88_c7a7_11ea_838a_4889e7427a24row9_col0\" class=\"data row9 col0\" >Duval</td>\n",
       "                        <td id=\"T_ff1c5e88_c7a7_11ea_838a_4889e7427a24row9_col1\" class=\"data row9 col1\" >462</td>\n",
       "            </tr>\n",
       "    </tbody></table>"
      ],
      "text/plain": [
       "<pandas.io.formats.style.Styler at 0x26d5e0d5358>"
      ]
     },
     "execution_count": 48,
     "metadata": {},
     "output_type": "execute_result"
    }
   ],
   "source": [
    "top10_county = county_df.sort_values(by=\"Hospitalized\",ascending=False).head(10)\n",
    "top10_county[\"Rank\"] = np.arange(1,11)\n",
    "top10_county.set_index(\"Rank\").style.format({\"Hospitalized\":\"{:,}\"})"
   ]
  },
  {
   "cell_type": "markdown",
   "metadata": {},
   "source": [
    "- Gender"
   ]
  },
  {
   "cell_type": "code",
   "execution_count": 68,
   "metadata": {},
   "outputs": [
    {
     "data": {
      "text/html": [
       "<style  type=\"text/css\" >\n",
       "</style><table id=\"T_c57ca3f6_c7aa_11ea_8fd9_4889e7427a24\" ><thead>    <tr>        <th class=\"blank level0\" ></th>        <th class=\"col_heading level0 col0\" >Hospitalized</th>    </tr>    <tr>        <th class=\"index_name level0\" >Gender</th>        <th class=\"blank\" ></th>    </tr></thead><tbody>\n",
       "                <tr>\n",
       "                        <th id=\"T_c57ca3f6_c7aa_11ea_8fd9_4889e7427a24level0_row0\" class=\"row_heading level0 row0\" >Female</th>\n",
       "                        <td id=\"T_c57ca3f6_c7aa_11ea_8fd9_4889e7427a24row0_col0\" class=\"data row0 col0\" >9,657</td>\n",
       "            </tr>\n",
       "            <tr>\n",
       "                        <th id=\"T_c57ca3f6_c7aa_11ea_8fd9_4889e7427a24level0_row1\" class=\"row_heading level0 row1\" >Male</th>\n",
       "                        <td id=\"T_c57ca3f6_c7aa_11ea_8fd9_4889e7427a24row1_col0\" class=\"data row1 col0\" >10,483</td>\n",
       "            </tr>\n",
       "            <tr>\n",
       "                        <th id=\"T_c57ca3f6_c7aa_11ea_8fd9_4889e7427a24level0_row2\" class=\"row_heading level0 row2\" >Unknown</th>\n",
       "                        <td id=\"T_c57ca3f6_c7aa_11ea_8fd9_4889e7427a24row2_col0\" class=\"data row2 col0\" >14</td>\n",
       "            </tr>\n",
       "    </tbody></table>"
      ],
      "text/plain": [
       "<pandas.io.formats.style.Styler at 0x26d5e3cd470>"
      ]
     },
     "execution_count": 68,
     "metadata": {},
     "output_type": "execute_result"
    }
   ],
   "source": [
    "gender_df = pd.DataFrame({\n",
    "    \"Hospitalized\": df.groupby(\"Gender\").count().loc[:,\"County\"]\n",
    "})\n",
    "gender_df.style.format(\"{:,}\")"
   ]
  },
  {
   "cell_type": "code",
   "execution_count": 69,
   "metadata": {},
   "outputs": [
    {
     "data": {
      "text/plain": [
       "Index(['Female', 'Male', 'Unknown'], dtype='object', name='Gender')"
      ]
     },
     "execution_count": 69,
     "metadata": {},
     "output_type": "execute_result"
    }
   ],
   "source": [
    "gender_df.index"
   ]
  },
  {
   "cell_type": "code",
   "execution_count": 95,
   "metadata": {},
   "outputs": [
    {
     "data": {
      "image/png": "[encoded data removed]",
      "text/plain": [
       "<Figure size 432x288 with 1 Axes>"
      ]
     },
     "metadata": {},
     "output_type": "display_data"
    }
   ],
   "source": [
    "plt.pie(x=gender_df['Hospitalized'],explode=[0.1,0.1,0.1],shadow=True,labels=gender_df.index)\n",
    "plt.show()"
   ]
  },
  {
   "cell_type": "code",
   "execution_count": null,
   "metadata": {},
   "outputs": [],
   "source": []
  }
 ],
 "metadata": {
  "kernelspec": {
   "display_name": "Python 3.6.10 64-bit ('PythonData': conda)",
   "language": "python",
   "name": "python361064bitpythondataconda7465b2e4d16447d5bf5dcc356c678f6e"
  },
  "language_info": {
   "codemirror_mode": {
    "name": "ipython",
    "version": 3
   },
   "file_extension": ".py",
   "mimetype": "text/x-python",
   "name": "python",
   "nbconvert_exporter": "python",
   "pygments_lexer": "ipython3",
   "version": "3.6.10"
  }
 },
 "nbformat": 4,
 "nbformat_minor": 4
}
