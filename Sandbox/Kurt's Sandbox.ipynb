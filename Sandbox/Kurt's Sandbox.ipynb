{
 "cells": [
  {
   "cell_type": "code",
   "execution_count": 154,
   "metadata": {},
   "outputs": [],
   "source": [
    "import requests\n",
    "import pandas as pd\n",
    "import io\n",
    "import datetime as dt\n",
    "import matplotlib as mpl\n",
    "from matplotlib.dates import DateFormatter\n",
    "import matplotlib.pyplot as plt\n",
    "import scipy.stats as stats\n",
    "from IPython.display import JSON\n",
    "#import seaborn as sns\n",
    "#sns.set()\n",
    "%matplotlib inline\n",
    "import warnings\n",
    "warnings.filterwarnings('ignore')\n",
    "import os"
   ]
  },
  {
   "cell_type": "code",
   "execution_count": 141,
   "metadata": {},
   "outputs": [],
   "source": [
    "csv = requests.get(\"https://opendata.arcgis.com/datasets/37abda537d17458bae6677b8ab75fcb9_0.csv\").content\n",
    "main_df = pd.read_csv(io.StringIO(csv.decode('utf-8')))"
   ]
  },
  {
   "cell_type": "markdown",
   "metadata": {},
   "source": [
    "1. Filtering out \"Hospitalizations\""
   ]
  },
  {
   "cell_type": "code",
   "execution_count": 148,
   "metadata": {},
   "outputs": [
    {
     "data": {
      "text/html": [
       "<div>\n",
       "<style scoped>\n",
       "    .dataframe tbody tr th:only-of-type {\n",
       "        vertical-align: middle;\n",
       "    }\n",
       "\n",
       "    .dataframe tbody tr th {\n",
       "        vertical-align: top;\n",
       "    }\n",
       "\n",
       "    .dataframe thead th {\n",
       "        text-align: right;\n",
       "    }\n",
       "</style>\n",
       "<table border=\"1\" class=\"dataframe\">\n",
       "  <thead>\n",
       "    <tr style=\"text-align: right;\">\n",
       "      <th></th>\n",
       "      <th>County</th>\n",
       "      <th>Age</th>\n",
       "      <th>Age_group</th>\n",
       "      <th>Gender</th>\n",
       "      <th>Jurisdiction</th>\n",
       "      <th>Travel_related</th>\n",
       "      <th>Origin</th>\n",
       "      <th>EDvisit</th>\n",
       "      <th>Hospitalized</th>\n",
       "      <th>Died</th>\n",
       "      <th>Case_</th>\n",
       "      <th>Contact</th>\n",
       "      <th>Case1</th>\n",
       "      <th>EventDate</th>\n",
       "      <th>ChartDate</th>\n",
       "      <th>ObjectId</th>\n",
       "    </tr>\n",
       "  </thead>\n",
       "  <tbody>\n",
       "    <tr>\n",
       "      <th>40</th>\n",
       "      <td>Palm Beach</td>\n",
       "      <td>45.0</td>\n",
       "      <td>45-54 years</td>\n",
       "      <td>Male</td>\n",
       "      <td>FL resident</td>\n",
       "      <td>No</td>\n",
       "      <td>NaN</td>\n",
       "      <td>YES</td>\n",
       "      <td>YES</td>\n",
       "      <td>NaN</td>\n",
       "      <td>Yes</td>\n",
       "      <td>NO</td>\n",
       "      <td>2020/06/29 05:00:00+00</td>\n",
       "      <td>2020/06/26 00:00:00+00</td>\n",
       "      <td>2020/06/29 05:00:00+00</td>\n",
       "      <td>41</td>\n",
       "    </tr>\n",
       "    <tr>\n",
       "      <th>50</th>\n",
       "      <td>Dade</td>\n",
       "      <td>67.0</td>\n",
       "      <td>65-74 years</td>\n",
       "      <td>Female</td>\n",
       "      <td>FL resident</td>\n",
       "      <td>Unknown</td>\n",
       "      <td>NaN</td>\n",
       "      <td>YES</td>\n",
       "      <td>YES</td>\n",
       "      <td>NaN</td>\n",
       "      <td>Yes</td>\n",
       "      <td>NaN</td>\n",
       "      <td>2020/06/29 05:00:00+00</td>\n",
       "      <td>2020/06/29 00:00:00+00</td>\n",
       "      <td>2020/06/29 05:00:00+00</td>\n",
       "      <td>51</td>\n",
       "    </tr>\n",
       "    <tr>\n",
       "      <th>57</th>\n",
       "      <td>Volusia</td>\n",
       "      <td>95.0</td>\n",
       "      <td>85+ years</td>\n",
       "      <td>Female</td>\n",
       "      <td>FL resident</td>\n",
       "      <td>No</td>\n",
       "      <td>NaN</td>\n",
       "      <td>YES</td>\n",
       "      <td>YES</td>\n",
       "      <td>NaN</td>\n",
       "      <td>Yes</td>\n",
       "      <td>YES</td>\n",
       "      <td>2020/06/30 05:00:00+00</td>\n",
       "      <td>2020/06/28 00:00:00+00</td>\n",
       "      <td>2020/06/30 05:00:00+00</td>\n",
       "      <td>58</td>\n",
       "    </tr>\n",
       "    <tr>\n",
       "      <th>122</th>\n",
       "      <td>Osceola</td>\n",
       "      <td>69.0</td>\n",
       "      <td>65-74 years</td>\n",
       "      <td>Female</td>\n",
       "      <td>FL resident</td>\n",
       "      <td>No</td>\n",
       "      <td>NaN</td>\n",
       "      <td>YES</td>\n",
       "      <td>YES</td>\n",
       "      <td>NaN</td>\n",
       "      <td>Yes</td>\n",
       "      <td>Yes</td>\n",
       "      <td>2020/06/30 05:00:00+00</td>\n",
       "      <td>2020/06/25 00:00:00+00</td>\n",
       "      <td>2020/06/30 05:00:00+00</td>\n",
       "      <td>123</td>\n",
       "    </tr>\n",
       "    <tr>\n",
       "      <th>150</th>\n",
       "      <td>Hardee</td>\n",
       "      <td>42.0</td>\n",
       "      <td>35-44 years</td>\n",
       "      <td>Male</td>\n",
       "      <td>FL resident</td>\n",
       "      <td>Yes</td>\n",
       "      <td>GA</td>\n",
       "      <td>YES</td>\n",
       "      <td>YES</td>\n",
       "      <td>NaN</td>\n",
       "      <td>Yes</td>\n",
       "      <td>Yes</td>\n",
       "      <td>2020/07/01 05:00:00+00</td>\n",
       "      <td>2020/06/23 00:00:00+00</td>\n",
       "      <td>2020/07/01 05:00:00+00</td>\n",
       "      <td>151</td>\n",
       "    </tr>\n",
       "    <tr>\n",
       "      <th>...</th>\n",
       "      <td>...</td>\n",
       "      <td>...</td>\n",
       "      <td>...</td>\n",
       "      <td>...</td>\n",
       "      <td>...</td>\n",
       "      <td>...</td>\n",
       "      <td>...</td>\n",
       "      <td>...</td>\n",
       "      <td>...</td>\n",
       "      <td>...</td>\n",
       "      <td>...</td>\n",
       "      <td>...</td>\n",
       "      <td>...</td>\n",
       "      <td>...</td>\n",
       "      <td>...</td>\n",
       "      <td>...</td>\n",
       "    </tr>\n",
       "    <tr>\n",
       "      <th>314132</th>\n",
       "      <td>Polk</td>\n",
       "      <td>38.0</td>\n",
       "      <td>35-44 years</td>\n",
       "      <td>Male</td>\n",
       "      <td>FL resident</td>\n",
       "      <td>No</td>\n",
       "      <td>NaN</td>\n",
       "      <td>YES</td>\n",
       "      <td>YES</td>\n",
       "      <td>NaN</td>\n",
       "      <td>Yes</td>\n",
       "      <td>YES</td>\n",
       "      <td>2020/07/15 05:00:00+00</td>\n",
       "      <td>2020/06/29 00:00:00+00</td>\n",
       "      <td>2020/07/15 05:00:00+00</td>\n",
       "      <td>314133</td>\n",
       "    </tr>\n",
       "    <tr>\n",
       "      <th>314194</th>\n",
       "      <td>Palm Beach</td>\n",
       "      <td>72.0</td>\n",
       "      <td>65-74 years</td>\n",
       "      <td>Male</td>\n",
       "      <td>FL resident</td>\n",
       "      <td>No</td>\n",
       "      <td>NaN</td>\n",
       "      <td>YES</td>\n",
       "      <td>YES</td>\n",
       "      <td>NaN</td>\n",
       "      <td>Yes</td>\n",
       "      <td>UNKNOWN</td>\n",
       "      <td>2020/07/14 05:00:00+00</td>\n",
       "      <td>2020/07/14 00:00:00+00</td>\n",
       "      <td>2020/07/14 05:00:00+00</td>\n",
       "      <td>314195</td>\n",
       "    </tr>\n",
       "    <tr>\n",
       "      <th>315260</th>\n",
       "      <td>Collier</td>\n",
       "      <td>50.0</td>\n",
       "      <td>45-54 years</td>\n",
       "      <td>Male</td>\n",
       "      <td>FL resident</td>\n",
       "      <td>No</td>\n",
       "      <td>NaN</td>\n",
       "      <td>YES</td>\n",
       "      <td>YES</td>\n",
       "      <td>NaN</td>\n",
       "      <td>Yes</td>\n",
       "      <td>UNKNOWN</td>\n",
       "      <td>2020/07/13 05:00:00+00</td>\n",
       "      <td>2020/07/04 00:00:00+00</td>\n",
       "      <td>2020/07/13 05:00:00+00</td>\n",
       "      <td>315261</td>\n",
       "    </tr>\n",
       "    <tr>\n",
       "      <th>315265</th>\n",
       "      <td>Collier</td>\n",
       "      <td>45.0</td>\n",
       "      <td>45-54 years</td>\n",
       "      <td>Male</td>\n",
       "      <td>FL resident</td>\n",
       "      <td>Yes</td>\n",
       "      <td>FL; RI</td>\n",
       "      <td>YES</td>\n",
       "      <td>YES</td>\n",
       "      <td>NaN</td>\n",
       "      <td>Yes</td>\n",
       "      <td>UNKNOWN</td>\n",
       "      <td>2020/07/14 05:00:00+00</td>\n",
       "      <td>2020/07/09 00:00:00+00</td>\n",
       "      <td>2020/07/14 05:00:00+00</td>\n",
       "      <td>315266</td>\n",
       "    </tr>\n",
       "    <tr>\n",
       "      <th>315538</th>\n",
       "      <td>Hardee</td>\n",
       "      <td>87.0</td>\n",
       "      <td>85+ years</td>\n",
       "      <td>Female</td>\n",
       "      <td>FL resident</td>\n",
       "      <td>No</td>\n",
       "      <td>NaN</td>\n",
       "      <td>YES</td>\n",
       "      <td>YES</td>\n",
       "      <td>NaN</td>\n",
       "      <td>Yes</td>\n",
       "      <td>YES</td>\n",
       "      <td>2020/07/13 05:00:00+00</td>\n",
       "      <td>2020/06/30 00:00:00+00</td>\n",
       "      <td>2020/07/13 05:00:00+00</td>\n",
       "      <td>315539</td>\n",
       "    </tr>\n",
       "  </tbody>\n",
       "</table>\n",
       "<p>20154 rows × 16 columns</p>\n",
       "</div>"
      ],
      "text/plain": [
       "            County   Age    Age_group  Gender Jurisdiction Travel_related  \\\n",
       "40      Palm Beach  45.0  45-54 years    Male  FL resident             No   \n",
       "50            Dade  67.0  65-74 years  Female  FL resident        Unknown   \n",
       "57         Volusia  95.0    85+ years  Female  FL resident             No   \n",
       "122        Osceola  69.0  65-74 years  Female  FL resident             No   \n",
       "150         Hardee  42.0  35-44 years    Male  FL resident            Yes   \n",
       "...            ...   ...          ...     ...          ...            ...   \n",
       "314132        Polk  38.0  35-44 years    Male  FL resident             No   \n",
       "314194  Palm Beach  72.0  65-74 years    Male  FL resident             No   \n",
       "315260     Collier  50.0  45-54 years    Male  FL resident             No   \n",
       "315265     Collier  45.0  45-54 years    Male  FL resident            Yes   \n",
       "315538      Hardee  87.0    85+ years  Female  FL resident             No   \n",
       "\n",
       "        Origin EDvisit Hospitalized Died Case_  Contact  \\\n",
       "40         NaN     YES          YES  NaN   Yes       NO   \n",
       "50         NaN     YES          YES  NaN   Yes      NaN   \n",
       "57         NaN     YES          YES  NaN   Yes      YES   \n",
       "122        NaN     YES          YES  NaN   Yes      Yes   \n",
       "150         GA     YES          YES  NaN   Yes      Yes   \n",
       "...        ...     ...          ...  ...   ...      ...   \n",
       "314132     NaN     YES          YES  NaN   Yes      YES   \n",
       "314194     NaN     YES          YES  NaN   Yes  UNKNOWN   \n",
       "315260     NaN     YES          YES  NaN   Yes  UNKNOWN   \n",
       "315265  FL; RI     YES          YES  NaN   Yes  UNKNOWN   \n",
       "315538     NaN     YES          YES  NaN   Yes      YES   \n",
       "\n",
       "                         Case1               EventDate  \\\n",
       "40      2020/06/29 05:00:00+00  2020/06/26 00:00:00+00   \n",
       "50      2020/06/29 05:00:00+00  2020/06/29 00:00:00+00   \n",
       "57      2020/06/30 05:00:00+00  2020/06/28 00:00:00+00   \n",
       "122     2020/06/30 05:00:00+00  2020/06/25 00:00:00+00   \n",
       "150     2020/07/01 05:00:00+00  2020/06/23 00:00:00+00   \n",
       "...                        ...                     ...   \n",
       "314132  2020/07/15 05:00:00+00  2020/06/29 00:00:00+00   \n",
       "314194  2020/07/14 05:00:00+00  2020/07/14 00:00:00+00   \n",
       "315260  2020/07/13 05:00:00+00  2020/07/04 00:00:00+00   \n",
       "315265  2020/07/14 05:00:00+00  2020/07/09 00:00:00+00   \n",
       "315538  2020/07/13 05:00:00+00  2020/06/30 00:00:00+00   \n",
       "\n",
       "                     ChartDate  ObjectId  \n",
       "40      2020/06/29 05:00:00+00        41  \n",
       "50      2020/06/29 05:00:00+00        51  \n",
       "57      2020/06/30 05:00:00+00        58  \n",
       "122     2020/06/30 05:00:00+00       123  \n",
       "150     2020/07/01 05:00:00+00       151  \n",
       "...                        ...       ...  \n",
       "314132  2020/07/15 05:00:00+00    314133  \n",
       "314194  2020/07/14 05:00:00+00    314195  \n",
       "315260  2020/07/13 05:00:00+00    315261  \n",
       "315265  2020/07/14 05:00:00+00    315266  \n",
       "315538  2020/07/13 05:00:00+00    315539  \n",
       "\n",
       "[20154 rows x 16 columns]"
      ]
     },
     "execution_count": 148,
     "metadata": {},
     "output_type": "execute_result"
    }
   ],
   "source": [
    "filt = main_df[\"Hospitalized\"] == \"YES\"\n",
    "df = main_df[filt]\n",
    "df"
   ]
  },
  {
   "cell_type": "code",
   "execution_count": 149,
   "metadata": {},
   "outputs": [],
   "source": [
    "df.Case1 = df.loc[:,\"Case1\"].str.split()\n",
    "df.Case1 = df.Case1.map(lambda x: x[0])\n",
    "df.rename(columns = {\"Case1\":\"CaseDate\"},inplace=True)"
   ]
  },
  {
   "cell_type": "code",
   "execution_count": 157,
   "metadata": {},
   "outputs": [],
   "source": [
    "df = df[['County','Age',\"Age_group\",\"Gender\",\"Jurisdiction\",\"Travel_related\",\"Hospitalized\",\"Died\",\"CaseDate\"]]\n",
    "filepath = \"../Resources/cleaned_csv.csv\"\n",
    "df.to_csv(filepath)"
   ]
  },
  {
   "cell_type": "markdown",
   "metadata": {},
   "source": [
    "2. Changing 'EventDate' to more manageable structure"
   ]
  },
  {
   "cell_type": "code",
   "execution_count": 30,
   "metadata": {},
<<<<<<< HEAD
   "outputs": [
    {
     "name": "stderr",
     "output_type": "stream",
     "text": [
      "C:\\Users\\KAKA\\anaconda3\\envs\\PythonData\\lib\\site-packages\\pandas\\core\\indexing.py:966: SettingWithCopyWarning: \n",
      "A value is trying to be set on a copy of a slice from a DataFrame.\n",
      "Try using .loc[row_indexer,col_indexer] = value instead\n",
      "\n",
      "See the caveats in the documentation: https://pandas.pydata.org/pandas-docs/stable/user_guide/indexing.html#returning-a-view-versus-a-copy\n",
      "  self.obj[item] = s\n",
      "C:\\Users\\KAKA\\anaconda3\\envs\\PythonData\\lib\\site-packages\\pandas\\core\\indexing.py:845: SettingWithCopyWarning: \n",
      "A value is trying to be set on a copy of a slice from a DataFrame.\n",
      "Try using .loc[row_indexer,col_indexer] = value instead\n",
      "\n",
      "See the caveats in the documentation: https://pandas.pydata.org/pandas-docs/stable/user_guide/indexing.html#returning-a-view-versus-a-copy\n",
      "  self.obj[key] = _infer_fill_value(value)\n"
     ]
    }
   ],
=======
   "outputs": [],
>>>>>>> 958be9d9871ef403b8aa1aa055c351d13224f533
   "source": [
    "df.loc[:,'EventDate'] = pd.to_datetime(df.loc[:,'EventDate'],format='%Y/%m/%d %H:%M:%S')\n",
    "df.loc[:,\"FormattedEventDate\"] = df.loc[:,\"EventDate\"].dt.strftime(\"%m/%d/%Y\")\n",
    "df.loc[:,\"EventDate\"] = pd.to_datetime(df.loc[:,\"FormattedEventDate\"],format='%m/%d/%Y')\n",
    "df = df.iloc[:,[0,1,2,3,7,8,9,13,16]]"
   ]
  },
  {
   "cell_type": "code",
   "execution_count": 83,
   "metadata": {},
   "outputs": [],
   "source": [
    "df.loc[:,'Case1'] = pd.to_datetime(df.loc[:,'Case1'],format='%Y/%m/%d %H:%M:%S')\n",
    "df.loc[:,\"FormattedCase1\"] = df.loc[:,\"Case1\"].dt.strftime(\"%m/%d/%Y\")\n",
    "df.loc[:,\"Case1\"] = pd.to_datetime(df.loc[:,\"FormattedCase1\"],format='%m/%d/%Y')\n",
    "df = df.iloc[:,[0,1,2,3,7,8,9,13,16]]"
   ]
  },
  {
   "cell_type": "code",
   "execution_count": 82,
   "metadata": {},
   "outputs": [
    {
     "data": {
      "text/plain": [
       "Index(['County', 'Age', 'Age_group', 'Gender', 'Jurisdiction',\n",
       "       'Travel_related', 'Origin', 'EDvisit', 'Hospitalized', 'Died', 'Case_',\n",
       "       'Contact', 'Case1', 'EventDate', 'ChartDate', 'ObjectId'],\n",
       "      dtype='object')"
      ]
     },
     "execution_count": 82,
     "metadata": {},
     "output_type": "execute_result"
    }
   ],
   "source": [
    "df.columns"
   ]
  },
  {
   "cell_type": "code",
   "execution_count": 31,
   "metadata": {},
   "outputs": [
    {
     "data": {
      "text/html": [
       "<div>\n",
       "<style scoped>\n",
       "    .dataframe tbody tr th:only-of-type {\n",
       "        vertical-align: middle;\n",
       "    }\n",
       "\n",
       "    .dataframe tbody tr th {\n",
       "        vertical-align: top;\n",
       "    }\n",
       "\n",
       "    .dataframe thead th {\n",
       "        text-align: right;\n",
       "    }\n",
       "</style>\n",
       "<table border=\"1\" class=\"dataframe\">\n",
       "  <thead>\n",
       "    <tr style=\"text-align: right;\">\n",
       "      <th></th>\n",
       "      <th>County</th>\n",
       "      <th>Age</th>\n",
       "      <th>Age_group</th>\n",
       "      <th>Gender</th>\n",
       "      <th>EDvisit</th>\n",
       "      <th>Hospitalized</th>\n",
       "      <th>Died</th>\n",
       "      <th>EventDate</th>\n",
       "      <th>FormattedEventDate</th>\n",
       "    </tr>\n",
       "  </thead>\n",
       "  <tbody>\n",
       "    <tr>\n",
       "      <th>40</th>\n",
       "      <td>Palm Beach</td>\n",
       "      <td>45.0</td>\n",
       "      <td>45-54 years</td>\n",
       "      <td>Male</td>\n",
       "      <td>YES</td>\n",
       "      <td>YES</td>\n",
       "      <td>NaN</td>\n",
       "      <td>2020-06-26</td>\n",
       "      <td>06/26/2020</td>\n",
       "    </tr>\n",
       "    <tr>\n",
       "      <th>50</th>\n",
       "      <td>Dade</td>\n",
       "      <td>67.0</td>\n",
       "      <td>65-74 years</td>\n",
       "      <td>Female</td>\n",
       "      <td>YES</td>\n",
       "      <td>YES</td>\n",
       "      <td>NaN</td>\n",
       "      <td>2020-06-29</td>\n",
       "      <td>06/29/2020</td>\n",
       "    </tr>\n",
       "    <tr>\n",
       "      <th>57</th>\n",
       "      <td>Volusia</td>\n",
       "      <td>95.0</td>\n",
       "      <td>85+ years</td>\n",
       "      <td>Female</td>\n",
       "      <td>YES</td>\n",
       "      <td>YES</td>\n",
       "      <td>NaN</td>\n",
       "      <td>2020-06-28</td>\n",
       "      <td>06/28/2020</td>\n",
       "    </tr>\n",
       "  </tbody>\n",
       "</table>\n",
       "</div>"
      ],
      "text/plain": [
       "        County   Age    Age_group  Gender EDvisit Hospitalized Died  \\\n",
       "40  Palm Beach  45.0  45-54 years    Male     YES          YES  NaN   \n",
       "50        Dade  67.0  65-74 years  Female     YES          YES  NaN   \n",
       "57     Volusia  95.0    85+ years  Female     YES          YES  NaN   \n",
       "\n",
       "    EventDate FormattedEventDate  \n",
       "40 2020-06-26         06/26/2020  \n",
       "50 2020-06-29         06/29/2020  \n",
       "57 2020-06-28         06/28/2020  "
      ]
     },
     "execution_count": 31,
     "metadata": {},
     "output_type": "execute_result"
    }
   ],
   "source": [
    "df.head(3)"
   ]
  },
  {
   "cell_type": "code",
<<<<<<< HEAD
   "execution_count": 8,
   "metadata": {},
   "outputs": [
    {
     "ename": "NameError",
     "evalue": "name 'dtype' is not defined",
     "output_type": "error",
     "traceback": [
      "\u001b[1;31m---------------------------------------------------------------------------\u001b[0m",
      "\u001b[1;31mNameError\u001b[0m                                 Traceback (most recent call last)",
      "\u001b[1;32m<ipython-input-8-53d5d6c71c3d>\u001b[0m in \u001b[0;36m<module>\u001b[1;34m\u001b[0m\n\u001b[1;32m----> 1\u001b[1;33m \u001b[0mdtype\u001b[0m\u001b[1;33m(\u001b[0m\u001b[1;33m)\u001b[0m\u001b[1;33m\u001b[0m\u001b[1;33m\u001b[0m\u001b[0m\n\u001b[0m",
      "\u001b[1;31mNameError\u001b[0m: name 'dtype' is not defined"
     ]
    }
   ],
   "source": [
    "dtype()\n"
   ]
  },
  {
   "cell_type": "code",
   "execution_count": 9,
=======
   "execution_count": 7,
>>>>>>> 958be9d9871ef403b8aa1aa055c351d13224f533
   "metadata": {},
   "outputs": [
    {
     "data": {
      "text/plain": [
       "EventDate\n",
       "2020-06-26    294\n",
       "2020-06-27    269\n",
       "2020-06-28    253\n",
       "2020-06-29    308\n",
       "2020-06-30    273\n",
       "2020-07-01    298\n",
       "2020-07-02    237\n",
       "2020-07-03    214\n",
       "2020-07-04    196\n",
       "2020-07-05    194\n",
       "2020-07-06    194\n",
       "2020-07-07    187\n",
       "2020-07-08    149\n",
       "2020-07-09    150\n",
       "2020-07-10    123\n",
       "2020-07-11     87\n",
       "2020-07-12     88\n",
       "2020-07-13     64\n",
       "2020-07-14     43\n",
       "2020-07-15     20\n",
       "Name: Hospitalized, dtype: int64"
      ]
     },
     "execution_count": 7,
     "metadata": {},
     "output_type": "execute_result"
    }
   ],
   "source": [
    "hospitalized_df = df.groupby(\"EventDate\").count().reset_index()[['EventDate','Hospitalized']]\n",
    "df.groupby(\"EventDate\").count()['Hospitalized'].tail(20)"
   ]
  },
  {
   "cell_type": "code",
   "execution_count": 7,
   "metadata": {},
   "outputs": [
    {
     "data": {
      "text/plain": [
       "(737531.8073924732, 737621.8073924732)"
      ]
     },
     "execution_count": 7,
     "metadata": {},
     "output_type": "execute_result"
    },
    {
     "data": {
      "image/png": "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\n",
      "text/plain": [
       "<Figure size 576x432 with 1 Axes>"
      ]
     },
     "metadata": {
      "needs_background": "light"
     },
     "output_type": "display_data"
    }
   ],
   "source": [
    "fig, ax = plt.subplots()\n",
    "fig.set_size_inches(8,6)\n",
    "plt.scatter(mpl.dates.date2num(hospitalized_df['EventDate']),hospitalized_df[\"Hospitalized\"])\n",
    "ax.xaxis.set_major_formatter(DateFormatter(\"%m/%d\"))\n",
    "ax.xaxis_date()\n",
    "plt.title(label=\"New Hospitalizations in Florida\")\n",
    "plt.xlim(left=plt.xlim()[1]-99,right=plt.xlim()[1]-9)"
   ]
  },
  {
   "cell_type": "markdown",
   "metadata": {},
   "source": [
    "## Hypothesis Testing\n",
    "-------------"
   ]
  },
  {
   "cell_type": "code",
   "execution_count": 75,
   "metadata": {},
   "outputs": [],
   "source": [
    "day_delta = 14\n",
    "opening_date = dt.datetime(2020,5,4) + dt.timedelta(days=6)\n",
    "d_before = opening_date - dt.timedelta(days=day_delta)\n",
    "d_after = opening_date + dt.timedelta(days=day_delta)\n",
    "filt_before = ((df[\"EventDate\"]>=d_before) & (df[\"EventDate\"] < opening_date))\n",
    "before_df = df[filt_before]\n",
    "filt_after = ((df[\"EventDate\"]>opening_date) & (df[\"EventDate\"] <= d_after))\n",
    "after_df = df[filt_after]\n",
    "\n",
    "grouped_before = before_df.groupby(\"EventDate\").count().reset_index()[['EventDate','Hospitalized']]\n",
    "grouped_after = after_df.groupby(\"EventDate\").count().reset_index()[['EventDate','Hospitalized']]"
   ]
  },
  {
   "cell_type": "code",
   "execution_count": 76,
   "metadata": {},
   "outputs": [
    {
     "data": {
      "text/plain": [
       "Ttest_indResult(statistic=-0.48635165455900886, pvalue=0.6307922218061446)"
      ]
     },
     "execution_count": 76,
     "metadata": {},
     "output_type": "execute_result"
    },
    {
     "data": {
      "image/png": "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\n",
      "text/plain": [
       "<Figure size 432x288 with 2 Axes>"
      ]
     },
     "metadata": {
      "needs_background": "light"
     },
     "output_type": "display_data"
    }
   ],
   "source": [
    "# Generate some fake data to test with\n",
    "def gendata(loc=0):\n",
    "    sample1 = grouped_before['Hospitalized']\n",
    "    sample2 = grouped_after['Hospitalized']\n",
    "\n",
    "    # Scatter Plot of Data\n",
    "    plt.subplot(2, 1, 1)\n",
    "    plt.scatter(range(len(sample1)), sample1, label=\"before\")\n",
    "    plt.scatter(range(len(sample2)), sample2, label=\"after\")\n",
    "    plt.legend()\n",
    "\n",
    "    # Histogram Plot of Data\n",
    "    plt.subplot(2, 1, 2)\n",
    "    plt.hist(sample1, 20, density=True, alpha=0.7, label=\"before\")\n",
    "    plt.hist(sample2, 20, density=True, alpha=0.7, label=\"after\")\n",
    "    plt.axvline(sample1.mean(), color='k', linestyle='dashed', linewidth=1)\n",
    "    plt.axvline(sample2.mean(), color='k', linestyle='dashed', linewidth=1)\n",
    "    plt.legend()  \n",
    "    \n",
    "    return sample1, sample2\n",
    "\n",
    "sample1, sample2 = gendata()\n",
    "stats.ttest_ind_from_stats(grouped_before[\"Hospitalized\"].mean(),grouped_before[\"Hospitalized\"].std(),grouped_before[\"Hospitalized\"].size,grouped_after[\"Hospitalized\"].mean(),grouped_after[\"Hospitalized\"].std(),grouped_after[\"Hospitalized\"].size)"
   ]
  },
  {
   "cell_type": "code",
   "execution_count": 79,
   "metadata": {},
   "outputs": [
    {
     "data": {
      "text/plain": [
       "count     14.000000\n",
       "mean     120.214286\n",
       "std       20.081291\n",
       "min       81.000000\n",
       "25%      107.500000\n",
       "50%      119.000000\n",
       "75%      127.000000\n",
       "max      165.000000\n",
       "Name: Hospitalized, dtype: float64"
      ]
     },
     "execution_count": 79,
     "metadata": {},
     "output_type": "execute_result"
    }
   ],
   "source": [
    "grouped_after[\"Hospitalized\"].describe()"
   ]
  },
  {
   "cell_type": "code",
   "execution_count": 78,
   "metadata": {},
   "outputs": [
    {
     "data": {
      "text/plain": [
       "count     14.000000\n",
       "mean     115.642857\n",
       "std       28.872684\n",
       "min       84.000000\n",
       "25%       96.250000\n",
       "50%      108.000000\n",
       "75%      122.500000\n",
       "max      190.000000\n",
       "Name: Hospitalized, dtype: float64"
      ]
     },
     "execution_count": 78,
     "metadata": {},
     "output_type": "execute_result"
    }
   ],
   "source": [
    "grouped_before[\"Hospitalized\"].describe()"
   ]
  },
  {
   "cell_type": "code",
   "execution_count": null,
   "metadata": {},
   "outputs": [],
   "source": []
  }
 ],
 "metadata": {
  "kernelspec": {
   "display_name": "Python 3.6.10 64-bit ('PythonData': conda)",
   "language": "python",
   "name": "python361064bitpythondataconda7465b2e4d16447d5bf5dcc356c678f6e"
  },
  "language_info": {
   "codemirror_mode": {
    "name": "ipython",
    "version": 3
   },
   "file_extension": ".py",
   "mimetype": "text/x-python",
   "name": "python",
   "nbconvert_exporter": "python",
   "pygments_lexer": "ipython3",
   "version": "3.6.10"
  }
 },
 "nbformat": 4,
 "nbformat_minor": 4
}
