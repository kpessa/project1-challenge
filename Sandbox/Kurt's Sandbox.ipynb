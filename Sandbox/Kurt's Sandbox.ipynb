{
 "cells": [
  {
   "cell_type": "code",
   "execution_count": 1,
   "metadata": {},
   "outputs": [],
   "source": [
    "import requests\n",
    "import pandas as pd\n",
    "import io\n",
    "import datetime as dt\n",
    "import matplotlib as mpl\n",
    "from matplotlib.dates import DateFormatter\n",
    "import matplotlib.pyplot as plt\n",
    "from IPython.display import JSON\n",
    "#import seaborn as sns\n",
    "#sns.set()\n",
    "%matplotlib inline"
   ]
  },
  {
   "cell_type": "code",
   "execution_count": 2,
   "metadata": {},
   "outputs": [],
   "source": [
    "csv = requests.get(\"https://opendata.arcgis.com/datasets/37abda537d17458bae6677b8ab75fcb9_0.csv\").content\n",
    "main_df = pd.read_csv(io.StringIO(csv.decode('utf-8')))"
   ]
  },
  {
   "cell_type": "markdown",
   "metadata": {},
   "source": [
    "1. Filtering out \"Hospitalizations\""
   ]
  },
  {
   "cell_type": "code",
   "execution_count": 3,
   "metadata": {},
   "outputs": [],
   "source": [
    "filt = main_df[\"Hospitalized\"] == \"YES\"\n",
    "df = main_df[filt]"
   ]
  },
  {
   "cell_type": "markdown",
   "metadata": {},
   "source": [
    "2. Changing 'EventDate' to more manageable structure"
   ]
  },
  {
   "cell_type": "code",
   "execution_count": 4,
   "metadata": {},
   "outputs": [
    {
     "name": "stderr",
     "output_type": "stream",
     "text": [
      "C:\\Users\\kpess\\anaconda3\\envs\\PythonData\\lib\\site-packages\\pandas\\core\\indexing.py:966: SettingWithCopyWarning: \n",
      "A value is trying to be set on a copy of a slice from a DataFrame.\n",
      "Try using .loc[row_indexer,col_indexer] = value instead\n",
      "\n",
      "See the caveats in the documentation: https://pandas.pydata.org/pandas-docs/stable/user_guide/indexing.html#returning-a-view-versus-a-copy\n",
      "  self.obj[item] = s\n",
      "C:\\Users\\kpess\\anaconda3\\envs\\PythonData\\lib\\site-packages\\pandas\\core\\indexing.py:845: SettingWithCopyWarning: \n",
      "A value is trying to be set on a copy of a slice from a DataFrame.\n",
      "Try using .loc[row_indexer,col_indexer] = value instead\n",
      "\n",
      "See the caveats in the documentation: https://pandas.pydata.org/pandas-docs/stable/user_guide/indexing.html#returning-a-view-versus-a-copy\n",
      "  self.obj[key] = _infer_fill_value(value)\n"
     ]
    }
   ],
   "source": [
    "df.loc[:,'EventDate'] = pd.to_datetime(df.loc[:,'EventDate'],format='%Y/%m/%d %H:%M:%S')\n",
    "df.loc[:,\"FormattedEventDate\"] = df.loc[:,\"EventDate\"].dt.strftime(\"%m/%d/%Y\")\n",
    "df.loc[:,\"EventDate\"] = pd.to_datetime(df.loc[:,\"FormattedEventDate\"],format='%m/%d/%Y')\n",
    "df = df.iloc[:,[0,1,2,3,7,8,9,13,16]]"
   ]
  },
  {
   "cell_type": "code",
   "execution_count": 5,
   "metadata": {},
   "outputs": [
    {
     "data": {
      "text/html": [
       "<div>\n",
       "<style scoped>\n",
       "    .dataframe tbody tr th:only-of-type {\n",
       "        vertical-align: middle;\n",
       "    }\n",
       "\n",
       "    .dataframe tbody tr th {\n",
       "        vertical-align: top;\n",
       "    }\n",
       "\n",
       "    .dataframe thead th {\n",
       "        text-align: right;\n",
       "    }\n",
       "</style>\n",
       "<table border=\"1\" class=\"dataframe\">\n",
       "  <thead>\n",
       "    <tr style=\"text-align: right;\">\n",
       "      <th></th>\n",
       "      <th>County</th>\n",
       "      <th>Age</th>\n",
       "      <th>Age_group</th>\n",
       "      <th>Gender</th>\n",
       "      <th>EDvisit</th>\n",
       "      <th>Hospitalized</th>\n",
       "      <th>Died</th>\n",
       "      <th>EventDate</th>\n",
       "      <th>FormattedEventDate</th>\n",
       "    </tr>\n",
       "  </thead>\n",
       "  <tbody>\n",
       "    <tr>\n",
       "      <th>40</th>\n",
       "      <td>Palm Beach</td>\n",
       "      <td>45.0</td>\n",
       "      <td>45-54 years</td>\n",
       "      <td>Male</td>\n",
       "      <td>YES</td>\n",
       "      <td>YES</td>\n",
       "      <td>NaN</td>\n",
       "      <td>2020-06-26</td>\n",
       "      <td>06/26/2020</td>\n",
       "    </tr>\n",
       "    <tr>\n",
       "      <th>50</th>\n",
       "      <td>Dade</td>\n",
       "      <td>67.0</td>\n",
       "      <td>65-74 years</td>\n",
       "      <td>Female</td>\n",
       "      <td>YES</td>\n",
       "      <td>YES</td>\n",
       "      <td>NaN</td>\n",
       "      <td>2020-06-29</td>\n",
       "      <td>06/29/2020</td>\n",
       "    </tr>\n",
       "    <tr>\n",
       "      <th>57</th>\n",
       "      <td>Volusia</td>\n",
       "      <td>95.0</td>\n",
       "      <td>85+ years</td>\n",
       "      <td>Female</td>\n",
       "      <td>YES</td>\n",
       "      <td>YES</td>\n",
       "      <td>NaN</td>\n",
       "      <td>2020-06-28</td>\n",
       "      <td>06/28/2020</td>\n",
       "    </tr>\n",
       "  </tbody>\n",
       "</table>\n",
       "</div>"
      ],
      "text/plain": [
       "        County   Age    Age_group  Gender EDvisit Hospitalized Died  \\\n",
       "40  Palm Beach  45.0  45-54 years    Male     YES          YES  NaN   \n",
       "50        Dade  67.0  65-74 years  Female     YES          YES  NaN   \n",
       "57     Volusia  95.0    85+ years  Female     YES          YES  NaN   \n",
       "\n",
       "    EventDate FormattedEventDate  \n",
       "40 2020-06-26         06/26/2020  \n",
       "50 2020-06-29         06/29/2020  \n",
       "57 2020-06-28         06/28/2020  "
      ]
     },
     "execution_count": 5,
     "metadata": {},
     "output_type": "execute_result"
    }
   ],
   "source": [
    "df.head(3)"
   ]
  },
  {
   "cell_type": "code",
   "execution_count": 9,
   "metadata": {},
   "outputs": [
    {
     "data": {
      "text/plain": [
       "EventDate\n",
       "2020-06-26    294\n",
       "2020-06-27    269\n",
       "2020-06-28    253\n",
       "2020-06-29    308\n",
       "2020-06-30    273\n",
       "2020-07-01    298\n",
       "2020-07-02    237\n",
       "2020-07-03    214\n",
       "2020-07-04    196\n",
       "2020-07-05    194\n",
       "2020-07-06    194\n",
       "2020-07-07    187\n",
       "2020-07-08    149\n",
       "2020-07-09    150\n",
       "2020-07-10    123\n",
       "2020-07-11     87\n",
       "2020-07-12     88\n",
       "2020-07-13     64\n",
       "2020-07-14     43\n",
       "2020-07-15     20\n",
       "Name: Hospitalized, dtype: int64"
      ]
     },
     "execution_count": 9,
     "metadata": {},
     "output_type": "execute_result"
    }
   ],
   "source": [
    "hospitalized_df = df.groupby(\"EventDate\").count().reset_index()[['EventDate','Hospitalized']]\n",
    "df.groupby(\"EventDate\").count()['Hospitalized'].tail(20)"
   ]
  },
  {
   "cell_type": "code",
   "execution_count": 7,
   "metadata": {},
   "outputs": [
    {
     "data": {
      "text/plain": [
       "(737531.8073924732, 737621.8073924732)"
      ]
     },
     "execution_count": 7,
     "metadata": {},
     "output_type": "execute_result"
    },
    {
     "data": {
      "image/png": "[encoded data removed]",
      "text/plain": [
       "<Figure size 576x432 with 1 Axes>"
      ]
     },
     "metadata": {
      "needs_background": "light"
     },
     "output_type": "display_data"
    }
   ],
   "source": [
    "fig, ax = plt.subplots()\n",
    "fig.set_size_inches(8,6)\n",
    "plt.scatter(mpl.dates.date2num(hospitalized_df['EventDate']),hospitalized_df[\"Hospitalized\"])\n",
    "ax.xaxis.set_major_formatter(DateFormatter(\"%m/%d\"))\n",
    "ax.xaxis_date()\n",
    "plt.title(label=\"New Hospitalizations in Florida\")\n",
    "plt.xlim(left=plt.xlim()[1]-99,right=plt.xlim()[1]-9)"
   ]
  },
  {
   "cell_type": "code",
   "execution_count": null,
   "metadata": {},
   "outputs": [],
   "source": []
  }
 ],
 "metadata": {
  "kernelspec": {
   "display_name": "Python 3.6.10 64-bit ('PythonData': conda)",
   "language": "python",
   "name": "python361064bitpythondataconda13c33e7d00474160b8916212f83fb86d"
  },
  "language_info": {
   "codemirror_mode": {
    "name": "ipython",
    "version": 3
   },
   "file_extension": ".py",
   "mimetype": "text/x-python",
   "name": "python",
   "nbconvert_exporter": "python",
   "pygments_lexer": "ipython3",
   "version": "3.6.10"
  }
 },
 "nbformat": 4,
 "nbformat_minor": 4
}
