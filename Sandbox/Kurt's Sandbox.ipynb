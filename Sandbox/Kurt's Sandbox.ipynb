{
 "cells": [
  {
   "cell_type": "code",
   "execution_count": 2,
   "metadata": {},
   "outputs": [],
   "source": [
    "import requests\n",
    "import pandas as pd\n",
    "import io\n",
    "import datetime as dt\n",
    "import matplotlib as mpl\n",
    "from matplotlib.dates import DateFormatter\n",
    "import matplotlib.pyplot as plt\n",
    "import scipy.stats as stats\n",
    "from IPython.display import JSON\n",
    "#import seaborn as sns\n",
    "#sns.set()\n",
    "%matplotlib inline\n",
    "import warnings\n",
    "warnings.filterwarnings('ignore')\n",
    "import os"
   ]
  },
  {
   "cell_type": "code",
   "execution_count": 3,
   "metadata": {},
   "outputs": [],
   "source": [
    "csv = requests.get(\"https://opendata.arcgis.com/datasets/37abda537d17458bae6677b8ab75fcb9_0.csv\").content\n",
    "main_df = pd.read_csv(io.StringIO(csv.decode('utf-8')))"
   ]
  },
  {
   "cell_type": "markdown",
   "metadata": {},
   "source": [
    "1. Filtering out \"Hospitalizations\""
   ]
  },
  {
   "cell_type": "code",
   "execution_count": 27,
   "metadata": {},
   "outputs": [],
   "source": [
    "filt = main_df[\"Hospitalized\"] == \"YES\"\n",
    "df = main_df[filt]"
   ]
  },
  {
   "cell_type": "code",
   "execution_count": 16,
   "metadata": {},
   "outputs": [],
   "source": [
    "# Trying to save the data to a csv\n",
    "# df = df[['County','Age',\"Age_group\",\"Gender\",\"Jurisdiction\",\"Travel_related\",\"Hospitalized\",\"Died\",\"CaseDate\"]]\n",
    "# filepath = \"../Resources/cleaned_csv.csv\"\n",
    "# df.to_csv(filepath)"
   ]
  },
  {
   "cell_type": "code",
   "execution_count": 7,
   "metadata": {},
   "outputs": [],
   "source": [
    "#df"
   ]
  },
  {
   "cell_type": "markdown",
   "metadata": {},
   "source": [
    "2. Changing 'EventDate' to more manageable structure"
   ]
  },
  {
   "cell_type": "code",
   "execution_count": 11,
   "metadata": {},
<<<<<<< HEAD
   "outputs": [
    {
     "name": "stderr",
     "output_type": "stream",
     "text": [
      "C:\\Users\\KAKA\\anaconda3\\envs\\PythonData\\lib\\site-packages\\pandas\\core\\indexing.py:966: SettingWithCopyWarning: \n",
      "A value is trying to be set on a copy of a slice from a DataFrame.\n",
      "Try using .loc[row_indexer,col_indexer] = value instead\n",
      "\n",
      "See the caveats in the documentation: https://pandas.pydata.org/pandas-docs/stable/user_guide/indexing.html#returning-a-view-versus-a-copy\n",
      "  self.obj[item] = s\n",
      "C:\\Users\\KAKA\\anaconda3\\envs\\PythonData\\lib\\site-packages\\pandas\\core\\indexing.py:845: SettingWithCopyWarning: \n",
      "A value is trying to be set on a copy of a slice from a DataFrame.\n",
      "Try using .loc[row_indexer,col_indexer] = value instead\n",
      "\n",
      "See the caveats in the documentation: https://pandas.pydata.org/pandas-docs/stable/user_guide/indexing.html#returning-a-view-versus-a-copy\n",
      "  self.obj[key] = _infer_fill_value(value)\n"
     ]
    }
   ],
=======
   "outputs": [],
>>>>>>> 958be9d9871ef403b8aa1aa055c351d13224f533
   "source": [
    "# Splitting dates\n",
    "#df.Case1 = df.loc[:,\"Case1\"].str.split()\n",
    "#df.Case1 = df.Case1.map(lambda x: x[0])\n",
    "#df.rename(columns = {\"Case1\":\"CaseDate\"},inplace=True)"
   ]
  },
  {
   "cell_type": "code",
   "execution_count": 8,
   "metadata": {},
   "outputs": [],
   "source": [
    "# First Run through\n",
    "#df.loc[:,'EventDate'] = pd.to_datetime(df.loc[:,'EventDate'],format='%Y/%m/%d %H:%M:%S')\n",
    "#df.loc[:,\"FormattedEventDate\"] = df.loc[:,\"EventDate\"].dt.strftime(\"%m/%d/%Y\")\n",
    "#df.loc[:,\"EventDate\"] = pd.to_datetime(df.loc[:,\"FormattedEventDate\"],format='%m/%d/%Y')\n",
    "#df = df.iloc[:,[0,1,2,3,7,8,9,13,16]]"
   ]
  },
  {
   "cell_type": "code",
   "execution_count": 28,
   "metadata": {},
   "outputs": [],
   "source": [
    "df.loc[:,'Case1'] = pd.to_datetime(df.loc[:,'Case1'],format='%Y/%m/%d %H:%M:%S')\n",
    "df.loc[:,\"FormattedCase1\"] = df.loc[:,\"Case1\"].dt.strftime(\"%m/%d/%Y\")\n",
    "df.loc[:,\"Case1\"] = pd.to_datetime(df.loc[:,\"FormattedCase1\"],format='%m/%d/%Y')\n",
    "df = df.iloc[:,[0,1,2,3,7,8,9,13,16]]"
   ]
  },
  {
   "cell_type": "code",
   "execution_count": 19,
   "metadata": {},
   "outputs": [
    {
     "data": {
      "text/plain": [
       "Index(['County', 'Age', 'Age_group', 'Gender', 'EDvisit', 'Hospitalized',\n",
       "       'Died', 'EventDate', 'FormattedCase1'],\n",
       "      dtype='object')"
      ]
     },
     "execution_count": 19,
     "metadata": {},
     "output_type": "execute_result"
    }
   ],
   "source": [
    "df.columns"
   ]
  },
  {
   "cell_type": "code",
   "execution_count": 20,
   "metadata": {},
   "outputs": [
    {
     "data": {
      "text/html": [
       "<div>\n",
       "<style scoped>\n",
       "    .dataframe tbody tr th:only-of-type {\n",
       "        vertical-align: middle;\n",
       "    }\n",
       "\n",
       "    .dataframe tbody tr th {\n",
       "        vertical-align: top;\n",
       "    }\n",
       "\n",
       "    .dataframe thead th {\n",
       "        text-align: right;\n",
       "    }\n",
       "</style>\n",
       "<table border=\"1\" class=\"dataframe\">\n",
       "  <thead>\n",
       "    <tr style=\"text-align: right;\">\n",
       "      <th></th>\n",
       "      <th>County</th>\n",
       "      <th>Age</th>\n",
       "      <th>Age_group</th>\n",
       "      <th>Gender</th>\n",
       "      <th>EDvisit</th>\n",
       "      <th>Hospitalized</th>\n",
       "      <th>Died</th>\n",
       "      <th>EventDate</th>\n",
       "      <th>FormattedCase1</th>\n",
       "    </tr>\n",
       "  </thead>\n",
       "  <tbody>\n",
       "    <tr>\n",
       "      <th>5</th>\n",
       "      <td>Dade</td>\n",
       "      <td>56.0</td>\n",
       "      <td>55-64 years</td>\n",
       "      <td>Male</td>\n",
       "      <td>YES</td>\n",
       "      <td>YES</td>\n",
       "      <td>NaN</td>\n",
       "      <td>2020/04/03 00:00:00+00</td>\n",
       "      <td>04/06/2020</td>\n",
       "    </tr>\n",
       "    <tr>\n",
       "      <th>10</th>\n",
       "      <td>Indian River</td>\n",
       "      <td>81.0</td>\n",
       "      <td>75-84 years</td>\n",
       "      <td>Male</td>\n",
       "      <td>YES</td>\n",
       "      <td>YES</td>\n",
       "      <td>NaN</td>\n",
       "      <td>2020/04/22 00:00:00+00</td>\n",
       "      <td>04/22/2020</td>\n",
       "    </tr>\n",
       "    <tr>\n",
       "      <th>11</th>\n",
       "      <td>Broward</td>\n",
       "      <td>61.0</td>\n",
       "      <td>55-64 years</td>\n",
       "      <td>Female</td>\n",
       "      <td>UNKNOWN</td>\n",
       "      <td>YES</td>\n",
       "      <td>NaN</td>\n",
       "      <td>2020/03/09 00:00:00+00</td>\n",
       "      <td>04/06/2020</td>\n",
       "    </tr>\n",
       "  </tbody>\n",
       "</table>\n",
       "</div>"
      ],
      "text/plain": [
       "          County   Age    Age_group  Gender  EDvisit Hospitalized Died  \\\n",
       "5           Dade  56.0  55-64 years    Male      YES          YES  NaN   \n",
       "10  Indian River  81.0  75-84 years    Male      YES          YES  NaN   \n",
       "11       Broward  61.0  55-64 years  Female  UNKNOWN          YES  NaN   \n",
       "\n",
       "                 EventDate FormattedCase1  \n",
       "5   2020/04/03 00:00:00+00     04/06/2020  \n",
       "10  2020/04/22 00:00:00+00     04/22/2020  \n",
       "11  2020/03/09 00:00:00+00     04/06/2020  "
      ]
     },
     "execution_count": 20,
     "metadata": {},
     "output_type": "execute_result"
    }
   ],
   "source": [
    "df.head(3)"
   ]
  },
  {
   "cell_type": "code",
<<<<<<< HEAD
   "execution_count": 29,
=======
<<<<<<< HEAD
   "execution_count": 8,
   "metadata": {},
   "outputs": [
    {
     "ename": "NameError",
     "evalue": "name 'dtype' is not defined",
     "output_type": "error",
     "traceback": [
      "\u001b[1;31m---------------------------------------------------------------------------\u001b[0m",
      "\u001b[1;31mNameError\u001b[0m                                 Traceback (most recent call last)",
      "\u001b[1;32m<ipython-input-8-53d5d6c71c3d>\u001b[0m in \u001b[0;36m<module>\u001b[1;34m\u001b[0m\n\u001b[1;32m----> 1\u001b[1;33m \u001b[0mdtype\u001b[0m\u001b[1;33m(\u001b[0m\u001b[1;33m)\u001b[0m\u001b[1;33m\u001b[0m\u001b[1;33m\u001b[0m\u001b[0m\n\u001b[0m",
      "\u001b[1;31mNameError\u001b[0m: name 'dtype' is not defined"
     ]
    }
   ],
   "source": [
    "dtype()\n"
   ]
  },
  {
   "cell_type": "code",
   "execution_count": 9,
=======
   "execution_count": 7,
>>>>>>> 958be9d9871ef403b8aa1aa055c351d13224f533
>>>>>>> 227131dfc88cfb518ebab22713d773732bbdb5f4
   "metadata": {},
   "outputs": [
    {
     "data": {
      "text/plain": [
       "FormattedCase1\n",
       "06/27/2020    331\n",
       "06/28/2020    256\n",
       "06/29/2020    310\n",
       "06/30/2020    233\n",
       "07/01/2020    426\n",
       "07/02/2020    350\n",
       "07/03/2020    257\n",
       "07/04/2020    219\n",
       "07/05/2020    171\n",
       "07/06/2020    360\n",
       "07/07/2020    315\n",
       "07/08/2020    248\n",
       "07/09/2020    343\n",
       "07/10/2020    247\n",
       "07/11/2020    132\n",
       "07/12/2020    210\n",
       "07/13/2020    210\n",
       "07/14/2020    195\n",
       "07/15/2020     96\n",
       "07/16/2020     48\n",
       "Name: Hospitalized, dtype: int64"
      ]
     },
     "execution_count": 29,
     "metadata": {},
     "output_type": "execute_result"
    }
   ],
   "source": [
    "hospitalized_df = df.groupby(\"FormattedCase1\").count().reset_index()[['FormattedCase1','Hospitalized']]\n",
    "df.groupby(\"FormattedCase1\").count()['Hospitalized'].tail(20)"
   ]
  },
  {
   "cell_type": "code",
   "execution_count": 33,
   "metadata": {},
   "outputs": [
    {
     "data": {
      "text/plain": [
       "(39.60813172043012, 129.60813172043012)"
      ]
     },
     "execution_count": 33,
     "metadata": {},
     "output_type": "execute_result"
    },
    {
     "ename": "TypeError",
     "evalue": "tzinfo argument must be None or of a tzinfo subclass, not type 'UnitData'",
     "output_type": "error",
     "traceback": [
      "\u001b[1;31m---------------------------------------------------------------------------\u001b[0m",
      "\u001b[1;31mTypeError\u001b[0m                                 Traceback (most recent call last)",
      "\u001b[1;32m~\\anaconda3\\envs\\PythonData\\lib\\site-packages\\ipykernel\\pylab\\backend_inline.py\u001b[0m in \u001b[0;36mshow\u001b[1;34m(close, block)\u001b[0m\n\u001b[0;32m     41\u001b[0m             display(\n\u001b[0;32m     42\u001b[0m                 \u001b[0mfigure_manager\u001b[0m\u001b[1;33m.\u001b[0m\u001b[0mcanvas\u001b[0m\u001b[1;33m.\u001b[0m\u001b[0mfigure\u001b[0m\u001b[1;33m,\u001b[0m\u001b[1;33m\u001b[0m\u001b[1;33m\u001b[0m\u001b[0m\n\u001b[1;32m---> 43\u001b[1;33m                 \u001b[0mmetadata\u001b[0m\u001b[1;33m=\u001b[0m\u001b[0m_fetch_figure_metadata\u001b[0m\u001b[1;33m(\u001b[0m\u001b[0mfigure_manager\u001b[0m\u001b[1;33m.\u001b[0m\u001b[0mcanvas\u001b[0m\u001b[1;33m.\u001b[0m\u001b[0mfigure\u001b[0m\u001b[1;33m)\u001b[0m\u001b[1;33m\u001b[0m\u001b[1;33m\u001b[0m\u001b[0m\n\u001b[0m\u001b[0;32m     44\u001b[0m             )\n\u001b[0;32m     45\u001b[0m     \u001b[1;32mfinally\u001b[0m\u001b[1;33m:\u001b[0m\u001b[1;33m\u001b[0m\u001b[1;33m\u001b[0m\u001b[0m\n",
      "\u001b[1;32m~\\anaconda3\\envs\\PythonData\\lib\\site-packages\\ipykernel\\pylab\\backend_inline.py\u001b[0m in \u001b[0;36m_fetch_figure_metadata\u001b[1;34m(fig)\u001b[0m\n\u001b[0;32m    179\u001b[0m         \u001b[1;31m# the background is transparent\u001b[0m\u001b[1;33m\u001b[0m\u001b[1;33m\u001b[0m\u001b[1;33m\u001b[0m\u001b[0m\n\u001b[0;32m    180\u001b[0m         ticksLight = _is_light([label.get_color()\n\u001b[1;32m--> 181\u001b[1;33m                                 \u001b[1;32mfor\u001b[0m \u001b[0maxes\u001b[0m \u001b[1;32min\u001b[0m \u001b[0mfig\u001b[0m\u001b[1;33m.\u001b[0m\u001b[0maxes\u001b[0m\u001b[1;33m\u001b[0m\u001b[1;33m\u001b[0m\u001b[0m\n\u001b[0m\u001b[0;32m    182\u001b[0m                                 \u001b[1;32mfor\u001b[0m \u001b[0maxis\u001b[0m \u001b[1;32min\u001b[0m \u001b[1;33m(\u001b[0m\u001b[0maxes\u001b[0m\u001b[1;33m.\u001b[0m\u001b[0mxaxis\u001b[0m\u001b[1;33m,\u001b[0m \u001b[0maxes\u001b[0m\u001b[1;33m.\u001b[0m\u001b[0myaxis\u001b[0m\u001b[1;33m)\u001b[0m\u001b[1;33m\u001b[0m\u001b[1;33m\u001b[0m\u001b[0m\n\u001b[0;32m    183\u001b[0m                                 for label in axis.get_ticklabels()])\n",
      "\u001b[1;32m~\\anaconda3\\envs\\PythonData\\lib\\site-packages\\ipykernel\\pylab\\backend_inline.py\u001b[0m in \u001b[0;36m<listcomp>\u001b[1;34m(.0)\u001b[0m\n\u001b[0;32m    181\u001b[0m                                 \u001b[1;32mfor\u001b[0m \u001b[0maxes\u001b[0m \u001b[1;32min\u001b[0m \u001b[0mfig\u001b[0m\u001b[1;33m.\u001b[0m\u001b[0maxes\u001b[0m\u001b[1;33m\u001b[0m\u001b[1;33m\u001b[0m\u001b[0m\n\u001b[0;32m    182\u001b[0m                                 \u001b[1;32mfor\u001b[0m \u001b[0maxis\u001b[0m \u001b[1;32min\u001b[0m \u001b[1;33m(\u001b[0m\u001b[0maxes\u001b[0m\u001b[1;33m.\u001b[0m\u001b[0mxaxis\u001b[0m\u001b[1;33m,\u001b[0m \u001b[0maxes\u001b[0m\u001b[1;33m.\u001b[0m\u001b[0myaxis\u001b[0m\u001b[1;33m)\u001b[0m\u001b[1;33m\u001b[0m\u001b[1;33m\u001b[0m\u001b[0m\n\u001b[1;32m--> 183\u001b[1;33m                                 for label in axis.get_ticklabels()])\n\u001b[0m\u001b[0;32m    184\u001b[0m         \u001b[1;32mif\u001b[0m \u001b[0mticksLight\u001b[0m\u001b[1;33m.\u001b[0m\u001b[0msize\u001b[0m \u001b[1;32mand\u001b[0m \u001b[1;33m(\u001b[0m\u001b[0mticksLight\u001b[0m \u001b[1;33m==\u001b[0m \u001b[0mticksLight\u001b[0m\u001b[1;33m[\u001b[0m\u001b[1;36m0\u001b[0m\u001b[1;33m]\u001b[0m\u001b[1;33m)\u001b[0m\u001b[1;33m.\u001b[0m\u001b[0mall\u001b[0m\u001b[1;33m(\u001b[0m\u001b[1;33m)\u001b[0m\u001b[1;33m:\u001b[0m\u001b[1;33m\u001b[0m\u001b[1;33m\u001b[0m\u001b[0m\n\u001b[0;32m    185\u001b[0m             \u001b[1;31m# there are one or more tick labels, all with the same lightness\u001b[0m\u001b[1;33m\u001b[0m\u001b[1;33m\u001b[0m\u001b[1;33m\u001b[0m\u001b[0m\n",
      "\u001b[1;32m~\\anaconda3\\envs\\PythonData\\lib\\site-packages\\matplotlib\\axis.py\u001b[0m in \u001b[0;36mget_ticklabels\u001b[1;34m(self, minor, which)\u001b[0m\n\u001b[0;32m   1294\u001b[0m         \u001b[1;32mif\u001b[0m \u001b[0mminor\u001b[0m\u001b[1;33m:\u001b[0m\u001b[1;33m\u001b[0m\u001b[1;33m\u001b[0m\u001b[0m\n\u001b[0;32m   1295\u001b[0m             \u001b[1;32mreturn\u001b[0m \u001b[0mself\u001b[0m\u001b[1;33m.\u001b[0m\u001b[0mget_minorticklabels\u001b[0m\u001b[1;33m(\u001b[0m\u001b[1;33m)\u001b[0m\u001b[1;33m\u001b[0m\u001b[1;33m\u001b[0m\u001b[0m\n\u001b[1;32m-> 1296\u001b[1;33m         \u001b[1;32mreturn\u001b[0m \u001b[0mself\u001b[0m\u001b[1;33m.\u001b[0m\u001b[0mget_majorticklabels\u001b[0m\u001b[1;33m(\u001b[0m\u001b[1;33m)\u001b[0m\u001b[1;33m\u001b[0m\u001b[1;33m\u001b[0m\u001b[0m\n\u001b[0m\u001b[0;32m   1297\u001b[0m \u001b[1;33m\u001b[0m\u001b[0m\n\u001b[0;32m   1298\u001b[0m     \u001b[1;32mdef\u001b[0m \u001b[0mget_majorticklines\u001b[0m\u001b[1;33m(\u001b[0m\u001b[0mself\u001b[0m\u001b[1;33m)\u001b[0m\u001b[1;33m:\u001b[0m\u001b[1;33m\u001b[0m\u001b[1;33m\u001b[0m\u001b[0m\n",
      "\u001b[1;32m~\\anaconda3\\envs\\PythonData\\lib\\site-packages\\matplotlib\\axis.py\u001b[0m in \u001b[0;36mget_majorticklabels\u001b[1;34m(self)\u001b[0m\n\u001b[0;32m   1250\u001b[0m     \u001b[1;32mdef\u001b[0m \u001b[0mget_majorticklabels\u001b[0m\u001b[1;33m(\u001b[0m\u001b[0mself\u001b[0m\u001b[1;33m)\u001b[0m\u001b[1;33m:\u001b[0m\u001b[1;33m\u001b[0m\u001b[1;33m\u001b[0m\u001b[0m\n\u001b[0;32m   1251\u001b[0m         \u001b[1;34m'Return a list of Text instances for the major ticklabels.'\u001b[0m\u001b[1;33m\u001b[0m\u001b[1;33m\u001b[0m\u001b[0m\n\u001b[1;32m-> 1252\u001b[1;33m         \u001b[0mticks\u001b[0m \u001b[1;33m=\u001b[0m \u001b[0mself\u001b[0m\u001b[1;33m.\u001b[0m\u001b[0mget_major_ticks\u001b[0m\u001b[1;33m(\u001b[0m\u001b[1;33m)\u001b[0m\u001b[1;33m\u001b[0m\u001b[1;33m\u001b[0m\u001b[0m\n\u001b[0m\u001b[0;32m   1253\u001b[0m         \u001b[0mlabels1\u001b[0m \u001b[1;33m=\u001b[0m \u001b[1;33m[\u001b[0m\u001b[0mtick\u001b[0m\u001b[1;33m.\u001b[0m\u001b[0mlabel1\u001b[0m \u001b[1;32mfor\u001b[0m \u001b[0mtick\u001b[0m \u001b[1;32min\u001b[0m \u001b[0mticks\u001b[0m \u001b[1;32mif\u001b[0m \u001b[0mtick\u001b[0m\u001b[1;33m.\u001b[0m\u001b[0mlabel1\u001b[0m\u001b[1;33m.\u001b[0m\u001b[0mget_visible\u001b[0m\u001b[1;33m(\u001b[0m\u001b[1;33m)\u001b[0m\u001b[1;33m]\u001b[0m\u001b[1;33m\u001b[0m\u001b[1;33m\u001b[0m\u001b[0m\n\u001b[0;32m   1254\u001b[0m         \u001b[0mlabels2\u001b[0m \u001b[1;33m=\u001b[0m \u001b[1;33m[\u001b[0m\u001b[0mtick\u001b[0m\u001b[1;33m.\u001b[0m\u001b[0mlabel2\u001b[0m \u001b[1;32mfor\u001b[0m \u001b[0mtick\u001b[0m \u001b[1;32min\u001b[0m \u001b[0mticks\u001b[0m \u001b[1;32mif\u001b[0m \u001b[0mtick\u001b[0m\u001b[1;33m.\u001b[0m\u001b[0mlabel2\u001b[0m\u001b[1;33m.\u001b[0m\u001b[0mget_visible\u001b[0m\u001b[1;33m(\u001b[0m\u001b[1;33m)\u001b[0m\u001b[1;33m]\u001b[0m\u001b[1;33m\u001b[0m\u001b[1;33m\u001b[0m\u001b[0m\n",
      "\u001b[1;32m~\\anaconda3\\envs\\PythonData\\lib\\site-packages\\matplotlib\\axis.py\u001b[0m in \u001b[0;36mget_major_ticks\u001b[1;34m(self, numticks)\u001b[0m\n\u001b[0;32m   1405\u001b[0m         \u001b[1;34m'Get the tick instances; grow as necessary.'\u001b[0m\u001b[1;33m\u001b[0m\u001b[1;33m\u001b[0m\u001b[0m\n\u001b[0;32m   1406\u001b[0m         \u001b[1;32mif\u001b[0m \u001b[0mnumticks\u001b[0m \u001b[1;32mis\u001b[0m \u001b[1;32mNone\u001b[0m\u001b[1;33m:\u001b[0m\u001b[1;33m\u001b[0m\u001b[1;33m\u001b[0m\u001b[0m\n\u001b[1;32m-> 1407\u001b[1;33m             \u001b[0mnumticks\u001b[0m \u001b[1;33m=\u001b[0m \u001b[0mlen\u001b[0m\u001b[1;33m(\u001b[0m\u001b[0mself\u001b[0m\u001b[1;33m.\u001b[0m\u001b[0mget_majorticklocs\u001b[0m\u001b[1;33m(\u001b[0m\u001b[1;33m)\u001b[0m\u001b[1;33m)\u001b[0m\u001b[1;33m\u001b[0m\u001b[1;33m\u001b[0m\u001b[0m\n\u001b[0m\u001b[0;32m   1408\u001b[0m \u001b[1;33m\u001b[0m\u001b[0m\n\u001b[0;32m   1409\u001b[0m         \u001b[1;32mwhile\u001b[0m \u001b[0mlen\u001b[0m\u001b[1;33m(\u001b[0m\u001b[0mself\u001b[0m\u001b[1;33m.\u001b[0m\u001b[0mmajorTicks\u001b[0m\u001b[1;33m)\u001b[0m \u001b[1;33m<\u001b[0m \u001b[0mnumticks\u001b[0m\u001b[1;33m:\u001b[0m\u001b[1;33m\u001b[0m\u001b[1;33m\u001b[0m\u001b[0m\n",
      "\u001b[1;32m~\\anaconda3\\envs\\PythonData\\lib\\site-packages\\matplotlib\\axis.py\u001b[0m in \u001b[0;36mget_majorticklocs\u001b[1;34m(self)\u001b[0m\n\u001b[0;32m   1322\u001b[0m     \u001b[1;32mdef\u001b[0m \u001b[0mget_majorticklocs\u001b[0m\u001b[1;33m(\u001b[0m\u001b[0mself\u001b[0m\u001b[1;33m)\u001b[0m\u001b[1;33m:\u001b[0m\u001b[1;33m\u001b[0m\u001b[1;33m\u001b[0m\u001b[0m\n\u001b[0;32m   1323\u001b[0m         \u001b[1;34m\"\"\"Get the array of major tick locations in data coordinates.\"\"\"\u001b[0m\u001b[1;33m\u001b[0m\u001b[1;33m\u001b[0m\u001b[0m\n\u001b[1;32m-> 1324\u001b[1;33m         \u001b[1;32mreturn\u001b[0m \u001b[0mself\u001b[0m\u001b[1;33m.\u001b[0m\u001b[0mmajor\u001b[0m\u001b[1;33m.\u001b[0m\u001b[0mlocator\u001b[0m\u001b[1;33m(\u001b[0m\u001b[1;33m)\u001b[0m\u001b[1;33m\u001b[0m\u001b[1;33m\u001b[0m\u001b[0m\n\u001b[0m\u001b[0;32m   1325\u001b[0m \u001b[1;33m\u001b[0m\u001b[0m\n\u001b[0;32m   1326\u001b[0m     \u001b[1;32mdef\u001b[0m \u001b[0mget_minorticklocs\u001b[0m\u001b[1;33m(\u001b[0m\u001b[0mself\u001b[0m\u001b[1;33m)\u001b[0m\u001b[1;33m:\u001b[0m\u001b[1;33m\u001b[0m\u001b[1;33m\u001b[0m\u001b[0m\n",
      "\u001b[1;32m~\\anaconda3\\envs\\PythonData\\lib\\site-packages\\matplotlib\\dates.py\u001b[0m in \u001b[0;36m__call__\u001b[1;34m(self)\u001b[0m\n\u001b[0;32m   1426\u001b[0m     \u001b[1;32mdef\u001b[0m \u001b[0m__call__\u001b[0m\u001b[1;33m(\u001b[0m\u001b[0mself\u001b[0m\u001b[1;33m)\u001b[0m\u001b[1;33m:\u001b[0m\u001b[1;33m\u001b[0m\u001b[1;33m\u001b[0m\u001b[0m\n\u001b[0;32m   1427\u001b[0m         \u001b[1;34m'Return the locations of the ticks'\u001b[0m\u001b[1;33m\u001b[0m\u001b[1;33m\u001b[0m\u001b[0m\n\u001b[1;32m-> 1428\u001b[1;33m         \u001b[0mself\u001b[0m\u001b[1;33m.\u001b[0m\u001b[0mrefresh\u001b[0m\u001b[1;33m(\u001b[0m\u001b[1;33m)\u001b[0m\u001b[1;33m\u001b[0m\u001b[1;33m\u001b[0m\u001b[0m\n\u001b[0m\u001b[0;32m   1429\u001b[0m         \u001b[1;32mreturn\u001b[0m \u001b[0mself\u001b[0m\u001b[1;33m.\u001b[0m\u001b[0m_locator\u001b[0m\u001b[1;33m(\u001b[0m\u001b[1;33m)\u001b[0m\u001b[1;33m\u001b[0m\u001b[1;33m\u001b[0m\u001b[0m\n\u001b[0;32m   1430\u001b[0m \u001b[1;33m\u001b[0m\u001b[0m\n",
      "\u001b[1;32m~\\anaconda3\\envs\\PythonData\\lib\\site-packages\\matplotlib\\dates.py\u001b[0m in \u001b[0;36mrefresh\u001b[1;34m(self)\u001b[0m\n\u001b[0;32m   1446\u001b[0m     \u001b[1;32mdef\u001b[0m \u001b[0mrefresh\u001b[0m\u001b[1;33m(\u001b[0m\u001b[0mself\u001b[0m\u001b[1;33m)\u001b[0m\u001b[1;33m:\u001b[0m\u001b[1;33m\u001b[0m\u001b[1;33m\u001b[0m\u001b[0m\n\u001b[0;32m   1447\u001b[0m         \u001b[1;34m'Refresh internal information based on current limits.'\u001b[0m\u001b[1;33m\u001b[0m\u001b[1;33m\u001b[0m\u001b[0m\n\u001b[1;32m-> 1448\u001b[1;33m         \u001b[0mdmin\u001b[0m\u001b[1;33m,\u001b[0m \u001b[0mdmax\u001b[0m \u001b[1;33m=\u001b[0m \u001b[0mself\u001b[0m\u001b[1;33m.\u001b[0m\u001b[0mviewlim_to_dt\u001b[0m\u001b[1;33m(\u001b[0m\u001b[1;33m)\u001b[0m\u001b[1;33m\u001b[0m\u001b[1;33m\u001b[0m\u001b[0m\n\u001b[0m\u001b[0;32m   1449\u001b[0m         \u001b[0mself\u001b[0m\u001b[1;33m.\u001b[0m\u001b[0m_locator\u001b[0m \u001b[1;33m=\u001b[0m \u001b[0mself\u001b[0m\u001b[1;33m.\u001b[0m\u001b[0mget_locator\u001b[0m\u001b[1;33m(\u001b[0m\u001b[0mdmin\u001b[0m\u001b[1;33m,\u001b[0m \u001b[0mdmax\u001b[0m\u001b[1;33m)\u001b[0m\u001b[1;33m\u001b[0m\u001b[1;33m\u001b[0m\u001b[0m\n\u001b[0;32m   1450\u001b[0m \u001b[1;33m\u001b[0m\u001b[0m\n",
      "\u001b[1;32m~\\anaconda3\\envs\\PythonData\\lib\\site-packages\\matplotlib\\dates.py\u001b[0m in \u001b[0;36mviewlim_to_dt\u001b[1;34m(self)\u001b[0m\n\u001b[0;32m   1198\u001b[0m                              \u001b[1;34m'value to an axis that has datetime units'\u001b[0m\u001b[1;33m\u001b[0m\u001b[1;33m\u001b[0m\u001b[0m\n\u001b[0;32m   1199\u001b[0m                              .format(vmin))\n\u001b[1;32m-> 1200\u001b[1;33m         \u001b[1;32mreturn\u001b[0m \u001b[0mnum2date\u001b[0m\u001b[1;33m(\u001b[0m\u001b[0mvmin\u001b[0m\u001b[1;33m,\u001b[0m \u001b[0mself\u001b[0m\u001b[1;33m.\u001b[0m\u001b[0mtz\u001b[0m\u001b[1;33m)\u001b[0m\u001b[1;33m,\u001b[0m \u001b[0mnum2date\u001b[0m\u001b[1;33m(\u001b[0m\u001b[0mvmax\u001b[0m\u001b[1;33m,\u001b[0m \u001b[0mself\u001b[0m\u001b[1;33m.\u001b[0m\u001b[0mtz\u001b[0m\u001b[1;33m)\u001b[0m\u001b[1;33m\u001b[0m\u001b[1;33m\u001b[0m\u001b[0m\n\u001b[0m\u001b[0;32m   1201\u001b[0m \u001b[1;33m\u001b[0m\u001b[0m\n\u001b[0;32m   1202\u001b[0m     \u001b[1;32mdef\u001b[0m \u001b[0m_get_unit\u001b[0m\u001b[1;33m(\u001b[0m\u001b[0mself\u001b[0m\u001b[1;33m)\u001b[0m\u001b[1;33m:\u001b[0m\u001b[1;33m\u001b[0m\u001b[1;33m\u001b[0m\u001b[0m\n",
      "\u001b[1;32m~\\anaconda3\\envs\\PythonData\\lib\\site-packages\\matplotlib\\dates.py\u001b[0m in \u001b[0;36mnum2date\u001b[1;34m(x, tz)\u001b[0m\n\u001b[0;32m    491\u001b[0m         \u001b[0mtz\u001b[0m \u001b[1;33m=\u001b[0m \u001b[0m_get_rc_timezone\u001b[0m\u001b[1;33m(\u001b[0m\u001b[1;33m)\u001b[0m\u001b[1;33m\u001b[0m\u001b[1;33m\u001b[0m\u001b[0m\n\u001b[0;32m    492\u001b[0m     \u001b[1;32mif\u001b[0m \u001b[1;32mnot\u001b[0m \u001b[0mnp\u001b[0m\u001b[1;33m.\u001b[0m\u001b[0miterable\u001b[0m\u001b[1;33m(\u001b[0m\u001b[0mx\u001b[0m\u001b[1;33m)\u001b[0m\u001b[1;33m:\u001b[0m\u001b[1;33m\u001b[0m\u001b[1;33m\u001b[0m\u001b[0m\n\u001b[1;32m--> 493\u001b[1;33m         \u001b[1;32mreturn\u001b[0m \u001b[0m_from_ordinalf\u001b[0m\u001b[1;33m(\u001b[0m\u001b[0mx\u001b[0m\u001b[1;33m,\u001b[0m \u001b[0mtz\u001b[0m\u001b[1;33m)\u001b[0m\u001b[1;33m\u001b[0m\u001b[1;33m\u001b[0m\u001b[0m\n\u001b[0m\u001b[0;32m    494\u001b[0m     \u001b[1;32melse\u001b[0m\u001b[1;33m:\u001b[0m\u001b[1;33m\u001b[0m\u001b[1;33m\u001b[0m\u001b[0m\n\u001b[0;32m    495\u001b[0m         \u001b[0mx\u001b[0m \u001b[1;33m=\u001b[0m \u001b[0mnp\u001b[0m\u001b[1;33m.\u001b[0m\u001b[0masarray\u001b[0m\u001b[1;33m(\u001b[0m\u001b[0mx\u001b[0m\u001b[1;33m)\u001b[0m\u001b[1;33m\u001b[0m\u001b[1;33m\u001b[0m\u001b[0m\n",
      "\u001b[1;32m~\\anaconda3\\envs\\PythonData\\lib\\site-packages\\matplotlib\\dates.py\u001b[0m in \u001b[0;36m_from_ordinalf\u001b[1;34m(x, tz)\u001b[0m\n\u001b[0;32m    304\u001b[0m     \u001b[1;31m# add hours, minutes, seconds, microseconds\u001b[0m\u001b[1;33m\u001b[0m\u001b[1;33m\u001b[0m\u001b[1;33m\u001b[0m\u001b[0m\n\u001b[0;32m    305\u001b[0m     \u001b[0mdt\u001b[0m \u001b[1;33m+=\u001b[0m \u001b[0mdatetime\u001b[0m\u001b[1;33m.\u001b[0m\u001b[0mtimedelta\u001b[0m\u001b[1;33m(\u001b[0m\u001b[0mmicroseconds\u001b[0m\u001b[1;33m=\u001b[0m\u001b[0mremainder_musec\u001b[0m\u001b[1;33m)\u001b[0m\u001b[1;33m\u001b[0m\u001b[1;33m\u001b[0m\u001b[0m\n\u001b[1;32m--> 306\u001b[1;33m     \u001b[1;32mreturn\u001b[0m \u001b[0mdt\u001b[0m\u001b[1;33m.\u001b[0m\u001b[0mastimezone\u001b[0m\u001b[1;33m(\u001b[0m\u001b[0mtz\u001b[0m\u001b[1;33m)\u001b[0m\u001b[1;33m\u001b[0m\u001b[1;33m\u001b[0m\u001b[0m\n\u001b[0m\u001b[0;32m    307\u001b[0m \u001b[1;33m\u001b[0m\u001b[0m\n\u001b[0;32m    308\u001b[0m \u001b[1;33m\u001b[0m\u001b[0m\n",
      "\u001b[1;31mTypeError\u001b[0m: tzinfo argument must be None or of a tzinfo subclass, not type 'UnitData'"
     ]
    }
   ],
   "source": [
    "fig, ax = plt.subplots()\n",
    "fig.set_size_inches(8,6)\n",
    "plt.scatter(hospitalized_df['FormattedCase1'],hospitalized_df[\"Hospitalized\"])\n",
    "ax.xaxis.set_major_formatter(DateFormatter(\"%m/%d\"))\n",
    "ax.xaxis_date()\n",
    "plt.title(label=\"New Hospitalizations in Florida\")\n",
    "plt.xlim(left=plt.xlim()[1]-99,right=plt.xlim()[1]-9)"
   ]
  },
  {
   "cell_type": "markdown",
   "metadata": {},
   "source": [
    "## Hypothesis Testing\n",
    "-------------"
   ]
  },
  {
   "cell_type": "code",
   "execution_count": 75,
   "metadata": {},
   "outputs": [],
   "source": [
    "day_delta = 14\n",
    "opening_date = dt.datetime(2020,5,4) + dt.timedelta(days=6)\n",
    "d_before = opening_date - dt.timedelta(days=day_delta)\n",
    "d_after = opening_date + dt.timedelta(days=day_delta)\n",
    "filt_before = ((df[\"EventDate\"]>=d_before) & (df[\"EventDate\"] < opening_date))\n",
    "before_df = df[filt_before]\n",
    "filt_after = ((df[\"EventDate\"]>opening_date) & (df[\"EventDate\"] <= d_after))\n",
    "after_df = df[filt_after]\n",
    "\n",
    "grouped_before = before_df.groupby(\"EventDate\").count().reset_index()[['EventDate','Hospitalized']]\n",
    "grouped_after = after_df.groupby(\"EventDate\").count().reset_index()[['EventDate','Hospitalized']]"
   ]
  },
  {
   "cell_type": "code",
   "execution_count": 76,
   "metadata": {},
   "outputs": [
    {
     "data": {
      "text/plain": [
       "Ttest_indResult(statistic=-0.48635165455900886, pvalue=0.6307922218061446)"
      ]
     },
     "execution_count": 76,
     "metadata": {},
     "output_type": "execute_result"
    },
    {
     "data": {
      "image/png": "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\n",
      "text/plain": [
       "<Figure size 432x288 with 2 Axes>"
      ]
     },
     "metadata": {
      "needs_background": "light"
     },
     "output_type": "display_data"
    }
   ],
   "source": [
    "# Generate some fake data to test with\n",
    "def gendata(loc=0):\n",
    "    sample1 = grouped_before['Hospitalized']\n",
    "    sample2 = grouped_after['Hospitalized']\n",
    "\n",
    "    # Scatter Plot of Data\n",
    "    plt.subplot(2, 1, 1)\n",
    "    plt.scatter(range(len(sample1)), sample1, label=\"before\")\n",
    "    plt.scatter(range(len(sample2)), sample2, label=\"after\")\n",
    "    plt.legend()\n",
    "\n",
    "    # Histogram Plot of Data\n",
    "    plt.subplot(2, 1, 2)\n",
    "    plt.hist(sample1, 20, density=True, alpha=0.7, label=\"before\")\n",
    "    plt.hist(sample2, 20, density=True, alpha=0.7, label=\"after\")\n",
    "    plt.axvline(sample1.mean(), color='k', linestyle='dashed', linewidth=1)\n",
    "    plt.axvline(sample2.mean(), color='k', linestyle='dashed', linewidth=1)\n",
    "    plt.legend()  \n",
    "    \n",
    "    return sample1, sample2\n",
    "\n",
    "sample1, sample2 = gendata()\n",
    "stats.ttest_ind_from_stats(grouped_before[\"Hospitalized\"].mean(),grouped_before[\"Hospitalized\"].std(),grouped_before[\"Hospitalized\"].size,grouped_after[\"Hospitalized\"].mean(),grouped_after[\"Hospitalized\"].std(),grouped_after[\"Hospitalized\"].size)"
   ]
  },
  {
   "cell_type": "code",
   "execution_count": 79,
   "metadata": {},
   "outputs": [
    {
     "data": {
      "text/plain": [
       "count     14.000000\n",
       "mean     120.214286\n",
       "std       20.081291\n",
       "min       81.000000\n",
       "25%      107.500000\n",
       "50%      119.000000\n",
       "75%      127.000000\n",
       "max      165.000000\n",
       "Name: Hospitalized, dtype: float64"
      ]
     },
     "execution_count": 79,
     "metadata": {},
     "output_type": "execute_result"
    }
   ],
   "source": [
    "grouped_after[\"Hospitalized\"].describe()"
   ]
  },
  {
   "cell_type": "code",
   "execution_count": 78,
   "metadata": {},
   "outputs": [
    {
     "data": {
      "text/plain": [
       "count     14.000000\n",
       "mean     115.642857\n",
       "std       28.872684\n",
       "min       84.000000\n",
       "25%       96.250000\n",
       "50%      108.000000\n",
       "75%      122.500000\n",
       "max      190.000000\n",
       "Name: Hospitalized, dtype: float64"
      ]
     },
     "execution_count": 78,
     "metadata": {},
     "output_type": "execute_result"
    }
   ],
   "source": [
    "grouped_before[\"Hospitalized\"].describe()"
   ]
  },
  {
   "cell_type": "code",
   "execution_count": null,
   "metadata": {},
   "outputs": [],
   "source": []
  }
 ],
 "metadata": {
  "kernelspec": {
   "display_name": "Python 3.6.10 64-bit ('PythonData': conda)",
   "language": "python",
   "name": "python361064bitpythondataconda7465b2e4d16447d5bf5dcc356c678f6e"
  },
  "language_info": {
   "codemirror_mode": {
    "name": "ipython",
    "version": 3
   },
   "file_extension": ".py",
   "mimetype": "text/x-python",
   "name": "python",
   "nbconvert_exporter": "python",
   "pygments_lexer": "ipython3",
   "version": "3.6.10"
  }
 },
 "nbformat": 4,
 "nbformat_minor": 4
}
# comment