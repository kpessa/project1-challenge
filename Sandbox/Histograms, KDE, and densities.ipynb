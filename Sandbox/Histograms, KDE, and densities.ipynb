{
 "cells": [
  {
   "cell_type": "code",
   "execution_count": 18,
   "metadata": {},
   "outputs": [],
   "source": [
    "import requests\n",
    "import pandas as pd\n",
    "import io\n",
    "import matplotlib.pyplot as plt\n",
    "import warnings\n",
    "warnings.filterwarnings('ignore')"
   ]
  },
  {
   "cell_type": "code",
   "execution_count": 2,
   "metadata": {},
   "outputs": [],
   "source": [
    "csv = requests.get(\"https://opendata.arcgis.com/datasets/37abda537d17458bae6677b8ab75fcb9_0.csv\").content\n",
    "main_df = pd.read_csv(io.StringIO(csv.decode('utf-8')))"
   ]
  },
  {
   "cell_type": "code",
   "execution_count": 22,
   "metadata": {},
   "outputs": [],
   "source": [
    "filt = main_df[\"Hospitalized\"] == \"YES\"\n",
    "df = main_df[filt]\n",
    "df.Case1 = df.loc[:,\"Case1\"].str.split()\n",
    "df.Case1 = df.Case1.map(lambda x: x[0])\n",
    "df.rename(columns = {\"Case1\":\"CaseDate\"},inplace=True)"
   ]
  },
  {
   "cell_type": "code",
   "execution_count": 26,
   "metadata": {},
   "outputs": [],
   "source": [
    "hospitalized_df = df.groupby(\"CaseDate\").count().reset_index()[['CaseDate','Hospitalized']]\n",
    "data = df.groupby(\"CaseDate\").count()['Hospitalized']"
   ]
  },
  {
   "cell_type": "code",
   "execution_count": 24,
   "metadata": {},
   "outputs": [],
   "source": [
    "data = pd.DataFrame[{\n",
    "    \"\"\n",
    "}]"
   ]
  },
  {
   "cell_type": "code",
   "execution_count": 20,
   "metadata": {},
   "outputs": [
    {
     "data": {
      "image/png": "[encoded data removed]",
      "text/plain": [
       "<Figure size 432x288 with 1 Axes>"
      ]
     },
     "metadata": {
      "needs_background": "light"
     },
     "output_type": "display_data"
    }
   ],
   "source": [
    "for col in 'xy':\n",
    "    plt.hist(data[col], alpha=0.5)"
   ]
  },
  {
   "cell_type": "code",
   "execution_count": 27,
   "metadata": {},
   "outputs": [
    {
     "data": {
      "text/plain": [
       "CaseDate\n",
       "2020/03/02      1\n",
       "2020/03/04      1\n",
       "2020/03/05      1\n",
       "2020/03/07      3\n",
       "2020/03/09      1\n",
       "             ... \n",
       "2020/07/12    210\n",
       "2020/07/13    210\n",
       "2020/07/14    195\n",
       "2020/07/15     96\n",
       "2020/07/16     48\n",
       "Name: Hospitalized, Length: 133, dtype: int64"
      ]
     },
     "execution_count": 27,
     "metadata": {},
     "output_type": "execute_result"
    }
   ],
   "source": [
    "data"
   ]
  },
  {
   "cell_type": "code",
   "execution_count": null,
   "metadata": {},
   "outputs": [],
   "source": []
  }
 ],
 "metadata": {
  "kernelspec": {
   "display_name": "Python 3.6.10 64-bit ('PythonData': conda)",
   "language": "python",
   "name": "python361064bitpythondataconda13c33e7d00474160b8916212f83fb86d"
  },
  "language_info": {
   "codemirror_mode": {
    "name": "ipython",
    "version": 3
   },
   "file_extension": ".py",
   "mimetype": "text/x-python",
   "name": "python",
   "nbconvert_exporter": "python",
   "pygments_lexer": "ipython3",
   "version": "3.6.10"
  }
 },
 "nbformat": 4,
 "nbformat_minor": 4
}
