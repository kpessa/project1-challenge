{
 "cells": [
  {
   "cell_type": "code",
   "execution_count": null,
   "metadata": {},
   "outputs": [],
   "source": [
    "import requests\n",
    "import pandas as pd\n",
    "import io\n",
    "import datetime as dt\n",
    "import matplotlib as mpl\n",
    "from matplotlib.dates import DateFormatter\n",
    "import matplotlib.pyplot as plt\n",
    "import scipy.stats as stats\n",
    "from IPython.display import JSON\n",
    "#import seaborn as sns\n",
    "#sns.set()\n",
    "%matplotlib inline\n",
    "import warnings\n",
    "warnings.filterwarnings('ignore')\n",
    "import os"
   ]
  },
  {
   "cell_type": "code",
   "execution_count": null,
   "metadata": {},
   "outputs": [],
   "source": [
    "csv = requests.get(\"https://opendata.arcgis.com/datasets/37abda537d17458bae6677b8ab75fcb9_0.csv\").content\n",
    "main_df = pd.read_csv(io.StringIO(csv.decode('utf-8')))"
   ]
  },
  {
   "cell_type": "markdown",
   "metadata": {},
   "source": [
    "1. Filtering out \"Hospitalizations\""
   ]
  },
  {
   "cell_type": "code",
   "execution_count": null,
   "metadata": {},
   "outputs": [],
   "source": [
    "filt = main_df[\"Hospitalized\"] == \"YES\"\n",
    "df = main_df[filt]"
   ]
  },
  {
   "cell_type": "code",
   "execution_count": null,
   "metadata": {},
   "outputs": [],
   "source": [
    "# Trying to save the data to a csv\n",
    "# df = df[['County','Age',\"Age_group\",\"Gender\",\"Jurisdiction\",\"Travel_related\",\"Hospitalized\",\"Died\",\"CaseDate\"]]\n",
    "# filepath = \"../Resources/cleaned_csv.csv\"\n",
    "# df.to_csv(filepath)"
   ]
  },
  {
   "cell_type": "code",
   "execution_count": null,
   "metadata": {},
   "outputs": [],
   "source": [
    "#df"
   ]
  },
  {
   "cell_type": "markdown",
   "metadata": {},
   "source": [
    "2. Changing 'EventDate' to more manageable structure"
   ]
  },
  {
   "cell_type": "code",
   "execution_count": null,
   "metadata": {},
   "outputs": [],
   "source": [
    "# Splitting dates\n",
    "#df.Case1 = df.loc[:,\"Case1\"].str.split()\n",
    "#df.Case1 = df.Case1.map(lambda x: x[0])\n",
    "#df.rename(columns = {\"Case1\":\"CaseDate\"},inplace=True)"
   ]
  },
  {
   "cell_type": "code",
   "execution_count": null,
   "metadata": {},
   "outputs": [],
   "source": [
    "# First Run through\n",
    "#df.loc[:,'EventDate'] = pd.to_datetime(df.loc[:,'EventDate'],format='%Y/%m/%d %H:%M:%S')\n",
    "#df.loc[:,\"FormattedEventDate\"] = df.loc[:,\"EventDate\"].dt.strftime(\"%m/%d/%Y\")\n",
    "#df.loc[:,\"EventDate\"] = pd.to_datetime(df.loc[:,\"FormattedEventDate\"],format='%m/%d/%Y')\n",
    "#df = df.iloc[:,[0,1,2,3,7,8,9,13,16]]"
   ]
  },
  {
   "cell_type": "code",
   "execution_count": null,
   "metadata": {},
   "outputs": [],
   "source": [
    "df.loc[:,'Case1'] = pd.to_datetime(df.loc[:,'Case1'],format='%Y/%m/%d %H:%M:%S')\n",
    "df.loc[:,\"FormattedCase1\"] = df.loc[:,\"Case1\"].dt.strftime(\"%m/%d/%Y\")\n",
    "df.loc[:,\"Case1\"] = pd.to_datetime(df.loc[:,\"FormattedCase1\"],format='%m/%d/%Y')\n",
    "df = df.iloc[:,[0,1,2,3,7,8,9,13,16]]"
   ]
  },
  {
   "cell_type": "code",
   "execution_count": null,
   "metadata": {},
   "outputs": [],
   "source": [
    "df.columns"
   ]
  },
  {
   "cell_type": "code",
   "execution_count": null,
   "metadata": {},
   "outputs": [],
   "source": [
    "df.head(3)"
   ]
  },
  {
   "cell_type": "code",
   "execution_count": null,
   "metadata": {},
   "outputs": [],
   "source": [
    "dtype()\n"
   ]
  },
  {
   "cell_type": "code",
   "execution_count": null,
   "metadata": {},
   "outputs": [],
   "source": [
    "hospitalized_df = df.groupby(\"FormattedCase1\").count().reset_index()[['FormattedCase1','Hospitalized']]\n",
    "df.groupby(\"FormattedCase1\").count()['Hospitalized'].tail(20)"
   ]
  },
  {
   "cell_type": "code",
   "execution_count": null,
   "metadata": {},
   "outputs": [],
   "source": [
    "fig, ax = plt.subplots()\n",
    "fig.set_size_inches(8,6)\n",
    "plt.scatter(hospitalized_df['FormattedCase1'],hospitalized_df[\"Hospitalized\"])\n",
    "ax.xaxis.set_major_formatter(DateFormatter(\"%m/%d\"))\n",
    "ax.xaxis_date()\n",
    "plt.title(label=\"New Hospitalizations in Florida\")\n",
    "#plt.xlim(left=plt.xlim()[1]-99,right=plt.xlim()[1]-9)"
   ]
  },
  {
   "cell_type": "markdown",
   "metadata": {},
   "source": [
    "## Hypothesis Testing\n",
    "-------------"
   ]
  },
  {
   "cell_type": "code",
   "execution_count": null,
   "metadata": {},
   "outputs": [],
   "source": [
    "day_delta = 14\n",
    "opening_date = dt.datetime(2020,5,4) + dt.timedelta(days=6)\n",
    "d_before = opening_date - dt.timedelta(days=day_delta)\n",
    "d_after = opening_date + dt.timedelta(days=day_delta)\n",
    "filt_before = ((df[\"EventDate\"]>=d_before) & (df[\"EventDate\"] < opening_date))\n",
    "before_df = df[filt_before]\n",
    "filt_after = ((df[\"EventDate\"]>opening_date) & (df[\"EventDate\"] <= d_after))\n",
    "after_df = df[filt_after]\n",
    "\n",
    "grouped_before = before_df.groupby(\"EventDate\").count().reset_index()[['EventDate','Hospitalized']]\n",
    "grouped_after = after_df.groupby(\"EventDate\").count().reset_index()[['EventDate','Hospitalized']]"
   ]
  },
  {
   "cell_type": "code",
   "execution_count": null,
   "metadata": {},
   "outputs": [],
   "source": [
    "# Generate some fake data to test with\n",
    "def gendata(loc=0):\n",
    "    sample1 = grouped_before['Hospitalized']\n",
    "    sample2 = grouped_after['Hospitalized']\n",
    "\n",
    "    # Scatter Plot of Data\n",
    "    plt.subplot(2, 1, 1)\n",
    "    plt.scatter(range(len(sample1)), sample1, label=\"before\")\n",
    "    plt.scatter(range(len(sample2)), sample2, label=\"after\")\n",
    "    plt.legend()\n",
    "\n",
    "    # Histogram Plot of Data\n",
    "    plt.subplot(2, 1, 2)\n",
    "    plt.hist(sample1, 20, density=True, alpha=0.7, label=\"before\")\n",
    "    plt.hist(sample2, 20, density=True, alpha=0.7, label=\"after\")\n",
    "    plt.axvline(sample1.mean(), color='k', linestyle='dashed', linewidth=1)\n",
    "    plt.axvline(sample2.mean(), color='k', linestyle='dashed', linewidth=1)\n",
    "    plt.legend()  \n",
    "    \n",
    "    return sample1, sample2\n",
    "\n",
    "sample1, sample2 = gendata()\n",
    "stats.ttest_ind_from_stats(grouped_before[\"Hospitalized\"].mean(),grouped_before[\"Hospitalized\"].std(),grouped_before[\"Hospitalized\"].size,grouped_after[\"Hospitalized\"].mean(),grouped_after[\"Hospitalized\"].std(),grouped_after[\"Hospitalized\"].size)"
   ]
  },
  {
   "cell_type": "code",
   "execution_count": null,
   "metadata": {},
   "outputs": [],
   "source": [
    "grouped_after[\"Hospitalized\"].describe()"
   ]
  },
  {
   "cell_type": "code",
   "execution_count": null,
   "metadata": {},
   "outputs": [],
   "source": [
    "grouped_before[\"Hospitalized\"].describe()"
   ]
  },
  {
   "cell_type": "code",
   "execution_count": null,
   "metadata": {},
   "outputs": [],
   "source": []
  }
 ],
 "metadata": {
  "kernelspec": {
   "display_name": "Python 3.6.10 64-bit ('PythonData': conda)",
   "language": "python",
   "name": "python361064bitpythondataconda7465b2e4d16447d5bf5dcc356c678f6e"
  },
  "language_info": {
   "codemirror_mode": {
    "name": "ipython",
    "version": 3
   },
   "file_extension": ".py",
   "mimetype": "text/x-python",
   "name": "python",
   "nbconvert_exporter": "python",
   "pygments_lexer": "ipython3",
   "version": "3.6.10"
  }
 },
 "nbformat": 4,
 "nbformat_minor": 4
}
