{
 "cells": [
  {
   "cell_type": "markdown",
   "metadata": {},
   "source": [
    "# Project 1\n",
    "- **Team Members**: Chika Ozodiegwu, Kelsey Wyatt, Libardo Lambrano, Kurt Pessa\n",
    "\n",
    "![](Images/florida_covid19_data.jpg)\n",
    "\n",
    "### Data set used:\n",
    "* https://open-fdoh.hub.arcgis.com/datasets/florida-covid19-case-line-data\n"
   ]
  },
  {
   "cell_type": "code",
   "execution_count": 1,
   "metadata": {},
   "outputs": [
    {
     "data": {
      "text/html": [
       "<div>\n",
       "<style scoped>\n",
       "    .dataframe tbody tr th:only-of-type {\n",
       "        vertical-align: middle;\n",
       "    }\n",
       "\n",
       "    .dataframe tbody tr th {\n",
       "        vertical-align: top;\n",
       "    }\n",
       "\n",
       "    .dataframe thead th {\n",
       "        text-align: right;\n",
       "    }\n",
       "</style>\n",
       "<table border=\"1\" class=\"dataframe\">\n",
       "  <thead>\n",
       "    <tr style=\"text-align: right;\">\n",
       "      <th></th>\n",
       "      <th>County</th>\n",
       "      <th>Age</th>\n",
       "      <th>Age_group</th>\n",
       "      <th>Gender</th>\n",
       "      <th>Jurisdiction</th>\n",
       "      <th>Travel_related</th>\n",
       "      <th>Origin</th>\n",
       "      <th>EDvisit</th>\n",
       "      <th>Hospitalized</th>\n",
       "      <th>Died</th>\n",
       "      <th>Case_</th>\n",
       "      <th>Contact</th>\n",
       "      <th>Case1</th>\n",
       "      <th>EventDate</th>\n",
       "      <th>ChartDate</th>\n",
       "      <th>ObjectId</th>\n",
       "    </tr>\n",
       "  </thead>\n",
       "  <tbody>\n",
       "    <tr>\n",
       "      <th>0</th>\n",
       "      <td>Hillsborough</td>\n",
       "      <td>21.0</td>\n",
       "      <td>15-24 years</td>\n",
       "      <td>Male</td>\n",
       "      <td>FL resident</td>\n",
       "      <td>Unknown</td>\n",
       "      <td>NaN</td>\n",
       "      <td>NaN</td>\n",
       "      <td>NaN</td>\n",
       "      <td>NaN</td>\n",
       "      <td>Yes</td>\n",
       "      <td>Yes</td>\n",
       "      <td>2020/07/15 05:00:00+00</td>\n",
       "      <td>2020/07/15 01:04:23+00</td>\n",
       "      <td>2020/07/15 05:00:00+00</td>\n",
       "      <td>90</td>\n",
       "    </tr>\n",
       "    <tr>\n",
       "      <th>1</th>\n",
       "      <td>Palm Beach</td>\n",
       "      <td>65.0</td>\n",
       "      <td>65-74 years</td>\n",
       "      <td>Male</td>\n",
       "      <td>FL resident</td>\n",
       "      <td>Unknown</td>\n",
       "      <td>NaN</td>\n",
       "      <td>NaN</td>\n",
       "      <td>NaN</td>\n",
       "      <td>NaN</td>\n",
       "      <td>Yes</td>\n",
       "      <td>Yes</td>\n",
       "      <td>2020/07/15 05:00:00+00</td>\n",
       "      <td>2020/07/15 19:56:31+00</td>\n",
       "      <td>2020/07/15 05:00:00+00</td>\n",
       "      <td>279</td>\n",
       "    </tr>\n",
       "    <tr>\n",
       "      <th>2</th>\n",
       "      <td>Hendry</td>\n",
       "      <td>23.0</td>\n",
       "      <td>15-24 years</td>\n",
       "      <td>Female</td>\n",
       "      <td>FL resident</td>\n",
       "      <td>Unknown</td>\n",
       "      <td>NaN</td>\n",
       "      <td>NaN</td>\n",
       "      <td>NaN</td>\n",
       "      <td>NaN</td>\n",
       "      <td>Yes</td>\n",
       "      <td>Yes</td>\n",
       "      <td>2020/07/15 05:00:00+00</td>\n",
       "      <td>2020/07/15 15:03:33+00</td>\n",
       "      <td>2020/07/15 05:00:00+00</td>\n",
       "      <td>339</td>\n",
       "    </tr>\n",
       "  </tbody>\n",
       "</table>\n",
       "</div>"
      ],
      "text/plain": [
       "         County   Age    Age_group  Gender Jurisdiction Travel_related Origin  \\\n",
       "0  Hillsborough  21.0  15-24 years    Male  FL resident        Unknown    NaN   \n",
       "1    Palm Beach  65.0  65-74 years    Male  FL resident        Unknown    NaN   \n",
       "2        Hendry  23.0  15-24 years  Female  FL resident        Unknown    NaN   \n",
       "\n",
       "  EDvisit Hospitalized Died Case_ Contact                   Case1  \\\n",
       "0     NaN          NaN  NaN   Yes     Yes  2020/07/15 05:00:00+00   \n",
       "1     NaN          NaN  NaN   Yes     Yes  2020/07/15 05:00:00+00   \n",
       "2     NaN          NaN  NaN   Yes     Yes  2020/07/15 05:00:00+00   \n",
       "\n",
       "                EventDate               ChartDate  ObjectId  \n",
       "0  2020/07/15 01:04:23+00  2020/07/15 05:00:00+00        90  \n",
       "1  2020/07/15 19:56:31+00  2020/07/15 05:00:00+00       279  \n",
       "2  2020/07/15 15:03:33+00  2020/07/15 05:00:00+00       339  "
      ]
     },
     "execution_count": 1,
     "metadata": {},
     "output_type": "execute_result"
    }
   ],
   "source": [
    "import requests\n",
    "import pandas as pd\n",
    "import io\n",
    "import datetime as dt\n",
    "import numpy as np\n",
    "import matplotlib.pyplot as plt\n",
    "from IPython.display import JSON\n",
    "\n",
    "df = pd.read_csv(\"Resources/Florida_COVID19_Case_Line_Data_new.csv\")\n",
    "\n",
    "df.head(3)"
   ]
  },
  {
   "cell_type": "code",
   "execution_count": 2,
   "metadata": {},
   "outputs": [
    {
     "data": {
      "text/html": [
       "<div>\n",
       "<style scoped>\n",
       "    .dataframe tbody tr th:only-of-type {\n",
       "        vertical-align: middle;\n",
       "    }\n",
       "\n",
       "    .dataframe tbody tr th {\n",
       "        vertical-align: top;\n",
       "    }\n",
       "\n",
       "    .dataframe thead th {\n",
       "        text-align: right;\n",
       "    }\n",
       "</style>\n",
       "<table border=\"1\" class=\"dataframe\">\n",
       "  <thead>\n",
       "    <tr style=\"text-align: right;\">\n",
       "      <th></th>\n",
       "      <th>ObjectId</th>\n",
       "      <th>County</th>\n",
       "      <th>Age</th>\n",
       "      <th>Age_group</th>\n",
       "      <th>Gender</th>\n",
       "      <th>Jurisdiction</th>\n",
       "      <th>Travel_related</th>\n",
       "      <th>Hospitalized</th>\n",
       "      <th>Case1</th>\n",
       "    </tr>\n",
       "  </thead>\n",
       "  <tbody>\n",
       "    <tr>\n",
       "      <th>0</th>\n",
       "      <td>90</td>\n",
       "      <td>Hillsborough</td>\n",
       "      <td>21.0</td>\n",
       "      <td>15-24 years</td>\n",
       "      <td>Male</td>\n",
       "      <td>FL resident</td>\n",
       "      <td>Unknown</td>\n",
       "      <td>NaN</td>\n",
       "      <td>2020/07/15 05:00:00+00</td>\n",
       "    </tr>\n",
       "    <tr>\n",
       "      <th>1</th>\n",
       "      <td>279</td>\n",
       "      <td>Palm Beach</td>\n",
       "      <td>65.0</td>\n",
       "      <td>65-74 years</td>\n",
       "      <td>Male</td>\n",
       "      <td>FL resident</td>\n",
       "      <td>Unknown</td>\n",
       "      <td>NaN</td>\n",
       "      <td>2020/07/15 05:00:00+00</td>\n",
       "    </tr>\n",
       "    <tr>\n",
       "      <th>2</th>\n",
       "      <td>339</td>\n",
       "      <td>Hendry</td>\n",
       "      <td>23.0</td>\n",
       "      <td>15-24 years</td>\n",
       "      <td>Female</td>\n",
       "      <td>FL resident</td>\n",
       "      <td>Unknown</td>\n",
       "      <td>NaN</td>\n",
       "      <td>2020/07/15 05:00:00+00</td>\n",
       "    </tr>\n",
       "    <tr>\n",
       "      <th>3</th>\n",
       "      <td>1606</td>\n",
       "      <td>Leon</td>\n",
       "      <td>19.0</td>\n",
       "      <td>15-24 years</td>\n",
       "      <td>Male</td>\n",
       "      <td>FL resident</td>\n",
       "      <td>Unknown</td>\n",
       "      <td>NaN</td>\n",
       "      <td>2020/07/15 05:00:00+00</td>\n",
       "    </tr>\n",
       "    <tr>\n",
       "      <th>4</th>\n",
       "      <td>1873</td>\n",
       "      <td>Santa Rosa</td>\n",
       "      <td>21.0</td>\n",
       "      <td>15-24 years</td>\n",
       "      <td>Female</td>\n",
       "      <td>FL resident</td>\n",
       "      <td>No</td>\n",
       "      <td>NO</td>\n",
       "      <td>2020/07/15 05:00:00+00</td>\n",
       "    </tr>\n",
       "  </tbody>\n",
       "</table>\n",
       "</div>"
      ],
      "text/plain": [
       "   ObjectId        County   Age    Age_group  Gender Jurisdiction  \\\n",
       "0        90  Hillsborough  21.0  15-24 years    Male  FL resident   \n",
       "1       279    Palm Beach  65.0  65-74 years    Male  FL resident   \n",
       "2       339        Hendry  23.0  15-24 years  Female  FL resident   \n",
       "3      1606          Leon  19.0  15-24 years    Male  FL resident   \n",
       "4      1873    Santa Rosa  21.0  15-24 years  Female  FL resident   \n",
       "\n",
       "  Travel_related Hospitalized                   Case1  \n",
       "0        Unknown          NaN  2020/07/15 05:00:00+00  \n",
       "1        Unknown          NaN  2020/07/15 05:00:00+00  \n",
       "2        Unknown          NaN  2020/07/15 05:00:00+00  \n",
       "3        Unknown          NaN  2020/07/15 05:00:00+00  \n",
       "4             No           NO  2020/07/15 05:00:00+00  "
      ]
     },
     "execution_count": 2,
     "metadata": {},
     "output_type": "execute_result"
    }
   ],
   "source": [
    "#Clean dataframe\n",
    "\n",
    "new_csv_data_df = df[['ObjectId', \"County\",'Age',\"Age_group\", \"Gender\", \"Jurisdiction\", \"Travel_related\", \"Hospitalized\",\"Case1\"]]\n",
    "new_csv_data_df.head()"
   ]
  },
  {
   "cell_type": "code",
   "execution_count": 3,
   "metadata": {},
   "outputs": [],
   "source": [
    "#Create new csv\n",
    "\n",
    "new_csv_data_df.to_csv (\"new_covid_dataframe.csv\")"
   ]
  },
  {
   "cell_type": "markdown",
   "metadata": {},
   "source": [
    "# There is no change in hospitalizations since reopening\n",
    "### Research Question to Answer:\n",
    "* “There is no change in hospitalizations since reopening.” "
   ]
  },
  {
   "cell_type": "markdown",
   "metadata": {},
   "source": [
    "### Part 1: Six (6) Steps for Hypothesis Testing\n",
    "\n",
    "<details><summary> click to expand  </summary>\n",
    "\n",
    "#### 1. Identify\n",
    "- **Populations** (divide Hospitalization data in two groups of data):\n",
    "    1. Prior to opening\n",
    "    2. After opening  \n",
    "* Decide on the **date**:\n",
    "    * May 4th - restaurants opening to 25% capacity\n",
    "    * June  (Miami opening beaches)\n",
    "- Distribution:\n",
    "    * Distribution\n",
    "\n",
    "#### 2. State the hypotheses\n",
    "- **H0**: There is no change in hospitalizations after Florida has reopened\n",
    "- **H1**: There is a change in hospitalizations after Florida has reopened\n",
    "\n",
    "#### 3. Characteristics of the comparison distribution\n",
    "- Population means, standard deviations\n",
    "\n",
    "#### 4. Critical values\n",
    "- p = 0.05\n",
    "- Our hypothesis is nondirectional so our hypothesis test is **two-tailed**\n",
    "\n",
    "#### 5. Calculate\n",
    "\n",
    "#### 6. Decide!\n",
    "    \n",
    "</details>"
   ]
  },
  {
   "cell_type": "markdown",
   "metadata": {},
   "source": [
    "### Part 2: Visualization"
   ]
  },
  {
   "cell_type": "code",
   "execution_count": 4,
   "metadata": {},
   "outputs": [
    {
     "data": {
      "text/html": [
       "<div>\n",
       "<style scoped>\n",
       "    .dataframe tbody tr th:only-of-type {\n",
       "        vertical-align: middle;\n",
       "    }\n",
       "\n",
       "    .dataframe tbody tr th {\n",
       "        vertical-align: top;\n",
       "    }\n",
       "\n",
       "    .dataframe thead th {\n",
       "        text-align: right;\n",
       "    }\n",
       "</style>\n",
       "<table border=\"1\" class=\"dataframe\">\n",
       "  <thead>\n",
       "    <tr style=\"text-align: right;\">\n",
       "      <th></th>\n",
       "      <th>Total Number of Cases</th>\n",
       "    </tr>\n",
       "  </thead>\n",
       "  <tbody>\n",
       "    <tr>\n",
       "      <th>0</th>\n",
       "      <td>315775</td>\n",
       "    </tr>\n",
       "  </tbody>\n",
       "</table>\n",
       "</div>"
      ],
      "text/plain": [
       "   Total Number of Cases\n",
       "0                 315775"
      ]
     },
     "execution_count": 4,
     "metadata": {},
     "output_type": "execute_result"
    }
   ],
   "source": [
    "#Calculate total number of cases \n",
    "Total_covid_cases = new_csv_data_df[\"ObjectId\"].nunique()\n",
    "Total_covid_cases = pd.DataFrame({\"Total Number of Cases\": [Total_covid_cases]})\n",
    "Total_covid_cases"
   ]
  },
  {
   "cell_type": "code",
   "execution_count": 5,
   "metadata": {},
   "outputs": [
    {
     "data": {
      "text/html": [
       "<div>\n",
       "<style scoped>\n",
       "    .dataframe tbody tr th:only-of-type {\n",
       "        vertical-align: middle;\n",
       "    }\n",
       "\n",
       "    .dataframe tbody tr th {\n",
       "        vertical-align: top;\n",
       "    }\n",
       "\n",
       "    .dataframe thead th {\n",
       "        text-align: right;\n",
       "    }\n",
       "</style>\n",
       "<table border=\"1\" class=\"dataframe\">\n",
       "  <thead>\n",
       "    <tr style=\"text-align: right;\">\n",
       "      <th></th>\n",
       "      <th>County</th>\n",
       "      <th>Total Cases</th>\n",
       "    </tr>\n",
       "  </thead>\n",
       "  <tbody>\n",
       "    <tr>\n",
       "      <th>0</th>\n",
       "      <td>Alachua</td>\n",
       "      <td>2397</td>\n",
       "    </tr>\n",
       "    <tr>\n",
       "      <th>1</th>\n",
       "      <td>Baker</td>\n",
       "      <td>202</td>\n",
       "    </tr>\n",
       "    <tr>\n",
       "      <th>2</th>\n",
       "      <td>Bay</td>\n",
       "      <td>1602</td>\n",
       "    </tr>\n",
       "    <tr>\n",
       "      <th>3</th>\n",
       "      <td>Bradford</td>\n",
       "      <td>173</td>\n",
       "    </tr>\n",
       "    <tr>\n",
       "      <th>4</th>\n",
       "      <td>Brevard</td>\n",
       "      <td>3804</td>\n",
       "    </tr>\n",
       "    <tr>\n",
       "      <th>...</th>\n",
       "      <td>...</td>\n",
       "      <td>...</td>\n",
       "    </tr>\n",
       "    <tr>\n",
       "      <th>63</th>\n",
       "      <td>Unknown</td>\n",
       "      <td>372</td>\n",
       "    </tr>\n",
       "    <tr>\n",
       "      <th>64</th>\n",
       "      <td>Volusia</td>\n",
       "      <td>4572</td>\n",
       "    </tr>\n",
       "    <tr>\n",
       "      <th>65</th>\n",
       "      <td>Wakulla</td>\n",
       "      <td>223</td>\n",
       "    </tr>\n",
       "    <tr>\n",
       "      <th>66</th>\n",
       "      <td>Walton</td>\n",
       "      <td>693</td>\n",
       "    </tr>\n",
       "    <tr>\n",
       "      <th>67</th>\n",
       "      <td>Washington</td>\n",
       "      <td>225</td>\n",
       "    </tr>\n",
       "  </tbody>\n",
       "</table>\n",
       "<p>68 rows × 2 columns</p>\n",
       "</div>"
      ],
      "text/plain": [
       "        County  Total Cases\n",
       "0      Alachua         2397\n",
       "1        Baker          202\n",
       "2          Bay         1602\n",
       "3     Bradford          173\n",
       "4      Brevard         3804\n",
       "..         ...          ...\n",
       "63     Unknown          372\n",
       "64     Volusia         4572\n",
       "65     Wakulla          223\n",
       "66      Walton          693\n",
       "67  Washington          225\n",
       "\n",
       "[68 rows x 2 columns]"
      ]
     },
     "execution_count": 5,
     "metadata": {},
     "output_type": "execute_result"
    }
   ],
   "source": [
    "#Total number of cases per county\n",
    "total_cases_county = new_csv_data_df.groupby(by=\"County\").count().reset_index().loc[:,[\"County\",\"Case1\"]]\n",
    "total_cases_county.rename(columns={\"County\": \"County\", \"Case1\": \"Total Cases\"})"
   ]
  },
  {
   "cell_type": "code",
   "execution_count": 6,
   "metadata": {},
   "outputs": [
    {
     "data": {
      "image/png": "[encoded data removed]",
      "text/plain": [
       "<Figure size 1080x720 with 1 Axes>"
      ]
     },
     "metadata": {
      "needs_background": "light"
     },
     "output_type": "display_data"
    }
   ],
   "source": [
    "#Create bar chart for total cases per county\n",
    "total_cases_county.plot(kind='bar',x='County',y='Case1', title =\"Total Cases per County\", figsize=(15, 10), color=\"blue\")\n",
    "\n",
    "plt.title(\"Total Hospitalizations per County\")\n",
    "plt.xlabel(\"County\")\n",
    "plt.ylabel(\"Number of Cases\")\n",
    "plt.legend([\"Number of Cases\"])\n",
    "plt.show()"
   ]
  },
  {
   "cell_type": "code",
   "execution_count": 7,
   "metadata": {},
   "outputs": [
    {
     "data": {
      "text/html": [
       "<style  type=\"text/css\" >\n",
       "</style><table id=\"T_6c508c02_c977_11ea_8600_3af9d39e8674\" ><thead>    <tr>        <th class=\"blank level0\" ></th>        <th class=\"col_heading level0 col0\" >County</th>        <th class=\"col_heading level0 col1\" >Case1</th>    </tr>    <tr>        <th class=\"index_name level0\" >Rank</th>        <th class=\"blank\" ></th>        <th class=\"blank\" ></th>    </tr></thead><tbody>\n",
       "                <tr>\n",
       "                        <th id=\"T_6c508c02_c977_11ea_8600_3af9d39e8674level0_row0\" class=\"row_heading level0 row0\" >1</th>\n",
       "                        <td id=\"T_6c508c02_c977_11ea_8600_3af9d39e8674row0_col0\" class=\"data row0 col0\" >Dade</td>\n",
       "                        <td id=\"T_6c508c02_c977_11ea_8600_3af9d39e8674row0_col1\" class=\"data row0 col1\" >75,425</td>\n",
       "            </tr>\n",
       "            <tr>\n",
       "                        <th id=\"T_6c508c02_c977_11ea_8600_3af9d39e8674level0_row1\" class=\"row_heading level0 row1\" >2</th>\n",
       "                        <td id=\"T_6c508c02_c977_11ea_8600_3af9d39e8674row1_col0\" class=\"data row1 col0\" >Broward</td>\n",
       "                        <td id=\"T_6c508c02_c977_11ea_8600_3af9d39e8674row1_col1\" class=\"data row1 col1\" >35,566</td>\n",
       "            </tr>\n",
       "            <tr>\n",
       "                        <th id=\"T_6c508c02_c977_11ea_8600_3af9d39e8674level0_row2\" class=\"row_heading level0 row2\" >3</th>\n",
       "                        <td id=\"T_6c508c02_c977_11ea_8600_3af9d39e8674row2_col0\" class=\"data row2 col0\" >Palm Beach</td>\n",
       "                        <td id=\"T_6c508c02_c977_11ea_8600_3af9d39e8674row2_col1\" class=\"data row2 col1\" >23,711</td>\n",
       "            </tr>\n",
       "            <tr>\n",
       "                        <th id=\"T_6c508c02_c977_11ea_8600_3af9d39e8674level0_row3\" class=\"row_heading level0 row3\" >4</th>\n",
       "                        <td id=\"T_6c508c02_c977_11ea_8600_3af9d39e8674row3_col0\" class=\"data row3 col0\" >Hillsborough</td>\n",
       "                        <td id=\"T_6c508c02_c977_11ea_8600_3af9d39e8674row3_col1\" class=\"data row3 col1\" >21,557</td>\n",
       "            </tr>\n",
       "            <tr>\n",
       "                        <th id=\"T_6c508c02_c977_11ea_8600_3af9d39e8674level0_row4\" class=\"row_heading level0 row4\" >5</th>\n",
       "                        <td id=\"T_6c508c02_c977_11ea_8600_3af9d39e8674row4_col0\" class=\"data row4 col0\" >Orange</td>\n",
       "                        <td id=\"T_6c508c02_c977_11ea_8600_3af9d39e8674row4_col1\" class=\"data row4 col1\" >21,299</td>\n",
       "            </tr>\n",
       "            <tr>\n",
       "                        <th id=\"T_6c508c02_c977_11ea_8600_3af9d39e8674level0_row5\" class=\"row_heading level0 row5\" >6</th>\n",
       "                        <td id=\"T_6c508c02_c977_11ea_8600_3af9d39e8674row5_col0\" class=\"data row5 col0\" >Duval</td>\n",
       "                        <td id=\"T_6c508c02_c977_11ea_8600_3af9d39e8674row5_col1\" class=\"data row5 col1\" >14,992</td>\n",
       "            </tr>\n",
       "            <tr>\n",
       "                        <th id=\"T_6c508c02_c977_11ea_8600_3af9d39e8674level0_row6\" class=\"row_heading level0 row6\" >7</th>\n",
       "                        <td id=\"T_6c508c02_c977_11ea_8600_3af9d39e8674row6_col0\" class=\"data row6 col0\" >Pinellas</td>\n",
       "                        <td id=\"T_6c508c02_c977_11ea_8600_3af9d39e8674row6_col1\" class=\"data row6 col1\" >12,368</td>\n",
       "            </tr>\n",
       "            <tr>\n",
       "                        <th id=\"T_6c508c02_c977_11ea_8600_3af9d39e8674level0_row7\" class=\"row_heading level0 row7\" >8</th>\n",
       "                        <td id=\"T_6c508c02_c977_11ea_8600_3af9d39e8674row7_col0\" class=\"data row7 col0\" >Lee</td>\n",
       "                        <td id=\"T_6c508c02_c977_11ea_8600_3af9d39e8674row7_col1\" class=\"data row7 col1\" >11,721</td>\n",
       "            </tr>\n",
       "            <tr>\n",
       "                        <th id=\"T_6c508c02_c977_11ea_8600_3af9d39e8674level0_row8\" class=\"row_heading level0 row8\" >9</th>\n",
       "                        <td id=\"T_6c508c02_c977_11ea_8600_3af9d39e8674row8_col0\" class=\"data row8 col0\" >Polk</td>\n",
       "                        <td id=\"T_6c508c02_c977_11ea_8600_3af9d39e8674row8_col1\" class=\"data row8 col1\" >8,498</td>\n",
       "            </tr>\n",
       "            <tr>\n",
       "                        <th id=\"T_6c508c02_c977_11ea_8600_3af9d39e8674level0_row9\" class=\"row_heading level0 row9\" >10</th>\n",
       "                        <td id=\"T_6c508c02_c977_11ea_8600_3af9d39e8674row9_col0\" class=\"data row9 col0\" >Collier</td>\n",
       "                        <td id=\"T_6c508c02_c977_11ea_8600_3af9d39e8674row9_col1\" class=\"data row9 col1\" >7,076</td>\n",
       "            </tr>\n",
       "    </tbody></table>"
      ],
      "text/plain": [
       "<pandas.io.formats.style.Styler at 0x7fea32b705d0>"
      ]
     },
     "execution_count": 7,
     "metadata": {},
     "output_type": "execute_result"
    }
   ],
   "source": [
    "#Calculate top 10 counties with total cases\n",
    "top10_county_cases = total_cases_county.sort_values(by=\"Case1\",ascending=False).head(10)\n",
    "top10_county_cases[\"Rank\"] = np.arange(1,11)\n",
    "top10_county_cases.set_index(\"Rank\").style.format({\"Case1\":\"{:,}\"})"
   ]
  },
  {
   "cell_type": "code",
   "execution_count": 8,
   "metadata": {},
   "outputs": [
    {
     "data": {
      "image/png": "[encoded data removed]",
      "text/plain": [
       "<Figure size 1080x720 with 1 Axes>"
      ]
     },
     "metadata": {
      "needs_background": "light"
     },
     "output_type": "display_data"
    }
   ],
   "source": [
    "#Create bar chart for total cases for top 10 counties\n",
    "top10_county_cases.plot(kind='bar',x='County',y='Case1', title =\"Total Cases for Top 10 Counties\", figsize=(15, 10), color=\"blue\")\n",
    "\n",
    "plt.title(\"Total Hospitalizations for Top 10 Counties\")\n",
    "plt.xlabel(\"County\")\n",
    "plt.ylabel(\"Number of Cases\")\n",
    "plt.legend([\"Number of Cases\"])\n",
    "plt.show()"
   ]
  },
  {
   "cell_type": "code",
   "execution_count": 9,
   "metadata": {},
   "outputs": [
    {
     "data": {
      "text/html": [
       "<div>\n",
       "<style scoped>\n",
       "    .dataframe tbody tr th:only-of-type {\n",
       "        vertical-align: middle;\n",
       "    }\n",
       "\n",
       "    .dataframe tbody tr th {\n",
       "        vertical-align: top;\n",
       "    }\n",
       "\n",
       "    .dataframe thead th {\n",
       "        text-align: right;\n",
       "    }\n",
       "</style>\n",
       "<table border=\"1\" class=\"dataframe\">\n",
       "  <thead>\n",
       "    <tr style=\"text-align: right;\">\n",
       "      <th></th>\n",
       "      <th>Gender</th>\n",
       "      <th>Total Cases</th>\n",
       "    </tr>\n",
       "  </thead>\n",
       "  <tbody>\n",
       "    <tr>\n",
       "      <th>0</th>\n",
       "      <td>Female</td>\n",
       "      <td>160368</td>\n",
       "    </tr>\n",
       "    <tr>\n",
       "      <th>1</th>\n",
       "      <td>Male</td>\n",
       "      <td>153317</td>\n",
       "    </tr>\n",
       "    <tr>\n",
       "      <th>2</th>\n",
       "      <td>Unknown</td>\n",
       "      <td>2090</td>\n",
       "    </tr>\n",
       "  </tbody>\n",
       "</table>\n",
       "</div>"
      ],
      "text/plain": [
       "    Gender  Total Cases\n",
       "0   Female       160368\n",
       "1     Male       153317\n",
       "2  Unknown         2090"
      ]
     },
     "execution_count": 9,
     "metadata": {},
     "output_type": "execute_result"
    }
   ],
   "source": [
    "#Total number of cases by gender\n",
    "total_cases_gender = new_csv_data_df.groupby(by=\"Gender\").count().reset_index().loc[:,[\"Gender\",\"Case1\"]]\n",
    "total_cases_gender.rename(columns={\"Gender\": \"Gender\", \"Case1\": \"Total Cases\"})"
   ]
  },
  {
   "cell_type": "code",
   "execution_count": 10,
   "metadata": {},
   "outputs": [
    {
     "data": {
      "text/plain": [
       "Text(0.5, 1.0, 'Total Number of Cases in Males vs. Females')"
      ]
     },
     "execution_count": 10,
     "metadata": {},
     "output_type": "execute_result"
    },
    {
     "data": {
      "image/png": "[encoded data removed]",
      "text/plain": [
       "<Figure size 432x288 with 1 Axes>"
      ]
     },
     "metadata": {},
     "output_type": "display_data"
    }
   ],
   "source": [
    "#Create pie chart for total number of cases by gender\n",
    "total_cases_gender = new_csv_data_df[\"Gender\"].value_counts()\n",
    "\n",
    "colors=[\"pink\", \"blue\", \"green\"]\n",
    "\n",
    "explode=[0.1,0.1,0.1]\n",
    "\n",
    "total_cases_gender.plot.pie(explode=explode,colors=colors, autopct=\"%1.1f%%\", shadow=True, subplots=True, startangle=120);\n",
    "\n",
    "plt.title(\"Total Number of Cases in Males vs. Females\")"
   ]
  },
  {
   "cell_type": "code",
   "execution_count": 11,
   "metadata": {},
   "outputs": [
    {
     "data": {
      "text/html": [
       "<div>\n",
       "<style scoped>\n",
       "    .dataframe tbody tr th:only-of-type {\n",
       "        vertical-align: middle;\n",
       "    }\n",
       "\n",
       "    .dataframe tbody tr th {\n",
       "        vertical-align: top;\n",
       "    }\n",
       "\n",
       "    .dataframe thead th {\n",
       "        text-align: right;\n",
       "    }\n",
       "</style>\n",
       "<table border=\"1\" class=\"dataframe\">\n",
       "  <thead>\n",
       "    <tr style=\"text-align: right;\">\n",
       "      <th></th>\n",
       "      <th>ObjectId</th>\n",
       "      <th>County</th>\n",
       "      <th>Age</th>\n",
       "      <th>Age_group</th>\n",
       "      <th>Gender</th>\n",
       "      <th>Jurisdiction</th>\n",
       "      <th>Travel_related</th>\n",
       "      <th>Hospitalized</th>\n",
       "      <th>Case1</th>\n",
       "    </tr>\n",
       "  </thead>\n",
       "  <tbody>\n",
       "    <tr>\n",
       "      <th>11</th>\n",
       "      <td>12600</td>\n",
       "      <td>Broward</td>\n",
       "      <td>59.0</td>\n",
       "      <td>55-64 years</td>\n",
       "      <td>Female</td>\n",
       "      <td>FL resident</td>\n",
       "      <td>No</td>\n",
       "      <td>YES</td>\n",
       "      <td>2020/07/15 05:00:00+00</td>\n",
       "    </tr>\n",
       "    <tr>\n",
       "      <th>13</th>\n",
       "      <td>13705</td>\n",
       "      <td>Escambia</td>\n",
       "      <td>60.0</td>\n",
       "      <td>55-64 years</td>\n",
       "      <td>Male</td>\n",
       "      <td>FL resident</td>\n",
       "      <td>No</td>\n",
       "      <td>YES</td>\n",
       "      <td>2020/07/15 05:00:00+00</td>\n",
       "    </tr>\n",
       "    <tr>\n",
       "      <th>144</th>\n",
       "      <td>33647</td>\n",
       "      <td>Putnam</td>\n",
       "      <td>66.0</td>\n",
       "      <td>65-74 years</td>\n",
       "      <td>Male</td>\n",
       "      <td>FL resident</td>\n",
       "      <td>No</td>\n",
       "      <td>YES</td>\n",
       "      <td>2020/07/15 05:00:00+00</td>\n",
       "    </tr>\n",
       "    <tr>\n",
       "      <th>215</th>\n",
       "      <td>44046</td>\n",
       "      <td>Dade</td>\n",
       "      <td>43.0</td>\n",
       "      <td>35-44 years</td>\n",
       "      <td>Male</td>\n",
       "      <td>FL resident</td>\n",
       "      <td>No</td>\n",
       "      <td>YES</td>\n",
       "      <td>2020/07/15 05:00:00+00</td>\n",
       "    </tr>\n",
       "    <tr>\n",
       "      <th>354</th>\n",
       "      <td>56860</td>\n",
       "      <td>Volusia</td>\n",
       "      <td>66.0</td>\n",
       "      <td>65-74 years</td>\n",
       "      <td>Male</td>\n",
       "      <td>FL resident</td>\n",
       "      <td>No</td>\n",
       "      <td>YES</td>\n",
       "      <td>2020/07/15 05:00:00+00</td>\n",
       "    </tr>\n",
       "    <tr>\n",
       "      <th>...</th>\n",
       "      <td>...</td>\n",
       "      <td>...</td>\n",
       "      <td>...</td>\n",
       "      <td>...</td>\n",
       "      <td>...</td>\n",
       "      <td>...</td>\n",
       "      <td>...</td>\n",
       "      <td>...</td>\n",
       "      <td>...</td>\n",
       "    </tr>\n",
       "    <tr>\n",
       "      <th>315764</th>\n",
       "      <td>11932</td>\n",
       "      <td>Lee</td>\n",
       "      <td>77.0</td>\n",
       "      <td>75-84 years</td>\n",
       "      <td>Male</td>\n",
       "      <td>FL resident</td>\n",
       "      <td>Yes</td>\n",
       "      <td>YES</td>\n",
       "      <td>2020/03/07 05:00:00+00</td>\n",
       "    </tr>\n",
       "    <tr>\n",
       "      <th>315765</th>\n",
       "      <td>11933</td>\n",
       "      <td>Broward</td>\n",
       "      <td>65.0</td>\n",
       "      <td>65-74 years</td>\n",
       "      <td>Male</td>\n",
       "      <td>FL resident</td>\n",
       "      <td>Yes</td>\n",
       "      <td>YES</td>\n",
       "      <td>2020/03/07 05:00:00+00</td>\n",
       "    </tr>\n",
       "    <tr>\n",
       "      <th>315766</th>\n",
       "      <td>11936</td>\n",
       "      <td>Santa Rosa</td>\n",
       "      <td>71.0</td>\n",
       "      <td>65-74 years</td>\n",
       "      <td>Male</td>\n",
       "      <td>FL resident</td>\n",
       "      <td>Yes</td>\n",
       "      <td>YES</td>\n",
       "      <td>2020/03/05 05:00:00+00</td>\n",
       "    </tr>\n",
       "    <tr>\n",
       "      <th>315767</th>\n",
       "      <td>11601</td>\n",
       "      <td>Leon</td>\n",
       "      <td>59.0</td>\n",
       "      <td>55-64 years</td>\n",
       "      <td>Female</td>\n",
       "      <td>Not diagnosed/isolated in FL</td>\n",
       "      <td>Yes</td>\n",
       "      <td>YES</td>\n",
       "      <td>2020/03/04 05:00:00+00</td>\n",
       "    </tr>\n",
       "    <tr>\n",
       "      <th>315774</th>\n",
       "      <td>12137</td>\n",
       "      <td>Manatee</td>\n",
       "      <td>63.0</td>\n",
       "      <td>55-64 years</td>\n",
       "      <td>Male</td>\n",
       "      <td>FL resident</td>\n",
       "      <td>No</td>\n",
       "      <td>YES</td>\n",
       "      <td>2020/03/02 05:00:00+00</td>\n",
       "    </tr>\n",
       "  </tbody>\n",
       "</table>\n",
       "<p>20154 rows × 9 columns</p>\n",
       "</div>"
      ],
      "text/plain": [
       "        ObjectId      County   Age    Age_group  Gender  \\\n",
       "11         12600     Broward  59.0  55-64 years  Female   \n",
       "13         13705    Escambia  60.0  55-64 years    Male   \n",
       "144        33647      Putnam  66.0  65-74 years    Male   \n",
       "215        44046        Dade  43.0  35-44 years    Male   \n",
       "354        56860     Volusia  66.0  65-74 years    Male   \n",
       "...          ...         ...   ...          ...     ...   \n",
       "315764     11932         Lee  77.0  75-84 years    Male   \n",
       "315765     11933     Broward  65.0  65-74 years    Male   \n",
       "315766     11936  Santa Rosa  71.0  65-74 years    Male   \n",
       "315767     11601        Leon  59.0  55-64 years  Female   \n",
       "315774     12137     Manatee  63.0  55-64 years    Male   \n",
       "\n",
       "                        Jurisdiction Travel_related Hospitalized  \\\n",
       "11                       FL resident             No          YES   \n",
       "13                       FL resident             No          YES   \n",
       "144                      FL resident             No          YES   \n",
       "215                      FL resident             No          YES   \n",
       "354                      FL resident             No          YES   \n",
       "...                              ...            ...          ...   \n",
       "315764                   FL resident            Yes          YES   \n",
       "315765                   FL resident            Yes          YES   \n",
       "315766                   FL resident            Yes          YES   \n",
       "315767  Not diagnosed/isolated in FL            Yes          YES   \n",
       "315774                   FL resident             No          YES   \n",
       "\n",
       "                         Case1  \n",
       "11      2020/07/15 05:00:00+00  \n",
       "13      2020/07/15 05:00:00+00  \n",
       "144     2020/07/15 05:00:00+00  \n",
       "215     2020/07/15 05:00:00+00  \n",
       "354     2020/07/15 05:00:00+00  \n",
       "...                        ...  \n",
       "315764  2020/03/07 05:00:00+00  \n",
       "315765  2020/03/07 05:00:00+00  \n",
       "315766  2020/03/05 05:00:00+00  \n",
       "315767  2020/03/04 05:00:00+00  \n",
       "315774  2020/03/02 05:00:00+00  \n",
       "\n",
       "[20154 rows x 9 columns]"
      ]
     },
     "execution_count": 11,
     "metadata": {},
     "output_type": "execute_result"
    }
   ],
   "source": [
    "#Filter data to show only cases that include hospitalization\n",
    "filt = new_csv_data_df[\"Hospitalized\"] == \"YES\"\n",
    "df = new_csv_data_df[filt]\n",
    "df"
   ]
  },
  {
   "cell_type": "code",
   "execution_count": 12,
   "metadata": {},
   "outputs": [
    {
     "data": {
      "text/html": [
       "<style  type=\"text/css\" >\n",
       "</style><table id=\"T_6cb916be_c977_11ea_8600_3af9d39e8674\" ><thead>    <tr>        <th class=\"blank level0\" ></th>        <th class=\"col_heading level0 col0\" >Total Hospitalizations (Florida)</th>    </tr></thead><tbody>\n",
       "                <tr>\n",
       "                        <th id=\"T_6cb916be_c977_11ea_8600_3af9d39e8674level0_row0\" class=\"row_heading level0 row0\" >0</th>\n",
       "                        <td id=\"T_6cb916be_c977_11ea_8600_3af9d39e8674row0_col0\" class=\"data row0 col0\" >20,154</td>\n",
       "            </tr>\n",
       "    </tbody></table>"
      ],
      "text/plain": [
       "<pandas.io.formats.style.Styler at 0x7fea334910d0>"
      ]
     },
     "execution_count": 12,
     "metadata": {},
     "output_type": "execute_result"
    }
   ],
   "source": [
    "#Calculate total number of hospitalizations\n",
    "pd.DataFrame({\n",
    "    \"Total Hospitalizations (Florida)\" : [df.shape[0]]\n",
    "}).style.format(\"{:,}\")"
   ]
  },
  {
   "cell_type": "code",
   "execution_count": 13,
   "metadata": {},
   "outputs": [
    {
     "data": {
      "text/html": [
       "<div>\n",
       "<style scoped>\n",
       "    .dataframe tbody tr th:only-of-type {\n",
       "        vertical-align: middle;\n",
       "    }\n",
       "\n",
       "    .dataframe tbody tr th {\n",
       "        vertical-align: top;\n",
       "    }\n",
       "\n",
       "    .dataframe thead th {\n",
       "        text-align: right;\n",
       "    }\n",
       "</style>\n",
       "<table border=\"1\" class=\"dataframe\">\n",
       "  <thead>\n",
       "    <tr style=\"text-align: right;\">\n",
       "      <th></th>\n",
       "      <th>County</th>\n",
       "      <th>Hospitalized</th>\n",
       "    </tr>\n",
       "  </thead>\n",
       "  <tbody>\n",
       "    <tr>\n",
       "      <th>0</th>\n",
       "      <td>Alachua</td>\n",
       "      <td>115</td>\n",
       "    </tr>\n",
       "    <tr>\n",
       "      <th>1</th>\n",
       "      <td>Baker</td>\n",
       "      <td>22</td>\n",
       "    </tr>\n",
       "    <tr>\n",
       "      <th>2</th>\n",
       "      <td>Bay</td>\n",
       "      <td>59</td>\n",
       "    </tr>\n",
       "    <tr>\n",
       "      <th>3</th>\n",
       "      <td>Bradford</td>\n",
       "      <td>19</td>\n",
       "    </tr>\n",
       "    <tr>\n",
       "      <th>4</th>\n",
       "      <td>Brevard</td>\n",
       "      <td>250</td>\n",
       "    </tr>\n",
       "    <tr>\n",
       "      <th>...</th>\n",
       "      <td>...</td>\n",
       "      <td>...</td>\n",
       "    </tr>\n",
       "    <tr>\n",
       "      <th>63</th>\n",
       "      <td>Unknown</td>\n",
       "      <td>2</td>\n",
       "    </tr>\n",
       "    <tr>\n",
       "      <th>64</th>\n",
       "      <td>Volusia</td>\n",
       "      <td>353</td>\n",
       "    </tr>\n",
       "    <tr>\n",
       "      <th>65</th>\n",
       "      <td>Wakulla</td>\n",
       "      <td>12</td>\n",
       "    </tr>\n",
       "    <tr>\n",
       "      <th>66</th>\n",
       "      <td>Walton</td>\n",
       "      <td>42</td>\n",
       "    </tr>\n",
       "    <tr>\n",
       "      <th>67</th>\n",
       "      <td>Washington</td>\n",
       "      <td>26</td>\n",
       "    </tr>\n",
       "  </tbody>\n",
       "</table>\n",
       "<p>68 rows × 2 columns</p>\n",
       "</div>"
      ],
      "text/plain": [
       "        County  Hospitalized\n",
       "0      Alachua           115\n",
       "1        Baker            22\n",
       "2          Bay            59\n",
       "3     Bradford            19\n",
       "4      Brevard           250\n",
       "..         ...           ...\n",
       "63     Unknown             2\n",
       "64     Volusia           353\n",
       "65     Wakulla            12\n",
       "66      Walton            42\n",
       "67  Washington            26\n",
       "\n",
       "[68 rows x 2 columns]"
      ]
     },
     "execution_count": 13,
     "metadata": {},
     "output_type": "execute_result"
    }
   ],
   "source": [
    "#Total number of hospitalization for all counties\n",
    "hospitalizations_county = df.groupby(by=\"County\").count().reset_index().loc[:,[\"County\",\"Hospitalized\"]]\n",
    "hospitalizations_county "
   ]
  },
  {
   "cell_type": "code",
   "execution_count": null,
   "metadata": {},
   "outputs": [],
   "source": [
    "#Create bar chart for total hospitalizations per county\n",
    "hospitalizations_county.plot(kind='bar',x='County',y='Hospitalized', title =\"Total Hospitalizations per County\", figsize=(15, 10), color=\"blue\")\n",
    "\n",
    "plt.title(\"Total Hospitalizations per County\")\n",
    "plt.xlabel(\"County\")\n",
    "plt.ylabel(\"Number of Hospitalizations\")\n",
    "plt.show()"
   ]
  },
  {
   "cell_type": "code",
   "execution_count": null,
   "metadata": {},
   "outputs": [],
   "source": [
    "#Calculate top 10 counties with hospitalizations\n",
    "top10_county = hospitalizations_county.sort_values(by=\"Hospitalized\",ascending=False).head(10)\n",
    "top10_county[\"Rank\"] = np.arange(1,11)\n",
    "top10_county.set_index(\"Rank\").style.format({\"Hospitalized\":\"{:,}\"})"
   ]
  },
  {
   "cell_type": "code",
   "execution_count": null,
   "metadata": {},
   "outputs": [],
   "source": [
    "#Create a bar chart for the top 10 counties with hospitalizations\n",
    "top10_county.plot(kind='bar',x='County',y='Hospitalized', title =\"Total Hospitalizations for the Top 10 Counties\", figsize=(15, 10), color=\"blue\")\n",
    "\n",
    "plt.title(\"Total Hospitalizations for the Top 10 Counties\")\n",
    "plt.xlabel(\"County\")\n",
    "plt.ylabel(\"Number of Hospitalizations\")\n",
    "plt.show()"
   ]
  },
  {
   "cell_type": "code",
   "execution_count": null,
   "metadata": {},
   "outputs": [],
   "source": [
    "#Average number of hospitalization by county (Not done yet) (Kelsey)\n",
    "average = hospitalizations_county[\"Hospitalized\"].mean()\n",
    "average"
   ]
  },
  {
   "cell_type": "code",
   "execution_count": null,
   "metadata": {},
   "outputs": [],
   "source": [
    "#Filter data to show only cases that include hospitalization\n",
    "filt = new_csv_data_df[\"Hospitalized\"] == \"YES\"\n",
    "df = new_csv_data_df[filt]\n",
    "df"
   ]
  },
  {
   "cell_type": "code",
   "execution_count": null,
   "metadata": {},
   "outputs": [],
   "source": [
    "#Percentage of hospitalization by gender # Create Visualization (Libardo)"
   ]
  },
  {
   "cell_type": "code",
   "execution_count": null,
   "metadata": {},
   "outputs": [],
   "source": [
    "#Percentage of hospitalization by age group (Chika) #Create visualization"
   ]
  },
  {
   "cell_type": "code",
   "execution_count": null,
   "metadata": {},
   "outputs": [],
   "source": [
    "#Hospitalization by case date/month (needs more) (Libardo) "
   ]
  },
  {
   "cell_type": "code",
   "execution_count": null,
   "metadata": {},
   "outputs": [],
   "source": [
    "#Compare travel-related hospitalization to non-travelrelated cases (Not done yet) (Chika)"
   ]
  },
  {
   "cell_type": "code",
   "execution_count": null,
   "metadata": {},
   "outputs": [],
   "source": [
    "#Divide hospitalization data in two groups of data prior to reopening and create new dataframe (Kurt) consider total (Chika)"
   ]
  },
  {
   "cell_type": "code",
   "execution_count": null,
   "metadata": {},
   "outputs": [],
   "source": [
    "#Divide hospitalization data in two groups of data after reopening and create new dataframe (Kurt) condider total (Chika)"
   ]
  },
  {
   "cell_type": "code",
   "execution_count": null,
   "metadata": {},
   "outputs": [],
   "source": [
    "#Percentage of hospitalization before shut down (Not done yet) (Rephrase) (Chika)"
   ]
  },
  {
   "cell_type": "code",
   "execution_count": null,
   "metadata": {},
   "outputs": [],
   "source": [
    "#Percentage of hospitalization during shut down (backburner)"
   ]
  },
  {
   "cell_type": "code",
   "execution_count": null,
   "metadata": {},
   "outputs": [],
   "source": [
    "#Percentage of hospitalization after reopening(Not done yet) (Rephrase) (Chika)"
   ]
  },
  {
   "cell_type": "code",
   "execution_count": null,
   "metadata": {},
   "outputs": [],
   "source": [
    "#Statistical testing between before and after reopening"
   ]
  }
 ],
 "metadata": {
  "kernelspec": {
   "display_name": "Python 3",
   "language": "python",
   "name": "python3"
  },
  "language_info": {
   "codemirror_mode": {
    "name": "ipython",
    "version": 3
   },
   "file_extension": ".py",
   "mimetype": "text/x-python",
   "name": "python",
   "nbconvert_exporter": "python",
   "pygments_lexer": "ipython3",
   "version": "3.7.6"
  }
 },
 "nbformat": 4,
 "nbformat_minor": 4
}
