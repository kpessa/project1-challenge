{
 "cells": [
  {
   "cell_type": "markdown",
   "metadata": {},
   "source": [
    "# Project 1\n",
    "- **Team Members**: Chika Ozodiegwu, Kelsey Wyatt, Libardo Lambrano, Kurt Pessa\n",
    "\n",
    "![](Images/florida_covid19_data.jpg)\n",
    "\n",
    "### Data set used:: \n",
    "* https://open-fdoh.hub.arcgis.com/datasets/florida-covid19-case-line-data\n"
   ]
  },
  {
   "cell_type": "code",
   "execution_count": 11,
   "metadata": {},
   "outputs": [],
   "source": [
    "import step1_raw_data_collection as step1\n",
    "import step2_data_processing_and_cleaning as step2\n",
    "\n",
    "import pandas as pd"
   ]
  },
  {
   "cell_type": "code",
   "execution_count": 13,
   "metadata": {},
   "outputs": [
    {
     "data": {
      "text/html": [
       "<div>\n",
       "<style scoped>\n",
       "    .dataframe tbody tr th:only-of-type {\n",
       "        vertical-align: middle;\n",
       "    }\n",
       "\n",
       "    .dataframe tbody tr th {\n",
       "        vertical-align: top;\n",
       "    }\n",
       "\n",
       "    .dataframe thead th {\n",
       "        text-align: right;\n",
       "    }\n",
       "</style>\n",
       "<table border=\"1\" class=\"dataframe\">\n",
       "  <thead>\n",
       "    <tr style=\"text-align: right;\">\n",
       "      <th></th>\n",
       "      <th>Age_group</th>\n",
       "      <th>Hospitalized</th>\n",
       "    </tr>\n",
       "  </thead>\n",
       "  <tbody>\n",
       "    <tr>\n",
       "      <th>0</th>\n",
       "      <td>0-4 years</td>\n",
       "      <td>100</td>\n",
       "    </tr>\n",
       "    <tr>\n",
       "      <th>1</th>\n",
       "      <td>15-24 years</td>\n",
       "      <td>508</td>\n",
       "    </tr>\n",
       "    <tr>\n",
       "      <th>2</th>\n",
       "      <td>25-34 years</td>\n",
       "      <td>1313</td>\n",
       "    </tr>\n",
       "    <tr>\n",
       "      <th>3</th>\n",
       "      <td>35-44 years</td>\n",
       "      <td>1947</td>\n",
       "    </tr>\n",
       "    <tr>\n",
       "      <th>4</th>\n",
       "      <td>45-54 years</td>\n",
       "      <td>2788</td>\n",
       "    </tr>\n",
       "    <tr>\n",
       "      <th>5</th>\n",
       "      <td>5-14 years</td>\n",
       "      <td>76</td>\n",
       "    </tr>\n",
       "    <tr>\n",
       "      <th>6</th>\n",
       "      <td>55-64 years</td>\n",
       "      <td>3699</td>\n",
       "    </tr>\n",
       "    <tr>\n",
       "      <th>7</th>\n",
       "      <td>65-74 years</td>\n",
       "      <td>4037</td>\n",
       "    </tr>\n",
       "    <tr>\n",
       "      <th>8</th>\n",
       "      <td>75-84 years</td>\n",
       "      <td>3716</td>\n",
       "    </tr>\n",
       "    <tr>\n",
       "      <th>9</th>\n",
       "      <td>85+ years</td>\n",
       "      <td>2785</td>\n",
       "    </tr>\n",
       "  </tbody>\n",
       "</table>\n",
       "</div>"
      ],
      "text/plain": [
       "     Age_group  Hospitalized\n",
       "0    0-4 years           100\n",
       "1  15-24 years           508\n",
       "2  25-34 years          1313\n",
       "3  35-44 years          1947\n",
       "4  45-54 years          2788\n",
       "5   5-14 years            76\n",
       "6  55-64 years          3699\n",
       "7  65-74 years          4037\n",
       "8  75-84 years          3716\n",
       "9    85+ years          2785"
      ]
     },
     "execution_count": 13,
     "metadata": {},
     "output_type": "execute_result"
    }
   ],
   "source": [
    "df = step1.get_data()\n",
    "#df = step2.get_hospitalized_data()\n",
    "#df = step2.get_df_with_datetime_and_formatted_column()\n",
    "#df = step2.get_hospitalizations_by_casedatetime()\n",
    "\n",
    "#group_name = \"Gender\"\n",
    "#group_name = \"Age_group\"\n",
    "#group_name = \"Travel_related\"\n",
    "#group_name = \"Jurisdiction\"\n",
    "#group_name = \"County\"\n",
    "\n",
    "df = step2.get_group(group_name)\n",
    "\n",
    "df"
   ]
  },
  {
   "cell_type": "code",
   "execution_count": 14,
   "metadata": {},
   "outputs": [
    {
     "name": "stdout",
     "output_type": "stream",
     "text": [
      "   CaseDateTime  Hospitalized\n",
      "0    2020-04-04           234\n",
      "1    2020-04-05           162\n",
      "2    2020-04-06           249\n",
      "3    2020-04-07           221\n",
      "4    2020-04-08           244\n",
      "5    2020-04-09           256\n",
      "6    2020-04-10           255\n",
      "7    2020-04-11           186\n",
      "8    2020-04-12           186\n",
      "9    2020-04-13           214\n",
      "10   2020-04-14           178\n",
      "11   2020-04-15           212\n",
      "12   2020-04-16           229\n",
      "13   2020-04-17           165\n",
      "14   2020-04-18           140\n",
      "15   2020-04-19           156\n",
      "16   2020-04-20           168\n",
      "17   2020-04-21           174\n",
      "18   2020-04-22           161\n",
      "19   2020-04-23           180\n",
      "20   2020-04-24           134\n",
      "21   2020-04-25           130\n",
      "22   2020-04-26           108\n",
      "23   2020-04-27           214\n",
      "24   2020-04-28           114\n",
      "25   2020-04-29           103\n",
      "26   2020-04-30           130\n",
      "27   2020-05-01           145\n",
      "28   2020-05-02           110\n",
      "29   2020-05-03           100\n",
      "   CaseDateTime  Hospitalized\n",
      "0    2020-05-05           101\n",
      "1    2020-05-06            96\n",
      "2    2020-05-07            63\n",
      "3    2020-05-08           101\n",
      "4    2020-05-09           134\n",
      "5    2020-05-10            90\n",
      "6    2020-05-11           116\n",
      "7    2020-05-12           130\n",
      "8    2020-05-13           152\n",
      "9    2020-05-14           164\n",
      "10   2020-05-15           121\n",
      "11   2020-05-16           122\n",
      "12   2020-05-17           123\n",
      "13   2020-05-18           120\n",
      "14   2020-05-19            94\n",
      "15   2020-05-20           181\n",
      "16   2020-05-21           132\n",
      "17   2020-05-22           144\n",
      "18   2020-05-23           103\n",
      "19   2020-05-24            90\n",
      "20   2020-05-25            85\n",
      "21   2020-05-26            99\n",
      "22   2020-05-27           124\n",
      "23   2020-05-28           161\n",
      "24   2020-05-29           113\n",
      "25   2020-05-30           104\n",
      "26   2020-05-31            85\n",
      "27   2020-06-01            98\n",
      "28   2020-06-02           105\n",
      "29   2020-06-03           138\n"
     ]
    }
   ],
   "source": [
    "#df1, df2 = step2.get_groups_before_and_after_opening_date()\n",
    "df1, df2 = step2.get_groups_by_casedatetime()\n",
    "\n",
    "#group_name = \"Gender\"\n",
    "#group_name = \"Age_group\"\n",
    "#group_name = \"Travel_related\"\n",
    "#group_name = \"Jurisdiction\"\n",
    "#group_name = \"County\"\n",
    "\n",
    "#df1,df2 = step2.get_groups(group_name)\n",
    "\n",
    "print(df1)\n",
    "print(df2)"
   ]
  },
  {
   "cell_type": "code",
   "execution_count": 13,
   "metadata": {},
   "outputs": [
    {
     "data": {
      "text/html": [
       "<div>\n",
       "<style scoped>\n",
       "    .dataframe tbody tr th:only-of-type {\n",
       "        vertical-align: middle;\n",
       "    }\n",
       "\n",
       "    .dataframe tbody tr th {\n",
       "        vertical-align: top;\n",
       "    }\n",
       "\n",
       "    .dataframe thead th {\n",
       "        text-align: right;\n",
       "    }\n",
       "</style>\n",
       "<table border=\"1\" class=\"dataframe\">\n",
       "  <thead>\n",
       "    <tr style=\"text-align: right;\">\n",
       "      <th></th>\n",
       "      <th>ObjectId</th>\n",
       "      <th>County</th>\n",
       "      <th>Age</th>\n",
       "      <th>Age_group</th>\n",
       "      <th>Gender</th>\n",
       "      <th>Jurisdiction</th>\n",
       "      <th>Travel_related</th>\n",
       "      <th>Hospitalized</th>\n",
       "      <th>Case1</th>\n",
       "    </tr>\n",
       "  </thead>\n",
       "  <tbody>\n",
       "    <tr>\n",
       "      <th>0</th>\n",
       "      <td>90</td>\n",
       "      <td>Hillsborough</td>\n",
       "      <td>21.0</td>\n",
       "      <td>15-24 years</td>\n",
       "      <td>Male</td>\n",
       "      <td>FL resident</td>\n",
       "      <td>Unknown</td>\n",
       "      <td>NaN</td>\n",
       "      <td>2020/07/15 05:00:00+00</td>\n",
       "    </tr>\n",
       "    <tr>\n",
       "      <th>1</th>\n",
       "      <td>279</td>\n",
       "      <td>Palm Beach</td>\n",
       "      <td>65.0</td>\n",
       "      <td>65-74 years</td>\n",
       "      <td>Male</td>\n",
       "      <td>FL resident</td>\n",
       "      <td>Unknown</td>\n",
       "      <td>NaN</td>\n",
       "      <td>2020/07/15 05:00:00+00</td>\n",
       "    </tr>\n",
       "    <tr>\n",
       "      <th>2</th>\n",
       "      <td>339</td>\n",
       "      <td>Hendry</td>\n",
       "      <td>23.0</td>\n",
       "      <td>15-24 years</td>\n",
       "      <td>Female</td>\n",
       "      <td>FL resident</td>\n",
       "      <td>Unknown</td>\n",
       "      <td>NaN</td>\n",
       "      <td>2020/07/15 05:00:00+00</td>\n",
       "    </tr>\n",
       "    <tr>\n",
       "      <th>3</th>\n",
       "      <td>1606</td>\n",
       "      <td>Leon</td>\n",
       "      <td>19.0</td>\n",
       "      <td>15-24 years</td>\n",
       "      <td>Male</td>\n",
       "      <td>FL resident</td>\n",
       "      <td>Unknown</td>\n",
       "      <td>NaN</td>\n",
       "      <td>2020/07/15 05:00:00+00</td>\n",
       "    </tr>\n",
       "    <tr>\n",
       "      <th>4</th>\n",
       "      <td>1873</td>\n",
       "      <td>Santa Rosa</td>\n",
       "      <td>21.0</td>\n",
       "      <td>15-24 years</td>\n",
       "      <td>Female</td>\n",
       "      <td>FL resident</td>\n",
       "      <td>No</td>\n",
       "      <td>NO</td>\n",
       "      <td>2020/07/15 05:00:00+00</td>\n",
       "    </tr>\n",
       "  </tbody>\n",
       "</table>\n",
       "</div>"
      ],
      "text/plain": [
       "   ObjectId        County   Age    Age_group  Gender Jurisdiction  \\\n",
       "0        90  Hillsborough  21.0  15-24 years    Male  FL resident   \n",
       "1       279    Palm Beach  65.0  65-74 years    Male  FL resident   \n",
       "2       339        Hendry  23.0  15-24 years  Female  FL resident   \n",
       "3      1606          Leon  19.0  15-24 years    Male  FL resident   \n",
       "4      1873    Santa Rosa  21.0  15-24 years  Female  FL resident   \n",
       "\n",
       "  Travel_related Hospitalized                   Case1  \n",
       "0        Unknown          NaN  2020/07/15 05:00:00+00  \n",
       "1        Unknown          NaN  2020/07/15 05:00:00+00  \n",
       "2        Unknown          NaN  2020/07/15 05:00:00+00  \n",
       "3        Unknown          NaN  2020/07/15 05:00:00+00  \n",
       "4             No           NO  2020/07/15 05:00:00+00  "
      ]
     },
     "execution_count": 13,
     "metadata": {},
     "output_type": "execute_result"
    }
   ],
   "source": [
    "#clean csv\n",
    "\n",
    "new_csv_data_df = df[['ObjectId', \"County\",'Age',\"Age_group\", \"Gender\", \"Jurisdiction\", \"Travel_related\", \"Hospitalized\",\"Case1\"]]\n",
    "new_csv_data_df.head()"
   ]
  },
  {
   "cell_type": "code",
   "execution_count": 18,
   "metadata": {},
   "outputs": [],
   "source": [
    "#new_csv_data_df.to_csv(new_csv_data_df, 'new_cleaned_data.csv')\n",
    "\n",
    "new_csv_data_df.to_csv (\"new_covid_dataframe.csv\") # index = False, header=True)"
   ]
  },
  {
   "cell_type": "markdown",
   "metadata": {},
   "source": [
    "# There is no change in hospitalizations since reopening\n",
    "### Research Question to Answer:\n",
    "* “There is no change in hospitalizations since reopening?” "
   ]
  },
  {
   "cell_type": "markdown",
   "metadata": {},
   "source": [
    "### Part 1: Six (6) Steps for Hypothesis Testing\n",
    "\n",
    "<details><summary> click to expand  </summary>\n",
    "\n",
    "#### 1. Identify\n",
    "- **Populations** (divide Hospitalization data in two groups of data):\n",
    "    1. Prior to opening\n",
    "    2. After opening  \n",
    "* Decide on the **date**:\n",
    "    * May 4th - restaurants opening to 25% capacity\n",
    "    * June  (Miami opening beaches)\n",
    "- Distribution:\n",
    "    * Distribution\n",
    "\n",
    "#### 2. State the hypotheses\n",
    "- **H0**: There is no change in hospitalizations after Florida has reopened\n",
    "- **H1**: There is a change in hospitalizations after Florida has reopened\n",
    "\n",
    "#### 3. Characteristics of the comparison distribution\n",
    "- Population means, standard deviations\n",
    "\n",
    "#### 4. Critical values\n",
    "- p = 0.05\n",
    "- Our hypothesis is nondirectional so our hypothesis test is **two-tailed**\n",
    "\n",
    "#### 5. Calculate\n",
    "\n",
    "#### 6. Decide!\n",
    "    \n",
    "</details>"
   ]
  },
  {
   "cell_type": "markdown",
   "metadata": {},
   "source": [
    "### Part 2: Visualization\n",
    "* Trends\n",
    "\n",
    "### Further Inquries\n",
    "* Increases in groups?\n",
    "* Age\n",
    "* Gender\n",
    "* Ethnicitiy\n",
    "\n",
    "### Rough Breakdown of Tasks\n",
    "* Data Massaging"
   ]
  },
  {
   "cell_type": "code",
   "execution_count": 21,
   "metadata": {},
   "outputs": [
    {
     "data": {
      "text/html": [
       "<div>\n",
       "<style scoped>\n",
       "    .dataframe tbody tr th:only-of-type {\n",
       "        vertical-align: middle;\n",
       "    }\n",
       "\n",
       "    .dataframe tbody tr th {\n",
       "        vertical-align: top;\n",
       "    }\n",
       "\n",
       "    .dataframe thead th {\n",
       "        text-align: right;\n",
       "    }\n",
       "</style>\n",
       "<table border=\"1\" class=\"dataframe\">\n",
       "  <thead>\n",
       "    <tr style=\"text-align: right;\">\n",
       "      <th></th>\n",
       "      <th>Total Number of Cases</th>\n",
       "    </tr>\n",
       "  </thead>\n",
       "  <tbody>\n",
       "    <tr>\n",
       "      <th>0</th>\n",
       "      <td>315775</td>\n",
       "    </tr>\n",
       "  </tbody>\n",
       "</table>\n",
       "</div>"
      ],
      "text/plain": [
       "   Total Number of Cases\n",
       "0                 315775"
      ]
     },
     "execution_count": 21,
     "metadata": {},
     "output_type": "execute_result"
    }
   ],
   "source": [
    "#Calculate total number of cases \n",
    "Total_covid_cases = new_csv_data_df[\"ObjectId\"].nunique()\n",
    "Total_covid_cases = pd.DataFrame({\"Total Number of Cases\": [Total_covid_cases]})\n",
    "Total_covid_cases"
   ]
  },
  {
   "cell_type": "code",
   "execution_count": null,
   "metadata": {},
   "outputs": [],
   "source": [
    "#Total number of cases by county (Kelsey) Include bar chart\n"
   ]
  },
  {
   "cell_type": "code",
   "execution_count": null,
   "metadata": {},
   "outputs": [],
   "source": [
    "#Total number of cases by gender (Kelsey) Include pie chart "
   ]
  },
  {
   "cell_type": "code",
   "execution_count": null,
   "metadata": {},
   "outputs": [],
   "source": [
    "#Top 10 counties with the most cases (Libardo)\n"
   ]
  },
  {
   "cell_type": "code",
   "execution_count": null,
   "metadata": {},
   "outputs": [],
   "source": [
    "#Divide hospitalization data in two groups of data prior to reopening and create new dataframe (Kurt) consider total (Chika)"
   ]
  },
  {
   "cell_type": "code",
   "execution_count": null,
   "metadata": {},
   "outputs": [],
   "source": [
    "#Divide hospitalization data in two groups of data after reopening and create new dataframe (Kurt) condider total (Chika)"
   ]
  },
  {
   "cell_type": "code",
   "execution_count": null,
   "metadata": {},
   "outputs": [],
   "source": [
    "#Total number of hospitalization for all counties (Libardo)"
   ]
  },
  {
   "cell_type": "code",
   "execution_count": null,
   "metadata": {},
   "outputs": [],
   "source": [
    "#Total number of hospitalization for each county and put in DataFrame # Create a visualization (Kelsey)\n"
   ]
  },
  {
   "cell_type": "code",
   "execution_count": null,
   "metadata": {},
   "outputs": [],
   "source": [
    "#Percentage of hospitalization by gender # Create Visualization (Libardo)\n"
   ]
  },
  {
   "cell_type": "code",
   "execution_count": null,
   "metadata": {},
   "outputs": [],
   "source": [
    "#Percentage of hospitalization by age group (Chika) #Create visualization"
   ]
  },
  {
   "cell_type": "code",
   "execution_count": null,
   "metadata": {},
   "outputs": [],
   "source": [
    "#Percentage of hospitalization before shut down (Not done yet) (Rephrase) (Chika)"
   ]
  },
  {
   "cell_type": "code",
   "execution_count": null,
   "metadata": {},
   "outputs": [],
   "source": [
    "#Percentage of hospitalization during shut down (backburner)"
   ]
  },
  {
   "cell_type": "code",
   "execution_count": null,
   "metadata": {},
   "outputs": [],
   "source": [
    "#Percentage of hospitalization after reopening(Not done yet) (Rephrase) (Chika)"
   ]
  },
  {
   "cell_type": "code",
   "execution_count": null,
   "metadata": {},
   "outputs": [],
   "source": [
    "#Compare travel-related hospitalization to non-travelrelated cases (Not done yet) (Chika)"
   ]
  },
  {
   "cell_type": "code",
   "execution_count": null,
   "metadata": {},
   "outputs": [],
   "source": [
    "#Average number of hospitalization by county (Not done yet) (Kelsey) "
   ]
  },
  {
   "cell_type": "code",
   "execution_count": null,
   "metadata": {},
   "outputs": [],
   "source": [
    "#Hospitalization by case date/month (needs more) (Libardo) "
   ]
  }
 ],
 "metadata": {
  "kernelspec": {
   "display_name": "Python 3",
   "language": "python",
   "name": "python3"
  },
  "language_info": {
   "codemirror_mode": {
    "name": "ipython",
    "version": 3
   },
   "file_extension": ".py",
   "mimetype": "text/x-python",
   "name": "python",
   "nbconvert_exporter": "python",
   "pygments_lexer": "ipython3",
   "version": "3.6.10"
  }
 },
 "nbformat": 4,
 "nbformat_minor": 4
}
