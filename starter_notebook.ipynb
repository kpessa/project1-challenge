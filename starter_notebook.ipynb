{
 "cells": [
  {
   "cell_type": "markdown",
   "metadata": {},
   "source": [
    "# Project 1\n",
    "- **Team Members**: Chika Ozodiegwu, Kelsey Wyatt, Libardo Lambrano, Kurt Pessa\n",
    "\n",
    "![](Images/florida_covid19_data.jpg)\n",
    "\n",
    "### Data set used:: \n",
    "* https://open-fdoh.hub.arcgis.com/datasets/florida-covid19-case-line-data\n"
   ]
  },
  {
   "cell_type": "code",
   "execution_count": 2,
   "metadata": {},
   "outputs": [
    {
     "data": {
      "text/html": [
       "<div>\n",
       "<style scoped>\n",
       "    .dataframe tbody tr th:only-of-type {\n",
       "        vertical-align: middle;\n",
       "    }\n",
       "\n",
       "    .dataframe tbody tr th {\n",
       "        vertical-align: top;\n",
       "    }\n",
       "\n",
       "    .dataframe thead th {\n",
       "        text-align: right;\n",
       "    }\n",
       "</style>\n",
       "<table border=\"1\" class=\"dataframe\">\n",
       "  <thead>\n",
       "    <tr style=\"text-align: right;\">\n",
       "      <th></th>\n",
       "      <th>County</th>\n",
       "      <th>Age</th>\n",
       "      <th>Age_group</th>\n",
       "      <th>Gender</th>\n",
       "      <th>Jurisdiction</th>\n",
       "      <th>Travel_related</th>\n",
       "      <th>Origin</th>\n",
       "      <th>EDvisit</th>\n",
       "      <th>Hospitalized</th>\n",
       "      <th>Died</th>\n",
       "      <th>Case_</th>\n",
       "      <th>Contact</th>\n",
       "      <th>Case1</th>\n",
       "      <th>EventDate</th>\n",
       "      <th>ChartDate</th>\n",
       "      <th>ObjectId</th>\n",
       "    </tr>\n",
       "  </thead>\n",
       "  <tbody>\n",
       "    <tr>\n",
       "      <th>0</th>\n",
       "      <td>Hillsborough</td>\n",
       "      <td>21.0</td>\n",
       "      <td>15-24 years</td>\n",
       "      <td>Male</td>\n",
       "      <td>FL resident</td>\n",
       "      <td>Unknown</td>\n",
       "      <td>NaN</td>\n",
       "      <td>NaN</td>\n",
       "      <td>NaN</td>\n",
       "      <td>NaN</td>\n",
       "      <td>Yes</td>\n",
       "      <td>Yes</td>\n",
       "      <td>2020/07/15 05:00:00+00</td>\n",
       "      <td>2020/07/15 01:04:23+00</td>\n",
       "      <td>2020/07/15 05:00:00+00</td>\n",
       "      <td>90</td>\n",
       "    </tr>\n",
       "    <tr>\n",
       "      <th>1</th>\n",
       "      <td>Palm Beach</td>\n",
       "      <td>65.0</td>\n",
       "      <td>65-74 years</td>\n",
       "      <td>Male</td>\n",
       "      <td>FL resident</td>\n",
       "      <td>Unknown</td>\n",
       "      <td>NaN</td>\n",
       "      <td>NaN</td>\n",
       "      <td>NaN</td>\n",
       "      <td>NaN</td>\n",
       "      <td>Yes</td>\n",
       "      <td>Yes</td>\n",
       "      <td>2020/07/15 05:00:00+00</td>\n",
       "      <td>2020/07/15 19:56:31+00</td>\n",
       "      <td>2020/07/15 05:00:00+00</td>\n",
       "      <td>279</td>\n",
       "    </tr>\n",
       "    <tr>\n",
       "      <th>2</th>\n",
       "      <td>Hendry</td>\n",
       "      <td>23.0</td>\n",
       "      <td>15-24 years</td>\n",
       "      <td>Female</td>\n",
       "      <td>FL resident</td>\n",
       "      <td>Unknown</td>\n",
       "      <td>NaN</td>\n",
       "      <td>NaN</td>\n",
       "      <td>NaN</td>\n",
       "      <td>NaN</td>\n",
       "      <td>Yes</td>\n",
       "      <td>Yes</td>\n",
       "      <td>2020/07/15 05:00:00+00</td>\n",
       "      <td>2020/07/15 15:03:33+00</td>\n",
       "      <td>2020/07/15 05:00:00+00</td>\n",
       "      <td>339</td>\n",
       "    </tr>\n",
       "  </tbody>\n",
       "</table>\n",
       "</div>"
      ],
      "text/plain": [
       "         County   Age    Age_group  Gender Jurisdiction Travel_related Origin  \\\n",
       "0  Hillsborough  21.0  15-24 years    Male  FL resident        Unknown    NaN   \n",
       "1    Palm Beach  65.0  65-74 years    Male  FL resident        Unknown    NaN   \n",
       "2        Hendry  23.0  15-24 years  Female  FL resident        Unknown    NaN   \n",
       "\n",
       "  EDvisit Hospitalized Died Case_ Contact                   Case1  \\\n",
       "0     NaN          NaN  NaN   Yes     Yes  2020/07/15 05:00:00+00   \n",
       "1     NaN          NaN  NaN   Yes     Yes  2020/07/15 05:00:00+00   \n",
       "2     NaN          NaN  NaN   Yes     Yes  2020/07/15 05:00:00+00   \n",
       "\n",
       "                EventDate               ChartDate  ObjectId  \n",
       "0  2020/07/15 01:04:23+00  2020/07/15 05:00:00+00        90  \n",
       "1  2020/07/15 19:56:31+00  2020/07/15 05:00:00+00       279  \n",
       "2  2020/07/15 15:03:33+00  2020/07/15 05:00:00+00       339  "
      ]
     },
     "execution_count": 2,
     "metadata": {},
     "output_type": "execute_result"
    }
   ],
   "source": [
    "import pandas as pd\n",
    "\n",
    "df = pd.read_csv(\"Resources/Florida_COVID19_Case_Line_Data_new.csv\")\n",
    "\n",
    "df.head(3)"
   ]
  },
  {
   "cell_type": "code",
   "execution_count": 4,
   "metadata": {},
   "outputs": [
    {
     "ename": "AttributeError",
     "evalue": "'DataFrame' object has no attribute 'DataFrame'",
     "output_type": "error",
     "traceback": [
      "\u001b[1;31m---------------------------------------------------------------------------\u001b[0m",
      "\u001b[1;31mAttributeError\u001b[0m                            Traceback (most recent call last)",
      "\u001b[1;32m<ipython-input-4-9e773feca90e>\u001b[0m in \u001b[0;36m<module>\u001b[1;34m\u001b[0m\n\u001b[0;32m      1\u001b[0m \u001b[1;31m#clean csv\u001b[0m\u001b[1;33m\u001b[0m\u001b[1;33m\u001b[0m\u001b[1;33m\u001b[0m\u001b[0m\n\u001b[1;32m----> 2\u001b[1;33m \u001b[0mnew_csv_data_df\u001b[0m \u001b[1;33m=\u001b[0m \u001b[0mdf\u001b[0m\u001b[1;33m.\u001b[0m\u001b[0mDataFrame\u001b[0m\u001b[1;33m(\u001b[0m\u001b[1;33m[\u001b[0m\u001b[1;34m'County'\u001b[0m\u001b[1;33m,\u001b[0m\u001b[1;34m'Age'\u001b[0m\u001b[1;33m,\u001b[0m\u001b[1;34m\"Age Group\"\u001b[0m\u001b[1;33m,\u001b[0m \u001b[1;34m\"Gender\"\u001b[0m\u001b[1;33m,\u001b[0m \u001b[1;34m\"Jursidiction\"\u001b[0m\u001b[1;33m,\u001b[0m \u001b[1;34m\"Travel_related\"\u001b[0m\u001b[1;33m,\u001b[0m \u001b[1;34m\"Hospitalized\"\u001b[0m\u001b[1;33m,\u001b[0m\u001b[1;34m\"Case Date\"\u001b[0m\u001b[1;33m]\u001b[0m\u001b[1;33m)\u001b[0m\u001b[1;33m\u001b[0m\u001b[1;33m\u001b[0m\u001b[0m\n\u001b[0m\u001b[0;32m      3\u001b[0m \u001b[0mnew_csv_data_df\u001b[0m\u001b[1;33m.\u001b[0m\u001b[0mhead\u001b[0m\u001b[1;33m(\u001b[0m\u001b[1;33m)\u001b[0m\u001b[1;33m\u001b[0m\u001b[1;33m\u001b[0m\u001b[0m\n",
      "\u001b[1;32m~\\anaconda3\\envs\\PythonData\\lib\\site-packages\\pandas\\core\\generic.py\u001b[0m in \u001b[0;36m__getattr__\u001b[1;34m(self, name)\u001b[0m\n\u001b[0;32m   5272\u001b[0m             \u001b[1;32mif\u001b[0m \u001b[0mself\u001b[0m\u001b[1;33m.\u001b[0m\u001b[0m_info_axis\u001b[0m\u001b[1;33m.\u001b[0m\u001b[0m_can_hold_identifiers_and_holds_name\u001b[0m\u001b[1;33m(\u001b[0m\u001b[0mname\u001b[0m\u001b[1;33m)\u001b[0m\u001b[1;33m:\u001b[0m\u001b[1;33m\u001b[0m\u001b[1;33m\u001b[0m\u001b[0m\n\u001b[0;32m   5273\u001b[0m                 \u001b[1;32mreturn\u001b[0m \u001b[0mself\u001b[0m\u001b[1;33m[\u001b[0m\u001b[0mname\u001b[0m\u001b[1;33m]\u001b[0m\u001b[1;33m\u001b[0m\u001b[1;33m\u001b[0m\u001b[0m\n\u001b[1;32m-> 5274\u001b[1;33m             \u001b[1;32mreturn\u001b[0m \u001b[0mobject\u001b[0m\u001b[1;33m.\u001b[0m\u001b[0m__getattribute__\u001b[0m\u001b[1;33m(\u001b[0m\u001b[0mself\u001b[0m\u001b[1;33m,\u001b[0m \u001b[0mname\u001b[0m\u001b[1;33m)\u001b[0m\u001b[1;33m\u001b[0m\u001b[1;33m\u001b[0m\u001b[0m\n\u001b[0m\u001b[0;32m   5275\u001b[0m \u001b[1;33m\u001b[0m\u001b[0m\n\u001b[0;32m   5276\u001b[0m     \u001b[1;32mdef\u001b[0m \u001b[0m__setattr__\u001b[0m\u001b[1;33m(\u001b[0m\u001b[0mself\u001b[0m\u001b[1;33m,\u001b[0m \u001b[0mname\u001b[0m\u001b[1;33m:\u001b[0m \u001b[0mstr\u001b[0m\u001b[1;33m,\u001b[0m \u001b[0mvalue\u001b[0m\u001b[1;33m)\u001b[0m \u001b[1;33m->\u001b[0m \u001b[1;32mNone\u001b[0m\u001b[1;33m:\u001b[0m\u001b[1;33m\u001b[0m\u001b[1;33m\u001b[0m\u001b[0m\n",
      "\u001b[1;31mAttributeError\u001b[0m: 'DataFrame' object has no attribute 'DataFrame'"
     ]
    }
   ],
   "source": [
    "#clean csv\n",
    "new_csv_data_df = df.DataFrame(['County','Age',\"Age Group\", \"Gender\", \"Jursidiction\", \"Travel_related\", \"Hospitalized\",\"Case Date\"])\n",
    "new_csv_data_df.head()"
   ]
  },
  {
   "cell_type": "markdown",
   "metadata": {},
   "source": [
    "# There is no change in hospitalizations since reopening\n",
    "### Research Question to Answer:\n",
    "* “There is no change in hospitalizations since reopening?” "
   ]
  },
  {
   "cell_type": "markdown",
   "metadata": {},
   "source": [
    "### Part 1: Six (6) Steps for Hypothesis Testing\n",
    "\n",
    "<details><summary> click to expand  </summary>\n",
    "\n",
    "#### 1. Identify\n",
    "- **Populations** (divide Hospitalization data in two groups of data):\n",
    "    1. Prior to opening\n",
    "    2. After opening  \n",
    "* Decide on the **date**:\n",
    "    * May 4th - restaurants opening to 25% capacity\n",
    "    * June  (Miami opening beaches)\n",
    "- Distribution:\n",
    "    * Distribution\n",
    "\n",
    "#### 2. State the hypotheses\n",
    "- **H0**: There is no change in hospitalizations after Florida has reopened\n",
    "- **H1**: There is a change in hospitalizations after Florida has reopened\n",
    "\n",
    "#### 3. Characteristics of the comparison distribution\n",
    "- Population means, standard deviations\n",
    "\n",
    "#### 4. Critical values\n",
    "- p = 0.05\n",
    "- Our hypothesis is nondirectional so our hypothesis test is **two-tailed**\n",
    "\n",
    "#### 5. Calculate\n",
    "\n",
    "#### 6. Decide!\n",
    "    \n",
    "</details>"
   ]
  },
  {
   "cell_type": "markdown",
   "metadata": {},
   "source": [
    "### Part 2: Visualization\n",
    "* Trends\n",
    "\n",
    "### Further Inquries\n",
    "* Increases in groups?\n",
    "* Age\n",
    "* Gender\n",
    "* Ethnicitiy\n",
    "\n",
    "### Rough Breakdown of Tasks\n",
    "* Data Massaging"
   ]
  },
  {
   "cell_type": "code",
   "execution_count": null,
   "metadata": {},
   "outputs": [],
   "source": [
    "#Total number of cases "
   ]
  },
  {
   "cell_type": "code",
   "execution_count": null,
   "metadata": {},
   "outputs": [],
   "source": [
    "#Total number of cases by county"
   ]
  },
  {
   "cell_type": "code",
   "execution_count": null,
   "metadata": {},
   "outputs": [],
   "source": [
    "#Total number of cases by gender"
   ]
  },
  {
   "cell_type": "code",
   "execution_count": null,
   "metadata": {},
   "outputs": [],
   "source": [
    "#Top 10 counties with the most cases\n"
   ]
  },
  {
   "cell_type": "code",
   "execution_count": null,
   "metadata": {},
   "outputs": [],
   "source": [
    "#Divide hospitalization data in two groups of data prior to reopening and create new dataframe"
   ]
  },
  {
   "cell_type": "code",
   "execution_count": null,
   "metadata": {},
   "outputs": [],
   "source": [
    "#Divide hospitalization data in two groups of data after reopening and create new dataframe"
   ]
  },
  {
   "cell_type": "code",
   "execution_count": null,
   "metadata": {},
   "outputs": [],
   "source": [
    "#Total number of hospitalization for all counties "
   ]
  },
  {
   "cell_type": "code",
   "execution_count": null,
   "metadata": {},
   "outputs": [],
   "source": [
    "#Total number of hospitalization for each county and put in DataFrame"
   ]
  },
  {
   "cell_type": "code",
   "execution_count": null,
   "metadata": {},
   "outputs": [],
   "source": [
    "#Percentage of hospitalization by gender\n"
   ]
  },
  {
   "cell_type": "code",
   "execution_count": null,
   "metadata": {},
   "outputs": [],
   "source": [
    "#Percentage of hospitalization by age group"
   ]
  },
  {
   "cell_type": "code",
   "execution_count": null,
   "metadata": {},
   "outputs": [],
   "source": [
    "#Percentage of hospitalization before shut down"
   ]
  },
  {
   "cell_type": "code",
   "execution_count": null,
   "metadata": {},
   "outputs": [],
   "source": [
    "#Percentage of hospitalization before after shut down"
   ]
  },
  {
   "cell_type": "code",
   "execution_count": null,
   "metadata": {},
   "outputs": [],
   "source": [
    "#Percentage of hospitalization after reopening"
   ]
  },
  {
   "cell_type": "code",
   "execution_count": null,
   "metadata": {},
   "outputs": [],
   "source": [
    "#Compare trave-related hospitalization to no-tavelrelated cases"
   ]
  },
  {
   "cell_type": "code",
   "execution_count": null,
   "metadata": {},
   "outputs": [],
   "source": [
    "#Hospitalization by case date/month"
   ]
  }
 ],
 "metadata": {
  "kernelspec": {
   "display_name": "Python 3.6.10 64-bit ('PythonData': conda)",
   "language": "python",
   "name": "python361064bitpythondataconda13c33e7d00474160b8916212f83fb86d"
  },
  "language_info": {
   "codemirror_mode": {
    "name": "ipython",
    "version": 3
   },
   "file_extension": ".py",
   "mimetype": "text/x-python",
   "name": "python",
   "nbconvert_exporter": "python",
   "pygments_lexer": "ipython3",
   "version": "3.6.10"
  }
 },
 "nbformat": 4,
 "nbformat_minor": 4
}
