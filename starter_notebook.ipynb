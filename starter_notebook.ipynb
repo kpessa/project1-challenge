{
 "cells": [
  {
   "cell_type": "markdown",
   "metadata": {},
   "source": [
    "# Project 1\n",
    "- **Team Members**: Chika Ozodiegwu, Kelsey Wyatt, Libardo Lambrano, Kurt Pessa\n",
    "\n",
    "![](Images/florida_covid19_data.jpg)\n",
    "\n",
    "### Data set used:: \n",
    "* https://open-fdoh.hub.arcgis.com/datasets/florida-covid19-case-line-data\n"
   ]
  },
  {
   "cell_type": "code",
   "execution_count": 2,
   "metadata": {},
   "outputs": [
    {
     "data": {
      "text/html": [
       "<div>\n",
       "<style scoped>\n",
       "    .dataframe tbody tr th:only-of-type {\n",
       "        vertical-align: middle;\n",
       "    }\n",
       "\n",
       "    .dataframe tbody tr th {\n",
       "        vertical-align: top;\n",
       "    }\n",
       "\n",
       "    .dataframe thead th {\n",
       "        text-align: right;\n",
       "    }\n",
       "</style>\n",
       "<table border=\"1\" class=\"dataframe\">\n",
       "  <thead>\n",
       "    <tr style=\"text-align: right;\">\n",
       "      <th></th>\n",
       "      <th>County</th>\n",
       "      <th>Age</th>\n",
       "      <th>Age_group</th>\n",
       "      <th>Gender</th>\n",
       "      <th>Jurisdiction</th>\n",
       "      <th>Travel_related</th>\n",
       "      <th>Origin</th>\n",
       "      <th>EDvisit</th>\n",
       "      <th>Hospitalized</th>\n",
       "      <th>Died</th>\n",
       "      <th>Case_</th>\n",
       "      <th>Contact</th>\n",
       "      <th>Case1</th>\n",
       "      <th>EventDate</th>\n",
       "      <th>ChartDate</th>\n",
       "      <th>ObjectId</th>\n",
       "    </tr>\n",
       "  </thead>\n",
       "  <tbody>\n",
       "    <tr>\n",
       "      <th>0</th>\n",
       "      <td>Hillsborough</td>\n",
       "      <td>21.0</td>\n",
       "      <td>15-24 years</td>\n",
       "      <td>Male</td>\n",
       "      <td>FL resident</td>\n",
       "      <td>Unknown</td>\n",
       "      <td>NaN</td>\n",
       "      <td>NaN</td>\n",
       "      <td>NaN</td>\n",
       "      <td>NaN</td>\n",
       "      <td>Yes</td>\n",
       "      <td>Yes</td>\n",
       "      <td>2020/07/15 05:00:00+00</td>\n",
       "      <td>2020/07/15 01:04:23+00</td>\n",
       "      <td>2020/07/15 05:00:00+00</td>\n",
       "      <td>90</td>\n",
       "    </tr>\n",
       "    <tr>\n",
       "      <th>1</th>\n",
       "      <td>Palm Beach</td>\n",
       "      <td>65.0</td>\n",
       "      <td>65-74 years</td>\n",
       "      <td>Male</td>\n",
       "      <td>FL resident</td>\n",
       "      <td>Unknown</td>\n",
       "      <td>NaN</td>\n",
       "      <td>NaN</td>\n",
       "      <td>NaN</td>\n",
       "      <td>NaN</td>\n",
       "      <td>Yes</td>\n",
       "      <td>Yes</td>\n",
       "      <td>2020/07/15 05:00:00+00</td>\n",
       "      <td>2020/07/15 19:56:31+00</td>\n",
       "      <td>2020/07/15 05:00:00+00</td>\n",
       "      <td>279</td>\n",
       "    </tr>\n",
       "    <tr>\n",
       "      <th>2</th>\n",
       "      <td>Hendry</td>\n",
       "      <td>23.0</td>\n",
       "      <td>15-24 years</td>\n",
       "      <td>Female</td>\n",
       "      <td>FL resident</td>\n",
       "      <td>Unknown</td>\n",
       "      <td>NaN</td>\n",
       "      <td>NaN</td>\n",
       "      <td>NaN</td>\n",
       "      <td>NaN</td>\n",
       "      <td>Yes</td>\n",
       "      <td>Yes</td>\n",
       "      <td>2020/07/15 05:00:00+00</td>\n",
       "      <td>2020/07/15 15:03:33+00</td>\n",
       "      <td>2020/07/15 05:00:00+00</td>\n",
       "      <td>339</td>\n",
       "    </tr>\n",
       "  </tbody>\n",
       "</table>\n",
       "</div>"
      ],
      "text/plain": [
       "         County   Age    Age_group  Gender Jurisdiction Travel_related Origin  \\\n",
       "0  Hillsborough  21.0  15-24 years    Male  FL resident        Unknown    NaN   \n",
       "1    Palm Beach  65.0  65-74 years    Male  FL resident        Unknown    NaN   \n",
       "2        Hendry  23.0  15-24 years  Female  FL resident        Unknown    NaN   \n",
       "\n",
       "  EDvisit Hospitalized Died Case_ Contact                   Case1  \\\n",
       "0     NaN          NaN  NaN   Yes     Yes  2020/07/15 05:00:00+00   \n",
       "1     NaN          NaN  NaN   Yes     Yes  2020/07/15 05:00:00+00   \n",
       "2     NaN          NaN  NaN   Yes     Yes  2020/07/15 05:00:00+00   \n",
       "\n",
       "                EventDate               ChartDate  ObjectId  \n",
       "0  2020/07/15 01:04:23+00  2020/07/15 05:00:00+00        90  \n",
       "1  2020/07/15 19:56:31+00  2020/07/15 05:00:00+00       279  \n",
       "2  2020/07/15 15:03:33+00  2020/07/15 05:00:00+00       339  "
      ]
     },
     "execution_count": 2,
     "metadata": {},
     "output_type": "execute_result"
    }
   ],
   "source": [
    "import pandas as pd\n",
    "\n",
    "df = pd.read_csv(\"Resources/Florida_COVID19_Case_Line_Data_new.csv\")\n",
    "\n",
    "df.head(3)"
   ]
  },
  {
   "cell_type": "code",
   "execution_count": 13,
   "metadata": {},
   "outputs": [
    {
     "data": {
      "text/html": [
       "<div>\n",
       "<style scoped>\n",
       "    .dataframe tbody tr th:only-of-type {\n",
       "        vertical-align: middle;\n",
       "    }\n",
       "\n",
       "    .dataframe tbody tr th {\n",
       "        vertical-align: top;\n",
       "    }\n",
       "\n",
       "    .dataframe thead th {\n",
       "        text-align: right;\n",
       "    }\n",
       "</style>\n",
       "<table border=\"1\" class=\"dataframe\">\n",
       "  <thead>\n",
       "    <tr style=\"text-align: right;\">\n",
       "      <th></th>\n",
       "      <th>ObjectId</th>\n",
       "      <th>County</th>\n",
       "      <th>Age</th>\n",
       "      <th>Age_group</th>\n",
       "      <th>Gender</th>\n",
       "      <th>Jurisdiction</th>\n",
       "      <th>Travel_related</th>\n",
       "      <th>Hospitalized</th>\n",
       "      <th>Case1</th>\n",
       "    </tr>\n",
       "  </thead>\n",
       "  <tbody>\n",
       "    <tr>\n",
       "      <th>0</th>\n",
       "      <td>90</td>\n",
       "      <td>Hillsborough</td>\n",
       "      <td>21.0</td>\n",
       "      <td>15-24 years</td>\n",
       "      <td>Male</td>\n",
       "      <td>FL resident</td>\n",
       "      <td>Unknown</td>\n",
       "      <td>NaN</td>\n",
       "      <td>2020/07/15 05:00:00+00</td>\n",
       "    </tr>\n",
       "    <tr>\n",
       "      <th>1</th>\n",
       "      <td>279</td>\n",
       "      <td>Palm Beach</td>\n",
       "      <td>65.0</td>\n",
       "      <td>65-74 years</td>\n",
       "      <td>Male</td>\n",
       "      <td>FL resident</td>\n",
       "      <td>Unknown</td>\n",
       "      <td>NaN</td>\n",
       "      <td>2020/07/15 05:00:00+00</td>\n",
       "    </tr>\n",
       "    <tr>\n",
       "      <th>2</th>\n",
       "      <td>339</td>\n",
       "      <td>Hendry</td>\n",
       "      <td>23.0</td>\n",
       "      <td>15-24 years</td>\n",
       "      <td>Female</td>\n",
       "      <td>FL resident</td>\n",
       "      <td>Unknown</td>\n",
       "      <td>NaN</td>\n",
       "      <td>2020/07/15 05:00:00+00</td>\n",
       "    </tr>\n",
       "    <tr>\n",
       "      <th>3</th>\n",
       "      <td>1606</td>\n",
       "      <td>Leon</td>\n",
       "      <td>19.0</td>\n",
       "      <td>15-24 years</td>\n",
       "      <td>Male</td>\n",
       "      <td>FL resident</td>\n",
       "      <td>Unknown</td>\n",
       "      <td>NaN</td>\n",
       "      <td>2020/07/15 05:00:00+00</td>\n",
       "    </tr>\n",
       "    <tr>\n",
       "      <th>4</th>\n",
       "      <td>1873</td>\n",
       "      <td>Santa Rosa</td>\n",
       "      <td>21.0</td>\n",
       "      <td>15-24 years</td>\n",
       "      <td>Female</td>\n",
       "      <td>FL resident</td>\n",
       "      <td>No</td>\n",
       "      <td>NO</td>\n",
       "      <td>2020/07/15 05:00:00+00</td>\n",
       "    </tr>\n",
       "  </tbody>\n",
       "</table>\n",
       "</div>"
      ],
      "text/plain": [
       "   ObjectId        County   Age    Age_group  Gender Jurisdiction  \\\n",
       "0        90  Hillsborough  21.0  15-24 years    Male  FL resident   \n",
       "1       279    Palm Beach  65.0  65-74 years    Male  FL resident   \n",
       "2       339        Hendry  23.0  15-24 years  Female  FL resident   \n",
       "3      1606          Leon  19.0  15-24 years    Male  FL resident   \n",
       "4      1873    Santa Rosa  21.0  15-24 years  Female  FL resident   \n",
       "\n",
       "  Travel_related Hospitalized                   Case1  \n",
       "0        Unknown          NaN  2020/07/15 05:00:00+00  \n",
       "1        Unknown          NaN  2020/07/15 05:00:00+00  \n",
       "2        Unknown          NaN  2020/07/15 05:00:00+00  \n",
       "3        Unknown          NaN  2020/07/15 05:00:00+00  \n",
       "4             No           NO  2020/07/15 05:00:00+00  "
      ]
     },
     "execution_count": 13,
     "metadata": {},
     "output_type": "execute_result"
    }
   ],
   "source": [
    "#clean csv\n",
    "\n",
    "new_csv_data_df = df[['ObjectId', \"County\",'Age',\"Age_group\", \"Gender\", \"Jurisdiction\", \"Travel_related\", \"Hospitalized\",\"Case1\"]]\n",
    "new_csv_data_df.head()"
   ]
  },
  {
   "cell_type": "code",
   "execution_count": 18,
   "metadata": {},
   "outputs": [],
   "source": [
    "#new_csv_data_df.to_csv(new_csv_data_df, 'new_cleaned_data.csv')\n",
    "\n",
    "new_csv_data_df.to_csv (\"new_covid_dataframe.csv\") # index = False, header=True)"
   ]
  },
  {
   "cell_type": "markdown",
   "metadata": {},
   "source": [
    "# There is no change in hospitalizations since reopening\n",
    "### Research Question to Answer:\n",
    "* “There is no change in hospitalizations since reopening?” "
   ]
  },
  {
   "cell_type": "markdown",
   "metadata": {},
   "source": [
    "### Part 1: Six (6) Steps for Hypothesis Testing\n",
    "\n",
    "<details><summary> click to expand  </summary>\n",
    "\n",
    "#### 1. Identify\n",
    "- **Populations** (divide Hospitalization data in two groups of data):\n",
    "    1. Prior to opening\n",
    "    2. After opening  \n",
    "* Decide on the **date**:\n",
    "    * May 4th - restaurants opening to 25% capacity\n",
    "    * June  (Miami opening beaches)\n",
    "- Distribution:\n",
    "    * Distribution\n",
    "\n",
    "#### 2. State the hypotheses\n",
    "- **H0**: There is no change in hospitalizations after Florida has reopened\n",
    "- **H1**: There is a change in hospitalizations after Florida has reopened\n",
    "\n",
    "#### 3. Characteristics of the comparison distribution\n",
    "- Population means, standard deviations\n",
    "\n",
    "#### 4. Critical values\n",
    "- p = 0.05\n",
    "- Our hypothesis is nondirectional so our hypothesis test is **two-tailed**\n",
    "\n",
    "#### 5. Calculate\n",
    "\n",
    "#### 6. Decide!\n",
    "    \n",
    "</details>"
   ]
  },
  {
   "cell_type": "markdown",
   "metadata": {},
   "source": [
    "### Part 2: Visualization\n",
    "* Trends\n",
    "\n",
    "### Further Inquries\n",
    "* Increases in groups?\n",
    "* Age\n",
    "* Gender\n",
    "* Ethnicitiy\n",
    "\n",
    "### Rough Breakdown of Tasks\n",
    "* Data Massaging"
   ]
  },
  {
   "cell_type": "code",
   "execution_count": 21,
   "metadata": {},
   "outputs": [
    {
     "data": {
      "text/html": [
       "<div>\n",
       "<style scoped>\n",
       "    .dataframe tbody tr th:only-of-type {\n",
       "        vertical-align: middle;\n",
       "    }\n",
       "\n",
       "    .dataframe tbody tr th {\n",
       "        vertical-align: top;\n",
       "    }\n",
       "\n",
       "    .dataframe thead th {\n",
       "        text-align: right;\n",
       "    }\n",
       "</style>\n",
       "<table border=\"1\" class=\"dataframe\">\n",
       "  <thead>\n",
       "    <tr style=\"text-align: right;\">\n",
       "      <th></th>\n",
       "      <th>Total Number of Cases</th>\n",
       "    </tr>\n",
       "  </thead>\n",
       "  <tbody>\n",
       "    <tr>\n",
       "      <th>0</th>\n",
       "      <td>315775</td>\n",
       "    </tr>\n",
       "  </tbody>\n",
       "</table>\n",
       "</div>"
      ],
      "text/plain": [
       "   Total Number of Cases\n",
       "0                 315775"
      ]
     },
     "execution_count": 21,
     "metadata": {},
     "output_type": "execute_result"
    }
   ],
   "source": [
    "#Calculate total number of cases \n",
    "Total_covid_cases = new_csv_data_df[\"ObjectId\"].nunique()\n",
    "Total_covid_cases = pd.DataFrame({\"Total Number of Cases\": [Total_covid_cases]})\n",
    "Total_covid_cases"
   ]
  },
  {
   "cell_type": "code",
   "execution_count": null,
   "metadata": {},
   "outputs": [],
   "source": [
    "#Total number of cases by county (Kelsey) Include bar chart\n"
   ]
  },
  {
   "cell_type": "code",
   "execution_count": null,
   "metadata": {},
   "outputs": [],
   "source": [
    "#Total number of cases by gender (Kelsey) Include pie chart "
   ]
  },
  {
   "cell_type": "code",
   "execution_count": null,
   "metadata": {},
   "outputs": [],
   "source": [
    "#Top 10 counties with the most cases\n"
   ]
  },
  {
   "cell_type": "code",
   "execution_count": null,
   "metadata": {},
   "outputs": [],
   "source": [
    "#Divide hospitalization data in two groups of data prior to reopening and create new dataframe (Kurt)"
   ]
  },
  {
   "cell_type": "code",
   "execution_count": null,
   "metadata": {},
   "outputs": [],
   "source": [
    "#Divide hospitalization data in two groups of data after reopening and create new dataframe (Kurt)"
   ]
  },
  {
   "cell_type": "code",
   "execution_count": null,
   "metadata": {},
   "outputs": [],
   "source": [
    "#Total number of hospitalization for all counties (already done)"
   ]
  },
  {
   "cell_type": "code",
   "execution_count": null,
   "metadata": {},
   "outputs": [],
   "source": [
    "#Total number of hospitalization for each county and put in DataFrame # Create a visualization (Kelsey)\n"
   ]
  },
  {
   "cell_type": "code",
   "execution_count": null,
   "metadata": {},
   "outputs": [],
   "source": [
    "#Percentage of hospitalization by gender # Create Visualization \n"
   ]
  },
  {
   "cell_type": "code",
   "execution_count": null,
   "metadata": {},
   "outputs": [],
   "source": [
    "#Percentage of hospitalization by age group (Not done yet)"
   ]
  },
  {
   "cell_type": "code",
   "execution_count": null,
   "metadata": {},
   "outputs": [],
   "source": [
    "#Percentage of hospitalization before shut down (Not done yet)"
   ]
  },
  {
   "cell_type": "code",
   "execution_count": null,
   "metadata": {},
   "outputs": [],
   "source": [
    "#Percentage of hospitalization during shut down (backburner)"
   ]
  },
  {
   "cell_type": "code",
   "execution_count": null,
   "metadata": {},
   "outputs": [],
   "source": [
    "#Percentage of hospitalization after reopening(Not done yet)"
   ]
  },
  {
   "cell_type": "code",
   "execution_count": null,
   "metadata": {},
   "outputs": [],
   "source": [
    "#Compare travel-related hospitalization to non-travelrelated cases (Not done yet)"
   ]
  },
  {
   "cell_type": "code",
   "execution_count": null,
   "metadata": {},
   "outputs": [],
   "source": [
    "#Average number of hospitalization by county (Not done yet)"
   ]
  },
  {
   "cell_type": "code",
   "execution_count": null,
   "metadata": {},
   "outputs": [],
   "source": [
    "#Hospitalization by case date/month (needs more)"
   ]
  }
 ],
 "metadata": {
  "kernelspec": {
   "display_name": "Python 3.6.10 64-bit ('PythonData': conda)",
   "language": "python",
   "name": "python361064bitpythondataconda13c33e7d00474160b8916212f83fb86d"
  },
  "language_info": {
   "codemirror_mode": {
    "name": "ipython",
    "version": 3
   },
   "file_extension": ".py",
   "mimetype": "text/x-python",
   "name": "python",
   "nbconvert_exporter": "python",
   "pygments_lexer": "ipython3",
   "version": "3.6.10"
  }
 },
 "nbformat": 4,
 "nbformat_minor": 4
}
