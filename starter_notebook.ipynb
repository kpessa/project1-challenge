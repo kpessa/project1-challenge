{
 "cells": [
  {
   "cell_type": "markdown",
   "metadata": {},
   "source": [
    "# Project 1\n",
    "- **Team Members**: Chika Ozodiegwu, Kelsey Wyatt, Libardo Lambrano, Kurt Pessa\n",
    "\n",
    "![](Images/florida_covid19_data.jpg)\n",
    "\n",
    "### Data set used:: \n",
    "* https://open-fdoh.hub.arcgis.com/datasets/florida-covid19-case-line-data\n"
   ]
  },
  {
   "cell_type": "markdown",
   "metadata": {},
   "source": [
    "##### Dependencies"
   ]
  },
  {
   "cell_type": "code",
   "execution_count": 1,
   "metadata": {},
   "outputs": [],
   "source": [
    "import step1_raw_data_collection as step1\n",
    "import step2_data_processing_and_cleaning as step2\n",
    "\n",
    "import pandas as pd\n",
    "import datetime as dt\n",
    "import matplotlib.pyplot as plt\n",
    "import scipy.stats as stats"
   ]
  },
  {
   "cell_type": "markdown",
   "metadata": {},
   "source": [
    "# Process of Data Analysis\n",
    "![](Images/data_process.png)\n",
    "## Step 1: Raw Data Collection\n",
    "-----"
   ]
  },
  {
   "cell_type": "code",
   "execution_count": 2,
   "metadata": {},
   "outputs": [],
   "source": [
    "df = step1.get_data()\n",
    "#help(step1.get_data)"
   ]
  },
  {
   "cell_type": "markdown",
   "metadata": {},
   "source": [
    "## Step 2: Data Processing & Data Cleaning\n",
    "-----"
   ]
  },
  {
   "cell_type": "markdown",
   "metadata": {},
   "source": [
    "##### Single group"
   ]
  },
  {
   "cell_type": "code",
   "execution_count": 5,
   "metadata": {},
   "outputs": [
    {
     "data": {
      "text/html": [
       "<div>\n",
       "<style scoped>\n",
       "    .dataframe tbody tr th:only-of-type {\n",
       "        vertical-align: middle;\n",
       "    }\n",
       "\n",
       "    .dataframe tbody tr th {\n",
       "        vertical-align: top;\n",
       "    }\n",
       "\n",
       "    .dataframe thead th {\n",
       "        text-align: right;\n",
       "    }\n",
       "</style>\n",
       "<table border=\"1\" class=\"dataframe\">\n",
       "  <thead>\n",
       "    <tr style=\"text-align: right;\">\n",
       "      <th></th>\n",
       "      <th>Age_group</th>\n",
       "      <th>Hospitalized</th>\n",
       "    </tr>\n",
       "  </thead>\n",
       "  <tbody>\n",
       "    <tr>\n",
       "      <th>0</th>\n",
       "      <td>0-4 years</td>\n",
       "      <td>100</td>\n",
       "    </tr>\n",
       "    <tr>\n",
       "      <th>1</th>\n",
       "      <td>15-24 years</td>\n",
       "      <td>508</td>\n",
       "    </tr>\n",
       "    <tr>\n",
       "      <th>2</th>\n",
       "      <td>25-34 years</td>\n",
       "      <td>1313</td>\n",
       "    </tr>\n",
       "    <tr>\n",
       "      <th>3</th>\n",
       "      <td>35-44 years</td>\n",
       "      <td>1947</td>\n",
       "    </tr>\n",
       "    <tr>\n",
       "      <th>4</th>\n",
       "      <td>45-54 years</td>\n",
       "      <td>2788</td>\n",
       "    </tr>\n",
       "    <tr>\n",
       "      <th>5</th>\n",
       "      <td>5-14 years</td>\n",
       "      <td>76</td>\n",
       "    </tr>\n",
       "    <tr>\n",
       "      <th>6</th>\n",
       "      <td>55-64 years</td>\n",
       "      <td>3699</td>\n",
       "    </tr>\n",
       "    <tr>\n",
       "      <th>7</th>\n",
       "      <td>65-74 years</td>\n",
       "      <td>4037</td>\n",
       "    </tr>\n",
       "    <tr>\n",
       "      <th>8</th>\n",
       "      <td>75-84 years</td>\n",
       "      <td>3716</td>\n",
       "    </tr>\n",
       "    <tr>\n",
       "      <th>9</th>\n",
       "      <td>85+ years</td>\n",
       "      <td>2785</td>\n",
       "    </tr>\n",
       "  </tbody>\n",
       "</table>\n",
       "</div>"
      ],
      "text/plain": [
       "     Age_group  Hospitalized\n",
       "0    0-4 years           100\n",
       "1  15-24 years           508\n",
       "2  25-34 years          1313\n",
       "3  35-44 years          1947\n",
       "4  45-54 years          2788\n",
       "5   5-14 years            76\n",
       "6  55-64 years          3699\n",
       "7  65-74 years          4037\n",
       "8  75-84 years          3716\n",
       "9    85+ years          2785"
      ]
     },
     "execution_count": 5,
     "metadata": {},
     "output_type": "execute_result"
    }
   ],
   "source": [
    "#df = step2.get_hospitalized_data()\n",
    "#df = step2.get_df_with_datetime_and_formatted_column()\n",
    "#df = step2.get_hospitalizations_by_casedatetime()\n",
    "\n",
    "#group_name = \"Gender\"\n",
    "group_name = \"Age_group\"\n",
    "#group_name = \"Travel_related\"\n",
    "#group_name = \"Jurisdiction\"\n",
    "#group_name = \"County\"\n",
    "\n",
    "df = step2.get_group(group_name)\n",
    "\n",
    "df"
   ]
  },
  {
   "cell_type": "markdown",
   "metadata": {},
   "source": [
    "##### Two groups: before and after opening"
   ]
  },
  {
   "cell_type": "code",
   "execution_count": 15,
   "metadata": {},
   "outputs": [],
   "source": [
    "df1, df2 = step2.get_groups_before_and_after_opening_date(opening_date = dt.datetime(2020,5,4), day_delta = 30)\n",
    "#df1, df2 = step2.get_groups_by_casedatetime()\n",
    "\n",
    "group_name = \"Gender\"\n",
    "#group_name = \"Age_group\"\n",
    "#group_name = \"Travel_related\"\n",
    "#group_name = \"Jurisdiction\"\n",
    "#group_name = \"County\"\n",
    "\n",
    "df1,df2 = step2.get_groups(group_name)\n",
    "\n",
    "#df1"
   ]
  },
  {
   "cell_type": "markdown",
   "metadata": {},
   "source": [
    "### Before Opening"
   ]
  },
  {
   "cell_type": "code",
   "execution_count": 13,
   "metadata": {},
   "outputs": [
    {
     "data": {
      "text/html": [
       "<div>\n",
       "<style scoped>\n",
       "    .dataframe tbody tr th:only-of-type {\n",
       "        vertical-align: middle;\n",
       "    }\n",
       "\n",
       "    .dataframe tbody tr th {\n",
       "        vertical-align: top;\n",
       "    }\n",
       "\n",
       "    .dataframe thead th {\n",
       "        text-align: right;\n",
       "    }\n",
       "</style>\n",
       "<table border=\"1\" class=\"dataframe\">\n",
       "  <thead>\n",
       "    <tr style=\"text-align: right;\">\n",
       "      <th></th>\n",
       "      <th>Gender</th>\n",
       "      <th>Hospitalized</th>\n",
       "    </tr>\n",
       "  </thead>\n",
       "  <tbody>\n",
       "    <tr>\n",
       "      <th>0</th>\n",
       "      <td>Female</td>\n",
       "      <td>2513</td>\n",
       "    </tr>\n",
       "    <tr>\n",
       "      <th>1</th>\n",
       "      <td>Male</td>\n",
       "      <td>2745</td>\n",
       "    </tr>\n",
       "  </tbody>\n",
       "</table>\n",
       "</div>"
      ],
      "text/plain": [
       "   Gender  Hospitalized\n",
       "0  Female          2513\n",
       "1    Male          2745"
      ]
     },
     "execution_count": 13,
     "metadata": {},
     "output_type": "execute_result"
    }
   ],
   "source": [
    "df1"
   ]
  },
  {
   "cell_type": "markdown",
   "metadata": {},
   "source": [
    "### After Opening"
   ]
  },
  {
   "cell_type": "code",
   "execution_count": 14,
   "metadata": {},
   "outputs": [
    {
     "data": {
      "text/html": [
       "<div>\n",
       "<style scoped>\n",
       "    .dataframe tbody tr th:only-of-type {\n",
       "        vertical-align: middle;\n",
       "    }\n",
       "\n",
       "    .dataframe tbody tr th {\n",
       "        vertical-align: top;\n",
       "    }\n",
       "\n",
       "    .dataframe thead th {\n",
       "        text-align: right;\n",
       "    }\n",
       "</style>\n",
       "<table border=\"1\" class=\"dataframe\">\n",
       "  <thead>\n",
       "    <tr style=\"text-align: right;\">\n",
       "      <th></th>\n",
       "      <th>Gender</th>\n",
       "      <th>Hospitalized</th>\n",
       "    </tr>\n",
       "  </thead>\n",
       "  <tbody>\n",
       "    <tr>\n",
       "      <th>0</th>\n",
       "      <td>Female</td>\n",
       "      <td>1772</td>\n",
       "    </tr>\n",
       "    <tr>\n",
       "      <th>1</th>\n",
       "      <td>Male</td>\n",
       "      <td>1717</td>\n",
       "    </tr>\n",
       "  </tbody>\n",
       "</table>\n",
       "</div>"
      ],
      "text/plain": [
       "   Gender  Hospitalized\n",
       "0  Female          1772\n",
       "1    Male          1717"
      ]
     },
     "execution_count": 14,
     "metadata": {},
     "output_type": "execute_result"
    }
   ],
   "source": [
    "df2"
   ]
  },
  {
   "cell_type": "code",
   "execution_count": null,
   "metadata": {},
   "outputs": [],
   "source": [
    "#clean csv\n",
    "\n",
    "new_csv_data_df = df[['ObjectId', \"County\",'Age',\"Age_group\", \"Gender\", \"Jurisdiction\", \"Travel_related\", \"Hospitalized\",\"Case1\"]]\n",
    "new_csv_data_df.head()"
   ]
  },
  {
   "cell_type": "code",
   "execution_count": null,
   "metadata": {},
   "outputs": [],
   "source": [
    "#new_csv_data_df.to_csv(new_csv_data_df, 'new_cleaned_data.csv')\n",
    "\n",
    "new_csv_data_df.to_csv (\"new_covid_dataframe.csv\") # index = False, header=True)"
   ]
  },
  {
   "cell_type": "markdown",
   "metadata": {},
   "source": [
    "# There is no change in hospitalizations since reopening\n",
    "### Research Question to Answer:\n",
    "* “There is no change in hospitalizations since reopening” "
   ]
  },
  {
   "cell_type": "markdown",
   "metadata": {},
   "source": [
    "### Part 1: Six (6) Steps for Hypothesis Testing\n",
    "\n",
    "\n",
    "#### 1. Identify\n",
    "- **Populations** (divide Hospitalization data in two groups of data):\n",
    "    1. Prior to opening\n",
    "    2. After opening  \n",
    "* Decide on the **date**:\n",
    "    * May 4th - restaurants opening to 25% capacity\n",
    "\n",
    "#### 2. State the hypotheses\n",
    "- **H0**: There is no change in hospitalizations after Florida has reopened\n",
    "- **H1**: There is a change in hospitalizations after Florida has reopened"
   ]
  },
  {
   "cell_type": "code",
   "execution_count": 74,
   "metadata": {},
   "outputs": [
    {
     "data": {
      "image/png": "[encoded data removed]",
      "text/plain": [
       "<Figure size 720x432 with 1 Axes>"
      ]
     },
     "metadata": {
      "needs_background": "light"
     },
     "output_type": "display_data"
    }
   ],
   "source": [
    "df = step2.get_hospitalizations_by_casedatetime()\n",
    "\n",
    "filt1 = (df['CaseDateTime'] >= (dt.datetime(2020,5,4)-dt.timedelta(days=30)))\n",
    "filt2 = (df['CaseDateTime'] <= (dt.datetime(2020,5,4)+dt.timedelta(days=30)))\n",
    "filt = (filt1 & filt2)\n",
    "df = df[filt]\n",
    "plt.figure(figsize=(10,6))\n",
    "plt.scatter(df['CaseDateTime'],df[\"Hospitalized\"])\n",
    "plt.xlim((dt.datetime(2020,5,4)-dt.timedelta(days=32)),(dt.datetime(2020,5,4)+dt.timedelta(days=32)))\n",
    "plt.vlines(dt.datetime(2020,5,4), 0, 270, linestyles =\"dotted\", colors =\"k\") \n",
    "plt.annotate(\"Florida reopens\", (dt.datetime(2020,5,5),250))\n",
    "plt.title(\"Hospitalizations in Florida before and after reopening\")\n",
    "plt.ylabel(\"New Hospitalizations\")\n",
    "plt.xlabel(\"Date\")\n",
    "plt.hlines(175.3,dt.datetime(2020,5,4)-dt.timedelta(days=32),dt.datetime(2020,5,4), linestyles=\"dotted\",colors='k',alpha=0.5)\n",
    "plt.annotate(\"mean = 175.3\", (dt.datetime(2020,4,6),130))\n",
    "plt.hlines(116.3,dt.datetime(2020,5,4)+dt.timedelta(days=32),dt.datetime(2020,5,4), linestyles=\"dotted\",colors='k',alpha=0.5)\n",
    "plt.annotate(\"mean = 116.3\", (dt.datetime(2020,5,15),50))\n",
    "plt.xticks(rotation=45)\n",
    "plt.savefig(\"Images/hospitalizations_before_and_after_reopening.png\")\n",
    "plt.show()"
   ]
  },
  {
   "cell_type": "markdown",
   "metadata": {},
   "source": [
    "#### 3. Characteristics of the comparison distribution\n",
    "- Population means, standard deviations"
   ]
  },
  {
   "cell_type": "code",
   "execution_count": 78,
   "metadata": {},
   "outputs": [],
   "source": [
    "df1, df2 = step2.get_groups(group_name = \"CaseDateTime\", opening_date = dt.datetime(2020,5,4), day_delta = 30, opening_day_shift = 0)"
   ]
  },
  {
   "cell_type": "code",
   "execution_count": 79,
   "metadata": {},
   "outputs": [
    {
     "data": {
      "text/html": [
       "<style  type=\"text/css\" >\n",
       "</style><table id=\"T_11a1aede_cbb5_11ea_bdbf_4889e7427a24\" ><thead>    <tr>        <th class=\"blank level0\" ></th>        <th class=\"col_heading level0 col0\" >Before Opening:</th>        <th class=\"col_heading level0 col1\" >After Opening</th>    </tr></thead><tbody>\n",
       "                <tr>\n",
       "                        <th id=\"T_11a1aede_cbb5_11ea_bdbf_4889e7427a24level0_row0\" class=\"row_heading level0 row0\" >count</th>\n",
       "                        <td id=\"T_11a1aede_cbb5_11ea_bdbf_4889e7427a24row0_col0\" class=\"data row0 col0\" >30.0</td>\n",
       "                        <td id=\"T_11a1aede_cbb5_11ea_bdbf_4889e7427a24row0_col1\" class=\"data row0 col1\" >30.0</td>\n",
       "            </tr>\n",
       "            <tr>\n",
       "                        <th id=\"T_11a1aede_cbb5_11ea_bdbf_4889e7427a24level0_row1\" class=\"row_heading level0 row1\" >mean</th>\n",
       "                        <td id=\"T_11a1aede_cbb5_11ea_bdbf_4889e7427a24row1_col0\" class=\"data row1 col0\" >175.3</td>\n",
       "                        <td id=\"T_11a1aede_cbb5_11ea_bdbf_4889e7427a24row1_col1\" class=\"data row1 col1\" >116.3</td>\n",
       "            </tr>\n",
       "            <tr>\n",
       "                        <th id=\"T_11a1aede_cbb5_11ea_bdbf_4889e7427a24level0_row2\" class=\"row_heading level0 row2\" >std</th>\n",
       "                        <td id=\"T_11a1aede_cbb5_11ea_bdbf_4889e7427a24row2_col0\" class=\"data row2 col0\" >48.6</td>\n",
       "                        <td id=\"T_11a1aede_cbb5_11ea_bdbf_4889e7427a24row2_col1\" class=\"data row2 col1\" >26.6</td>\n",
       "            </tr>\n",
       "            <tr>\n",
       "                        <th id=\"T_11a1aede_cbb5_11ea_bdbf_4889e7427a24level0_row3\" class=\"row_heading level0 row3\" >min</th>\n",
       "                        <td id=\"T_11a1aede_cbb5_11ea_bdbf_4889e7427a24row3_col0\" class=\"data row3 col0\" >100.0</td>\n",
       "                        <td id=\"T_11a1aede_cbb5_11ea_bdbf_4889e7427a24row3_col1\" class=\"data row3 col1\" >63.0</td>\n",
       "            </tr>\n",
       "            <tr>\n",
       "                        <th id=\"T_11a1aede_cbb5_11ea_bdbf_4889e7427a24level0_row4\" class=\"row_heading level0 row4\" >25%</th>\n",
       "                        <td id=\"T_11a1aede_cbb5_11ea_bdbf_4889e7427a24row4_col0\" class=\"data row4 col0\" >135.5</td>\n",
       "                        <td id=\"T_11a1aede_cbb5_11ea_bdbf_4889e7427a24row4_col1\" class=\"data row4 col1\" >98.2</td>\n",
       "            </tr>\n",
       "            <tr>\n",
       "                        <th id=\"T_11a1aede_cbb5_11ea_bdbf_4889e7427a24level0_row5\" class=\"row_heading level0 row5\" >50%</th>\n",
       "                        <td id=\"T_11a1aede_cbb5_11ea_bdbf_4889e7427a24row5_col0\" class=\"data row5 col0\" >171.0</td>\n",
       "                        <td id=\"T_11a1aede_cbb5_11ea_bdbf_4889e7427a24row5_col1\" class=\"data row5 col1\" >114.5</td>\n",
       "            </tr>\n",
       "            <tr>\n",
       "                        <th id=\"T_11a1aede_cbb5_11ea_bdbf_4889e7427a24level0_row6\" class=\"row_heading level0 row6\" >75%</th>\n",
       "                        <td id=\"T_11a1aede_cbb5_11ea_bdbf_4889e7427a24row6_col0\" class=\"data row6 col0\" >214.0</td>\n",
       "                        <td id=\"T_11a1aede_cbb5_11ea_bdbf_4889e7427a24row6_col1\" class=\"data row6 col1\" >131.5</td>\n",
       "            </tr>\n",
       "            <tr>\n",
       "                        <th id=\"T_11a1aede_cbb5_11ea_bdbf_4889e7427a24level0_row7\" class=\"row_heading level0 row7\" >max</th>\n",
       "                        <td id=\"T_11a1aede_cbb5_11ea_bdbf_4889e7427a24row7_col0\" class=\"data row7 col0\" >256.0</td>\n",
       "                        <td id=\"T_11a1aede_cbb5_11ea_bdbf_4889e7427a24row7_col1\" class=\"data row7 col1\" >181.0</td>\n",
       "            </tr>\n",
       "    </tbody></table>"
      ],
      "text/plain": [
       "<pandas.io.formats.style.Styler at 0x193540e9518>"
      ]
     },
     "execution_count": 79,
     "metadata": {},
     "output_type": "execute_result"
    }
   ],
   "source": [
    "sample1 = df1['Hospitalized']\n",
    "sample2 = df2['Hospitalized']\n",
    "pd.DataFrame({\n",
    "    \"Before Opening:\": sample1.describe(),\n",
    "    \"After Opening\": sample2.describe()\n",
    "}).style.format(\"{:.1f}\")\n"
   ]
  },
  {
   "cell_type": "markdown",
   "metadata": {},
   "source": [
    "#### 4. Critical values\n",
    "- p = 0.05\n",
    "- Our hypothesis is nondirectional so our hypothesis test is **two-tailed**"
   ]
  },
  {
   "cell_type": "code",
   "execution_count": 80,
   "metadata": {},
   "outputs": [
    {
     "data": {
      "image/png": "[encoded data removed]",
      "text/plain": [
       "<Figure size 432x288 with 2 Axes>"
      ]
     },
     "metadata": {
      "needs_background": "light"
     },
     "output_type": "display_data"
    }
   ],
   "source": [
    "# Scatter Plot of Data\n",
    "plt.subplot(2, 1, 1)\n",
    "plt.scatter(range(len(sample1)), sample1, label=\"before\")\n",
    "plt.scatter(range(len(sample2)), sample2, label=\"after\")\n",
    "plt.legend()\n",
    "\n",
    "# Histogram Plot of Data\n",
    "plt.subplot(2, 1, 2)\n",
    "plt.hist(sample1, 20, density=True, alpha=0.7, label=\"before\")\n",
    "plt.hist(sample2, 20, density=True, alpha=0.7, label=\"after\")\n",
    "plt.axvline(sample1.mean(), color='k', linestyle='dashed', linewidth=1)\n",
    "plt.axvline(sample2.mean(), color='k', linestyle='dashed', linewidth=1)\n",
    "plt.legend()  \n",
    "plt.savefig(\"Images/before_and_after_histogram.png\")\n",
    "plt.show()"
   ]
  },
  {
   "cell_type": "markdown",
   "metadata": {},
   "source": [
    "#### 5. Calculate"
   ]
  },
  {
   "cell_type": "code",
   "execution_count": 86,
   "metadata": {},
   "outputs": [
    {
     "name": "stdout",
     "output_type": "stream",
     "text": [
      "p-value: 0.00000026\n"
     ]
    }
   ],
   "source": [
    "statistic, pvalue = stats.ttest_ind_from_stats(sample1.mean(),sample1.std(),sample1.size,sample2.mean(),sample2.std(),sample2.size)\n",
    "print(f\"p-value: {pvalue:.8f}\")"
   ]
  },
  {
   "cell_type": "markdown",
   "metadata": {},
   "source": [
    "#### 6. Decide\n",
    "- We are able to reject the null hypothesis that there was no change.  With the data set we analyzed, there was a significant change from before to after reopening in Florida."
   ]
  },
  {
   "cell_type": "markdown",
   "metadata": {},
   "source": [
    "### Part 2: Visualization\n",
    "* Trends\n",
    "\n",
    "### Further Inquries\n",
    "* Increases in groups?\n",
    "* Age\n",
    "* Gender\n",
    "* Ethnicitiy\n",
    "\n",
    "### Rough Breakdown of Tasks\n",
    "* Data Massaging"
   ]
  },
  {
   "cell_type": "code",
   "execution_count": null,
   "metadata": {},
   "outputs": [],
   "source": [
    "#Calculate total number of cases \n",
    "Total_covid_cases = new_csv_data_df[\"ObjectId\"].nunique()\n",
    "Total_covid_cases = pd.DataFrame({\"Total Number of Cases\": [Total_covid_cases]})\n",
    "Total_covid_cases"
   ]
  },
  {
   "cell_type": "code",
   "execution_count": null,
   "metadata": {},
   "outputs": [],
   "source": [
    "#Total number of cases by county (Kelsey) Include bar chart\n"
   ]
  },
  {
   "cell_type": "code",
   "execution_count": null,
   "metadata": {},
   "outputs": [],
   "source": [
    "#Total number of cases by gender (Kelsey) Include pie chart "
   ]
  },
  {
   "cell_type": "markdown",
   "metadata": {},
   "source": [
    "#Top 10 counties with the most cases (Libardo)\n",
    "![](Images/top_counties.png)"
   ]
  },
  {
   "cell_type": "code",
   "execution_count": null,
   "metadata": {},
   "outputs": [],
   "source": [
    "#Total number of hospitalization for all counties (Libardo)"
   ]
  },
  {
   "cell_type": "code",
   "execution_count": null,
   "metadata": {},
   "outputs": [],
   "source": [
    "#Total number of hospitalization for each county and put in DataFrame # Create a visualization (Kelsey)\n"
   ]
  },
  {
   "cell_type": "code",
   "execution_count": 15,
   "metadata": {},
   "outputs": [],
   "source": [
    "#Percentage of hospitalization by gender # Create Visualization (Libardo)\n",
    "\n",
    "df = step2.get_df_with_datetime_and_formatted_column()\n",
    "filt = df['Gender']=='Male'\n",
    "df = df[filt]\n",
    "df = step2.get_hospitalizations_by_casedatetime(df)\n",
    "male_by_week = df.groupby(pd.Grouper(freq='W',key='CaseDateTime')).sum()\n",
    "\n",
    "df = step2.get_df_with_datetime_and_formatted_column()\n",
    "filt = df['Gender']=='Female'\n",
    "df = df[filt]\n",
    "df = step2.get_hospitalizations_by_casedatetime(df)\n",
    "female_by_week = df.groupby(pd.Grouper(freq='W',key='CaseDateTime')).sum()\n",
    "\n",
    "male_perc = male_by_week['Hospitalized']/(male_by_week['Hospitalized']+female_by_week['Hospitalized'])*100\n",
    "female_perc = female_by_week['Hospitalized']/(male_by_week['Hospitalized']+female_by_week['Hospitalized'])*100"
   ]
  },
  {
   "cell_type": "code",
   "execution_count": 17,
   "metadata": {},
   "outputs": [
    {
     "data": {
      "image/png": "[encoded data removed]",
      "text/plain": [
       "<Figure size 576x432 with 1 Axes>"
      ]
     },
     "metadata": {
      "needs_background": "light"
     },
     "output_type": "display_data"
    }
   ],
   "source": [
    "import matplotlib.pyplot as plt\n",
    "plt.figure(figsize=(8,6))\n",
    "p1 = plt.bar(male_perc.index,male_perc,width=5,label='male',alpha=0.5)\n",
    "p2 = plt.bar(female_perc.index,female_perc,bottom=male_perc,width=5,label='female',alpha=0.5)\n",
    "plt.hlines(y=50,xmin=male_perc.index[0],xmax=male_perc.index[-1],alpha=0.8)\n",
    "plt.ylabel('Scores')\n",
    "plt.legend(handles=[p1,p2])\n",
    "plt.show()"
   ]
  },
  {
   "cell_type": "code",
   "execution_count": null,
   "metadata": {},
   "outputs": [],
   "source": [
    "#Percentage of hospitalization by age group (Chika) #Create visualization"
   ]
  },
  {
   "cell_type": "code",
   "execution_count": null,
   "metadata": {},
   "outputs": [],
   "source": [
    "#Percentage of hospitalization before shut down (Not done yet) (Rephrase) (Chika)"
   ]
  },
  {
   "cell_type": "code",
   "execution_count": null,
   "metadata": {},
   "outputs": [],
   "source": [
    "#Percentage of hospitalization during shut down (backburner)"
   ]
  },
  {
   "cell_type": "code",
   "execution_count": null,
   "metadata": {},
   "outputs": [],
   "source": [
    "#Percentage of hospitalization after reopening(Not done yet) (Rephrase) (Chika)"
   ]
  },
  {
   "cell_type": "code",
   "execution_count": null,
   "metadata": {},
   "outputs": [],
   "source": [
    "#Compare travel-related hospitalization to non-travelrelated cases (Not done yet) (Chika)"
   ]
  },
  {
   "cell_type": "code",
   "execution_count": null,
   "metadata": {},
   "outputs": [],
   "source": [
    "#Average number of hospitalization by county (Not done yet) (Kelsey) "
   ]
  },
  {
   "cell_type": "markdown",
   "metadata": {},
   "source": [
    "#Hospitalization by case date/month (needs more) (Libardo) \n",
    "![](Images/hosp_by_case.png)"
   ]
  },
  {
   "cell_type": "code",
   "execution_count": null,
   "metadata": {},
   "outputs": [],
   "source": []
  }
 ],
 "metadata": {
  "kernelspec": {
   "display_name": "Python 3.6.10 64-bit ('PythonData': conda)",
   "language": "python",
   "name": "python361064bitpythondataconda13c33e7d00474160b8916212f83fb86d"
  },
  "language_info": {
   "codemirror_mode": {
    "name": "ipython",
    "version": 3
   },
   "file_extension": ".py",
   "mimetype": "text/x-python",
   "name": "python",
   "nbconvert_exporter": "python",
   "pygments_lexer": "ipython3",
   "version": "3.6.10"
  }
 },
 "nbformat": 4,
 "nbformat_minor": 4
}
